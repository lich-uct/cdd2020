{
 "cells": [
  {
   "cell_type": "code",
   "execution_count": 173,
   "metadata": {},
   "outputs": [],
   "source": [
    "from rdkit.Chem import AllChem as Chem\n",
    "from rdkit.Chem import Draw\n",
    "from rdkit.Chem import MACCSkeys\n",
    "\n",
    "import numpy as np\n",
    "import pandas as pd\n",
    "import csv"
   ]
  },
  {
   "cell_type": "code",
   "execution_count": 174,
   "metadata": {},
   "outputs": [
    {
     "name": "stderr",
     "output_type": "stream",
     "text": [
      "RDKit ERROR: [11:20:58] ERROR: Explicit valence for atom # 0 C greater than permitted\n",
      "RDKit ERROR: [11:35:23] Explicit valence for atom # 7 N, 4, is greater than permitted\n",
      "RDKit ERROR: [11:35:24] ERROR: Could not sanitize molecule ending on line 20009\n",
      "RDKit WARNING: [11:35:24] Warning: conflicting stereochemistry at atom 5 ignored.\n",
      "RDKit WARNING: [11:35:24] Warning: conflicting stereochemistry at atom 5 ignored.\n",
      "RDKit ERROR: [11:35:24] ERROR: Explicit valence for atom # 7 N, 4, is greater than permitted\n",
      "RDKit ERROR: [11:35:24] Can't kekulize mol.  Unkekulized atoms: 1 2 3 5 6 7 8 9 10\n",
      "RDKit ERROR: \n",
      "RDKit ERROR: [11:35:24] ERROR: Could not sanitize molecule ending on line 250947\n",
      "RDKit ERROR: [11:35:24] ERROR: Can't kekulize mol.  Unkekulized atoms: 1 2 3 5 6 7 8 9 10\n",
      "RDKit ERROR: \n",
      "RDKit ERROR: [11:35:24] Explicit valence for atom # 17 O, 3, is greater than permitted\n",
      "RDKit ERROR: [11:35:24] ERROR: Could not sanitize molecule ending on line 258130\n",
      "RDKit ERROR: [11:35:24] ERROR: Explicit valence for atom # 17 O, 3, is greater than permitted\n",
      "RDKit ERROR: [11:35:24] Can't kekulize mol.  Unkekulized atoms: 57 58 59 60 61 62 63 64 65\n",
      "RDKit ERROR: \n",
      "RDKit ERROR: [11:35:24] ERROR: Could not sanitize molecule ending on line 261581\n",
      "RDKit ERROR: [11:35:24] ERROR: Can't kekulize mol.  Unkekulized atoms: 57 58 59 60 61 62 63 64 65\n",
      "RDKit ERROR: \n",
      "RDKit ERROR: [11:35:24] Explicit valence for atom # 47 Mg, 4, is greater than permitted\n",
      "RDKit ERROR: [11:35:24] ERROR: Could not sanitize molecule ending on line 272221\n",
      "RDKit ERROR: [11:35:24] ERROR: Explicit valence for atom # 47 Mg, 4, is greater than permitted\n",
      "RDKit ERROR: [11:35:24] Can't kekulize mol.  Unkekulized atoms: 0 1 2 6 7 8 9 10 11 12 13 14 15 16 17\n",
      "RDKit ERROR: \n",
      "RDKit ERROR: [11:35:24] ERROR: Could not sanitize molecule ending on line 280661\n",
      "RDKit ERROR: [11:35:24] ERROR: Can't kekulize mol.  Unkekulized atoms: 0 1 2 6 7 8 9 10 11 12 13 14 15 16 17\n",
      "RDKit ERROR: \n",
      "RDKit ERROR: [11:35:24] Explicit valence for atom # 13 Cl, 5, is greater than permitted\n",
      "RDKit ERROR: [11:35:24] ERROR: Could not sanitize molecule ending on line 282635\n",
      "RDKit ERROR: [11:35:24] ERROR: Explicit valence for atom # 13 Cl, 5, is greater than permitted\n",
      "RDKit ERROR: [11:35:24] Can't kekulize mol.  Unkekulized atoms: 3 4 5 6 7 8 10 11 12\n",
      "RDKit ERROR: \n",
      "RDKit ERROR: [11:35:24] ERROR: Could not sanitize molecule ending on line 292762\n",
      "RDKit ERROR: [11:35:24] ERROR: Can't kekulize mol.  Unkekulized atoms: 3 4 5 6 7 8 10 11 12\n",
      "RDKit ERROR: \n",
      "RDKit ERROR: [11:35:24] Can't kekulize mol.  Unkekulized atoms: 0 1 2 4 5 6 7 8 9 10\n",
      "RDKit ERROR: \n",
      "RDKit ERROR: [11:35:24] ERROR: Could not sanitize molecule ending on line 293836\n",
      "RDKit ERROR: [11:35:24] ERROR: Can't kekulize mol.  Unkekulized atoms: 0 1 2 4 5 6 7 8 9 10\n",
      "RDKit ERROR: \n",
      "RDKit ERROR: [11:35:24] Can't kekulize mol.  Unkekulized atoms: 2 3 4 5 6 7 8 9 10\n",
      "RDKit ERROR: \n",
      "RDKit ERROR: [11:35:24] ERROR: Could not sanitize molecule ending on line 302815\n",
      "RDKit ERROR: [11:35:24] ERROR: Can't kekulize mol.  Unkekulized atoms: 2 3 4 5 6 7 8 9 10\n",
      "RDKit ERROR: \n",
      "RDKit ERROR: [11:35:24] Can't kekulize mol.  Unkekulized atoms: 13 14 15 16 22\n",
      "RDKit ERROR: \n",
      "RDKit ERROR: [11:35:24] ERROR: Could not sanitize molecule ending on line 304047\n",
      "RDKit ERROR: [11:35:24] ERROR: Can't kekulize mol.  Unkekulized atoms: 13 14 15 16 22\n",
      "RDKit ERROR: \n",
      "RDKit ERROR: [11:35:24] Explicit valence for atom # 46 Mg, 4, is greater than permitted\n",
      "RDKit ERROR: [11:35:24] ERROR: Could not sanitize molecule ending on line 312454\n",
      "RDKit ERROR: [11:35:24] ERROR: Explicit valence for atom # 46 Mg, 4, is greater than permitted\n",
      "RDKit ERROR: [11:35:24] Explicit valence for atom # 27 N, 4, is greater than permitted\n",
      "RDKit ERROR: [11:35:24] ERROR: Could not sanitize molecule ending on line 317905\n",
      "RDKit ERROR: [11:35:24] ERROR: Explicit valence for atom # 27 N, 4, is greater than permitted\n",
      "RDKit ERROR: [11:35:24] Explicit valence for atom # 16 N, 4, is greater than permitted\n",
      "RDKit ERROR: [11:35:24] ERROR: Could not sanitize molecule ending on line 318439\n",
      "RDKit ERROR: [11:35:24] ERROR: Explicit valence for atom # 16 N, 4, is greater than permitted\n",
      "RDKit ERROR: [11:35:24] Can't kekulize mol.  Unkekulized atoms: 3 4 5 6 54\n",
      "RDKit ERROR: \n",
      "RDKit ERROR: [11:35:24] ERROR: Could not sanitize molecule ending on line 324910\n",
      "RDKit ERROR: [11:35:24] ERROR: Can't kekulize mol.  Unkekulized atoms: 3 4 5 6 54\n",
      "RDKit ERROR: \n",
      "RDKit ERROR: [11:35:24] Can't kekulize mol.  Unkekulized atoms: 3 4 5 6 7\n",
      "RDKit ERROR: \n",
      "RDKit ERROR: [11:35:24] ERROR: Could not sanitize molecule ending on line 326050\n",
      "RDKit ERROR: [11:35:24] ERROR: Can't kekulize mol.  Unkekulized atoms: 3 4 5 6 7\n",
      "RDKit ERROR: \n",
      "RDKit ERROR: [11:35:24] Can't kekulize mol.  Unkekulized atoms: 2 3 4 5 11\n",
      "RDKit ERROR: \n",
      "RDKit ERROR: [11:35:24] ERROR: Could not sanitize molecule ending on line 331986\n",
      "RDKit ERROR: [11:35:24] ERROR: Can't kekulize mol.  Unkekulized atoms: 2 3 4 5 11\n",
      "RDKit ERROR: \n",
      "RDKit ERROR: [11:35:24] Can't kekulize mol.  Unkekulized atoms: 1 2 3 4 5 6 7 8 9\n",
      "RDKit ERROR: \n",
      "RDKit ERROR: [11:35:24] ERROR: Could not sanitize molecule ending on line 333287\n",
      "RDKit ERROR: [11:35:24] ERROR: Can't kekulize mol.  Unkekulized atoms: 1 2 3 4 5 6 7 8 9\n",
      "RDKit ERROR: \n",
      "RDKit ERROR: [11:35:24] Can't kekulize mol.  Unkekulized atoms: 3 4 5 6 7\n",
      "RDKit ERROR: \n",
      "RDKit ERROR: [11:35:24] ERROR: Could not sanitize molecule ending on line 347574\n",
      "RDKit ERROR: [11:35:24] ERROR: Can't kekulize mol.  Unkekulized atoms: 3 4 5 6 7\n",
      "RDKit ERROR: \n",
      "RDKit ERROR: [11:35:24] Can't kekulize mol.  Unkekulized atoms: 5 6 7 8 9 10 11 12 13\n",
      "RDKit ERROR: \n",
      "RDKit ERROR: [11:35:24] ERROR: Could not sanitize molecule ending on line 357505\n",
      "RDKit ERROR: [11:35:24] ERROR: Can't kekulize mol.  Unkekulized atoms: 5 6 7 8 9 10 11 12 13\n",
      "RDKit ERROR: \n",
      "RDKit ERROR: [11:35:24] Can't kekulize mol.  Unkekulized atoms: 3 4 5 6 7\n",
      "RDKit ERROR: \n",
      "RDKit ERROR: [11:35:24] ERROR: Could not sanitize molecule ending on line 371006\n",
      "RDKit ERROR: [11:35:24] ERROR: Can't kekulize mol.  Unkekulized atoms: 3 4 5 6 7\n",
      "RDKit ERROR: \n",
      "RDKit ERROR: [11:35:24] Can't kekulize mol.  Unkekulized atoms: 1 2 3 4 5 6 7 8 9\n",
      "RDKit ERROR: \n",
      "RDKit ERROR: [11:35:24] ERROR: Could not sanitize molecule ending on line 378618\n",
      "RDKit ERROR: [11:35:24] ERROR: Can't kekulize mol.  Unkekulized atoms: 1 2 3 4 5 6 7 8 9\n",
      "RDKit ERROR: \n",
      "RDKit ERROR: [11:35:24] Explicit valence for atom # 56 O, 3, is greater than permitted\n",
      "RDKit ERROR: [11:35:24] ERROR: Could not sanitize molecule ending on line 398455\n",
      "RDKit ERROR: [11:35:24] ERROR: Explicit valence for atom # 56 O, 3, is greater than permitted\n",
      "RDKit ERROR: [11:35:24] Can't kekulize mol.  Unkekulized atoms: 9 10 11 12 18\n",
      "RDKit ERROR: \n",
      "RDKit ERROR: [11:35:24] ERROR: Could not sanitize molecule ending on line 407765\n",
      "RDKit ERROR: [11:35:24] ERROR: Can't kekulize mol.  Unkekulized atoms: 9 10 11 12 18\n",
      "RDKit ERROR: \n",
      "RDKit ERROR: [11:35:24] Explicit valence for atom # 46 Mg, 4, is greater than permitted\n",
      "RDKit ERROR: [11:35:24] ERROR: Could not sanitize molecule ending on line 417941\n",
      "RDKit ERROR: [11:35:24] ERROR: Explicit valence for atom # 46 Mg, 4, is greater than permitted\n",
      "RDKit ERROR: [11:35:24] Can't kekulize mol.  Unkekulized atoms: 1 2 3 12 13 14 15 16 17\n",
      "RDKit ERROR: \n",
      "RDKit ERROR: [11:35:24] ERROR: Could not sanitize molecule ending on line 422810\n",
      "RDKit ERROR: [11:35:24] ERROR: Can't kekulize mol.  Unkekulized atoms: 1 2 3 12 13 14 15 16 17\n",
      "RDKit ERROR: \n",
      "RDKit ERROR: [11:35:24] Can't kekulize mol.  Unkekulized atoms: 44 45 46 47 49\n",
      "RDKit ERROR: \n",
      "RDKit ERROR: [11:35:24] ERROR: Could not sanitize molecule ending on line 425190\n",
      "RDKit ERROR: [11:35:24] ERROR: Can't kekulize mol.  Unkekulized atoms: 44 45 46 47 49\n",
      "RDKit ERROR: \n",
      "RDKit ERROR: [11:35:24] Explicit valence for atom # 8 N, 5, is greater than permitted\n",
      "RDKit ERROR: [11:35:24] ERROR: Could not sanitize molecule ending on line 426332\n",
      "RDKit ERROR: [11:35:24] ERROR: Explicit valence for atom # 8 N, 5, is greater than permitted\n",
      "RDKit ERROR: [11:35:24] Can't kekulize mol.  Unkekulized atoms: 54 55 56 57 58 59 60 61 62\n",
      "RDKit ERROR: \n",
      "RDKit ERROR: [11:35:24] ERROR: Could not sanitize molecule ending on line 427901\n",
      "RDKit ERROR: [11:35:24] ERROR: Can't kekulize mol.  Unkekulized atoms: 54 55 56 57 58 59 60 61 62\n",
      "RDKit ERROR: \n",
      "RDKit ERROR: [11:35:24] Can't kekulize mol.  Unkekulized atoms: 0 1 2 3 4 5 6 7 8\n",
      "RDKit ERROR: \n",
      "RDKit ERROR: [11:35:24] ERROR: Could not sanitize molecule ending on line 432118\n",
      "RDKit ERROR: [11:35:24] ERROR: Can't kekulize mol.  Unkekulized atoms: 0 1 2 3 4 5 6 7 8\n",
      "RDKit ERROR: \n",
      "RDKit ERROR: [11:35:24] Can't kekulize mol.  Unkekulized atoms: 3 4 5 6 8 9 10\n",
      "RDKit ERROR: \n",
      "RDKit ERROR: [11:35:24] ERROR: Could not sanitize molecule ending on line 442989\n",
      "RDKit ERROR: [11:35:24] ERROR: Can't kekulize mol.  Unkekulized atoms: 3 4 5 6 8 9 10\n",
      "RDKit ERROR: \n",
      "RDKit ERROR: [11:35:24] Can't kekulize mol.  Unkekulized atoms: 3 4 5 6 9\n",
      "RDKit ERROR: \n",
      "RDKit ERROR: [11:35:24] ERROR: Could not sanitize molecule ending on line 447465\n",
      "RDKit ERROR: [11:35:24] ERROR: Can't kekulize mol.  Unkekulized atoms: 3 4 5 6 9\n",
      "RDKit ERROR: \n",
      "RDKit ERROR: [11:35:24] Can't kekulize mol.  Unkekulized atoms: 16 17 18 19 20\n",
      "RDKit ERROR: \n",
      "RDKit ERROR: [11:35:24] ERROR: Could not sanitize molecule ending on line 466177\n",
      "RDKit ERROR: [11:35:24] ERROR: Can't kekulize mol.  Unkekulized atoms: 16 17 18 19 20\n",
      "RDKit ERROR: \n",
      "RDKit ERROR: [11:35:24] Can't kekulize mol.  Unkekulized atoms: 7 8 9 10 17\n",
      "RDKit ERROR: \n",
      "RDKit ERROR: [11:35:24] ERROR: Could not sanitize molecule ending on line 468852\n",
      "RDKit ERROR: [11:35:24] ERROR: Can't kekulize mol.  Unkekulized atoms: 7 8 9 10 17\n",
      "RDKit ERROR: \n",
      "RDKit ERROR: [11:35:24] Can't kekulize mol.  Unkekulized atoms: 3 4 5 6 7 8 9 10 11\n",
      "RDKit ERROR: \n",
      "RDKit ERROR: [11:35:24] ERROR: Could not sanitize molecule ending on line 469201\n",
      "RDKit ERROR: [11:35:24] ERROR: Can't kekulize mol.  Unkekulized atoms: 3 4 5 6 7 8 9 10 11\n",
      "RDKit ERROR: \n",
      "RDKit ERROR: [11:35:24] Explicit valence for atom # 53 N, 4, is greater than permitted\n",
      "RDKit ERROR: [11:35:24] ERROR: Could not sanitize molecule ending on line 472285\n",
      "RDKit ERROR: [11:35:24] ERROR: Explicit valence for atom # 53 N, 4, is greater than permitted\n",
      "RDKit ERROR: [11:35:24] Can't kekulize mol.  Unkekulized atoms: 2 3 4 5 12\n",
      "RDKit ERROR: \n",
      "RDKit ERROR: [11:35:24] ERROR: Could not sanitize molecule ending on line 480504\n",
      "RDKit ERROR: [11:35:24] ERROR: Can't kekulize mol.  Unkekulized atoms: 2 3 4 5 12\n",
      "RDKit ERROR: \n",
      "RDKit ERROR: [11:35:24] Explicit valence for atom # 2 O, 3, is greater than permitted\n",
      "RDKit ERROR: [11:35:24] ERROR: Could not sanitize molecule ending on line 499305\n",
      "RDKit ERROR: [11:35:24] ERROR: Explicit valence for atom # 2 O, 3, is greater than permitted\n",
      "RDKit ERROR: [11:35:24] Can't kekulize mol.  Unkekulized atoms: 1 2 3 4 5 6 7 8 9\n",
      "RDKit ERROR: \n",
      "RDKit ERROR: [11:35:24] ERROR: Could not sanitize molecule ending on line 503342\n",
      "RDKit ERROR: [11:35:24] ERROR: Can't kekulize mol.  Unkekulized atoms: 1 2 3 4 5 6 7 8 9\n",
      "RDKit ERROR: \n",
      "RDKit ERROR: [11:35:24] Can't kekulize mol.  Unkekulized atoms: 0 1 2 4 5 6 7 8 9 10\n",
      "RDKit ERROR: \n",
      "RDKit ERROR: [11:35:24] ERROR: Could not sanitize molecule ending on line 508068\n",
      "RDKit ERROR: [11:35:24] ERROR: Can't kekulize mol.  Unkekulized atoms: 0 1 2 4 5 6 7 8 9 10\n",
      "RDKit ERROR: \n",
      "RDKit ERROR: [11:35:24] Can't kekulize mol.  Unkekulized atoms: 1 2 3 4 5 6 7 8 9\n",
      "RDKit ERROR: \n",
      "RDKit ERROR: [11:35:24] ERROR: Could not sanitize molecule ending on line 510069\n",
      "RDKit ERROR: [11:35:24] ERROR: Can't kekulize mol.  Unkekulized atoms: 1 2 3 4 5 6 7 8 9\n",
      "RDKit ERROR: \n",
      "RDKit ERROR: [11:35:24] Can't kekulize mol.  Unkekulized atoms: 3 4 5 6 7 8 10\n",
      "RDKit ERROR: \n",
      "RDKit ERROR: [11:35:24] ERROR: Could not sanitize molecule ending on line 511111\n",
      "RDKit ERROR: [11:35:24] ERROR: Can't kekulize mol.  Unkekulized atoms: 3 4 5 6 7 8 10\n",
      "RDKit ERROR: \n",
      "RDKit ERROR: [11:35:24] Can't kekulize mol.  Unkekulized atoms: 1 2 3 5 6 7 8 9 10\n",
      "RDKit ERROR: \n",
      "RDKit ERROR: [11:35:24] ERROR: Could not sanitize molecule ending on line 512030\n",
      "RDKit ERROR: [11:35:24] ERROR: Can't kekulize mol.  Unkekulized atoms: 1 2 3 5 6 7 8 9 10\n",
      "RDKit ERROR: \n",
      "RDKit ERROR: [11:35:24] Explicit valence for atom # 2 O, 3, is greater than permitted\n",
      "RDKit ERROR: [11:35:24] ERROR: Could not sanitize molecule ending on line 519056\n",
      "RDKit ERROR: [11:35:24] ERROR: Explicit valence for atom # 2 O, 3, is greater than permitted\n",
      "RDKit ERROR: [11:35:25] Explicit valence for atom # 6 B, 4, is greater than permitted\n",
      "RDKit ERROR: [11:35:25] ERROR: Could not sanitize molecule ending on line 541262\n",
      "RDKit ERROR: [11:35:25] ERROR: Explicit valence for atom # 6 B, 4, is greater than permitted\n",
      "RDKit ERROR: [11:35:25] Can't kekulize mol.  Unkekulized atoms: 2 3 17 19 20\n",
      "RDKit ERROR: \n",
      "RDKit ERROR: [11:35:25] ERROR: Could not sanitize molecule ending on line 557517\n",
      "RDKit ERROR: [11:35:25] ERROR: Can't kekulize mol.  Unkekulized atoms: 2 3 17 19 20\n",
      "RDKit ERROR: \n",
      "RDKit ERROR: [11:35:25] Can't kekulize mol.  Unkekulized atoms: 0 1 2 4 5 6 7 8 9 10\n",
      "RDKit ERROR: \n",
      "RDKit ERROR: [11:35:25] ERROR: Could not sanitize molecule ending on line 561344\n",
      "RDKit ERROR: [11:35:25] ERROR: Can't kekulize mol.  Unkekulized atoms: 0 1 2 4 5 6 7 8 9 10\n",
      "RDKit ERROR: \n",
      "RDKit ERROR: [11:35:25] Can't kekulize mol.  Unkekulized atoms: 10 11 12 13 19\n",
      "RDKit ERROR: \n",
      "RDKit ERROR: [11:35:25] ERROR: Could not sanitize molecule ending on line 562947\n",
      "RDKit ERROR: [11:35:25] ERROR: Can't kekulize mol.  Unkekulized atoms: 10 11 12 13 19\n",
      "RDKit ERROR: \n",
      "RDKit ERROR: [11:35:25] Explicit valence for atom # 27 N, 4, is greater than permitted\n",
      "RDKit ERROR: [11:35:25] ERROR: Could not sanitize molecule ending on line 567073\n",
      "RDKit ERROR: [11:35:25] ERROR: Explicit valence for atom # 27 N, 4, is greater than permitted\n",
      "RDKit ERROR: [11:35:25] Can't kekulize mol.  Unkekulized atoms: 9 10 11 12 13 14 15 16 17\n",
      "RDKit ERROR: \n",
      "RDKit ERROR: [11:35:25] ERROR: Could not sanitize molecule ending on line 568252\n",
      "RDKit ERROR: [11:35:25] ERROR: Can't kekulize mol.  Unkekulized atoms: 9 10 11 12 13 14 15 16 17\n",
      "RDKit ERROR: \n",
      "RDKit ERROR: [11:35:25] Can't kekulize mol.  Unkekulized atoms: 23 24 25 26 27\n",
      "RDKit ERROR: \n",
      "RDKit ERROR: [11:35:25] ERROR: Could not sanitize molecule ending on line 574645\n",
      "RDKit ERROR: [11:35:25] ERROR: Can't kekulize mol.  Unkekulized atoms: 23 24 25 26 27\n",
      "RDKit ERROR: \n",
      "RDKit ERROR: [11:35:25] Can't kekulize mol.  Unkekulized atoms: 5 6 7 8 9\n",
      "RDKit ERROR: \n",
      "RDKit ERROR: [11:35:25] ERROR: Could not sanitize molecule ending on line 592639\n",
      "RDKit ERROR: [11:35:25] ERROR: Can't kekulize mol.  Unkekulized atoms: 5 6 7 8 9\n",
      "RDKit ERROR: \n",
      "RDKit ERROR: [11:35:25] Explicit valence for atom # 12 N, 4, is greater than permitted\n",
      "RDKit ERROR: [11:35:25] ERROR: Could not sanitize molecule ending on line 595909\n",
      "RDKit ERROR: [11:35:25] ERROR: Explicit valence for atom # 12 N, 4, is greater than permitted\n",
      "RDKit ERROR: [11:35:25] Explicit valence for atom # 0 Br, 2, is greater than permitted\n",
      "RDKit ERROR: [11:35:25] ERROR: Could not sanitize molecule ending on line 599041\n",
      "RDKit ERROR: [11:35:25] ERROR: Explicit valence for atom # 0 Br, 2, is greater than permitted\n",
      "RDKit ERROR: [11:35:25] Explicit valence for atom # 1 N, 4, is greater than permitted\n",
      "RDKit ERROR: [11:35:25] ERROR: Could not sanitize molecule ending on line 601819\n",
      "RDKit ERROR: [11:35:25] ERROR: Explicit valence for atom # 1 N, 4, is greater than permitted\n",
      "RDKit ERROR: [11:35:25] Explicit valence for atom # 6 Be, 4, is greater than permitted\n",
      "RDKit ERROR: [11:35:25] ERROR: Could not sanitize molecule ending on line 604427\n",
      "RDKit ERROR: [11:35:25] ERROR: Explicit valence for atom # 6 Be, 4, is greater than permitted\n",
      "RDKit ERROR: [11:35:25] Can't kekulize mol.  Unkekulized atoms: 4 5 6 7 8 9 10 11 12\n",
      "RDKit ERROR: \n",
      "RDKit ERROR: [11:35:25] ERROR: Could not sanitize molecule ending on line 604912\n",
      "RDKit ERROR: [11:35:25] ERROR: Can't kekulize mol.  Unkekulized atoms: 4 5 6 7 8 9 10 11 12\n",
      "RDKit ERROR: \n",
      "RDKit ERROR: [11:35:25] Can't kekulize mol.  Unkekulized atoms: 5 6 7 8 9 10 11 12 13\n",
      "RDKit ERROR: \n",
      "RDKit ERROR: [11:35:25] ERROR: Could not sanitize molecule ending on line 616025\n",
      "RDKit ERROR: [11:35:25] ERROR: Can't kekulize mol.  Unkekulized atoms: 5 6 7 8 9 10 11 12 13\n",
      "RDKit ERROR: \n",
      "RDKit ERROR: [11:35:25] Can't kekulize mol.  Unkekulized atoms: 1 2 3 5 6 7 8 9 10\n",
      "RDKit ERROR: \n",
      "RDKit ERROR: [11:35:25] ERROR: Could not sanitize molecule ending on line 623202\n",
      "RDKit ERROR: [11:35:25] ERROR: Can't kekulize mol.  Unkekulized atoms: 1 2 3 5 6 7 8 9 10\n",
      "RDKit ERROR: \n",
      "RDKit ERROR: [11:35:25] Can't kekulize mol.  Unkekulized atoms: 5 6 7 8 9 10 11 12 13\n",
      "RDKit ERROR: \n",
      "RDKit ERROR: [11:35:25] ERROR: Could not sanitize molecule ending on line 628065\n",
      "RDKit ERROR: [11:35:25] ERROR: Can't kekulize mol.  Unkekulized atoms: 5 6 7 8 9 10 11 12 13\n",
      "RDKit ERROR: \n",
      "RDKit ERROR: [11:35:25] Explicit valence for atom # 19 N, 4, is greater than permitted\n",
      "RDKit ERROR: [11:35:25] ERROR: Could not sanitize molecule ending on line 636938\n",
      "RDKit ERROR: [11:35:25] ERROR: Explicit valence for atom # 19 N, 4, is greater than permitted\n",
      "RDKit ERROR: [11:35:25] Explicit valence for atom # 0 O, 3, is greater than permitted\n",
      "RDKit ERROR: [11:35:25] ERROR: Could not sanitize molecule ending on line 640674\n",
      "RDKit ERROR: [11:35:25] ERROR: Explicit valence for atom # 0 O, 3, is greater than permitted\n",
      "RDKit ERROR: [11:35:25] Explicit valence for atom # 17 Mg, 4, is greater than permitted\n",
      "RDKit ERROR: [11:35:25] ERROR: Could not sanitize molecule ending on line 642835\n",
      "RDKit ERROR: [11:35:25] ERROR: Explicit valence for atom # 17 Mg, 4, is greater than permitted\n",
      "RDKit ERROR: [11:35:25] Explicit valence for atom # 4 F, 2, is greater than permitted\n",
      "RDKit ERROR: [11:35:25] ERROR: Could not sanitize molecule ending on line 645068\n",
      "RDKit ERROR: [11:35:25] ERROR: Explicit valence for atom # 4 F, 2, is greater than permitted\n",
      "RDKit ERROR: [11:35:25] Can't kekulize mol.  Unkekulized atoms: 0 1 2 4 5 6 7 8 9 10\n",
      "RDKit ERROR: \n",
      "RDKit ERROR: [11:35:25] ERROR: Could not sanitize molecule ending on line 659994\n",
      "RDKit ERROR: [11:35:25] ERROR: Can't kekulize mol.  Unkekulized atoms: 0 1 2 4 5 6 7 8 9 10\n",
      "RDKit ERROR: \n",
      "RDKit ERROR: [11:35:25] Explicit valence for atom # 0 Be, 3, is greater than permitted\n",
      "RDKit ERROR: [11:35:25] ERROR: Could not sanitize molecule ending on line 995692\n"
     ]
    },
    {
     "name": "stdout",
     "output_type": "stream",
     "text": [
      "10473\n",
      "7113\n"
     ]
    },
    {
     "name": "stderr",
     "output_type": "stream",
     "text": [
      "RDKit ERROR: [11:35:25] ERROR: Explicit valence for atom # 0 Be, 3, is greater than permitted\n",
      "RDKit ERROR: [11:35:26] Explicit valence for atom # 0 C greater than permitted\n",
      "RDKit ERROR: [11:35:26] ERROR: Could not sanitize molecule ending on line 1151592\n"
     ]
    }
   ],
   "source": [
    "with open('chembl_dopamin_d2_rp_ki.csv', \"r\") as f:\n",
    "    reader = csv.DictReader(f, delimiter=\";\")\n",
    "    ligands = [Chem.MolFromSmiles(m[\"Smiles\"]) for m in reader]\n",
    "\n",
    "supplier = Chem.SDMolSupplier(\"../data/drugbank.sdf\")\n",
    "drugbank = [m for m in supplier if m!=None]\n",
    "\n",
    "print(len(ligands))\n",
    "print(len(drugbank))"
   ]
  },
  {
   "cell_type": "code",
   "execution_count": 175,
   "metadata": {},
   "outputs": [],
   "source": [
    "def compareECFPProportions(lig, db):\n",
    "    np.set_printoptions(suppress=True)\n",
    "    lig_sum = np.zeros(len(lig[0]))\n",
    "    db_sum = np.zeros(len(db[0]))\n",
    "    for l in lig:\n",
    "        for i,b in enumerate(l.ToBitString()):\n",
    "            if int(b) == 1:\n",
    "                lig_sum[i] += 1\n",
    "    for d in db:\n",
    "        for i, b in enumerate(d.ToBitString()):\n",
    "            if int(b) == 1:\n",
    "                db_sum[i] += 1\n",
    "    lig_prop = np.divide(lig_sum,len(lig))\n",
    "    db_prop = np.divide(db_sum, len(db))\n",
    "    proportions = np.subtract(lig_prop, db_prop)\n",
    "    proportions_dict = dict(enumerate(proportions))\n",
    "    proportions_sorted = {k: v for k,v in sorted(proportions_dict.items(), key=lambda x:x[1])}\n",
    "    return proportions_sorted "
   ]
  },
  {
   "cell_type": "code",
   "execution_count": 176,
   "metadata": {},
   "outputs": [
    {
     "data": {
      "text/plain": [
       "(10473, 7113)"
      ]
     },
     "execution_count": 176,
     "metadata": {},
     "output_type": "execute_result"
    }
   ],
   "source": [
    "fp_ligands = [Chem.GetMorganFingerprintAsBitVect(l, 2, nBits = 1024) for l in ligands]\n",
    "fp_drugbank = [Chem.GetMorganFingerprintAsBitVect(d, 2, nBits = 1024) for d in drugbank]\n",
    "len(fp_ligands), len(fp_drugbank)"
   ]
  },
  {
   "cell_type": "code",
   "execution_count": 177,
   "metadata": {},
   "outputs": [
    {
     "data": {
      "text/plain": [
       "1024"
      ]
     },
     "execution_count": 177,
     "metadata": {},
     "output_type": "execute_result"
    }
   ],
   "source": [
    "proportions = compareECFPProportions(fp_ligands, fp_drugbank)\n",
    "len(proportions)"
   ]
  },
  {
   "cell_type": "code",
   "execution_count": 178,
   "metadata": {},
   "outputs": [
    {
     "name": "stdout",
     "output_type": "stream",
     "text": [
      "{147: -0.26741375051985417, 807: -0.2634642884599361, 1: -0.2296193908354165, 650: -0.16092228563231603, 389: -0.1206609367632211}\n",
      "{121: 0.48416773980031724, 935: 0.5117840525271891, 926: 0.5169280868162405, 767: 0.5597129257241703, 456: 0.590958582699229}\n"
     ]
    }
   ],
   "source": [
    "first5 = {k: proportions[k] for k in list(proportions)[:5]}\n",
    "last5 = {k: proportions[k] for k in list(proportions)[-5:]}\n",
    "print(first5)\n",
    "print(last5)"
   ]
  },
  {
   "cell_type": "markdown",
   "metadata": {},
   "source": [
    "Co znamená bit 147 (bit výrazně víckrát \"zapnutý\" v drugbank oproti d2d) a 456 (bit výrazně vícekrát zapnutý v d2d)? Následující funkce vrací substruktury, které se mapují na daný bit. Koukala jsem se na Vaší funkci v notebooku se zadáním a trochu mě mate (zejména proměnná hit_atoms, nikde ve funkci se neaktualizuje na zkoumanou molekulu)."
   ]
  },
  {
   "cell_type": "code",
   "execution_count": 195,
   "metadata": {},
   "outputs": [],
   "source": [
    "def substruct_on_bit(mol, bit):\n",
    "    bitinfo = {}\n",
    "    #vytvoř fingerprint a ulož informace o něm -> {bit:atom,jak široké okolí(poloměr)}\n",
    "    Chem.GetMorganFingerprintAsBitVect(mol, 2, nBits=1024, bitInfo=bitinfo)\n",
    "    submols = []\n",
    "    #pro každý atom a jeho okolí, které se mapuje na tento bit\n",
    "    for atom, radius in bitinfo.get(bit, []):\n",
    "        #žádné okolí\n",
    "        if radius ==0:\n",
    "            continue\n",
    "        #najdi co je kolem\n",
    "        env = Chem.FindAtomEnvironmentOfRadiusN(mol, radius, atom)\n",
    "        #a udělej z toho molekulu\n",
    "        submols.append(Chem.PathToSubmol(mol, env))\n",
    "    return submols "
   ]
  },
  {
   "cell_type": "code",
   "execution_count": 196,
   "metadata": {},
   "outputs": [
    {
     "data": {
      "image/png": "[encoded data removed]",
      "text/plain": [
       "<PIL.PngImagePlugin.PngImageFile image mode=RGB size=600x200 at 0x7F58EAB8A750>"
      ]
     },
     "execution_count": 196,
     "metadata": {},
     "output_type": "execute_result"
    }
   ],
   "source": [
    "ethanol = Chem.MolFromSmiles(\"CCO\")\n",
    "Draw.MolsToGridImage(substruct_on_bit(ethanol, 294))"
   ]
  },
  {
   "cell_type": "code",
   "execution_count": 197,
   "metadata": {},
   "outputs": [
    {
     "data": {
      "text/plain": [
       "{'CCN': 23655,\n",
       " 'ccc(c(c)Cl)N(C)C': 55,\n",
       " 'cccn(c)C': 14,\n",
       " 'cc(C)c(=O)n(c)C': 1,\n",
       " 'cC[C@H](C(C)C)N(C)C': 46,\n",
       " 'CC(=O)O': 5,\n",
       " 'ccc(C)c(c)Cl': 5,\n",
       " 'CCn': 72,\n",
       " 'cC(=O)O': 44,\n",
       " 'ccc(c(c)C)c(c)o': 1,\n",
       " 'cc(c)nc(C)s': 5,\n",
       " 'ccc(C#N)c(c)-c': 3,\n",
       " 'cC[C@@H](C(C)C)N(C)C': 2,\n",
       " 'ccc(C(C)=O)c(c)O': 1,\n",
       " 'cnc(cn)C(N)=O': 1,\n",
       " 'CC(C)C': 1,\n",
       " 'cc(-c)cc(n)N': 3,\n",
       " 'cc(n)n(c([nH])=O)C(C)C': 1,\n",
       " 'cc(O)cc(c)F': 2,\n",
       " 'CC[C@@H](C(C)C)C(C)(C)C': 1,\n",
       " 'cCC(C(C)C)N(C)C': 1,\n",
       " 'ccc(nc)-c(c)n': 1,\n",
       " 'cc(c)S(=O)(=O)c(c)n': 2,\n",
       " 'cnc(c(c)C)N(C)c': 1}"
      ]
     },
     "execution_count": 197,
     "metadata": {},
     "output_type": "execute_result"
    }
   ],
   "source": [
    "lig_substruct_smiles ={}\n",
    "for l in ligands:\n",
    "    for s in substruct_on_bit(l, 456):#substructures_of_bit_ecfp4_1024, pokus\n",
    "        sub_smiles = Chem.MolToSmiles(s)\n",
    "        lig_substruct_smiles[sub_smiles] = lig_substruct_smiles.get(sub_smiles, 0) + 1\n",
    "lig_substruct_smiles"
   ]
  },
  {
   "cell_type": "code",
   "execution_count": 198,
   "metadata": {},
   "outputs": [
    {
     "data": {
      "text/plain": [
       "{'CCN': 1779,\n",
       " 'cC(=O)O': 319,\n",
       " 'CC(=O)O': 79,\n",
       " 'cnc(c(c)C)N(C)c': 1,\n",
       " 'CCn': 22,\n",
       " 'cnc(cn)C(N)=O': 1,\n",
       " 'CC[C@@H](C(C)C)C(C)(C)C': 5,\n",
       " 'CC(c)C': 3,\n",
       " 'Cn(nn)c(n)=O': 1,\n",
       " 'cC[C@H](NC)[C@@H](C)O': 1,\n",
       " 'C=C(C)C': 2,\n",
       " 'CC(C)CN(C)C': 7,\n",
       " 'NC(=O)C[NH3+]': 6,\n",
       " 'c[nH]c(c(c)C)[C@H](C)N': 1,\n",
       " 'CC(=N)/C(C)=C(/C)N': 1,\n",
       " 'cc(c)S(=O)(=O)O': 16,\n",
       " 'CC[C@@H](CS)C(N)=O': 1,\n",
       " 'cnc(co)C(C)C': 1,\n",
       " 'cccn(c)C': 1,\n",
       " 'CC(=O)S': 4,\n",
       " 'CC(=O)C=O': 1,\n",
       " 'CNC(=O)N(C)N': 1,\n",
       " 'ccc(C)c(c)Cl': 2,\n",
       " 'CN=CO': 1,\n",
       " 'C[C@@H](N)CCS': 1,\n",
       " 'cc(C)c(C)c(c)N': 1,\n",
       " 'CCN(C(C)=O)N(C)C': 1,\n",
       " 'CNCCN': 3,\n",
       " 'cc(c)[C@H](CC)OP': 1,\n",
       " 'c/N=C(\\\\N)N(c)C': 1,\n",
       " 'CC[C@@H](C)N': 1,\n",
       " 'cc(c)C(C(N)=O)(C(N)=O)N(C)C': 1,\n",
       " 'cc(c)[C@H](NS)C(N)=O': 1,\n",
       " 'ccc(-c([nH])n)c(c)N': 1,\n",
       " 'CC(C)O[P@H](C)=O': 2,\n",
       " 'cc(C)c(c(c)S)c(c)c': 1,\n",
       " 'cc(n)[C@@](C)(NC)C(C)C': 1,\n",
       " 'C[C@@H](O)CC(=O)O': 1,\n",
       " 'cc(-c)cc(n)N': 2,\n",
       " 'cC[C@H](C(C)C)N(C)C': 1}"
      ]
     },
     "execution_count": 198,
     "metadata": {},
     "output_type": "execute_result"
    }
   ],
   "source": [
    "db_substructure_smiles = {}\n",
    "for d in drugbank:\n",
    "    for s in substruct_on_bit(d, 456):\n",
    "        sub_smiles = Chem.MolToSmiles(s)\n",
    "        db_substructure_smiles[sub_smiles] = db_substructure_smiles.get(sub_smiles, 0) + 1\n",
    "db_substructure_smiles\n",
    "#substructures_of_bit_ecfp4_1024, pokus"
   ]
  },
  {
   "cell_type": "markdown",
   "metadata": {},
   "source": [
    "Nejčastější stuktura bitu 456 v datasetu d2d je CCN (23655) i mezi látkami drugbanku je nejčastější, ale zdaleka není tak zastoupená jako v d2d (1779). V drugbank ji má průměrně (+/-) každá 3 molekula zatímco v mém datasetu ji má každá molekula průměrně (+/-) 2x. Ostatní stuktury co se do tohoto bitu mapují jsou málo zastoupené, až na ccc(c(c)Cl)N(C)C, cC[C@H](C(C)C)N(C)C u d2d a cC(=O)O, CC(=O)O u db."
   ]
  },
  {
   "cell_type": "code",
   "execution_count": 199,
   "metadata": {},
   "outputs": [
    {
     "data": {
      "text/plain": [
       "{'cc(C)oc(c)c': 48,\n",
       " 'COC': 102,\n",
       " 'CC(=O)O': 23,\n",
       " 'ccc(C)c(c)-c': 10,\n",
       " 'cC(C)C': 1,\n",
       " 'ccc(OC)c(c)N': 11,\n",
       " 'ccc(C)c(c)C': 2,\n",
       " 'CC(c)C': 8,\n",
       " 'CCN[C@@H](C)C': 1,\n",
       " 'cC(C)(C)CCN': 3,\n",
       " 'CC(C)(c)CCN': 4,\n",
       " 'cncn(c)n': 1,\n",
       " 'CC(C)(C)O': 2,\n",
       " 'COC(=O)N(C)N': 1}"
      ]
     },
     "execution_count": 199,
     "metadata": {},
     "output_type": "execute_result"
    }
   ],
   "source": [
    "lig_substruct_smiles ={}\n",
    "for l in ligands:\n",
    "    for s in substruct_on_bit(l, 147):#substructures_of_bit_ecfp4_1024, pokus\n",
    "        sub_smiles = Chem.MolToSmiles(s)\n",
    "        lig_substruct_smiles[sub_smiles] = lig_substruct_smiles.get(sub_smiles, 0) + 1\n",
    "lig_substruct_smiles"
   ]
  },
  {
   "cell_type": "code",
   "execution_count": 200,
   "metadata": {},
   "outputs": [
    {
     "data": {
      "text/plain": [
       "{'COC': 338,\n",
       " 'CC(=O)O': 86,\n",
       " 'CC(C)c': 20,\n",
       " 'cc(s)C(=O)NC': 4,\n",
       " 'CC(C)(c)CCN': 12,\n",
       " 'CC(c)(C)CCN': 3,\n",
       " 'COC(=O)N(C)N': 1,\n",
       " 'O=P(O)(O)F': 1,\n",
       " 'C[C@H](N)SC(C)(C)C': 4,\n",
       " 'cc(C)oc(c)c': 6,\n",
       " 'cc(c)C(N(C)C)S(C)(=O)=O': 1,\n",
       " 'cC(C)(C)CCN': 1,\n",
       " 'C=CC(C)N(C)C': 1,\n",
       " 'CC(c)c': 1,\n",
       " 'cc(n)C(=O)N(C)C': 1,\n",
       " 'CP(=O)([O-])[O-]': 5,\n",
       " 'C=[N+](C)C': 1,\n",
       " 'cn(n)C(C)(C)C': 6,\n",
       " 'CNO': 12,\n",
       " 'NC=[SH]': 1,\n",
       " 'cnc(nc)NC': 1,\n",
       " 'O=P(O)(O)OS(=O)(=O)O': 2,\n",
       " 'cC(P)P(=O)(O)O': 2,\n",
       " 'C[C@@H](N)SC(C)(C)C': 2,\n",
       " 'cc(-c)nc(C)s': 1,\n",
       " 'C=CC': 4,\n",
       " 'CC(C)S[C@H](C)N': 1,\n",
       " 'cc(c)NN=N': 1,\n",
       " 'ccc(C(C)=O)c(c)C': 1,\n",
       " 'cC(C)C': 3,\n",
       " 'cc(c)[nH]c(C)n': 2,\n",
       " 'CC(=O)C(N)=O': 2,\n",
       " 'CC(C)(C)O': 2,\n",
       " 'cc([nH])ncn': 19,\n",
       " 'ccc(C)c(c)C': 4,\n",
       " 'cn(c)C[C@@H](C)N': 2,\n",
       " 'cncn(c)n': 1,\n",
       " 'ccc(C)c(c)-c': 4,\n",
       " 'cC(c)c': 1,\n",
       " 'cc(n)CC(c)C': 1,\n",
       " 'cnc(CC)c(c)C': 1,\n",
       " 'COC(C)=C(C)C': 1,\n",
       " 'CC(c)C': 2,\n",
       " 'CC(c)(c)CCN': 2}"
      ]
     },
     "execution_count": 200,
     "metadata": {},
     "output_type": "execute_result"
    }
   ],
   "source": [
    "db_substructure_smiles = {}\n",
    "for d in drugbank:\n",
    "    for s in substruct_on_bit(d, 147):\n",
    "        sub_smiles = Chem.MolToSmiles(s)\n",
    "        db_substructure_smiles[sub_smiles] = db_substructure_smiles.get(sub_smiles, 0) + 1\n",
    "db_substructure_smiles"
   ]
  },
  {
   "cell_type": "markdown",
   "metadata": {},
   "source": [
    "Nejhojněji zastoupená struktura mapující se na bit 147 je v db COC (308) stejně jako v d2d (102)."
   ]
  }
 ],
 "metadata": {
  "kernelspec": {
   "display_name": "Python 3",
   "language": "python",
   "name": "python3"
  },
  "language_info": {
   "codemirror_mode": {
    "name": "ipython",
    "version": 3
   },
   "file_extension": ".py",
   "mimetype": "text/x-python",
   "name": "python",
   "nbconvert_exporter": "python",
   "pygments_lexer": "ipython3",
   "version": "3.7.6"
  }
 },
 "nbformat": 4,
 "nbformat_minor": 4
}
