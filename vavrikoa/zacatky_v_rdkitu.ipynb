{
 "cells": [
  {
   "cell_type": "code",
   "execution_count": 2,
   "metadata": {},
   "outputs": [
    {
     "name": "stderr",
     "output_type": "stream",
     "text": [
      "RDKit WARNING: [12:32:22] Enabling RDKit 2019.09.3 jupyter extensions\n"
     ]
    }
   ],
   "source": [
    "from rdkit import Chem"
   ]
  },
  {
   "cell_type": "code",
   "execution_count": 5,
   "metadata": {},
   "outputs": [],
   "source": [
    "m = Chem.MolFromSmiles('c1c(nc[nH]1)C[C@@H](C(=O)O)N')"
   ]
  },
  {
   "cell_type": "code",
   "execution_count": 6,
   "metadata": {},
   "outputs": [
    {
     "data": {
      "image/png": "[encoded data removed]",
      "text/plain": [
       "<rdkit.Chem.rdchem.Mol at 0x7f4f5708c7b0>"
      ]
     },
     "execution_count": 6,
     "metadata": {},
     "output_type": "execute_result"
    }
   ],
   "source": [
    "m"
   ]
  },
  {
   "cell_type": "code",
   "execution_count": 8,
   "metadata": {},
   "outputs": [
    {
     "data": {
      "text/plain": [
       "'N[C@@H](Cc1c[nH]cn1)C(=O)O'"
      ]
     },
     "execution_count": 8,
     "metadata": {},
     "output_type": "execute_result"
    }
   ],
   "source": [
    "# vraci kanonickou formu smilesu defaultne\n",
    "Chem.MolToSmiles(m)\n"
   ]
  },
  {
   "cell_type": "code",
   "execution_count": 10,
   "metadata": {},
   "outputs": [
    {
     "name": "stdout",
     "output_type": "stream",
     "text": [
      "\n",
      "     RDKit          2D\n",
      "\n",
      " 11 11  0  0  0  0  0  0  0  0999 V2000\n",
      "    1.2760    0.0000    0.0000 C   0  0  0  0  0  0  0  0  0  0  0  0\n",
      "    0.3943    1.2135    0.0000 C   0  0  0  0  0  0  0  0  0  0  0  0\n",
      "   -1.0323    0.7500    0.0000 N   0  0  0  0  0  0  0  0  0  0  0  0\n",
      "   -1.0323   -0.7500    0.0000 C   0  0  0  0  0  0  0  0  0  0  0  0\n",
      "    0.3943   -1.2135    0.0000 N   0  0  0  0  0  0  0  0  0  0  0  0\n",
      "    0.8578    2.6401    0.0000 C   0  0  0  0  0  0  0  0  0  0  0  0\n",
      "    2.3250    2.9520    0.0000 C   0  0  0  0  0  0  0  0  0  0  0  0\n",
      "    2.7886    4.3786    0.0000 C   0  0  0  0  0  0  0  0  0  0  0  0\n",
      "    1.7849    5.4933    0.0000 O   0  0  0  0  0  0  0  0  0  0  0  0\n",
      "    4.2558    4.6904    0.0000 O   0  0  0  0  0  0  0  0  0  0  0  0\n",
      "    3.3287    1.8373    0.0000 N   0  0  0  0  0  0  0  0  0  0  0  0\n",
      "  1  2  2  0\n",
      "  2  3  1  0\n",
      "  3  4  2  0\n",
      "  4  5  1  0\n",
      "  2  6  1  0\n",
      "  6  7  1  0\n",
      "  7  8  1  0\n",
      "  8  9  2  0\n",
      "  8 10  1  0\n",
      "  7 11  1  1\n",
      "  5  1  1  0\n",
      "M  END\n",
      "\n"
     ]
    }
   ],
   "source": [
    "print(Chem.MolToMolBlock(m))\n",
    "#prvni cast - koordinaty atomu\n",
    "#druha cast tabulka konektivity"
   ]
  },
  {
   "cell_type": "code",
   "execution_count": 11,
   "metadata": {},
   "outputs": [],
   "source": [
    "ri = m.GetRingInfo()"
   ]
  },
  {
   "cell_type": "code",
   "execution_count": 12,
   "metadata": {},
   "outputs": [
    {
     "data": {
      "text/plain": [
       "((0, 1, 2, 3, 4),)"
      ]
     },
     "execution_count": 12,
     "metadata": {},
     "output_type": "execute_result"
    }
   ],
   "source": [
    "ri.AtomRings()"
   ]
  },
  {
   "cell_type": "code",
   "execution_count": 15,
   "metadata": {},
   "outputs": [
    {
     "data": {
      "text/plain": [
       "1"
      ]
     },
     "execution_count": 15,
     "metadata": {},
     "output_type": "execute_result"
    }
   ],
   "source": [
    "Chem.GetSSSR(m)"
   ]
  },
  {
   "cell_type": "code",
   "execution_count": 35,
   "metadata": {},
   "outputs": [
    {
     "name": "stderr",
     "output_type": "stream",
     "text": [
      "RDKit ERROR: [13:28:44] ERROR: Explicit valence for atom # 0 C greater than permitted\n",
      "RDKit ERROR: [13:39:34] Explicit valence for atom # 7 N, 4, is greater than permitted\n",
      "RDKit ERROR: [13:39:34] ERROR: Could not sanitize molecule ending on line 20009\n",
      "RDKit WARNING: [13:39:34] Warning: conflicting stereochemistry at atom 5 ignored.\n",
      "RDKit WARNING: [13:39:34] Warning: conflicting stereochemistry at atom 5 ignored.\n",
      "RDKit ERROR: [13:39:34] ERROR: Explicit valence for atom # 7 N, 4, is greater than permitted\n",
      "RDKit ERROR: [13:39:34] Can't kekulize mol.  Unkekulized atoms: 1 2 3 5 6 7 8 9 10\n",
      "RDKit ERROR: \n",
      "RDKit ERROR: [13:39:34] ERROR: Could not sanitize molecule ending on line 250947\n",
      "RDKit ERROR: [13:39:34] ERROR: Can't kekulize mol.  Unkekulized atoms: 1 2 3 5 6 7 8 9 10\n",
      "RDKit ERROR: \n",
      "RDKit ERROR: [13:39:35] Explicit valence for atom # 17 O, 3, is greater than permitted\n",
      "RDKit ERROR: [13:39:35] ERROR: Could not sanitize molecule ending on line 258130\n",
      "RDKit ERROR: [13:39:35] ERROR: Explicit valence for atom # 17 O, 3, is greater than permitted\n",
      "RDKit ERROR: [13:39:35] Can't kekulize mol.  Unkekulized atoms: 57 58 59 60 61 62 63 64 65\n",
      "RDKit ERROR: \n",
      "RDKit ERROR: [13:39:35] ERROR: Could not sanitize molecule ending on line 261581\n",
      "RDKit ERROR: [13:39:35] ERROR: Can't kekulize mol.  Unkekulized atoms: 57 58 59 60 61 62 63 64 65\n",
      "RDKit ERROR: \n",
      "RDKit ERROR: [13:39:35] Explicit valence for atom # 47 Mg, 4, is greater than permitted\n",
      "RDKit ERROR: [13:39:35] ERROR: Could not sanitize molecule ending on line 272221\n",
      "RDKit ERROR: [13:39:35] ERROR: Explicit valence for atom # 47 Mg, 4, is greater than permitted\n",
      "RDKit ERROR: [13:39:35] Can't kekulize mol.  Unkekulized atoms: 0 1 2 6 7 8 9 10 11 12 13 14 15 16 17\n",
      "RDKit ERROR: \n",
      "RDKit ERROR: [13:39:35] ERROR: Could not sanitize molecule ending on line 280661\n",
      "RDKit ERROR: [13:39:35] ERROR: Can't kekulize mol.  Unkekulized atoms: 0 1 2 6 7 8 9 10 11 12 13 14 15 16 17\n",
      "RDKit ERROR: \n",
      "RDKit ERROR: [13:39:35] Explicit valence for atom # 13 Cl, 5, is greater than permitted\n",
      "RDKit ERROR: [13:39:35] ERROR: Could not sanitize molecule ending on line 282635\n",
      "RDKit ERROR: [13:39:35] ERROR: Explicit valence for atom # 13 Cl, 5, is greater than permitted\n",
      "RDKit ERROR: [13:39:35] Can't kekulize mol.  Unkekulized atoms: 3 4 5 6 7 8 10 11 12\n",
      "RDKit ERROR: \n",
      "RDKit ERROR: [13:39:35] ERROR: Could not sanitize molecule ending on line 292762\n",
      "RDKit ERROR: [13:39:35] ERROR: Can't kekulize mol.  Unkekulized atoms: 3 4 5 6 7 8 10 11 12\n",
      "RDKit ERROR: \n",
      "RDKit ERROR: [13:39:35] Can't kekulize mol.  Unkekulized atoms: 0 1 2 4 5 6 7 8 9 10\n",
      "RDKit ERROR: \n",
      "RDKit ERROR: [13:39:35] ERROR: Could not sanitize molecule ending on line 293836\n",
      "RDKit ERROR: [13:39:35] ERROR: Can't kekulize mol.  Unkekulized atoms: 0 1 2 4 5 6 7 8 9 10\n",
      "RDKit ERROR: \n",
      "RDKit ERROR: [13:39:35] Can't kekulize mol.  Unkekulized atoms: 2 3 4 5 6 7 8 9 10\n",
      "RDKit ERROR: \n",
      "RDKit ERROR: [13:39:35] ERROR: Could not sanitize molecule ending on line 302815\n",
      "RDKit ERROR: [13:39:35] ERROR: Can't kekulize mol.  Unkekulized atoms: 2 3 4 5 6 7 8 9 10\n",
      "RDKit ERROR: \n",
      "RDKit ERROR: [13:39:35] Can't kekulize mol.  Unkekulized atoms: 13 14 15 16 22\n",
      "RDKit ERROR: \n",
      "RDKit ERROR: [13:39:35] ERROR: Could not sanitize molecule ending on line 304047\n",
      "RDKit ERROR: [13:39:35] ERROR: Can't kekulize mol.  Unkekulized atoms: 13 14 15 16 22\n",
      "RDKit ERROR: \n",
      "RDKit ERROR: [13:39:35] Explicit valence for atom # 46 Mg, 4, is greater than permitted\n",
      "RDKit ERROR: [13:39:35] ERROR: Could not sanitize molecule ending on line 312454\n",
      "RDKit ERROR: [13:39:35] ERROR: Explicit valence for atom # 46 Mg, 4, is greater than permitted\n",
      "RDKit ERROR: [13:39:35] Explicit valence for atom # 27 N, 4, is greater than permitted\n",
      "RDKit ERROR: [13:39:35] ERROR: Could not sanitize molecule ending on line 317905\n",
      "RDKit ERROR: [13:39:35] ERROR: Explicit valence for atom # 27 N, 4, is greater than permitted\n",
      "RDKit ERROR: [13:39:35] Explicit valence for atom # 16 N, 4, is greater than permitted\n",
      "RDKit ERROR: [13:39:35] ERROR: Could not sanitize molecule ending on line 318439\n",
      "RDKit ERROR: [13:39:35] ERROR: Explicit valence for atom # 16 N, 4, is greater than permitted\n",
      "RDKit ERROR: [13:39:35] Can't kekulize mol.  Unkekulized atoms: 3 4 5 6 54\n",
      "RDKit ERROR: \n",
      "RDKit ERROR: [13:39:35] ERROR: Could not sanitize molecule ending on line 324910\n",
      "RDKit ERROR: [13:39:35] ERROR: Can't kekulize mol.  Unkekulized atoms: 3 4 5 6 54\n",
      "RDKit ERROR: \n",
      "RDKit ERROR: [13:39:35] Can't kekulize mol.  Unkekulized atoms: 3 4 5 6 7\n",
      "RDKit ERROR: \n",
      "RDKit ERROR: [13:39:35] ERROR: Could not sanitize molecule ending on line 326050\n",
      "RDKit ERROR: [13:39:35] ERROR: Can't kekulize mol.  Unkekulized atoms: 3 4 5 6 7\n",
      "RDKit ERROR: \n",
      "RDKit ERROR: [13:39:35] Can't kekulize mol.  Unkekulized atoms: 2 3 4 5 11\n",
      "RDKit ERROR: \n",
      "RDKit ERROR: [13:39:35] ERROR: Could not sanitize molecule ending on line 331986\n",
      "RDKit ERROR: [13:39:35] ERROR: Can't kekulize mol.  Unkekulized atoms: 2 3 4 5 11\n",
      "RDKit ERROR: \n",
      "RDKit ERROR: [13:39:35] Can't kekulize mol.  Unkekulized atoms: 1 2 3 4 5 6 7 8 9\n",
      "RDKit ERROR: \n",
      "RDKit ERROR: [13:39:35] ERROR: Could not sanitize molecule ending on line 333287\n",
      "RDKit ERROR: [13:39:35] ERROR: Can't kekulize mol.  Unkekulized atoms: 1 2 3 4 5 6 7 8 9\n",
      "RDKit ERROR: \n",
      "RDKit ERROR: [13:39:35] Can't kekulize mol.  Unkekulized atoms: 3 4 5 6 7\n",
      "RDKit ERROR: \n",
      "RDKit ERROR: [13:39:35] ERROR: Could not sanitize molecule ending on line 347574\n",
      "RDKit ERROR: [13:39:35] ERROR: Can't kekulize mol.  Unkekulized atoms: 3 4 5 6 7\n",
      "RDKit ERROR: \n",
      "RDKit ERROR: [13:39:35] Can't kekulize mol.  Unkekulized atoms: 5 6 7 8 9 10 11 12 13\n",
      "RDKit ERROR: \n",
      "RDKit ERROR: [13:39:35] ERROR: Could not sanitize molecule ending on line 357505\n",
      "RDKit ERROR: [13:39:35] ERROR: Can't kekulize mol.  Unkekulized atoms: 5 6 7 8 9 10 11 12 13\n",
      "RDKit ERROR: \n",
      "RDKit ERROR: [13:39:35] Can't kekulize mol.  Unkekulized atoms: 3 4 5 6 7\n",
      "RDKit ERROR: \n",
      "RDKit ERROR: [13:39:35] ERROR: Could not sanitize molecule ending on line 371006\n",
      "RDKit ERROR: [13:39:35] ERROR: Can't kekulize mol.  Unkekulized atoms: 3 4 5 6 7\n",
      "RDKit ERROR: \n",
      "RDKit ERROR: [13:39:35] Can't kekulize mol.  Unkekulized atoms: 1 2 3 4 5 6 7 8 9\n",
      "RDKit ERROR: \n",
      "RDKit ERROR: [13:39:35] ERROR: Could not sanitize molecule ending on line 378618\n",
      "RDKit ERROR: [13:39:35] ERROR: Can't kekulize mol.  Unkekulized atoms: 1 2 3 4 5 6 7 8 9\n",
      "RDKit ERROR: \n",
      "RDKit ERROR: [13:39:35] Explicit valence for atom # 56 O, 3, is greater than permitted\n",
      "RDKit ERROR: [13:39:35] ERROR: Could not sanitize molecule ending on line 398455\n",
      "RDKit ERROR: [13:39:35] ERROR: Explicit valence for atom # 56 O, 3, is greater than permitted\n",
      "RDKit ERROR: [13:39:35] Can't kekulize mol.  Unkekulized atoms: 9 10 11 12 18\n",
      "RDKit ERROR: \n",
      "RDKit ERROR: [13:39:35] ERROR: Could not sanitize molecule ending on line 407765\n",
      "RDKit ERROR: [13:39:35] ERROR: Can't kekulize mol.  Unkekulized atoms: 9 10 11 12 18\n",
      "RDKit ERROR: \n",
      "RDKit ERROR: [13:39:35] Explicit valence for atom # 46 Mg, 4, is greater than permitted\n",
      "RDKit ERROR: [13:39:35] ERROR: Could not sanitize molecule ending on line 417941\n",
      "RDKit ERROR: [13:39:35] ERROR: Explicit valence for atom # 46 Mg, 4, is greater than permitted\n",
      "RDKit ERROR: [13:39:35] Can't kekulize mol.  Unkekulized atoms: 1 2 3 12 13 14 15 16 17\n",
      "RDKit ERROR: \n",
      "RDKit ERROR: [13:39:35] ERROR: Could not sanitize molecule ending on line 422810\n",
      "RDKit ERROR: [13:39:35] ERROR: Can't kekulize mol.  Unkekulized atoms: 1 2 3 12 13 14 15 16 17\n",
      "RDKit ERROR: \n",
      "RDKit ERROR: [13:39:35] Can't kekulize mol.  Unkekulized atoms: 44 45 46 47 49\n",
      "RDKit ERROR: \n",
      "RDKit ERROR: [13:39:35] ERROR: Could not sanitize molecule ending on line 425190\n",
      "RDKit ERROR: [13:39:35] ERROR: Can't kekulize mol.  Unkekulized atoms: 44 45 46 47 49\n",
      "RDKit ERROR: \n",
      "RDKit ERROR: [13:39:35] Explicit valence for atom # 8 N, 5, is greater than permitted\n",
      "RDKit ERROR: [13:39:35] ERROR: Could not sanitize molecule ending on line 426332\n",
      "RDKit ERROR: [13:39:35] ERROR: Explicit valence for atom # 8 N, 5, is greater than permitted\n",
      "RDKit ERROR: [13:39:35] Can't kekulize mol.  Unkekulized atoms: 54 55 56 57 58 59 60 61 62\n",
      "RDKit ERROR: \n",
      "RDKit ERROR: [13:39:35] ERROR: Could not sanitize molecule ending on line 427901\n",
      "RDKit ERROR: [13:39:35] ERROR: Can't kekulize mol.  Unkekulized atoms: 54 55 56 57 58 59 60 61 62\n",
      "RDKit ERROR: \n",
      "RDKit ERROR: [13:39:35] Can't kekulize mol.  Unkekulized atoms: 0 1 2 3 4 5 6 7 8\n",
      "RDKit ERROR: \n",
      "RDKit ERROR: [13:39:35] ERROR: Could not sanitize molecule ending on line 432118\n",
      "RDKit ERROR: [13:39:35] ERROR: Can't kekulize mol.  Unkekulized atoms: 0 1 2 3 4 5 6 7 8\n",
      "RDKit ERROR: \n",
      "RDKit ERROR: [13:39:35] Can't kekulize mol.  Unkekulized atoms: 3 4 5 6 8 9 10\n",
      "RDKit ERROR: \n",
      "RDKit ERROR: [13:39:35] ERROR: Could not sanitize molecule ending on line 442989\n",
      "RDKit ERROR: [13:39:35] ERROR: Can't kekulize mol.  Unkekulized atoms: 3 4 5 6 8 9 10\n",
      "RDKit ERROR: \n",
      "RDKit ERROR: [13:39:35] Can't kekulize mol.  Unkekulized atoms: 3 4 5 6 9\n",
      "RDKit ERROR: \n",
      "RDKit ERROR: [13:39:35] ERROR: Could not sanitize molecule ending on line 447465\n",
      "RDKit ERROR: [13:39:35] ERROR: Can't kekulize mol.  Unkekulized atoms: 3 4 5 6 9\n",
      "RDKit ERROR: \n",
      "RDKit ERROR: [13:39:35] Can't kekulize mol.  Unkekulized atoms: 16 17 18 19 20\n",
      "RDKit ERROR: \n",
      "RDKit ERROR: [13:39:35] ERROR: Could not sanitize molecule ending on line 466177\n",
      "RDKit ERROR: [13:39:35] ERROR: Can't kekulize mol.  Unkekulized atoms: 16 17 18 19 20\n",
      "RDKit ERROR: \n",
      "RDKit ERROR: [13:39:35] Can't kekulize mol.  Unkekulized atoms: 7 8 9 10 17\n",
      "RDKit ERROR: \n",
      "RDKit ERROR: [13:39:35] ERROR: Could not sanitize molecule ending on line 468852\n",
      "RDKit ERROR: [13:39:35] ERROR: Can't kekulize mol.  Unkekulized atoms: 7 8 9 10 17\n",
      "RDKit ERROR: \n",
      "RDKit ERROR: [13:39:35] Can't kekulize mol.  Unkekulized atoms: 3 4 5 6 7 8 9 10 11\n",
      "RDKit ERROR: \n",
      "RDKit ERROR: [13:39:35] ERROR: Could not sanitize molecule ending on line 469201\n",
      "RDKit ERROR: [13:39:35] ERROR: Can't kekulize mol.  Unkekulized atoms: 3 4 5 6 7 8 9 10 11\n",
      "RDKit ERROR: \n",
      "RDKit ERROR: [13:39:35] Explicit valence for atom # 53 N, 4, is greater than permitted\n",
      "RDKit ERROR: [13:39:35] ERROR: Could not sanitize molecule ending on line 472285\n",
      "RDKit ERROR: [13:39:35] ERROR: Explicit valence for atom # 53 N, 4, is greater than permitted\n",
      "RDKit ERROR: [13:39:35] Can't kekulize mol.  Unkekulized atoms: 2 3 4 5 12\n",
      "RDKit ERROR: \n",
      "RDKit ERROR: [13:39:35] ERROR: Could not sanitize molecule ending on line 480504\n",
      "RDKit ERROR: [13:39:35] ERROR: Can't kekulize mol.  Unkekulized atoms: 2 3 4 5 12\n",
      "RDKit ERROR: \n",
      "RDKit ERROR: [13:39:35] Explicit valence for atom # 2 O, 3, is greater than permitted\n",
      "RDKit ERROR: [13:39:35] ERROR: Could not sanitize molecule ending on line 499305\n",
      "RDKit ERROR: [13:39:35] ERROR: Explicit valence for atom # 2 O, 3, is greater than permitted\n",
      "RDKit ERROR: [13:39:35] Can't kekulize mol.  Unkekulized atoms: 1 2 3 4 5 6 7 8 9\n",
      "RDKit ERROR: \n",
      "RDKit ERROR: [13:39:35] ERROR: Could not sanitize molecule ending on line 503342\n",
      "RDKit ERROR: [13:39:35] ERROR: Can't kekulize mol.  Unkekulized atoms: 1 2 3 4 5 6 7 8 9\n",
      "RDKit ERROR: \n",
      "RDKit ERROR: [13:39:35] Can't kekulize mol.  Unkekulized atoms: 0 1 2 4 5 6 7 8 9 10\n",
      "RDKit ERROR: \n",
      "RDKit ERROR: [13:39:35] ERROR: Could not sanitize molecule ending on line 508068\n",
      "RDKit ERROR: [13:39:35] ERROR: Can't kekulize mol.  Unkekulized atoms: 0 1 2 4 5 6 7 8 9 10\n",
      "RDKit ERROR: \n",
      "RDKit ERROR: [13:39:35] Can't kekulize mol.  Unkekulized atoms: 1 2 3 4 5 6 7 8 9\n",
      "RDKit ERROR: \n",
      "RDKit ERROR: [13:39:35] ERROR: Could not sanitize molecule ending on line 510069\n",
      "RDKit ERROR: [13:39:35] ERROR: Can't kekulize mol.  Unkekulized atoms: 1 2 3 4 5 6 7 8 9\n",
      "RDKit ERROR: \n",
      "RDKit ERROR: [13:39:35] Can't kekulize mol.  Unkekulized atoms: 3 4 5 6 7 8 10\n",
      "RDKit ERROR: \n",
      "RDKit ERROR: [13:39:35] ERROR: Could not sanitize molecule ending on line 511111\n",
      "RDKit ERROR: [13:39:35] ERROR: Can't kekulize mol.  Unkekulized atoms: 3 4 5 6 7 8 10\n",
      "RDKit ERROR: \n",
      "RDKit ERROR: [13:39:35] Can't kekulize mol.  Unkekulized atoms: 1 2 3 5 6 7 8 9 10\n",
      "RDKit ERROR: \n",
      "RDKit ERROR: [13:39:35] ERROR: Could not sanitize molecule ending on line 512030\n",
      "RDKit ERROR: [13:39:35] ERROR: Can't kekulize mol.  Unkekulized atoms: 1 2 3 5 6 7 8 9 10\n",
      "RDKit ERROR: \n",
      "RDKit ERROR: [13:39:35] Explicit valence for atom # 2 O, 3, is greater than permitted\n",
      "RDKit ERROR: [13:39:35] ERROR: Could not sanitize molecule ending on line 519056\n",
      "RDKit ERROR: [13:39:35] ERROR: Explicit valence for atom # 2 O, 3, is greater than permitted\n",
      "RDKit ERROR: [13:39:35] Explicit valence for atom # 6 B, 4, is greater than permitted\n",
      "RDKit ERROR: [13:39:35] ERROR: Could not sanitize molecule ending on line 541262\n",
      "RDKit ERROR: [13:39:35] ERROR: Explicit valence for atom # 6 B, 4, is greater than permitted\n",
      "RDKit ERROR: [13:39:35] Can't kekulize mol.  Unkekulized atoms: 2 3 17 19 20\n",
      "RDKit ERROR: \n",
      "RDKit ERROR: [13:39:35] ERROR: Could not sanitize molecule ending on line 557517\n",
      "RDKit ERROR: [13:39:35] ERROR: Can't kekulize mol.  Unkekulized atoms: 2 3 17 19 20\n",
      "RDKit ERROR: \n",
      "RDKit ERROR: [13:39:35] Can't kekulize mol.  Unkekulized atoms: 0 1 2 4 5 6 7 8 9 10\n",
      "RDKit ERROR: \n",
      "RDKit ERROR: [13:39:35] ERROR: Could not sanitize molecule ending on line 561344\n",
      "RDKit ERROR: [13:39:35] ERROR: Can't kekulize mol.  Unkekulized atoms: 0 1 2 4 5 6 7 8 9 10\n",
      "RDKit ERROR: \n",
      "RDKit ERROR: [13:39:35] Can't kekulize mol.  Unkekulized atoms: 10 11 12 13 19\n",
      "RDKit ERROR: \n",
      "RDKit ERROR: [13:39:35] ERROR: Could not sanitize molecule ending on line 562947\n",
      "RDKit ERROR: [13:39:35] ERROR: Can't kekulize mol.  Unkekulized atoms: 10 11 12 13 19\n",
      "RDKit ERROR: \n",
      "RDKit ERROR: [13:39:35] Explicit valence for atom # 27 N, 4, is greater than permitted\n",
      "RDKit ERROR: [13:39:35] ERROR: Could not sanitize molecule ending on line 567073\n",
      "RDKit ERROR: [13:39:35] ERROR: Explicit valence for atom # 27 N, 4, is greater than permitted\n",
      "RDKit ERROR: [13:39:35] Can't kekulize mol.  Unkekulized atoms: 9 10 11 12 13 14 15 16 17\n",
      "RDKit ERROR: \n",
      "RDKit ERROR: [13:39:35] ERROR: Could not sanitize molecule ending on line 568252\n",
      "RDKit ERROR: [13:39:35] ERROR: Can't kekulize mol.  Unkekulized atoms: 9 10 11 12 13 14 15 16 17\n",
      "RDKit ERROR: \n",
      "RDKit ERROR: [13:39:35] Can't kekulize mol.  Unkekulized atoms: 23 24 25 26 27\n",
      "RDKit ERROR: \n",
      "RDKit ERROR: [13:39:35] ERROR: Could not sanitize molecule ending on line 574645\n",
      "RDKit ERROR: [13:39:35] ERROR: Can't kekulize mol.  Unkekulized atoms: 23 24 25 26 27\n",
      "RDKit ERROR: \n",
      "RDKit ERROR: [13:39:35] Can't kekulize mol.  Unkekulized atoms: 5 6 7 8 9\n",
      "RDKit ERROR: \n",
      "RDKit ERROR: [13:39:35] ERROR: Could not sanitize molecule ending on line 592639\n",
      "RDKit ERROR: [13:39:35] ERROR: Can't kekulize mol.  Unkekulized atoms: 5 6 7 8 9\n",
      "RDKit ERROR: \n",
      "RDKit ERROR: [13:39:35] Explicit valence for atom # 12 N, 4, is greater than permitted\n",
      "RDKit ERROR: [13:39:35] ERROR: Could not sanitize molecule ending on line 595909\n",
      "RDKit ERROR: [13:39:35] ERROR: Explicit valence for atom # 12 N, 4, is greater than permitted\n",
      "RDKit ERROR: [13:39:35] Explicit valence for atom # 0 Br, 2, is greater than permitted\n",
      "RDKit ERROR: [13:39:35] ERROR: Could not sanitize molecule ending on line 599041\n",
      "RDKit ERROR: [13:39:35] ERROR: Explicit valence for atom # 0 Br, 2, is greater than permitted\n",
      "RDKit ERROR: [13:39:35] Explicit valence for atom # 1 N, 4, is greater than permitted\n",
      "RDKit ERROR: [13:39:35] ERROR: Could not sanitize molecule ending on line 601819\n",
      "RDKit ERROR: [13:39:35] ERROR: Explicit valence for atom # 1 N, 4, is greater than permitted\n",
      "RDKit ERROR: [13:39:35] Explicit valence for atom # 6 Be, 4, is greater than permitted\n",
      "RDKit ERROR: [13:39:35] ERROR: Could not sanitize molecule ending on line 604427\n",
      "RDKit ERROR: [13:39:35] ERROR: Explicit valence for atom # 6 Be, 4, is greater than permitted\n",
      "RDKit ERROR: [13:39:35] Can't kekulize mol.  Unkekulized atoms: 4 5 6 7 8 9 10 11 12\n",
      "RDKit ERROR: \n",
      "RDKit ERROR: [13:39:35] ERROR: Could not sanitize molecule ending on line 604912\n",
      "RDKit ERROR: [13:39:35] ERROR: Can't kekulize mol.  Unkekulized atoms: 4 5 6 7 8 9 10 11 12\n",
      "RDKit ERROR: \n",
      "RDKit ERROR: [13:39:35] Can't kekulize mol.  Unkekulized atoms: 5 6 7 8 9 10 11 12 13\n",
      "RDKit ERROR: \n",
      "RDKit ERROR: [13:39:35] ERROR: Could not sanitize molecule ending on line 616025\n",
      "RDKit ERROR: [13:39:35] ERROR: Can't kekulize mol.  Unkekulized atoms: 5 6 7 8 9 10 11 12 13\n",
      "RDKit ERROR: \n",
      "RDKit ERROR: [13:39:35] Can't kekulize mol.  Unkekulized atoms: 1 2 3 5 6 7 8 9 10\n",
      "RDKit ERROR: \n",
      "RDKit ERROR: [13:39:35] ERROR: Could not sanitize molecule ending on line 623202\n",
      "RDKit ERROR: [13:39:35] ERROR: Can't kekulize mol.  Unkekulized atoms: 1 2 3 5 6 7 8 9 10\n",
      "RDKit ERROR: \n",
      "RDKit ERROR: [13:39:35] Can't kekulize mol.  Unkekulized atoms: 5 6 7 8 9 10 11 12 13\n",
      "RDKit ERROR: \n",
      "RDKit ERROR: [13:39:35] ERROR: Could not sanitize molecule ending on line 628065\n",
      "RDKit ERROR: [13:39:35] ERROR: Can't kekulize mol.  Unkekulized atoms: 5 6 7 8 9 10 11 12 13\n",
      "RDKit ERROR: \n",
      "RDKit ERROR: [13:39:35] Explicit valence for atom # 19 N, 4, is greater than permitted\n",
      "RDKit ERROR: [13:39:35] ERROR: Could not sanitize molecule ending on line 636938\n",
      "RDKit ERROR: [13:39:35] ERROR: Explicit valence for atom # 19 N, 4, is greater than permitted\n",
      "RDKit ERROR: [13:39:35] Explicit valence for atom # 0 O, 3, is greater than permitted\n",
      "RDKit ERROR: [13:39:35] ERROR: Could not sanitize molecule ending on line 640674\n",
      "RDKit ERROR: [13:39:35] ERROR: Explicit valence for atom # 0 O, 3, is greater than permitted\n",
      "RDKit ERROR: [13:39:35] Explicit valence for atom # 17 Mg, 4, is greater than permitted\n",
      "RDKit ERROR: [13:39:35] ERROR: Could not sanitize molecule ending on line 642835\n",
      "RDKit ERROR: [13:39:35] ERROR: Explicit valence for atom # 17 Mg, 4, is greater than permitted\n",
      "RDKit ERROR: [13:39:35] Explicit valence for atom # 4 F, 2, is greater than permitted\n",
      "RDKit ERROR: [13:39:35] ERROR: Could not sanitize molecule ending on line 645068\n",
      "RDKit ERROR: [13:39:35] ERROR: Explicit valence for atom # 4 F, 2, is greater than permitted\n",
      "RDKit ERROR: [13:39:35] Can't kekulize mol.  Unkekulized atoms: 0 1 2 4 5 6 7 8 9 10\n",
      "RDKit ERROR: \n",
      "RDKit ERROR: [13:39:35] ERROR: Could not sanitize molecule ending on line 659994\n",
      "RDKit ERROR: [13:39:35] ERROR: Can't kekulize mol.  Unkekulized atoms: 0 1 2 4 5 6 7 8 9 10\n",
      "RDKit ERROR: \n",
      "RDKit ERROR: [13:39:36] Explicit valence for atom # 0 Be, 3, is greater than permitted\n",
      "RDKit ERROR: [13:39:36] ERROR: Could not sanitize molecule ending on line 995692\n",
      "RDKit ERROR: [13:39:36] ERROR: Explicit valence for atom # 0 Be, 3, is greater than permitted\n",
      "RDKit ERROR: [13:39:36] Explicit valence for atom # 0 C greater than permitted\n",
      "RDKit ERROR: [13:39:36] ERROR: Could not sanitize molecule ending on line 1151592\n"
     ]
    }
   ],
   "source": [
    "suppl = Chem.SDMolSupplier('drugbank.sdf')\n",
    "drugs=[molekula for molekula in suppl if molekula!=None]\n",
    "#print(Chem.GetSSSR(molekula))"
   ]
  },
  {
   "cell_type": "code",
   "execution_count": 36,
   "metadata": {},
   "outputs": [
    {
     "name": "stdout",
     "output_type": "stream",
     "text": [
      "<rdkit.Chem.rdchem.Mol object at 0x7f4f55cc7d50>\n",
      "7113\n"
     ]
    },
    {
     "data": {
      "text/plain": [
       "4"
      ]
     },
     "execution_count": 36,
     "metadata": {},
     "output_type": "execute_result"
    }
   ],
   "source": [
    "print(drugs[666])\n",
    "print(len(drugs))\n",
    "Chem.GetSSSR(drugs[1245])"
   ]
  },
  {
   "cell_type": "code",
   "execution_count": 37,
   "metadata": {},
   "outputs": [
    {
     "data": {
      "text/plain": [
       "0"
      ]
     },
     "execution_count": 37,
     "metadata": {},
     "output_type": "execute_result"
    }
   ],
   "source": [
    "len([d for d in drugs if d==None])"
   ]
  },
  {
   "cell_type": "code",
   "execution_count": 43,
   "metadata": {},
   "outputs": [
    {
     "name": "stdout",
     "output_type": "stream",
     "text": [
      "17547\n"
     ]
    }
   ],
   "source": [
    "pocet_kruhu = 0\n",
    "for d in drugs:\n",
    "    pocet_kruhu += Chem.GetSSSR(d)\n",
    "print(pocet_kruhu)"
   ]
  },
  {
   "cell_type": "code",
   "execution_count": 41,
   "metadata": {},
   "outputs": [],
   "source": [
    "rings = [Chem.GetSSSR(drug) for drug in drugs]"
   ]
  },
  {
   "cell_type": "code",
   "execution_count": 42,
   "metadata": {},
   "outputs": [
    {
     "data": {
      "text/plain": [
       "[(<rdkit.Chem.rdchem.Mol at 0x7f4f55550260>, 6),\n",
       " (<rdkit.Chem.rdchem.Mol at 0x7f4f555508f0>, 6),\n",
       " (<rdkit.Chem.rdchem.Mol at 0x7f4f555af260>, 4),\n",
       " (<rdkit.Chem.rdchem.Mol at 0x7f4f555af440>, 6),\n",
       " (<rdkit.Chem.rdchem.Mol at 0x7f4f555afee0>, 1),\n",
       " (<rdkit.Chem.rdchem.Mol at 0x7f4f55ca3f80>, 4),\n",
       " (<rdkit.Chem.rdchem.Mol at 0x7f4f55bc90d0>, 5),\n",
       " (<rdkit.Chem.rdchem.Mol at 0x7f4f558671c0>, 1),\n",
       " (<rdkit.Chem.rdchem.Mol at 0x7f4f558675d0>, 12),\n",
       " (<rdkit.Chem.rdchem.Mol at 0x7f4f55d908a0>, 3)]"
      ]
     },
     "execution_count": 42,
     "metadata": {},
     "output_type": "execute_result"
    }
   ],
   "source": [
    "#zip iteruje objektem (co ma next), az jeden vycerpa tak skonci\n",
    "[(m,r) for m,r in zip(drugs, rings[:10])]"
   ]
  },
  {
   "cell_type": "code",
   "execution_count": 44,
   "metadata": {},
   "outputs": [
    {
     "data": {
      "text/plain": [
       "17547"
      ]
     },
     "execution_count": 44,
     "metadata": {},
     "output_type": "execute_result"
    }
   ],
   "source": [
    "sum(rings)"
   ]
  }
 ],
 "metadata": {
  "kernelspec": {
   "display_name": "Python 3",
   "language": "python",
   "name": "python3"
  },
  "language_info": {
   "codemirror_mode": {
    "name": "ipython",
    "version": 3
   },
   "file_extension": ".py",
   "mimetype": "text/x-python",
   "name": "python",
   "nbconvert_exporter": "python",
   "pygments_lexer": "ipython3",
   "version": "3.7.6"
  }
 },
 "nbformat": 4,
 "nbformat_minor": 4
}
