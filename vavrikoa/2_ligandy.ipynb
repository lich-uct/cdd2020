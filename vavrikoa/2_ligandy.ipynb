{
 "cells": [
  {
   "cell_type": "markdown",
   "metadata": {},
   "source": [
    "Jako target jsem si vybrala dopaminový receptor D2 (https://www.ebi.ac.uk/chembl/target_report_card/CHEMBL217/).\n",
    "Příslušný soubor se jmenuje chembl_dopamin_d2_rp_ki.csv (zdroj aktivit: https://www.ebi.ac.uk/chembl/g/#browse/activities/filter/target_chembl_id%3ACHEMBL217%20AND%20standard_type%3A(%22Ki%22))."
   ]
  },
  {
   "cell_type": "code",
   "execution_count": 1,
   "metadata": {},
   "outputs": [
    {
     "name": "stderr",
     "output_type": "stream",
     "text": [
      "RDKit WARNING: [09:51:35] Enabling RDKit 2019.09.3 jupyter extensions\n"
     ]
    }
   ],
   "source": [
    "from rdkit import Chem\n",
    "from rdkit.Chem.Draw import IPythonConsole\n",
    "import csv"
   ]
  },
  {
   "cell_type": "code",
   "execution_count": 2,
   "metadata": {},
   "outputs": [],
   "source": [
    "#načtení dat\n",
    "with open(\"chembl_dopamin_d2_rp_ki.csv\", \"r\") as file:\n",
    "    reader = csv.DictReader(file, delimiter=\";\")\n",
    "    rawdata = [x for x in reader]"
   ]
  },
  {
   "cell_type": "code",
   "execution_count": 3,
   "metadata": {},
   "outputs": [],
   "source": [
    "# vytvoření instancí molekul\n",
    "ligands_ids = [m[\"Molecule ChEMBL ID\"] for m in rawdata]\n",
    "ligands_smiles = [Chem.MolFromSmiles(m[\"Smiles\"]) for m in rawdata]"
   ]
  },
  {
   "cell_type": "code",
   "execution_count": 4,
   "metadata": {},
   "outputs": [
    {
     "data": {
      "text/plain": [
       "(10473, 10473)"
      ]
     },
     "execution_count": 4,
     "metadata": {},
     "output_type": "execute_result"
    }
   ],
   "source": [
    "#je jich hodně\n",
    "len(ligands_ids), len(ligands_smiles)"
   ]
  },
  {
   "cell_type": "code",
   "execution_count": 8,
   "metadata": {},
   "outputs": [
    {
     "data": {
      "text/plain": [
       "[]"
      ]
     },
     "execution_count": 8,
     "metadata": {},
     "output_type": "execute_result"
    }
   ],
   "source": [
    "# kontrola, že se vše načetlo ok\n",
    "[m for m in ligands_smiles if m == None]"
   ]
  },
  {
   "cell_type": "code",
   "execution_count": 6,
   "metadata": {},
   "outputs": [],
   "source": [
    "#SSSR\n",
    "ligands_rings = [Chem.GetSSSR(m) for m in ligands_smiles]"
   ]
  },
  {
   "cell_type": "code",
   "execution_count": 7,
   "metadata": {},
   "outputs": [
    {
     "data": {
      "text/plain": [
       "3.9745058722429105"
      ]
     },
     "execution_count": 7,
     "metadata": {},
     "output_type": "execute_result"
    }
   ],
   "source": [
    "# průměrný počet kruhů\n",
    "sum(ligands_rings)/len(ligands_smiles)"
   ]
  },
  {
   "cell_type": "markdown",
   "metadata": {},
   "source": [
    "Nevím přesně, jak byla cílená otázka na počet kruhů, ale moje teorie je, že Chembl obsahuje různé molekuly cílící na různé receptory a každý z nich je nějak specifický. Dopaminový D2 receptor tak nejpíš interaguje s látkami s větším počtem kruhů (4) (díky svému prostorovému, a fyzikálně-chemickému uspořádání)."
   ]
  }
 ],
 "metadata": {
  "kernelspec": {
   "display_name": "Python 3",
   "language": "python",
   "name": "python3"
  },
  "language_info": {
   "codemirror_mode": {
    "name": "ipython",
    "version": 3
   },
   "file_extension": ".py",
   "mimetype": "text/x-python",
   "name": "python",
   "nbconvert_exporter": "python",
   "pygments_lexer": "ipython3",
   "version": "3.7.6"
  }
 },
 "nbformat": 4,
 "nbformat_minor": 4
}
