{
 "cells": [
  {
   "cell_type": "code",
   "execution_count": 1,
   "metadata": {
    "scrolled": true
   },
   "outputs": [
    {
     "name": "stderr",
     "output_type": "stream",
     "text": [
      "RDKit WARNING: [16:30:04] Enabling RDKit 2019.09.3 jupyter extensions\n"
     ]
    }
   ],
   "source": [
    "from rdkit import Chem\n",
    "from rdkit.Chem.Draw import IPythonConsole"
   ]
  },
  {
   "cell_type": "markdown",
   "metadata": {},
   "source": [
    "Mým targetem je tyrosinkinázový receptor epidermálního růstového faktoru (erbB1), který má v CheMBLU přes 10k IC50 hodnot.\n",
    "https://www.ebi.ac.uk/chembl/target_report_card/CHEMBL203/\n",
    "\n",
    "List látek jsem stáhl v podobě .csv   Tomas_Otava_CDG_Epidermal_growth_factor_receptor_erbB1_list_of_compounds.csv\n",
    "https://www.ebi.ac.uk/chembl/g/#browse/activities/filter/target_chembl_id%3ACHEMBL203%20AND%20standard_type%3A(%22IC50%22)"
   ]
  },
  {
   "cell_type": "code",
   "execution_count": 2,
   "metadata": {},
   "outputs": [
    {
     "data": {
      "text/plain": [
       "OrderedDict([('Molecule ChEMBL ID', 'CHEMBL332612'),\n",
       "             ('Molecule Name', ''),\n",
       "             ('Molecule Max Phase', '0'),\n",
       "             ('Molecular Weight', '351.80'),\n",
       "             ('#RO5 Violations', '0'),\n",
       "             ('AlogP', '4.08'),\n",
       "             ('Compound Key', '17'),\n",
       "             ('Smiles', 'Nc1ccc(Nc2[nH]nc3ncnc(Nc4cccc(Cl)c4)c23)cc1'),\n",
       "             ('Standard Type', 'IC50'),\n",
       "             ('Standard Relation', \"'='\"),\n",
       "             ('Standard Value', '500.0'),\n",
       "             ('Standard Units', 'nM'),\n",
       "             ('pChEMBL Value', '6.30'),\n",
       "             ('Data Validity Comment', ''),\n",
       "             ('Comment', ''),\n",
       "             ('Uo Units', 'UO_0000065'),\n",
       "             ('Ligand Efficiency BEI', ''),\n",
       "             ('Ligand Efficiency LE', ''),\n",
       "             ('Ligand Efficiency LLE', ''),\n",
       "             ('Ligand Efficiency SEI', ''),\n",
       "             ('Potential Duplicate', 'False'),\n",
       "             ('Assay ChEMBL ID', 'CHEMBL621022'),\n",
       "             ('Assay Description',\n",
       "              'Inhibition of EGF-stimulated tyrosine phosphorylation in A431 cells.'),\n",
       "             ('Assay Type', 'F'),\n",
       "             ('BAO Format ID', 'BAO_0000219'),\n",
       "             ('BAO Label', 'cell-based format'),\n",
       "             ('Assay Organism', ''),\n",
       "             ('Assay Tissue ChEMBL ID', ''),\n",
       "             ('Assay Tissue Name', ''),\n",
       "             ('Assay Cell Type', 'A-431'),\n",
       "             ('Assay Subcellular Fraction', ''),\n",
       "             ('Target ChEMBL ID', 'CHEMBL203'),\n",
       "             ('Target Name', 'Epidermal growth factor receptor erbB1'),\n",
       "             ('Target Organism', 'Homo sapiens'),\n",
       "             ('Target Type', 'SINGLE PROTEIN'),\n",
       "             ('Document ChEMBL ID', 'CHEMBL1130217'),\n",
       "             ('Source ID', '1'),\n",
       "             ('Source Description', 'Scientific Literature'),\n",
       "             ('Document Journal', 'J. Med. Chem.'),\n",
       "             ('Document Year', '1997'),\n",
       "             ('Cell ChEMBL ID', 'CHEMBL3307523')])"
      ]
     },
     "execution_count": 2,
     "metadata": {},
     "output_type": "execute_result"
    }
   ],
   "source": [
    "import csv\n",
    "with open('Tomas_Otava_CDG_Epidermal_growth_factor_receptor_erbB1_list_of_compounds.csv','r') as csvfile:\n",
    "    reader = csv.DictReader(csvfile,delimiter=\";\")\n",
    "    rawdata = [x for x in reader]\n",
    "rawdata[0]"
   ]
  },
  {
   "cell_type": "code",
   "execution_count": 3,
   "metadata": {},
   "outputs": [],
   "source": [
    "lig_IDS = [x['Molecule ChEMBL ID'] for x in rawdata]\n",
    "lig_MOLECULES = [Chem.MolFromSmiles(x['Smiles']) for x in rawdata]"
   ]
  },
  {
   "cell_type": "code",
   "execution_count": 4,
   "metadata": {},
   "outputs": [
    {
     "data": {
      "text/plain": [
       "(12496, 12496)"
      ]
     },
     "execution_count": 4,
     "metadata": {},
     "output_type": "execute_result"
    }
   ],
   "source": [
    "len(lig_IDS), len(lig_MOLECULES)"
   ]
  },
  {
   "cell_type": "code",
   "execution_count": 5,
   "metadata": {},
   "outputs": [
    {
     "data": {
      "text/plain": [
       "[]"
      ]
     },
     "execution_count": 5,
     "metadata": {},
     "output_type": "execute_result"
    }
   ],
   "source": [
    "[x for x in lig_MOLECULES if not x]"
   ]
  },
  {
   "cell_type": "markdown",
   "metadata": {},
   "source": [
    "Po načtení dat jsem definoval lig_IDS a lig_MOLECULES, do kterých jsem vložil identifikátory a struktury látek a kontrola mě prokázala načtení všech molekul"
   ]
  },
  {
   "cell_type": "code",
   "execution_count": 6,
   "metadata": {},
   "outputs": [],
   "source": [
    "lig_RINGS = [Chem.GetSSSR(x) for x in lig_MOLECULES]"
   ]
  },
  {
   "cell_type": "code",
   "execution_count": 7,
   "metadata": {},
   "outputs": [
    {
     "data": {
      "text/plain": [
       "[4, 2, 4, 6, 3, 5, 4, 3, 3, 4, 4, 4, 3, 3, 2, 4, 3, 4, 3, 3, 3, 3, 1, 1, 3]"
      ]
     },
     "execution_count": 7,
     "metadata": {},
     "output_type": "execute_result"
    }
   ],
   "source": [
    "lig_RINGS[:25]"
   ]
  },
  {
   "cell_type": "markdown",
   "metadata": {},
   "source": [
    "lig_RINGS s počty kruhů všech látek"
   ]
  },
  {
   "cell_type": "code",
   "execution_count": 8,
   "metadata": {},
   "outputs": [
    {
     "data": {
      "image/png": "[encoded data removed]",
      "text/plain": [
       "<rdkit.Chem.rdchem.Mol at 0x7fddfa676bc0>"
      ]
     },
     "execution_count": 8,
     "metadata": {},
     "output_type": "execute_result"
    }
   ],
   "source": [
    "lig_MOLECULES[5]"
   ]
  },
  {
   "cell_type": "code",
   "execution_count": 9,
   "metadata": {},
   "outputs": [
    {
     "data": {
      "image/png": "[encoded data removed]",
      "text/plain": [
       "<rdkit.Chem.rdchem.Mol at 0x7fddfa676a30>"
      ]
     },
     "execution_count": 9,
     "metadata": {},
     "output_type": "execute_result"
    }
   ],
   "source": [
    "lig_MOLECULES[3]"
   ]
  },
  {
   "cell_type": "markdown",
   "metadata": {},
   "source": [
    "Funguje to! :D"
   ]
  },
  {
   "cell_type": "code",
   "execution_count": 10,
   "metadata": {},
   "outputs": [
    {
     "data": {
      "text/plain": [
       "3.9162131882202305"
      ]
     },
     "execution_count": 10,
     "metadata": {},
     "output_type": "execute_result"
    }
   ],
   "source": [
    "sum(lig_RINGS)/len(lig_MOLECULES)"
   ]
  },
  {
   "cell_type": "markdown",
   "metadata": {},
   "source": [
    "I přes vysoký počet molekul je průměrný počet cyklů na molekulu celkem vysoký (téměř 4) což nasvědčuje na komplikovanější struktury ligandů. Uvidíme jaké informace přinesou další cvičení."
   ]
  },
  {
   "cell_type": "markdown",
   "metadata": {},
   "source": []
  },
  {
   "cell_type": "code",
   "execution_count": null,
   "metadata": {},
   "outputs": [],
   "source": []
  }
 ],
 "metadata": {
  "kernelspec": {
   "display_name": "Python 3",
   "language": "python",
   "name": "python3"
  },
  "language_info": {
   "codemirror_mode": {
    "name": "ipython",
    "version": 3
   },
   "file_extension": ".py",
   "mimetype": "text/x-python",
   "name": "python",
   "nbconvert_exporter": "python",
   "pygments_lexer": "ipython3",
   "version": "3.7.6"
  }
 },
 "nbformat": 4,
 "nbformat_minor": 4
}
