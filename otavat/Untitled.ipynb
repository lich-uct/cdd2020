{
 "cells": [
  {
   "cell_type": "code",
   "execution_count": 1,
   "metadata": {},
   "outputs": [
    {
     "name": "stderr",
     "output_type": "stream",
     "text": [
      "RDKit WARNING: [13:03:45] Enabling RDKit 2019.09.3 jupyter extensions\n"
     ]
    },
    {
     "ename": "ImportError",
     "evalue": "cannot import name 'chem'",
     "output_type": "error",
     "traceback": [
      "\u001b[0;31m---------------------------------------------------------------------------\u001b[0m",
      "\u001b[0;31mImportError\u001b[0m                               Traceback (most recent call last)",
      "\u001b[0;32m<ipython-input-1-1b514de2bd47>\u001b[0m in \u001b[0;36m<module>\u001b[0;34m\u001b[0m\n\u001b[0;32m----> 1\u001b[0;31m \u001b[0;32mfrom\u001b[0m \u001b[0mrdkit\u001b[0m \u001b[0;32mimport\u001b[0m \u001b[0mchem\u001b[0m\u001b[0;34m\u001b[0m\u001b[0;34m\u001b[0m\u001b[0m\n\u001b[0m",
      "\u001b[0;31mImportError\u001b[0m: cannot import name 'chem'"
     ]
    }
   ],
   "source": [
    "from rdkit import chem"
   ]
  },
  {
   "cell_type": "code",
   "execution_count": 2,
   "metadata": {},
   "outputs": [],
   "source": [
    "from rdkit import Chem"
   ]
  },
  {
   "cell_type": "code",
   "execution_count": 3,
   "metadata": {},
   "outputs": [
    {
     "data": {
      "text/plain": [
       "<rdkit.Chem.rdmolfiles.SDMolSupplier at 0x7fd70be491b8>"
      ]
     },
     "execution_count": 3,
     "metadata": {},
     "output_type": "execute_result"
    }
   ],
   "source": [
    "Chem.SDMolSupplier('../drugbank.sdf')"
   ]
  },
  {
   "cell_type": "code",
   "execution_count": 4,
   "metadata": {},
   "outputs": [],
   "source": [
    "suppl = Chem.SDMolSupplier('../drugbank.sdf')\n"
   ]
  },
  {
   "cell_type": "code",
   "execution_count": 5,
   "metadata": {},
   "outputs": [
    {
     "ename": "SyntaxError",
     "evalue": "invalid syntax (<ipython-input-5-5e3ea84555e6>, line 3)",
     "output_type": "error",
     "traceback": [
      "\u001b[0;36m  File \u001b[0;32m\"<ipython-input-5-5e3ea84555e6>\"\u001b[0;36m, line \u001b[0;32m3\u001b[0m\n\u001b[0;31m    drug - []\u001b[0m\n\u001b[0m       ^\u001b[0m\n\u001b[0;31mSyntaxError\u001b[0m\u001b[0;31m:\u001b[0m invalid syntax\n"
     ]
    }
   ],
   "source": [
    "drug = [m for m in suppl]\n",
    "       \n",
    "drug - []\n",
    "for - m in suppl:\n",
    "        drug.append(m)"
   ]
  },
  {
   "cell_type": "code",
   "execution_count": 6,
   "metadata": {},
   "outputs": [
    {
     "ename": "SyntaxError",
     "evalue": "can't assign to operator (<ipython-input-6-2dd675753ff3>, line 4)",
     "output_type": "error",
     "traceback": [
      "\u001b[0;36m  File \u001b[0;32m\"<ipython-input-6-2dd675753ff3>\"\u001b[0;36m, line \u001b[0;32m4\u001b[0m\n\u001b[0;31m    for - m in suppl:\u001b[0m\n\u001b[0m       ^\u001b[0m\n\u001b[0;31mSyntaxError\u001b[0m\u001b[0;31m:\u001b[0m can't assign to operator\n"
     ]
    }
   ],
   "source": [
    "drug = [m for m in suppl]\n",
    "       \n",
    "drug - []\n",
    "for - m in suppl:\n",
    "        drug.append(m)"
   ]
  },
  {
   "cell_type": "code",
   "execution_count": 7,
   "metadata": {},
   "outputs": [
    {
     "name": "stderr",
     "output_type": "stream",
     "text": [
      "RDKit ERROR: [13:29:20] Explicit valence for atom # 7 N, 4, is greater than permitted\n",
      "RDKit ERROR: [13:29:20] ERROR: Could not sanitize molecule ending on line 20009\n",
      "RDKit WARNING: [13:29:20] Warning: conflicting stereochemistry at atom 5 ignored.\n",
      "RDKit WARNING: [13:29:20] Warning: conflicting stereochemistry at atom 5 ignored.\n",
      "RDKit ERROR: [13:29:20] ERROR: Explicit valence for atom # 7 N, 4, is greater than permitted\n",
      "RDKit ERROR: [13:29:20] Can't kekulize mol.  Unkekulized atoms: 1 2 3 5 6 7 8 9 10\n",
      "RDKit ERROR: \n",
      "RDKit ERROR: [13:29:20] ERROR: Could not sanitize molecule ending on line 250947\n",
      "RDKit ERROR: [13:29:20] ERROR: Can't kekulize mol.  Unkekulized atoms: 1 2 3 5 6 7 8 9 10\n",
      "RDKit ERROR: \n",
      "RDKit ERROR: [13:29:20] Explicit valence for atom # 17 O, 3, is greater than permitted\n",
      "RDKit ERROR: [13:29:20] ERROR: Could not sanitize molecule ending on line 258130\n",
      "RDKit ERROR: [13:29:20] ERROR: Explicit valence for atom # 17 O, 3, is greater than permitted\n",
      "RDKit ERROR: [13:29:20] Can't kekulize mol.  Unkekulized atoms: 57 58 59 60 61 62 63 64 65\n",
      "RDKit ERROR: \n",
      "RDKit ERROR: [13:29:20] ERROR: Could not sanitize molecule ending on line 261581\n",
      "RDKit ERROR: [13:29:20] ERROR: Can't kekulize mol.  Unkekulized atoms: 57 58 59 60 61 62 63 64 65\n",
      "RDKit ERROR: \n",
      "RDKit ERROR: [13:29:20] Explicit valence for atom # 47 Mg, 4, is greater than permitted\n",
      "RDKit ERROR: [13:29:20] ERROR: Could not sanitize molecule ending on line 272221\n",
      "RDKit ERROR: [13:29:20] ERROR: Explicit valence for atom # 47 Mg, 4, is greater than permitted\n",
      "RDKit ERROR: [13:29:20] Can't kekulize mol.  Unkekulized atoms: 0 1 2 6 7 8 9 10 11 12 13 14 15 16 17\n",
      "RDKit ERROR: \n",
      "RDKit ERROR: [13:29:20] ERROR: Could not sanitize molecule ending on line 280661\n",
      "RDKit ERROR: [13:29:20] ERROR: Can't kekulize mol.  Unkekulized atoms: 0 1 2 6 7 8 9 10 11 12 13 14 15 16 17\n",
      "RDKit ERROR: \n",
      "RDKit ERROR: [13:29:20] Explicit valence for atom # 13 Cl, 5, is greater than permitted\n",
      "RDKit ERROR: [13:29:20] ERROR: Could not sanitize molecule ending on line 282635\n",
      "RDKit ERROR: [13:29:20] ERROR: Explicit valence for atom # 13 Cl, 5, is greater than permitted\n",
      "RDKit ERROR: [13:29:20] Can't kekulize mol.  Unkekulized atoms: 3 4 5 6 7 8 10 11 12\n",
      "RDKit ERROR: \n",
      "RDKit ERROR: [13:29:20] ERROR: Could not sanitize molecule ending on line 292762\n",
      "RDKit ERROR: [13:29:20] ERROR: Can't kekulize mol.  Unkekulized atoms: 3 4 5 6 7 8 10 11 12\n",
      "RDKit ERROR: \n",
      "RDKit ERROR: [13:29:20] Can't kekulize mol.  Unkekulized atoms: 0 1 2 4 5 6 7 8 9 10\n",
      "RDKit ERROR: \n",
      "RDKit ERROR: [13:29:20] ERROR: Could not sanitize molecule ending on line 293836\n",
      "RDKit ERROR: [13:29:20] ERROR: Can't kekulize mol.  Unkekulized atoms: 0 1 2 4 5 6 7 8 9 10\n",
      "RDKit ERROR: \n",
      "RDKit ERROR: [13:29:20] Can't kekulize mol.  Unkekulized atoms: 2 3 4 5 6 7 8 9 10\n",
      "RDKit ERROR: \n",
      "RDKit ERROR: [13:29:20] ERROR: Could not sanitize molecule ending on line 302815\n",
      "RDKit ERROR: [13:29:20] ERROR: Can't kekulize mol.  Unkekulized atoms: 2 3 4 5 6 7 8 9 10\n",
      "RDKit ERROR: \n",
      "RDKit ERROR: [13:29:20] Can't kekulize mol.  Unkekulized atoms: 13 14 15 16 22\n",
      "RDKit ERROR: \n",
      "RDKit ERROR: [13:29:20] ERROR: Could not sanitize molecule ending on line 304047\n",
      "RDKit ERROR: [13:29:20] ERROR: Can't kekulize mol.  Unkekulized atoms: 13 14 15 16 22\n",
      "RDKit ERROR: \n",
      "RDKit ERROR: [13:29:20] Explicit valence for atom # 46 Mg, 4, is greater than permitted\n",
      "RDKit ERROR: [13:29:20] ERROR: Could not sanitize molecule ending on line 312454\n",
      "RDKit ERROR: [13:29:20] ERROR: Explicit valence for atom # 46 Mg, 4, is greater than permitted\n",
      "RDKit ERROR: [13:29:20] Explicit valence for atom # 27 N, 4, is greater than permitted\n",
      "RDKit ERROR: [13:29:20] ERROR: Could not sanitize molecule ending on line 317905\n",
      "RDKit ERROR: [13:29:20] ERROR: Explicit valence for atom # 27 N, 4, is greater than permitted\n",
      "RDKit ERROR: [13:29:20] Explicit valence for atom # 16 N, 4, is greater than permitted\n",
      "RDKit ERROR: [13:29:20] ERROR: Could not sanitize molecule ending on line 318439\n",
      "RDKit ERROR: [13:29:20] ERROR: Explicit valence for atom # 16 N, 4, is greater than permitted\n",
      "RDKit ERROR: [13:29:20] Can't kekulize mol.  Unkekulized atoms: 3 4 5 6 54\n",
      "RDKit ERROR: \n",
      "RDKit ERROR: [13:29:20] ERROR: Could not sanitize molecule ending on line 324910\n",
      "RDKit ERROR: [13:29:20] ERROR: Can't kekulize mol.  Unkekulized atoms: 3 4 5 6 54\n",
      "RDKit ERROR: \n",
      "RDKit ERROR: [13:29:20] Can't kekulize mol.  Unkekulized atoms: 3 4 5 6 7\n",
      "RDKit ERROR: \n",
      "RDKit ERROR: [13:29:20] ERROR: Could not sanitize molecule ending on line 326050\n",
      "RDKit ERROR: [13:29:20] ERROR: Can't kekulize mol.  Unkekulized atoms: 3 4 5 6 7\n",
      "RDKit ERROR: \n",
      "RDKit ERROR: [13:29:20] Can't kekulize mol.  Unkekulized atoms: 2 3 4 5 11\n",
      "RDKit ERROR: \n",
      "RDKit ERROR: [13:29:20] ERROR: Could not sanitize molecule ending on line 331986\n",
      "RDKit ERROR: [13:29:20] ERROR: Can't kekulize mol.  Unkekulized atoms: 2 3 4 5 11\n",
      "RDKit ERROR: \n",
      "RDKit ERROR: [13:29:20] Can't kekulize mol.  Unkekulized atoms: 1 2 3 4 5 6 7 8 9\n",
      "RDKit ERROR: \n",
      "RDKit ERROR: [13:29:20] ERROR: Could not sanitize molecule ending on line 333287\n",
      "RDKit ERROR: [13:29:20] ERROR: Can't kekulize mol.  Unkekulized atoms: 1 2 3 4 5 6 7 8 9\n",
      "RDKit ERROR: \n",
      "RDKit ERROR: [13:29:20] Can't kekulize mol.  Unkekulized atoms: 3 4 5 6 7\n",
      "RDKit ERROR: \n",
      "RDKit ERROR: [13:29:20] ERROR: Could not sanitize molecule ending on line 347574\n",
      "RDKit ERROR: [13:29:20] ERROR: Can't kekulize mol.  Unkekulized atoms: 3 4 5 6 7\n",
      "RDKit ERROR: \n",
      "RDKit ERROR: [13:29:20] Can't kekulize mol.  Unkekulized atoms: 5 6 7 8 9 10 11 12 13\n",
      "RDKit ERROR: \n",
      "RDKit ERROR: [13:29:20] ERROR: Could not sanitize molecule ending on line 357505\n",
      "RDKit ERROR: [13:29:20] ERROR: Can't kekulize mol.  Unkekulized atoms: 5 6 7 8 9 10 11 12 13\n",
      "RDKit ERROR: \n",
      "RDKit ERROR: [13:29:20] Can't kekulize mol.  Unkekulized atoms: 3 4 5 6 7\n",
      "RDKit ERROR: \n",
      "RDKit ERROR: [13:29:20] ERROR: Could not sanitize molecule ending on line 371006\n",
      "RDKit ERROR: [13:29:20] ERROR: Can't kekulize mol.  Unkekulized atoms: 3 4 5 6 7\n",
      "RDKit ERROR: \n",
      "RDKit ERROR: [13:29:20] Can't kekulize mol.  Unkekulized atoms: 1 2 3 4 5 6 7 8 9\n",
      "RDKit ERROR: \n",
      "RDKit ERROR: [13:29:20] ERROR: Could not sanitize molecule ending on line 378618\n",
      "RDKit ERROR: [13:29:20] ERROR: Can't kekulize mol.  Unkekulized atoms: 1 2 3 4 5 6 7 8 9\n",
      "RDKit ERROR: \n",
      "RDKit ERROR: [13:29:20] Explicit valence for atom # 56 O, 3, is greater than permitted\n",
      "RDKit ERROR: [13:29:20] ERROR: Could not sanitize molecule ending on line 398455\n",
      "RDKit ERROR: [13:29:20] ERROR: Explicit valence for atom # 56 O, 3, is greater than permitted\n",
      "RDKit ERROR: [13:29:20] Can't kekulize mol.  Unkekulized atoms: 9 10 11 12 18\n",
      "RDKit ERROR: \n",
      "RDKit ERROR: [13:29:20] ERROR: Could not sanitize molecule ending on line 407765\n",
      "RDKit ERROR: [13:29:20] ERROR: Can't kekulize mol.  Unkekulized atoms: 9 10 11 12 18\n",
      "RDKit ERROR: \n",
      "RDKit ERROR: [13:29:20] Explicit valence for atom # 46 Mg, 4, is greater than permitted\n",
      "RDKit ERROR: [13:29:20] ERROR: Could not sanitize molecule ending on line 417941\n",
      "RDKit ERROR: [13:29:20] ERROR: Explicit valence for atom # 46 Mg, 4, is greater than permitted\n",
      "RDKit ERROR: [13:29:20] Can't kekulize mol.  Unkekulized atoms: 1 2 3 12 13 14 15 16 17\n",
      "RDKit ERROR: \n",
      "RDKit ERROR: [13:29:20] ERROR: Could not sanitize molecule ending on line 422810\n",
      "RDKit ERROR: [13:29:20] ERROR: Can't kekulize mol.  Unkekulized atoms: 1 2 3 12 13 14 15 16 17\n",
      "RDKit ERROR: \n",
      "RDKit ERROR: [13:29:20] Can't kekulize mol.  Unkekulized atoms: 44 45 46 47 49\n",
      "RDKit ERROR: \n",
      "RDKit ERROR: [13:29:20] ERROR: Could not sanitize molecule ending on line 425190\n",
      "RDKit ERROR: [13:29:20] ERROR: Can't kekulize mol.  Unkekulized atoms: 44 45 46 47 49\n",
      "RDKit ERROR: \n",
      "RDKit ERROR: [13:29:20] Explicit valence for atom # 8 N, 5, is greater than permitted\n",
      "RDKit ERROR: [13:29:20] ERROR: Could not sanitize molecule ending on line 426332\n",
      "RDKit ERROR: [13:29:20] ERROR: Explicit valence for atom # 8 N, 5, is greater than permitted\n",
      "RDKit ERROR: [13:29:20] Can't kekulize mol.  Unkekulized atoms: 54 55 56 57 58 59 60 61 62\n",
      "RDKit ERROR: \n",
      "RDKit ERROR: [13:29:20] ERROR: Could not sanitize molecule ending on line 427901\n",
      "RDKit ERROR: [13:29:20] ERROR: Can't kekulize mol.  Unkekulized atoms: 54 55 56 57 58 59 60 61 62\n",
      "RDKit ERROR: \n",
      "RDKit ERROR: [13:29:20] Can't kekulize mol.  Unkekulized atoms: 0 1 2 3 4 5 6 7 8\n",
      "RDKit ERROR: \n",
      "RDKit ERROR: [13:29:20] ERROR: Could not sanitize molecule ending on line 432118\n",
      "RDKit ERROR: [13:29:20] ERROR: Can't kekulize mol.  Unkekulized atoms: 0 1 2 3 4 5 6 7 8\n",
      "RDKit ERROR: \n",
      "RDKit ERROR: [13:29:20] Can't kekulize mol.  Unkekulized atoms: 3 4 5 6 8 9 10\n",
      "RDKit ERROR: \n",
      "RDKit ERROR: [13:29:20] ERROR: Could not sanitize molecule ending on line 442989\n",
      "RDKit ERROR: [13:29:20] ERROR: Can't kekulize mol.  Unkekulized atoms: 3 4 5 6 8 9 10\n",
      "RDKit ERROR: \n",
      "RDKit ERROR: [13:29:20] Can't kekulize mol.  Unkekulized atoms: 3 4 5 6 9\n",
      "RDKit ERROR: \n",
      "RDKit ERROR: [13:29:20] ERROR: Could not sanitize molecule ending on line 447465\n",
      "RDKit ERROR: [13:29:20] ERROR: Can't kekulize mol.  Unkekulized atoms: 3 4 5 6 9\n",
      "RDKit ERROR: \n",
      "RDKit ERROR: [13:29:20] Can't kekulize mol.  Unkekulized atoms: 16 17 18 19 20\n",
      "RDKit ERROR: \n",
      "RDKit ERROR: [13:29:20] ERROR: Could not sanitize molecule ending on line 466177\n",
      "RDKit ERROR: [13:29:20] ERROR: Can't kekulize mol.  Unkekulized atoms: 16 17 18 19 20\n",
      "RDKit ERROR: \n",
      "RDKit ERROR: [13:29:20] Can't kekulize mol.  Unkekulized atoms: 7 8 9 10 17\n",
      "RDKit ERROR: \n",
      "RDKit ERROR: [13:29:20] ERROR: Could not sanitize molecule ending on line 468852\n",
      "RDKit ERROR: [13:29:20] ERROR: Can't kekulize mol.  Unkekulized atoms: 7 8 9 10 17\n",
      "RDKit ERROR: \n",
      "RDKit ERROR: [13:29:20] Can't kekulize mol.  Unkekulized atoms: 3 4 5 6 7 8 9 10 11\n",
      "RDKit ERROR: \n",
      "RDKit ERROR: [13:29:20] ERROR: Could not sanitize molecule ending on line 469201\n",
      "RDKit ERROR: [13:29:20] ERROR: Can't kekulize mol.  Unkekulized atoms: 3 4 5 6 7 8 9 10 11\n",
      "RDKit ERROR: \n",
      "RDKit ERROR: [13:29:20] Explicit valence for atom # 53 N, 4, is greater than permitted\n",
      "RDKit ERROR: [13:29:20] ERROR: Could not sanitize molecule ending on line 472285\n",
      "RDKit ERROR: [13:29:20] ERROR: Explicit valence for atom # 53 N, 4, is greater than permitted\n",
      "RDKit ERROR: [13:29:20] Can't kekulize mol.  Unkekulized atoms: 2 3 4 5 12\n",
      "RDKit ERROR: \n",
      "RDKit ERROR: [13:29:20] ERROR: Could not sanitize molecule ending on line 480504\n",
      "RDKit ERROR: [13:29:20] ERROR: Can't kekulize mol.  Unkekulized atoms: 2 3 4 5 12\n",
      "RDKit ERROR: \n",
      "RDKit ERROR: [13:29:20] Explicit valence for atom # 2 O, 3, is greater than permitted\n",
      "RDKit ERROR: [13:29:20] ERROR: Could not sanitize molecule ending on line 499305\n",
      "RDKit ERROR: [13:29:20] ERROR: Explicit valence for atom # 2 O, 3, is greater than permitted\n",
      "RDKit ERROR: [13:29:20] Can't kekulize mol.  Unkekulized atoms: 1 2 3 4 5 6 7 8 9\n",
      "RDKit ERROR: \n",
      "RDKit ERROR: [13:29:20] ERROR: Could not sanitize molecule ending on line 503342\n",
      "RDKit ERROR: [13:29:20] ERROR: Can't kekulize mol.  Unkekulized atoms: 1 2 3 4 5 6 7 8 9\n",
      "RDKit ERROR: \n",
      "RDKit ERROR: [13:29:20] Can't kekulize mol.  Unkekulized atoms: 0 1 2 4 5 6 7 8 9 10\n",
      "RDKit ERROR: \n",
      "RDKit ERROR: [13:29:20] ERROR: Could not sanitize molecule ending on line 508068\n",
      "RDKit ERROR: [13:29:20] ERROR: Can't kekulize mol.  Unkekulized atoms: 0 1 2 4 5 6 7 8 9 10\n",
      "RDKit ERROR: \n",
      "RDKit ERROR: [13:29:20] Can't kekulize mol.  Unkekulized atoms: 1 2 3 4 5 6 7 8 9\n",
      "RDKit ERROR: \n",
      "RDKit ERROR: [13:29:20] ERROR: Could not sanitize molecule ending on line 510069\n",
      "RDKit ERROR: [13:29:20] ERROR: Can't kekulize mol.  Unkekulized atoms: 1 2 3 4 5 6 7 8 9\n",
      "RDKit ERROR: \n",
      "RDKit ERROR: [13:29:20] Can't kekulize mol.  Unkekulized atoms: 3 4 5 6 7 8 10\n",
      "RDKit ERROR: \n",
      "RDKit ERROR: [13:29:20] ERROR: Could not sanitize molecule ending on line 511111\n",
      "RDKit ERROR: [13:29:20] ERROR: Can't kekulize mol.  Unkekulized atoms: 3 4 5 6 7 8 10\n",
      "RDKit ERROR: \n",
      "RDKit ERROR: [13:29:20] Can't kekulize mol.  Unkekulized atoms: 1 2 3 5 6 7 8 9 10\n",
      "RDKit ERROR: \n",
      "RDKit ERROR: [13:29:20] ERROR: Could not sanitize molecule ending on line 512030\n",
      "RDKit ERROR: [13:29:20] ERROR: Can't kekulize mol.  Unkekulized atoms: 1 2 3 5 6 7 8 9 10\n",
      "RDKit ERROR: \n",
      "RDKit ERROR: [13:29:20] Explicit valence for atom # 2 O, 3, is greater than permitted\n",
      "RDKit ERROR: [13:29:20] ERROR: Could not sanitize molecule ending on line 519056\n",
      "RDKit ERROR: [13:29:20] ERROR: Explicit valence for atom # 2 O, 3, is greater than permitted\n",
      "RDKit ERROR: [13:29:21] Explicit valence for atom # 6 B, 4, is greater than permitted\n",
      "RDKit ERROR: [13:29:21] ERROR: Could not sanitize molecule ending on line 541262\n",
      "RDKit ERROR: [13:29:21] ERROR: Explicit valence for atom # 6 B, 4, is greater than permitted\n",
      "RDKit ERROR: [13:29:21] Can't kekulize mol.  Unkekulized atoms: 2 3 17 19 20\n",
      "RDKit ERROR: \n",
      "RDKit ERROR: [13:29:21] ERROR: Could not sanitize molecule ending on line 557517\n",
      "RDKit ERROR: [13:29:21] ERROR: Can't kekulize mol.  Unkekulized atoms: 2 3 17 19 20\n",
      "RDKit ERROR: \n",
      "RDKit ERROR: [13:29:21] Can't kekulize mol.  Unkekulized atoms: 0 1 2 4 5 6 7 8 9 10\n",
      "RDKit ERROR: \n",
      "RDKit ERROR: [13:29:21] ERROR: Could not sanitize molecule ending on line 561344\n",
      "RDKit ERROR: [13:29:21] ERROR: Can't kekulize mol.  Unkekulized atoms: 0 1 2 4 5 6 7 8 9 10\n",
      "RDKit ERROR: \n",
      "RDKit ERROR: [13:29:21] Can't kekulize mol.  Unkekulized atoms: 10 11 12 13 19\n",
      "RDKit ERROR: \n",
      "RDKit ERROR: [13:29:21] ERROR: Could not sanitize molecule ending on line 562947\n",
      "RDKit ERROR: [13:29:21] ERROR: Can't kekulize mol.  Unkekulized atoms: 10 11 12 13 19\n",
      "RDKit ERROR: \n",
      "RDKit ERROR: [13:29:21] Explicit valence for atom # 27 N, 4, is greater than permitted\n",
      "RDKit ERROR: [13:29:21] ERROR: Could not sanitize molecule ending on line 567073\n",
      "RDKit ERROR: [13:29:21] ERROR: Explicit valence for atom # 27 N, 4, is greater than permitted\n",
      "RDKit ERROR: [13:29:21] Can't kekulize mol.  Unkekulized atoms: 9 10 11 12 13 14 15 16 17\n",
      "RDKit ERROR: \n",
      "RDKit ERROR: [13:29:21] ERROR: Could not sanitize molecule ending on line 568252\n",
      "RDKit ERROR: [13:29:21] ERROR: Can't kekulize mol.  Unkekulized atoms: 9 10 11 12 13 14 15 16 17\n",
      "RDKit ERROR: \n",
      "RDKit ERROR: [13:29:21] Can't kekulize mol.  Unkekulized atoms: 23 24 25 26 27\n",
      "RDKit ERROR: \n",
      "RDKit ERROR: [13:29:21] ERROR: Could not sanitize molecule ending on line 574645\n",
      "RDKit ERROR: [13:29:21] ERROR: Can't kekulize mol.  Unkekulized atoms: 23 24 25 26 27\n",
      "RDKit ERROR: \n",
      "RDKit ERROR: [13:29:21] Can't kekulize mol.  Unkekulized atoms: 5 6 7 8 9\n",
      "RDKit ERROR: \n",
      "RDKit ERROR: [13:29:21] ERROR: Could not sanitize molecule ending on line 592639\n",
      "RDKit ERROR: [13:29:21] ERROR: Can't kekulize mol.  Unkekulized atoms: 5 6 7 8 9\n",
      "RDKit ERROR: \n",
      "RDKit ERROR: [13:29:21] Explicit valence for atom # 12 N, 4, is greater than permitted\n",
      "RDKit ERROR: [13:29:21] ERROR: Could not sanitize molecule ending on line 595909\n",
      "RDKit ERROR: [13:29:21] ERROR: Explicit valence for atom # 12 N, 4, is greater than permitted\n",
      "RDKit ERROR: [13:29:21] Explicit valence for atom # 0 Br, 2, is greater than permitted\n",
      "RDKit ERROR: [13:29:21] ERROR: Could not sanitize molecule ending on line 599041\n",
      "RDKit ERROR: [13:29:21] ERROR: Explicit valence for atom # 0 Br, 2, is greater than permitted\n",
      "RDKit ERROR: [13:29:21] Explicit valence for atom # 1 N, 4, is greater than permitted\n",
      "RDKit ERROR: [13:29:21] ERROR: Could not sanitize molecule ending on line 601819\n",
      "RDKit ERROR: [13:29:21] ERROR: Explicit valence for atom # 1 N, 4, is greater than permitted\n",
      "RDKit ERROR: [13:29:21] Explicit valence for atom # 6 Be, 4, is greater than permitted\n",
      "RDKit ERROR: [13:29:21] ERROR: Could not sanitize molecule ending on line 604427\n",
      "RDKit ERROR: [13:29:21] ERROR: Explicit valence for atom # 6 Be, 4, is greater than permitted\n",
      "RDKit ERROR: [13:29:21] Can't kekulize mol.  Unkekulized atoms: 4 5 6 7 8 9 10 11 12\n",
      "RDKit ERROR: \n",
      "RDKit ERROR: [13:29:21] ERROR: Could not sanitize molecule ending on line 604912\n",
      "RDKit ERROR: [13:29:21] ERROR: Can't kekulize mol.  Unkekulized atoms: 4 5 6 7 8 9 10 11 12\n",
      "RDKit ERROR: \n",
      "RDKit ERROR: [13:29:21] Can't kekulize mol.  Unkekulized atoms: 5 6 7 8 9 10 11 12 13\n",
      "RDKit ERROR: \n",
      "RDKit ERROR: [13:29:21] ERROR: Could not sanitize molecule ending on line 616025\n",
      "RDKit ERROR: [13:29:21] ERROR: Can't kekulize mol.  Unkekulized atoms: 5 6 7 8 9 10 11 12 13\n",
      "RDKit ERROR: \n",
      "RDKit ERROR: [13:29:21] Can't kekulize mol.  Unkekulized atoms: 1 2 3 5 6 7 8 9 10\n",
      "RDKit ERROR: \n",
      "RDKit ERROR: [13:29:21] ERROR: Could not sanitize molecule ending on line 623202\n",
      "RDKit ERROR: [13:29:21] ERROR: Can't kekulize mol.  Unkekulized atoms: 1 2 3 5 6 7 8 9 10\n",
      "RDKit ERROR: \n",
      "RDKit ERROR: [13:29:21] Can't kekulize mol.  Unkekulized atoms: 5 6 7 8 9 10 11 12 13\n",
      "RDKit ERROR: \n",
      "RDKit ERROR: [13:29:21] ERROR: Could not sanitize molecule ending on line 628065\n",
      "RDKit ERROR: [13:29:21] ERROR: Can't kekulize mol.  Unkekulized atoms: 5 6 7 8 9 10 11 12 13\n",
      "RDKit ERROR: \n",
      "RDKit ERROR: [13:29:21] Explicit valence for atom # 19 N, 4, is greater than permitted\n",
      "RDKit ERROR: [13:29:21] ERROR: Could not sanitize molecule ending on line 636938\n",
      "RDKit ERROR: [13:29:21] ERROR: Explicit valence for atom # 19 N, 4, is greater than permitted\n",
      "RDKit ERROR: [13:29:21] Explicit valence for atom # 0 O, 3, is greater than permitted\n",
      "RDKit ERROR: [13:29:21] ERROR: Could not sanitize molecule ending on line 640674\n",
      "RDKit ERROR: [13:29:21] ERROR: Explicit valence for atom # 0 O, 3, is greater than permitted\n",
      "RDKit ERROR: [13:29:21] Explicit valence for atom # 17 Mg, 4, is greater than permitted\n",
      "RDKit ERROR: [13:29:21] ERROR: Could not sanitize molecule ending on line 642835\n",
      "RDKit ERROR: [13:29:21] ERROR: Explicit valence for atom # 17 Mg, 4, is greater than permitted\n",
      "RDKit ERROR: [13:29:21] Explicit valence for atom # 4 F, 2, is greater than permitted\n",
      "RDKit ERROR: [13:29:21] ERROR: Could not sanitize molecule ending on line 645068\n",
      "RDKit ERROR: [13:29:21] ERROR: Explicit valence for atom # 4 F, 2, is greater than permitted\n",
      "RDKit ERROR: [13:29:21] Can't kekulize mol.  Unkekulized atoms: 0 1 2 4 5 6 7 8 9 10\n",
      "RDKit ERROR: \n",
      "RDKit ERROR: [13:29:21] ERROR: Could not sanitize molecule ending on line 659994\n",
      "RDKit ERROR: [13:29:21] ERROR: Can't kekulize mol.  Unkekulized atoms: 0 1 2 4 5 6 7 8 9 10\n",
      "RDKit ERROR: \n",
      "RDKit ERROR: [13:29:21] Explicit valence for atom # 0 Be, 3, is greater than permitted\n",
      "RDKit ERROR: [13:29:21] ERROR: Could not sanitize molecule ending on line 995692\n",
      "RDKit ERROR: [13:29:21] ERROR: Explicit valence for atom # 0 Be, 3, is greater than permitted\n",
      "RDKit ERROR: [13:29:22] Explicit valence for atom # 0 C greater than permitted\n",
      "RDKit ERROR: [13:29:22] ERROR: Could not sanitize molecule ending on line 1151592\n"
     ]
    }
   ],
   "source": [
    "drug = [m for m in suppl]"
   ]
  },
  {
   "cell_type": "code",
   "execution_count": 8,
   "metadata": {},
   "outputs": [
    {
     "data": {
      "text/plain": [
       "7180"
      ]
     },
     "execution_count": 8,
     "metadata": {},
     "output_type": "execute_result"
    }
   ],
   "source": [
    "len (drug)"
   ]
  },
  {
   "cell_type": "code",
   "execution_count": 9,
   "metadata": {},
   "outputs": [
    {
     "ename": "ArgumentError",
     "evalue": "Python argument types in\n    rdkit.Chem.rdmolops.GetSSSR(list)\ndid not match C++ signature:\n    GetSSSR(RDKit::ROMol {lvalue})",
     "output_type": "error",
     "traceback": [
      "\u001b[0;31m---------------------------------------------------------------------------\u001b[0m",
      "\u001b[0;31mArgumentError\u001b[0m                             Traceback (most recent call last)",
      "\u001b[0;32m<ipython-input-9-78146bd49d32>\u001b[0m in \u001b[0;36m<module>\u001b[0;34m\u001b[0m\n\u001b[0;32m----> 1\u001b[0;31m \u001b[0mChem\u001b[0m\u001b[0;34m.\u001b[0m\u001b[0mGetSSSR\u001b[0m\u001b[0;34m(\u001b[0m\u001b[0mdrug\u001b[0m\u001b[0;34m)\u001b[0m\u001b[0;34m\u001b[0m\u001b[0;34m\u001b[0m\u001b[0m\n\u001b[0m",
      "\u001b[0;31mArgumentError\u001b[0m: Python argument types in\n    rdkit.Chem.rdmolops.GetSSSR(list)\ndid not match C++ signature:\n    GetSSSR(RDKit::ROMol {lvalue})"
     ]
    }
   ],
   "source": [
    "Chem.GetSSSR(drug)"
   ]
  },
  {
   "cell_type": "code",
   "execution_count": 10,
   "metadata": {},
   "outputs": [
    {
     "ename": "ArgumentError",
     "evalue": "Python argument types in\n    rdkit.Chem.rdmolops.GetSSSR(NoneType)\ndid not match C++ signature:\n    GetSSSR(RDKit::ROMol {lvalue})",
     "output_type": "error",
     "traceback": [
      "\u001b[0;31m---------------------------------------------------------------------------\u001b[0m",
      "\u001b[0;31mArgumentError\u001b[0m                             Traceback (most recent call last)",
      "\u001b[0;32m<ipython-input-10-2d09ded46552>\u001b[0m in \u001b[0;36m<module>\u001b[0;34m\u001b[0m\n\u001b[0;32m----> 1\u001b[0;31m \u001b[0mringsdat\u001b[0m \u001b[0;34m=\u001b[0m \u001b[0;34m[\u001b[0m\u001b[0mChem\u001b[0m\u001b[0;34m.\u001b[0m\u001b[0mGetSSSR\u001b[0m\u001b[0;34m(\u001b[0m\u001b[0mdrugsimple\u001b[0m\u001b[0;34m)\u001b[0m \u001b[0;32mfor\u001b[0m \u001b[0mdrugsimple\u001b[0m \u001b[0;32min\u001b[0m \u001b[0mdrug\u001b[0m\u001b[0;34m]\u001b[0m\u001b[0;34m\u001b[0m\u001b[0;34m\u001b[0m\u001b[0m\n\u001b[0m",
      "\u001b[0;32m<ipython-input-10-2d09ded46552>\u001b[0m in \u001b[0;36m<listcomp>\u001b[0;34m(.0)\u001b[0m\n\u001b[0;32m----> 1\u001b[0;31m \u001b[0mringsdat\u001b[0m \u001b[0;34m=\u001b[0m \u001b[0;34m[\u001b[0m\u001b[0mChem\u001b[0m\u001b[0;34m.\u001b[0m\u001b[0mGetSSSR\u001b[0m\u001b[0;34m(\u001b[0m\u001b[0mdrugsimple\u001b[0m\u001b[0;34m)\u001b[0m \u001b[0;32mfor\u001b[0m \u001b[0mdrugsimple\u001b[0m \u001b[0;32min\u001b[0m \u001b[0mdrug\u001b[0m\u001b[0;34m]\u001b[0m\u001b[0;34m\u001b[0m\u001b[0;34m\u001b[0m\u001b[0m\n\u001b[0m",
      "\u001b[0;31mArgumentError\u001b[0m: Python argument types in\n    rdkit.Chem.rdmolops.GetSSSR(NoneType)\ndid not match C++ signature:\n    GetSSSR(RDKit::ROMol {lvalue})"
     ]
    }
   ],
   "source": [
    "ringsdat = [Chem.GetSSSR(drugsimple) for drugsimple in drug]"
   ]
  },
  {
   "cell_type": "code",
   "execution_count": 11,
   "metadata": {},
   "outputs": [
    {
     "ename": "NameError",
     "evalue": "name 'drugs' is not defined",
     "output_type": "error",
     "traceback": [
      "\u001b[0;31m---------------------------------------------------------------------------\u001b[0m",
      "\u001b[0;31mNameError\u001b[0m                                 Traceback (most recent call last)",
      "\u001b[0;32m<ipython-input-11-2b1f9233c01f>\u001b[0m in \u001b[0;36m<module>\u001b[0;34m\u001b[0m\n\u001b[0;32m----> 1\u001b[0;31m \u001b[0mdrugs\u001b[0m\u001b[0;34m.\u001b[0m\u001b[0mindex\u001b[0m\u001b[0;34m(\u001b[0m\u001b[0;32mNone\u001b[0m\u001b[0;34m)\u001b[0m\u001b[0;34m\u001b[0m\u001b[0;34m\u001b[0m\u001b[0m\n\u001b[0m",
      "\u001b[0;31mNameError\u001b[0m: name 'drugs' is not defined"
     ]
    }
   ],
   "source": [
    "drugs.index(None)"
   ]
  },
  {
   "cell_type": "code",
   "execution_count": 12,
   "metadata": {},
   "outputs": [
    {
     "data": {
      "text/plain": [
       "116"
      ]
     },
     "execution_count": 12,
     "metadata": {},
     "output_type": "execute_result"
    }
   ],
   "source": [
    "drug.index(None)"
   ]
  },
  {
   "cell_type": "code",
   "execution_count": 13,
   "metadata": {},
   "outputs": [
    {
     "ename": "NameError",
     "evalue": "name 'drugs' is not defined",
     "output_type": "error",
     "traceback": [
      "\u001b[0;31m---------------------------------------------------------------------------\u001b[0m",
      "\u001b[0;31mNameError\u001b[0m                                 Traceback (most recent call last)",
      "\u001b[0;32m<ipython-input-13-7167b5af215f>\u001b[0m in \u001b[0;36m<module>\u001b[0;34m\u001b[0m\n\u001b[0;32m----> 1\u001b[0;31m len([d for f in drugs if d == None\n\u001b[0m\u001b[1;32m      2\u001b[0m ])\n",
      "\u001b[0;31mNameError\u001b[0m: name 'drugs' is not defined"
     ]
    }
   ],
   "source": [
    "len([d for f in drugs if d == None\n",
    "])"
   ]
  },
  {
   "cell_type": "code",
   "execution_count": 15,
   "metadata": {},
   "outputs": [
    {
     "ename": "NameError",
     "evalue": "name 'd' is not defined",
     "output_type": "error",
     "traceback": [
      "\u001b[0;31m---------------------------------------------------------------------------\u001b[0m",
      "\u001b[0;31mNameError\u001b[0m                                 Traceback (most recent call last)",
      "\u001b[0;32m<ipython-input-15-0acc8f5b27f0>\u001b[0m in \u001b[0;36m<module>\u001b[0;34m\u001b[0m\n\u001b[0;32m----> 1\u001b[0;31m \u001b[0mlen\u001b[0m\u001b[0;34m(\u001b[0m\u001b[0;34m[\u001b[0m\u001b[0md\u001b[0m \u001b[0;32mfor\u001b[0m \u001b[0mf\u001b[0m \u001b[0;32min\u001b[0m \u001b[0mdrug\u001b[0m \u001b[0;32mif\u001b[0m \u001b[0md\u001b[0m \u001b[0;34m==\u001b[0m \u001b[0;32mNone\u001b[0m\u001b[0;34m]\u001b[0m\u001b[0;34m)\u001b[0m\u001b[0;34m\u001b[0m\u001b[0;34m\u001b[0m\u001b[0m\n\u001b[0m",
      "\u001b[0;32m<ipython-input-15-0acc8f5b27f0>\u001b[0m in \u001b[0;36m<listcomp>\u001b[0;34m(.0)\u001b[0m\n\u001b[0;32m----> 1\u001b[0;31m \u001b[0mlen\u001b[0m\u001b[0;34m(\u001b[0m\u001b[0;34m[\u001b[0m\u001b[0md\u001b[0m \u001b[0;32mfor\u001b[0m \u001b[0mf\u001b[0m \u001b[0;32min\u001b[0m \u001b[0mdrug\u001b[0m \u001b[0;32mif\u001b[0m \u001b[0md\u001b[0m \u001b[0;34m==\u001b[0m \u001b[0;32mNone\u001b[0m\u001b[0;34m]\u001b[0m\u001b[0;34m)\u001b[0m\u001b[0;34m\u001b[0m\u001b[0;34m\u001b[0m\u001b[0m\n\u001b[0m",
      "\u001b[0;31mNameError\u001b[0m: name 'd' is not defined"
     ]
    }
   ],
   "source": [
    "len([d for f in drug if d == None])"
   ]
  },
  {
   "cell_type": "code",
   "execution_count": 16,
   "metadata": {},
   "outputs": [
    {
     "ename": "NameError",
     "evalue": "name 'd' is not defined",
     "output_type": "error",
     "traceback": [
      "\u001b[0;31m---------------------------------------------------------------------------\u001b[0m",
      "\u001b[0;31mNameError\u001b[0m                                 Traceback (most recent call last)",
      "\u001b[0;32m<ipython-input-16-0acc8f5b27f0>\u001b[0m in \u001b[0;36m<module>\u001b[0;34m\u001b[0m\n\u001b[0;32m----> 1\u001b[0;31m \u001b[0mlen\u001b[0m\u001b[0;34m(\u001b[0m\u001b[0;34m[\u001b[0m\u001b[0md\u001b[0m \u001b[0;32mfor\u001b[0m \u001b[0mf\u001b[0m \u001b[0;32min\u001b[0m \u001b[0mdrug\u001b[0m \u001b[0;32mif\u001b[0m \u001b[0md\u001b[0m \u001b[0;34m==\u001b[0m \u001b[0;32mNone\u001b[0m\u001b[0;34m]\u001b[0m\u001b[0;34m)\u001b[0m\u001b[0;34m\u001b[0m\u001b[0;34m\u001b[0m\u001b[0m\n\u001b[0m",
      "\u001b[0;32m<ipython-input-16-0acc8f5b27f0>\u001b[0m in \u001b[0;36m<listcomp>\u001b[0;34m(.0)\u001b[0m\n\u001b[0;32m----> 1\u001b[0;31m \u001b[0mlen\u001b[0m\u001b[0;34m(\u001b[0m\u001b[0;34m[\u001b[0m\u001b[0md\u001b[0m \u001b[0;32mfor\u001b[0m \u001b[0mf\u001b[0m \u001b[0;32min\u001b[0m \u001b[0mdrug\u001b[0m \u001b[0;32mif\u001b[0m \u001b[0md\u001b[0m \u001b[0;34m==\u001b[0m \u001b[0;32mNone\u001b[0m\u001b[0;34m]\u001b[0m\u001b[0;34m)\u001b[0m\u001b[0;34m\u001b[0m\u001b[0;34m\u001b[0m\u001b[0m\n\u001b[0m",
      "\u001b[0;31mNameError\u001b[0m: name 'd' is not defined"
     ]
    }
   ],
   "source": [
    "len([d for f in drug if d == None])"
   ]
  },
  {
   "cell_type": "code",
   "execution_count": 17,
   "metadata": {},
   "outputs": [
    {
     "name": "stderr",
     "output_type": "stream",
     "text": [
      "RDKit ERROR: [13:29:22] ERROR: Explicit valence for atom # 0 C greater than permitted\n",
      "RDKit ERROR: [13:46:24] Explicit valence for atom # 7 N, 4, is greater than permitted\n",
      "RDKit ERROR: [13:46:24] ERROR: Could not sanitize molecule ending on line 20009\n",
      "RDKit WARNING: [13:46:24] Warning: conflicting stereochemistry at atom 5 ignored.\n",
      "RDKit WARNING: [13:46:24] Warning: conflicting stereochemistry at atom 5 ignored.\n",
      "RDKit ERROR: [13:46:24] ERROR: Explicit valence for atom # 7 N, 4, is greater than permitted\n",
      "RDKit ERROR: [13:46:24] Can't kekulize mol.  Unkekulized atoms: 1 2 3 5 6 7 8 9 10\n",
      "RDKit ERROR: \n",
      "RDKit ERROR: [13:46:24] ERROR: Could not sanitize molecule ending on line 250947\n",
      "RDKit ERROR: [13:46:24] ERROR: Can't kekulize mol.  Unkekulized atoms: 1 2 3 5 6 7 8 9 10\n",
      "RDKit ERROR: \n",
      "RDKit ERROR: [13:46:24] Explicit valence for atom # 17 O, 3, is greater than permitted\n",
      "RDKit ERROR: [13:46:24] ERROR: Could not sanitize molecule ending on line 258130\n",
      "RDKit ERROR: [13:46:24] ERROR: Explicit valence for atom # 17 O, 3, is greater than permitted\n",
      "RDKit ERROR: [13:46:24] Can't kekulize mol.  Unkekulized atoms: 57 58 59 60 61 62 63 64 65\n",
      "RDKit ERROR: \n",
      "RDKit ERROR: [13:46:24] ERROR: Could not sanitize molecule ending on line 261581\n",
      "RDKit ERROR: [13:46:24] ERROR: Can't kekulize mol.  Unkekulized atoms: 57 58 59 60 61 62 63 64 65\n",
      "RDKit ERROR: \n",
      "RDKit ERROR: [13:46:24] Explicit valence for atom # 47 Mg, 4, is greater than permitted\n",
      "RDKit ERROR: [13:46:24] ERROR: Could not sanitize molecule ending on line 272221\n",
      "RDKit ERROR: [13:46:24] ERROR: Explicit valence for atom # 47 Mg, 4, is greater than permitted\n",
      "RDKit ERROR: [13:46:24] Can't kekulize mol.  Unkekulized atoms: 0 1 2 6 7 8 9 10 11 12 13 14 15 16 17\n",
      "RDKit ERROR: \n",
      "RDKit ERROR: [13:46:24] ERROR: Could not sanitize molecule ending on line 280661\n",
      "RDKit ERROR: [13:46:24] ERROR: Can't kekulize mol.  Unkekulized atoms: 0 1 2 6 7 8 9 10 11 12 13 14 15 16 17\n",
      "RDKit ERROR: \n",
      "RDKit ERROR: [13:46:24] Explicit valence for atom # 13 Cl, 5, is greater than permitted\n",
      "RDKit ERROR: [13:46:24] ERROR: Could not sanitize molecule ending on line 282635\n",
      "RDKit ERROR: [13:46:24] ERROR: Explicit valence for atom # 13 Cl, 5, is greater than permitted\n",
      "RDKit ERROR: [13:46:24] Can't kekulize mol.  Unkekulized atoms: 3 4 5 6 7 8 10 11 12\n",
      "RDKit ERROR: \n",
      "RDKit ERROR: [13:46:24] ERROR: Could not sanitize molecule ending on line 292762\n",
      "RDKit ERROR: [13:46:24] ERROR: Can't kekulize mol.  Unkekulized atoms: 3 4 5 6 7 8 10 11 12\n",
      "RDKit ERROR: \n",
      "RDKit ERROR: [13:46:24] Can't kekulize mol.  Unkekulized atoms: 0 1 2 4 5 6 7 8 9 10\n",
      "RDKit ERROR: \n",
      "RDKit ERROR: [13:46:24] ERROR: Could not sanitize molecule ending on line 293836\n",
      "RDKit ERROR: [13:46:24] ERROR: Can't kekulize mol.  Unkekulized atoms: 0 1 2 4 5 6 7 8 9 10\n",
      "RDKit ERROR: \n",
      "RDKit ERROR: [13:46:24] Can't kekulize mol.  Unkekulized atoms: 2 3 4 5 6 7 8 9 10\n",
      "RDKit ERROR: \n",
      "RDKit ERROR: [13:46:24] ERROR: Could not sanitize molecule ending on line 302815\n",
      "RDKit ERROR: [13:46:24] ERROR: Can't kekulize mol.  Unkekulized atoms: 2 3 4 5 6 7 8 9 10\n",
      "RDKit ERROR: \n",
      "RDKit ERROR: [13:46:24] Can't kekulize mol.  Unkekulized atoms: 13 14 15 16 22\n",
      "RDKit ERROR: \n",
      "RDKit ERROR: [13:46:24] ERROR: Could not sanitize molecule ending on line 304047\n",
      "RDKit ERROR: [13:46:24] ERROR: Can't kekulize mol.  Unkekulized atoms: 13 14 15 16 22\n",
      "RDKit ERROR: \n",
      "RDKit ERROR: [13:46:24] Explicit valence for atom # 46 Mg, 4, is greater than permitted\n",
      "RDKit ERROR: [13:46:24] ERROR: Could not sanitize molecule ending on line 312454\n",
      "RDKit ERROR: [13:46:24] ERROR: Explicit valence for atom # 46 Mg, 4, is greater than permitted\n",
      "RDKit ERROR: [13:46:24] Explicit valence for atom # 27 N, 4, is greater than permitted\n",
      "RDKit ERROR: [13:46:24] ERROR: Could not sanitize molecule ending on line 317905\n",
      "RDKit ERROR: [13:46:24] ERROR: Explicit valence for atom # 27 N, 4, is greater than permitted\n",
      "RDKit ERROR: [13:46:24] Explicit valence for atom # 16 N, 4, is greater than permitted\n",
      "RDKit ERROR: [13:46:24] ERROR: Could not sanitize molecule ending on line 318439\n",
      "RDKit ERROR: [13:46:24] ERROR: Explicit valence for atom # 16 N, 4, is greater than permitted\n",
      "RDKit ERROR: [13:46:24] Can't kekulize mol.  Unkekulized atoms: 3 4 5 6 54\n",
      "RDKit ERROR: \n",
      "RDKit ERROR: [13:46:24] ERROR: Could not sanitize molecule ending on line 324910\n",
      "RDKit ERROR: [13:46:24] ERROR: Can't kekulize mol.  Unkekulized atoms: 3 4 5 6 54\n",
      "RDKit ERROR: \n",
      "RDKit ERROR: [13:46:24] Can't kekulize mol.  Unkekulized atoms: 3 4 5 6 7\n",
      "RDKit ERROR: \n",
      "RDKit ERROR: [13:46:24] ERROR: Could not sanitize molecule ending on line 326050\n",
      "RDKit ERROR: [13:46:24] ERROR: Can't kekulize mol.  Unkekulized atoms: 3 4 5 6 7\n",
      "RDKit ERROR: \n",
      "RDKit ERROR: [13:46:24] Can't kekulize mol.  Unkekulized atoms: 2 3 4 5 11\n",
      "RDKit ERROR: \n",
      "RDKit ERROR: [13:46:24] ERROR: Could not sanitize molecule ending on line 331986\n",
      "RDKit ERROR: [13:46:24] ERROR: Can't kekulize mol.  Unkekulized atoms: 2 3 4 5 11\n",
      "RDKit ERROR: \n",
      "RDKit ERROR: [13:46:24] Can't kekulize mol.  Unkekulized atoms: 1 2 3 4 5 6 7 8 9\n",
      "RDKit ERROR: \n",
      "RDKit ERROR: [13:46:24] ERROR: Could not sanitize molecule ending on line 333287\n",
      "RDKit ERROR: [13:46:24] ERROR: Can't kekulize mol.  Unkekulized atoms: 1 2 3 4 5 6 7 8 9\n",
      "RDKit ERROR: \n",
      "RDKit ERROR: [13:46:24] Can't kekulize mol.  Unkekulized atoms: 3 4 5 6 7\n",
      "RDKit ERROR: \n",
      "RDKit ERROR: [13:46:24] ERROR: Could not sanitize molecule ending on line 347574\n",
      "RDKit ERROR: [13:46:24] ERROR: Can't kekulize mol.  Unkekulized atoms: 3 4 5 6 7\n",
      "RDKit ERROR: \n",
      "RDKit ERROR: [13:46:24] Can't kekulize mol.  Unkekulized atoms: 5 6 7 8 9 10 11 12 13\n",
      "RDKit ERROR: \n",
      "RDKit ERROR: [13:46:24] ERROR: Could not sanitize molecule ending on line 357505\n",
      "RDKit ERROR: [13:46:24] ERROR: Can't kekulize mol.  Unkekulized atoms: 5 6 7 8 9 10 11 12 13\n",
      "RDKit ERROR: \n",
      "RDKit ERROR: [13:46:25] Can't kekulize mol.  Unkekulized atoms: 3 4 5 6 7\n",
      "RDKit ERROR: \n",
      "RDKit ERROR: [13:46:25] ERROR: Could not sanitize molecule ending on line 371006\n",
      "RDKit ERROR: [13:46:25] ERROR: Can't kekulize mol.  Unkekulized atoms: 3 4 5 6 7\n",
      "RDKit ERROR: \n",
      "RDKit ERROR: [13:46:25] Can't kekulize mol.  Unkekulized atoms: 1 2 3 4 5 6 7 8 9\n",
      "RDKit ERROR: \n",
      "RDKit ERROR: [13:46:25] ERROR: Could not sanitize molecule ending on line 378618\n",
      "RDKit ERROR: [13:46:25] ERROR: Can't kekulize mol.  Unkekulized atoms: 1 2 3 4 5 6 7 8 9\n",
      "RDKit ERROR: \n",
      "RDKit ERROR: [13:46:25] Explicit valence for atom # 56 O, 3, is greater than permitted\n",
      "RDKit ERROR: [13:46:25] ERROR: Could not sanitize molecule ending on line 398455\n",
      "RDKit ERROR: [13:46:25] ERROR: Explicit valence for atom # 56 O, 3, is greater than permitted\n",
      "RDKit ERROR: [13:46:25] Can't kekulize mol.  Unkekulized atoms: 9 10 11 12 18\n",
      "RDKit ERROR: \n",
      "RDKit ERROR: [13:46:25] ERROR: Could not sanitize molecule ending on line 407765\n",
      "RDKit ERROR: [13:46:25] ERROR: Can't kekulize mol.  Unkekulized atoms: 9 10 11 12 18\n",
      "RDKit ERROR: \n",
      "RDKit ERROR: [13:46:25] Explicit valence for atom # 46 Mg, 4, is greater than permitted\n",
      "RDKit ERROR: [13:46:25] ERROR: Could not sanitize molecule ending on line 417941\n",
      "RDKit ERROR: [13:46:25] ERROR: Explicit valence for atom # 46 Mg, 4, is greater than permitted\n",
      "RDKit ERROR: [13:46:25] Can't kekulize mol.  Unkekulized atoms: 1 2 3 12 13 14 15 16 17\n",
      "RDKit ERROR: \n",
      "RDKit ERROR: [13:46:25] ERROR: Could not sanitize molecule ending on line 422810\n",
      "RDKit ERROR: [13:46:25] ERROR: Can't kekulize mol.  Unkekulized atoms: 1 2 3 12 13 14 15 16 17\n",
      "RDKit ERROR: \n",
      "RDKit ERROR: [13:46:25] Can't kekulize mol.  Unkekulized atoms: 44 45 46 47 49\n",
      "RDKit ERROR: \n",
      "RDKit ERROR: [13:46:25] ERROR: Could not sanitize molecule ending on line 425190\n",
      "RDKit ERROR: [13:46:25] ERROR: Can't kekulize mol.  Unkekulized atoms: 44 45 46 47 49\n",
      "RDKit ERROR: \n",
      "RDKit ERROR: [13:46:25] Explicit valence for atom # 8 N, 5, is greater than permitted\n",
      "RDKit ERROR: [13:46:25] ERROR: Could not sanitize molecule ending on line 426332\n",
      "RDKit ERROR: [13:46:25] ERROR: Explicit valence for atom # 8 N, 5, is greater than permitted\n",
      "RDKit ERROR: [13:46:25] Can't kekulize mol.  Unkekulized atoms: 54 55 56 57 58 59 60 61 62\n",
      "RDKit ERROR: \n",
      "RDKit ERROR: [13:46:25] ERROR: Could not sanitize molecule ending on line 427901\n",
      "RDKit ERROR: [13:46:25] ERROR: Can't kekulize mol.  Unkekulized atoms: 54 55 56 57 58 59 60 61 62\n",
      "RDKit ERROR: \n",
      "RDKit ERROR: [13:46:25] Can't kekulize mol.  Unkekulized atoms: 0 1 2 3 4 5 6 7 8\n",
      "RDKit ERROR: \n",
      "RDKit ERROR: [13:46:25] ERROR: Could not sanitize molecule ending on line 432118\n",
      "RDKit ERROR: [13:46:25] ERROR: Can't kekulize mol.  Unkekulized atoms: 0 1 2 3 4 5 6 7 8\n",
      "RDKit ERROR: \n",
      "RDKit ERROR: [13:46:25] Can't kekulize mol.  Unkekulized atoms: 3 4 5 6 8 9 10\n",
      "RDKit ERROR: \n",
      "RDKit ERROR: [13:46:25] ERROR: Could not sanitize molecule ending on line 442989\n",
      "RDKit ERROR: [13:46:25] ERROR: Can't kekulize mol.  Unkekulized atoms: 3 4 5 6 8 9 10\n",
      "RDKit ERROR: \n",
      "RDKit ERROR: [13:46:25] Can't kekulize mol.  Unkekulized atoms: 3 4 5 6 9\n",
      "RDKit ERROR: \n",
      "RDKit ERROR: [13:46:25] ERROR: Could not sanitize molecule ending on line 447465\n",
      "RDKit ERROR: [13:46:25] ERROR: Can't kekulize mol.  Unkekulized atoms: 3 4 5 6 9\n",
      "RDKit ERROR: \n",
      "RDKit ERROR: [13:46:25] Can't kekulize mol.  Unkekulized atoms: 16 17 18 19 20\n",
      "RDKit ERROR: \n",
      "RDKit ERROR: [13:46:25] ERROR: Could not sanitize molecule ending on line 466177\n",
      "RDKit ERROR: [13:46:25] ERROR: Can't kekulize mol.  Unkekulized atoms: 16 17 18 19 20\n",
      "RDKit ERROR: \n",
      "RDKit ERROR: [13:46:25] Can't kekulize mol.  Unkekulized atoms: 7 8 9 10 17\n",
      "RDKit ERROR: \n",
      "RDKit ERROR: [13:46:25] ERROR: Could not sanitize molecule ending on line 468852\n",
      "RDKit ERROR: [13:46:25] ERROR: Can't kekulize mol.  Unkekulized atoms: 7 8 9 10 17\n",
      "RDKit ERROR: \n",
      "RDKit ERROR: [13:46:25] Can't kekulize mol.  Unkekulized atoms: 3 4 5 6 7 8 9 10 11\n",
      "RDKit ERROR: \n",
      "RDKit ERROR: [13:46:25] ERROR: Could not sanitize molecule ending on line 469201\n",
      "RDKit ERROR: [13:46:25] ERROR: Can't kekulize mol.  Unkekulized atoms: 3 4 5 6 7 8 9 10 11\n",
      "RDKit ERROR: \n",
      "RDKit ERROR: [13:46:25] Explicit valence for atom # 53 N, 4, is greater than permitted\n",
      "RDKit ERROR: [13:46:25] ERROR: Could not sanitize molecule ending on line 472285\n",
      "RDKit ERROR: [13:46:25] ERROR: Explicit valence for atom # 53 N, 4, is greater than permitted\n",
      "RDKit ERROR: [13:46:25] Can't kekulize mol.  Unkekulized atoms: 2 3 4 5 12\n",
      "RDKit ERROR: \n",
      "RDKit ERROR: [13:46:25] ERROR: Could not sanitize molecule ending on line 480504\n",
      "RDKit ERROR: [13:46:25] ERROR: Can't kekulize mol.  Unkekulized atoms: 2 3 4 5 12\n",
      "RDKit ERROR: \n",
      "RDKit ERROR: [13:46:25] Explicit valence for atom # 2 O, 3, is greater than permitted\n",
      "RDKit ERROR: [13:46:25] ERROR: Could not sanitize molecule ending on line 499305\n",
      "RDKit ERROR: [13:46:25] ERROR: Explicit valence for atom # 2 O, 3, is greater than permitted\n",
      "RDKit ERROR: [13:46:25] Can't kekulize mol.  Unkekulized atoms: 1 2 3 4 5 6 7 8 9\n",
      "RDKit ERROR: \n",
      "RDKit ERROR: [13:46:25] ERROR: Could not sanitize molecule ending on line 503342\n",
      "RDKit ERROR: [13:46:25] ERROR: Can't kekulize mol.  Unkekulized atoms: 1 2 3 4 5 6 7 8 9\n",
      "RDKit ERROR: \n",
      "RDKit ERROR: [13:46:25] Can't kekulize mol.  Unkekulized atoms: 0 1 2 4 5 6 7 8 9 10\n",
      "RDKit ERROR: \n",
      "RDKit ERROR: [13:46:25] ERROR: Could not sanitize molecule ending on line 508068\n",
      "RDKit ERROR: [13:46:25] ERROR: Can't kekulize mol.  Unkekulized atoms: 0 1 2 4 5 6 7 8 9 10\n",
      "RDKit ERROR: \n",
      "RDKit ERROR: [13:46:25] Can't kekulize mol.  Unkekulized atoms: 1 2 3 4 5 6 7 8 9\n",
      "RDKit ERROR: \n",
      "RDKit ERROR: [13:46:25] ERROR: Could not sanitize molecule ending on line 510069\n",
      "RDKit ERROR: [13:46:25] ERROR: Can't kekulize mol.  Unkekulized atoms: 1 2 3 4 5 6 7 8 9\n",
      "RDKit ERROR: \n",
      "RDKit ERROR: [13:46:25] Can't kekulize mol.  Unkekulized atoms: 3 4 5 6 7 8 10\n",
      "RDKit ERROR: \n",
      "RDKit ERROR: [13:46:25] ERROR: Could not sanitize molecule ending on line 511111\n",
      "RDKit ERROR: [13:46:25] ERROR: Can't kekulize mol.  Unkekulized atoms: 3 4 5 6 7 8 10\n",
      "RDKit ERROR: \n",
      "RDKit ERROR: [13:46:25] Can't kekulize mol.  Unkekulized atoms: 1 2 3 5 6 7 8 9 10\n",
      "RDKit ERROR: \n",
      "RDKit ERROR: [13:46:25] ERROR: Could not sanitize molecule ending on line 512030\n",
      "RDKit ERROR: [13:46:25] ERROR: Can't kekulize mol.  Unkekulized atoms: 1 2 3 5 6 7 8 9 10\n",
      "RDKit ERROR: \n",
      "RDKit ERROR: [13:46:25] Explicit valence for atom # 2 O, 3, is greater than permitted\n",
      "RDKit ERROR: [13:46:25] ERROR: Could not sanitize molecule ending on line 519056\n",
      "RDKit ERROR: [13:46:25] ERROR: Explicit valence for atom # 2 O, 3, is greater than permitted\n",
      "RDKit ERROR: [13:46:25] Explicit valence for atom # 6 B, 4, is greater than permitted\n",
      "RDKit ERROR: [13:46:25] ERROR: Could not sanitize molecule ending on line 541262\n",
      "RDKit ERROR: [13:46:25] ERROR: Explicit valence for atom # 6 B, 4, is greater than permitted\n",
      "RDKit ERROR: [13:46:25] Can't kekulize mol.  Unkekulized atoms: 2 3 17 19 20\n",
      "RDKit ERROR: \n",
      "RDKit ERROR: [13:46:25] ERROR: Could not sanitize molecule ending on line 557517\n",
      "RDKit ERROR: [13:46:25] ERROR: Can't kekulize mol.  Unkekulized atoms: 2 3 17 19 20\n",
      "RDKit ERROR: \n",
      "RDKit ERROR: [13:46:25] Can't kekulize mol.  Unkekulized atoms: 0 1 2 4 5 6 7 8 9 10\n",
      "RDKit ERROR: \n",
      "RDKit ERROR: [13:46:25] ERROR: Could not sanitize molecule ending on line 561344\n",
      "RDKit ERROR: [13:46:25] ERROR: Can't kekulize mol.  Unkekulized atoms: 0 1 2 4 5 6 7 8 9 10\n",
      "RDKit ERROR: \n",
      "RDKit ERROR: [13:46:25] Can't kekulize mol.  Unkekulized atoms: 10 11 12 13 19\n",
      "RDKit ERROR: \n",
      "RDKit ERROR: [13:46:25] ERROR: Could not sanitize molecule ending on line 562947\n",
      "RDKit ERROR: [13:46:25] ERROR: Can't kekulize mol.  Unkekulized atoms: 10 11 12 13 19\n",
      "RDKit ERROR: \n",
      "RDKit ERROR: [13:46:25] Explicit valence for atom # 27 N, 4, is greater than permitted\n",
      "RDKit ERROR: [13:46:25] ERROR: Could not sanitize molecule ending on line 567073\n",
      "RDKit ERROR: [13:46:25] ERROR: Explicit valence for atom # 27 N, 4, is greater than permitted\n",
      "RDKit ERROR: [13:46:25] Can't kekulize mol.  Unkekulized atoms: 9 10 11 12 13 14 15 16 17\n",
      "RDKit ERROR: \n",
      "RDKit ERROR: [13:46:25] ERROR: Could not sanitize molecule ending on line 568252\n",
      "RDKit ERROR: [13:46:25] ERROR: Can't kekulize mol.  Unkekulized atoms: 9 10 11 12 13 14 15 16 17\n",
      "RDKit ERROR: \n",
      "RDKit ERROR: [13:46:25] Can't kekulize mol.  Unkekulized atoms: 23 24 25 26 27\n",
      "RDKit ERROR: \n",
      "RDKit ERROR: [13:46:25] ERROR: Could not sanitize molecule ending on line 574645\n",
      "RDKit ERROR: [13:46:25] ERROR: Can't kekulize mol.  Unkekulized atoms: 23 24 25 26 27\n",
      "RDKit ERROR: \n",
      "RDKit ERROR: [13:46:25] Can't kekulize mol.  Unkekulized atoms: 5 6 7 8 9\n",
      "RDKit ERROR: \n",
      "RDKit ERROR: [13:46:25] ERROR: Could not sanitize molecule ending on line 592639\n",
      "RDKit ERROR: [13:46:25] ERROR: Can't kekulize mol.  Unkekulized atoms: 5 6 7 8 9\n",
      "RDKit ERROR: \n",
      "RDKit ERROR: [13:46:25] Explicit valence for atom # 12 N, 4, is greater than permitted\n",
      "RDKit ERROR: [13:46:25] ERROR: Could not sanitize molecule ending on line 595909\n",
      "RDKit ERROR: [13:46:25] ERROR: Explicit valence for atom # 12 N, 4, is greater than permitted\n",
      "RDKit ERROR: [13:46:25] Explicit valence for atom # 0 Br, 2, is greater than permitted\n",
      "RDKit ERROR: [13:46:25] ERROR: Could not sanitize molecule ending on line 599041\n",
      "RDKit ERROR: [13:46:25] ERROR: Explicit valence for atom # 0 Br, 2, is greater than permitted\n",
      "RDKit ERROR: [13:46:25] Explicit valence for atom # 1 N, 4, is greater than permitted\n",
      "RDKit ERROR: [13:46:25] ERROR: Could not sanitize molecule ending on line 601819\n",
      "RDKit ERROR: [13:46:25] ERROR: Explicit valence for atom # 1 N, 4, is greater than permitted\n",
      "RDKit ERROR: [13:46:25] Explicit valence for atom # 6 Be, 4, is greater than permitted\n",
      "RDKit ERROR: [13:46:25] ERROR: Could not sanitize molecule ending on line 604427\n",
      "RDKit ERROR: [13:46:25] ERROR: Explicit valence for atom # 6 Be, 4, is greater than permitted\n",
      "RDKit ERROR: [13:46:25] Can't kekulize mol.  Unkekulized atoms: 4 5 6 7 8 9 10 11 12\n",
      "RDKit ERROR: \n",
      "RDKit ERROR: [13:46:25] ERROR: Could not sanitize molecule ending on line 604912\n",
      "RDKit ERROR: [13:46:25] ERROR: Can't kekulize mol.  Unkekulized atoms: 4 5 6 7 8 9 10 11 12\n",
      "RDKit ERROR: \n",
      "RDKit ERROR: [13:46:25] Can't kekulize mol.  Unkekulized atoms: 5 6 7 8 9 10 11 12 13\n",
      "RDKit ERROR: \n",
      "RDKit ERROR: [13:46:25] ERROR: Could not sanitize molecule ending on line 616025\n",
      "RDKit ERROR: [13:46:25] ERROR: Can't kekulize mol.  Unkekulized atoms: 5 6 7 8 9 10 11 12 13\n",
      "RDKit ERROR: \n",
      "RDKit ERROR: [13:46:25] Can't kekulize mol.  Unkekulized atoms: 1 2 3 5 6 7 8 9 10\n",
      "RDKit ERROR: \n",
      "RDKit ERROR: [13:46:25] ERROR: Could not sanitize molecule ending on line 623202\n",
      "RDKit ERROR: [13:46:25] ERROR: Can't kekulize mol.  Unkekulized atoms: 1 2 3 5 6 7 8 9 10\n",
      "RDKit ERROR: \n",
      "RDKit ERROR: [13:46:25] Can't kekulize mol.  Unkekulized atoms: 5 6 7 8 9 10 11 12 13\n",
      "RDKit ERROR: \n",
      "RDKit ERROR: [13:46:25] ERROR: Could not sanitize molecule ending on line 628065\n",
      "RDKit ERROR: [13:46:25] ERROR: Can't kekulize mol.  Unkekulized atoms: 5 6 7 8 9 10 11 12 13\n",
      "RDKit ERROR: \n",
      "RDKit ERROR: [13:46:25] Explicit valence for atom # 19 N, 4, is greater than permitted\n",
      "RDKit ERROR: [13:46:25] ERROR: Could not sanitize molecule ending on line 636938\n",
      "RDKit ERROR: [13:46:25] ERROR: Explicit valence for atom # 19 N, 4, is greater than permitted\n",
      "RDKit ERROR: [13:46:25] Explicit valence for atom # 0 O, 3, is greater than permitted\n",
      "RDKit ERROR: [13:46:25] ERROR: Could not sanitize molecule ending on line 640674\n",
      "RDKit ERROR: [13:46:25] ERROR: Explicit valence for atom # 0 O, 3, is greater than permitted\n",
      "RDKit ERROR: [13:46:25] Explicit valence for atom # 17 Mg, 4, is greater than permitted\n",
      "RDKit ERROR: [13:46:25] ERROR: Could not sanitize molecule ending on line 642835\n",
      "RDKit ERROR: [13:46:25] ERROR: Explicit valence for atom # 17 Mg, 4, is greater than permitted\n",
      "RDKit ERROR: [13:46:25] Explicit valence for atom # 4 F, 2, is greater than permitted\n",
      "RDKit ERROR: [13:46:25] ERROR: Could not sanitize molecule ending on line 645068\n",
      "RDKit ERROR: [13:46:25] ERROR: Explicit valence for atom # 4 F, 2, is greater than permitted\n",
      "RDKit ERROR: [13:46:25] Can't kekulize mol.  Unkekulized atoms: 0 1 2 4 5 6 7 8 9 10\n",
      "RDKit ERROR: \n",
      "RDKit ERROR: [13:46:25] ERROR: Could not sanitize molecule ending on line 659994\n",
      "RDKit ERROR: [13:46:25] ERROR: Can't kekulize mol.  Unkekulized atoms: 0 1 2 4 5 6 7 8 9 10\n",
      "RDKit ERROR: \n",
      "RDKit ERROR: [13:46:26] Explicit valence for atom # 0 Be, 3, is greater than permitted\n",
      "RDKit ERROR: [13:46:26] ERROR: Could not sanitize molecule ending on line 995692\n",
      "RDKit ERROR: [13:46:26] ERROR: Explicit valence for atom # 0 Be, 3, is greater than permitted\n",
      "RDKit ERROR: [13:46:26] Explicit valence for atom # 0 C greater than permitted\n",
      "RDKit ERROR: [13:46:26] ERROR: Could not sanitize molecule ending on line 1151592\n"
     ]
    }
   ],
   "source": [
    "drug = [m for m in suppl if not m == None]"
   ]
  },
  {
   "cell_type": "code",
   "execution_count": 18,
   "metadata": {},
   "outputs": [
    {
     "data": {
      "text/plain": [
       "7113"
      ]
     },
     "execution_count": 18,
     "metadata": {},
     "output_type": "execute_result"
    }
   ],
   "source": [
    "len (drug)"
   ]
  },
  {
   "cell_type": "code",
   "execution_count": 19,
   "metadata": {},
   "outputs": [],
   "source": [
    "rings = [Chem.GetSSSR(drugsimple) for drugsimple in drug]"
   ]
  },
  {
   "cell_type": "code",
   "execution_count": 20,
   "metadata": {},
   "outputs": [
    {
     "data": {
      "text/plain": [
       "[6, 6, 4, 6, 1, 4, 5, 1, 12, 3]"
      ]
     },
     "execution_count": 20,
     "metadata": {},
     "output_type": "execute_result"
    }
   ],
   "source": [
    "rings[:10]"
   ]
  },
  {
   "cell_type": "code",
   "execution_count": 23,
   "metadata": {},
   "outputs": [
    {
     "ename": "NameError",
     "evalue": "name 'druf' is not defined",
     "output_type": "error",
     "traceback": [
      "\u001b[0;31m---------------------------------------------------------------------------\u001b[0m",
      "\u001b[0;31mNameError\u001b[0m                                 Traceback (most recent call last)",
      "\u001b[0;32m<ipython-input-23-504b43a4dbfa>\u001b[0m in \u001b[0;36m<module>\u001b[0;34m\u001b[0m\n\u001b[0;32m----> 1\u001b[0;31m \u001b[0;34m[\u001b[0m\u001b[0;34m(\u001b[0m\u001b[0mm\u001b[0m\u001b[0;34m,\u001b[0m\u001b[0mr\u001b[0m\u001b[0;34m)\u001b[0m \u001b[0;32mfor\u001b[0m \u001b[0mm\u001b[0m\u001b[0;34m,\u001b[0m \u001b[0mr\u001b[0m \u001b[0;32min\u001b[0m \u001b[0mzip\u001b[0m\u001b[0;34m(\u001b[0m\u001b[0mdruf\u001b[0m\u001b[0;34m,\u001b[0m \u001b[0mrings\u001b[0m\u001b[0;34m[\u001b[0m\u001b[0;34m:\u001b[0m\u001b[0;36m10\u001b[0m\u001b[0;34m]\u001b[0m\u001b[0;34m)\u001b[0m\u001b[0;34m]\u001b[0m\u001b[0;34m\u001b[0m\u001b[0;34m\u001b[0m\u001b[0m\n\u001b[0m",
      "\u001b[0;31mNameError\u001b[0m: name 'druf' is not defined"
     ]
    }
   ],
   "source": [
    "[(m,r) for m, r in zip(druf, rings[:10])]"
   ]
  },
  {
   "cell_type": "code",
   "execution_count": null,
   "metadata": {},
   "outputs": [],
   "source": []
  }
 ],
 "metadata": {
  "kernelspec": {
   "display_name": "Python [conda env:xxx]",
   "language": "python",
   "name": "conda-env-xxx-py"
  },
  "language_info": {
   "codemirror_mode": {
    "name": "ipython",
    "version": 3
   },
   "file_extension": ".py",
   "mimetype": "text/x-python",
   "name": "python",
   "nbconvert_exporter": "python",
   "pygments_lexer": "ipython3",
   "version": "3.6.10"
  }
 },
 "nbformat": 4,
 "nbformat_minor": 4
}
