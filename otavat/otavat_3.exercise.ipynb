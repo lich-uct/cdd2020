{
 "cells": [
  {
   "cell_type": "code",
   "execution_count": 1,
   "metadata": {},
   "outputs": [],
   "source": [
    "from rdkit.Chem import AllChem as Chem\n",
    "from rdkit.Chem import Descriptors\n",
    "from rdkit.Chem.Draw import IPythonConsole\n",
    "from rdkit.Chem import rdMolDescriptors as rdescriptors"
   ]
  },
  {
   "cell_type": "code",
   "execution_count": 2,
   "metadata": {},
   "outputs": [],
   "source": [
    "import pandas as pd\n",
    "import seaborn as sns\n",
    "sns.set(rc={'figure.figsize':(11.7, 11.7)})"
   ]
  },
  {
   "cell_type": "code",
   "execution_count": 3,
   "metadata": {},
   "outputs": [],
   "source": [
    "import csv\n",
    "with open('Tomas_Otava_CDG_Epidermal_growth_factor_receptor_erbB1_list_of_compounds.csv','r') as csvfile:\n",
    "    reader = csv.DictReader(csvfile,delimiter=\";\")\n",
    "    rawdata = [x for x in reader]"
   ]
  },
  {
   "cell_type": "code",
   "execution_count": 4,
   "metadata": {},
   "outputs": [],
   "source": [
    "lig_MOLECULES = [Chem.MolFromSmiles(x['Smiles']) for x in rawdata]"
   ]
  },
  {
   "cell_type": "markdown",
   "metadata": {},
   "source": [
    "Načtení erbB1"
   ]
  },
  {
   "cell_type": "code",
   "execution_count": 5,
   "metadata": {},
   "outputs": [
    {
     "name": "stderr",
     "output_type": "stream",
     "text": [
      "RDKit ERROR: [07:06:46] Explicit valence for atom # 7 N, 4, is greater than permitted\n",
      "RDKit ERROR: [07:06:46] ERROR: Could not sanitize molecule ending on line 20009\n",
      "RDKit WARNING: [07:06:46] Warning: conflicting stereochemistry at atom 5 ignored.\n",
      "RDKit WARNING: [07:06:46] Warning: conflicting stereochemistry at atom 5 ignored.\n",
      "RDKit ERROR: [07:06:46] ERROR: Explicit valence for atom # 7 N, 4, is greater than permitted\n",
      "RDKit ERROR: [07:06:46] Can't kekulize mol.  Unkekulized atoms: 1 2 3 5 6 7 8 9 10\n",
      "RDKit ERROR: \n",
      "RDKit ERROR: [07:06:46] ERROR: Could not sanitize molecule ending on line 250947\n",
      "RDKit ERROR: [07:06:46] ERROR: Can't kekulize mol.  Unkekulized atoms: 1 2 3 5 6 7 8 9 10\n",
      "RDKit ERROR: \n",
      "RDKit ERROR: [07:06:46] Explicit valence for atom # 17 O, 3, is greater than permitted\n",
      "RDKit ERROR: [07:06:46] ERROR: Could not sanitize molecule ending on line 258130\n",
      "RDKit ERROR: [07:06:46] ERROR: Explicit valence for atom # 17 O, 3, is greater than permitted\n",
      "RDKit ERROR: [07:06:46] Can't kekulize mol.  Unkekulized atoms: 57 58 59 60 61 62 63 64 65\n",
      "RDKit ERROR: \n",
      "RDKit ERROR: [07:06:46] ERROR: Could not sanitize molecule ending on line 261581\n",
      "RDKit ERROR: [07:06:46] ERROR: Can't kekulize mol.  Unkekulized atoms: 57 58 59 60 61 62 63 64 65\n",
      "RDKit ERROR: \n",
      "RDKit ERROR: [07:06:46] Explicit valence for atom # 47 Mg, 4, is greater than permitted\n",
      "RDKit ERROR: [07:06:46] ERROR: Could not sanitize molecule ending on line 272221\n",
      "RDKit ERROR: [07:06:46] ERROR: Explicit valence for atom # 47 Mg, 4, is greater than permitted\n",
      "RDKit ERROR: [07:06:46] Can't kekulize mol.  Unkekulized atoms: 0 1 2 6 7 8 9 10 11 12 13 14 15 16 17\n",
      "RDKit ERROR: \n",
      "RDKit ERROR: [07:06:46] ERROR: Could not sanitize molecule ending on line 280661\n",
      "RDKit ERROR: [07:06:46] ERROR: Can't kekulize mol.  Unkekulized atoms: 0 1 2 6 7 8 9 10 11 12 13 14 15 16 17\n",
      "RDKit ERROR: \n",
      "RDKit ERROR: [07:06:46] Explicit valence for atom # 13 Cl, 5, is greater than permitted\n",
      "RDKit ERROR: [07:06:46] ERROR: Could not sanitize molecule ending on line 282635\n",
      "RDKit ERROR: [07:06:46] ERROR: Explicit valence for atom # 13 Cl, 5, is greater than permitted\n",
      "RDKit ERROR: [07:06:46] Can't kekulize mol.  Unkekulized atoms: 3 4 5 6 7 8 10 11 12\n",
      "RDKit ERROR: \n",
      "RDKit ERROR: [07:06:46] ERROR: Could not sanitize molecule ending on line 292762\n",
      "RDKit ERROR: [07:06:46] ERROR: Can't kekulize mol.  Unkekulized atoms: 3 4 5 6 7 8 10 11 12\n",
      "RDKit ERROR: \n",
      "RDKit ERROR: [07:06:46] Can't kekulize mol.  Unkekulized atoms: 0 1 2 4 5 6 7 8 9 10\n",
      "RDKit ERROR: \n",
      "RDKit ERROR: [07:06:46] ERROR: Could not sanitize molecule ending on line 293836\n",
      "RDKit ERROR: [07:06:46] ERROR: Can't kekulize mol.  Unkekulized atoms: 0 1 2 4 5 6 7 8 9 10\n",
      "RDKit ERROR: \n",
      "RDKit ERROR: [07:06:46] Can't kekulize mol.  Unkekulized atoms: 2 3 4 5 6 7 8 9 10\n",
      "RDKit ERROR: \n",
      "RDKit ERROR: [07:06:46] ERROR: Could not sanitize molecule ending on line 302815\n",
      "RDKit ERROR: [07:06:46] ERROR: Can't kekulize mol.  Unkekulized atoms: 2 3 4 5 6 7 8 9 10\n",
      "RDKit ERROR: \n",
      "RDKit ERROR: [07:06:46] Can't kekulize mol.  Unkekulized atoms: 13 14 15 16 22\n",
      "RDKit ERROR: \n",
      "RDKit ERROR: [07:06:46] ERROR: Could not sanitize molecule ending on line 304047\n",
      "RDKit ERROR: [07:06:46] ERROR: Can't kekulize mol.  Unkekulized atoms: 13 14 15 16 22\n",
      "RDKit ERROR: \n",
      "RDKit ERROR: [07:06:46] Explicit valence for atom # 46 Mg, 4, is greater than permitted\n",
      "RDKit ERROR: [07:06:46] ERROR: Could not sanitize molecule ending on line 312454\n",
      "RDKit ERROR: [07:06:46] ERROR: Explicit valence for atom # 46 Mg, 4, is greater than permitted\n",
      "RDKit ERROR: [07:06:46] Explicit valence for atom # 27 N, 4, is greater than permitted\n",
      "RDKit ERROR: [07:06:46] ERROR: Could not sanitize molecule ending on line 317905\n",
      "RDKit ERROR: [07:06:46] ERROR: Explicit valence for atom # 27 N, 4, is greater than permitted\n",
      "RDKit ERROR: [07:06:46] Explicit valence for atom # 16 N, 4, is greater than permitted\n",
      "RDKit ERROR: [07:06:46] ERROR: Could not sanitize molecule ending on line 318439\n",
      "RDKit ERROR: [07:06:46] ERROR: Explicit valence for atom # 16 N, 4, is greater than permitted\n",
      "RDKit ERROR: [07:06:46] Can't kekulize mol.  Unkekulized atoms: 3 4 5 6 54\n",
      "RDKit ERROR: \n",
      "RDKit ERROR: [07:06:46] ERROR: Could not sanitize molecule ending on line 324910\n",
      "RDKit ERROR: [07:06:46] ERROR: Can't kekulize mol.  Unkekulized atoms: 3 4 5 6 54\n",
      "RDKit ERROR: \n",
      "RDKit ERROR: [07:06:46] Can't kekulize mol.  Unkekulized atoms: 3 4 5 6 7\n",
      "RDKit ERROR: \n",
      "RDKit ERROR: [07:06:46] ERROR: Could not sanitize molecule ending on line 326050\n",
      "RDKit ERROR: [07:06:46] ERROR: Can't kekulize mol.  Unkekulized atoms: 3 4 5 6 7\n",
      "RDKit ERROR: \n",
      "RDKit ERROR: [07:06:46] Can't kekulize mol.  Unkekulized atoms: 2 3 4 5 11\n",
      "RDKit ERROR: \n",
      "RDKit ERROR: [07:06:46] ERROR: Could not sanitize molecule ending on line 331986\n",
      "RDKit ERROR: [07:06:46] ERROR: Can't kekulize mol.  Unkekulized atoms: 2 3 4 5 11\n",
      "RDKit ERROR: \n",
      "RDKit ERROR: [07:06:46] Can't kekulize mol.  Unkekulized atoms: 1 2 3 4 5 6 7 8 9\n",
      "RDKit ERROR: \n",
      "RDKit ERROR: [07:06:46] ERROR: Could not sanitize molecule ending on line 333287\n",
      "RDKit ERROR: [07:06:46] ERROR: Can't kekulize mol.  Unkekulized atoms: 1 2 3 4 5 6 7 8 9\n",
      "RDKit ERROR: \n",
      "RDKit ERROR: [07:06:46] Can't kekulize mol.  Unkekulized atoms: 3 4 5 6 7\n",
      "RDKit ERROR: \n",
      "RDKit ERROR: [07:06:46] ERROR: Could not sanitize molecule ending on line 347574\n",
      "RDKit ERROR: [07:06:46] ERROR: Can't kekulize mol.  Unkekulized atoms: 3 4 5 6 7\n",
      "RDKit ERROR: \n",
      "RDKit ERROR: [07:06:46] Can't kekulize mol.  Unkekulized atoms: 5 6 7 8 9 10 11 12 13\n",
      "RDKit ERROR: \n",
      "RDKit ERROR: [07:06:46] ERROR: Could not sanitize molecule ending on line 357505\n",
      "RDKit ERROR: [07:06:46] ERROR: Can't kekulize mol.  Unkekulized atoms: 5 6 7 8 9 10 11 12 13\n",
      "RDKit ERROR: \n",
      "RDKit ERROR: [07:06:46] Can't kekulize mol.  Unkekulized atoms: 3 4 5 6 7\n",
      "RDKit ERROR: \n",
      "RDKit ERROR: [07:06:46] ERROR: Could not sanitize molecule ending on line 371006\n",
      "RDKit ERROR: [07:06:46] ERROR: Can't kekulize mol.  Unkekulized atoms: 3 4 5 6 7\n",
      "RDKit ERROR: \n",
      "RDKit ERROR: [07:06:46] Can't kekulize mol.  Unkekulized atoms: 1 2 3 4 5 6 7 8 9\n",
      "RDKit ERROR: \n",
      "RDKit ERROR: [07:06:46] ERROR: Could not sanitize molecule ending on line 378618\n",
      "RDKit ERROR: [07:06:46] ERROR: Can't kekulize mol.  Unkekulized atoms: 1 2 3 4 5 6 7 8 9\n",
      "RDKit ERROR: \n",
      "RDKit ERROR: [07:06:47] Explicit valence for atom # 56 O, 3, is greater than permitted\n",
      "RDKit ERROR: [07:06:47] ERROR: Could not sanitize molecule ending on line 398455\n",
      "RDKit ERROR: [07:06:47] ERROR: Explicit valence for atom # 56 O, 3, is greater than permitted\n",
      "RDKit ERROR: [07:06:47] Can't kekulize mol.  Unkekulized atoms: 9 10 11 12 18\n",
      "RDKit ERROR: \n",
      "RDKit ERROR: [07:06:47] ERROR: Could not sanitize molecule ending on line 407765\n",
      "RDKit ERROR: [07:06:47] ERROR: Can't kekulize mol.  Unkekulized atoms: 9 10 11 12 18\n",
      "RDKit ERROR: \n",
      "RDKit ERROR: [07:06:47] Explicit valence for atom # 46 Mg, 4, is greater than permitted\n",
      "RDKit ERROR: [07:06:47] ERROR: Could not sanitize molecule ending on line 417941\n",
      "RDKit ERROR: [07:06:47] ERROR: Explicit valence for atom # 46 Mg, 4, is greater than permitted\n",
      "RDKit ERROR: [07:06:47] Can't kekulize mol.  Unkekulized atoms: 1 2 3 12 13 14 15 16 17\n",
      "RDKit ERROR: \n",
      "RDKit ERROR: [07:06:47] ERROR: Could not sanitize molecule ending on line 422810\n",
      "RDKit ERROR: [07:06:47] ERROR: Can't kekulize mol.  Unkekulized atoms: 1 2 3 12 13 14 15 16 17\n",
      "RDKit ERROR: \n",
      "RDKit ERROR: [07:06:47] Can't kekulize mol.  Unkekulized atoms: 44 45 46 47 49\n",
      "RDKit ERROR: \n",
      "RDKit ERROR: [07:06:47] ERROR: Could not sanitize molecule ending on line 425190\n",
      "RDKit ERROR: [07:06:47] ERROR: Can't kekulize mol.  Unkekulized atoms: 44 45 46 47 49\n",
      "RDKit ERROR: \n",
      "RDKit ERROR: [07:06:47] Explicit valence for atom # 8 N, 5, is greater than permitted\n",
      "RDKit ERROR: [07:06:47] ERROR: Could not sanitize molecule ending on line 426332\n",
      "RDKit ERROR: [07:06:47] ERROR: Explicit valence for atom # 8 N, 5, is greater than permitted\n",
      "RDKit ERROR: [07:06:47] Can't kekulize mol.  Unkekulized atoms: 54 55 56 57 58 59 60 61 62\n",
      "RDKit ERROR: \n",
      "RDKit ERROR: [07:06:47] ERROR: Could not sanitize molecule ending on line 427901\n",
      "RDKit ERROR: [07:06:47] ERROR: Can't kekulize mol.  Unkekulized atoms: 54 55 56 57 58 59 60 61 62\n",
      "RDKit ERROR: \n",
      "RDKit ERROR: [07:06:47] Can't kekulize mol.  Unkekulized atoms: 0 1 2 3 4 5 6 7 8\n",
      "RDKit ERROR: \n",
      "RDKit ERROR: [07:06:47] ERROR: Could not sanitize molecule ending on line 432118\n"
     ]
    },
    {
     "name": "stderr",
     "output_type": "stream",
     "text": [
      "RDKit ERROR: [07:06:47] ERROR: Can't kekulize mol.  Unkekulized atoms: 0 1 2 3 4 5 6 7 8\n",
      "RDKit ERROR: \n",
      "RDKit ERROR: [07:06:47] Can't kekulize mol.  Unkekulized atoms: 3 4 5 6 8 9 10\n",
      "RDKit ERROR: \n",
      "RDKit ERROR: [07:06:47] ERROR: Could not sanitize molecule ending on line 442989\n",
      "RDKit ERROR: [07:06:47] ERROR: Can't kekulize mol.  Unkekulized atoms: 3 4 5 6 8 9 10\n",
      "RDKit ERROR: \n",
      "RDKit ERROR: [07:06:47] Can't kekulize mol.  Unkekulized atoms: 3 4 5 6 9\n",
      "RDKit ERROR: \n",
      "RDKit ERROR: [07:06:47] ERROR: Could not sanitize molecule ending on line 447465\n",
      "RDKit ERROR: [07:06:47] ERROR: Can't kekulize mol.  Unkekulized atoms: 3 4 5 6 9\n",
      "RDKit ERROR: \n",
      "RDKit ERROR: [07:06:47] Can't kekulize mol.  Unkekulized atoms: 16 17 18 19 20\n",
      "RDKit ERROR: \n",
      "RDKit ERROR: [07:06:47] ERROR: Could not sanitize molecule ending on line 466177\n",
      "RDKit ERROR: [07:06:47] ERROR: Can't kekulize mol.  Unkekulized atoms: 16 17 18 19 20\n",
      "RDKit ERROR: \n",
      "RDKit ERROR: [07:06:47] Can't kekulize mol.  Unkekulized atoms: 7 8 9 10 17\n",
      "RDKit ERROR: \n",
      "RDKit ERROR: [07:06:47] ERROR: Could not sanitize molecule ending on line 468852\n",
      "RDKit ERROR: [07:06:47] ERROR: Can't kekulize mol.  Unkekulized atoms: 7 8 9 10 17\n",
      "RDKit ERROR: \n",
      "RDKit ERROR: [07:06:47] Can't kekulize mol.  Unkekulized atoms: 3 4 5 6 7 8 9 10 11\n",
      "RDKit ERROR: \n",
      "RDKit ERROR: [07:06:47] ERROR: Could not sanitize molecule ending on line 469201\n",
      "RDKit ERROR: [07:06:47] ERROR: Can't kekulize mol.  Unkekulized atoms: 3 4 5 6 7 8 9 10 11\n",
      "RDKit ERROR: \n",
      "RDKit ERROR: [07:06:47] Explicit valence for atom # 53 N, 4, is greater than permitted\n",
      "RDKit ERROR: [07:06:47] ERROR: Could not sanitize molecule ending on line 472285\n",
      "RDKit ERROR: [07:06:47] ERROR: Explicit valence for atom # 53 N, 4, is greater than permitted\n",
      "RDKit ERROR: [07:06:47] Can't kekulize mol.  Unkekulized atoms: 2 3 4 5 12\n",
      "RDKit ERROR: \n",
      "RDKit ERROR: [07:06:47] ERROR: Could not sanitize molecule ending on line 480504\n",
      "RDKit ERROR: [07:06:47] ERROR: Can't kekulize mol.  Unkekulized atoms: 2 3 4 5 12\n",
      "RDKit ERROR: \n",
      "RDKit ERROR: [07:06:47] Explicit valence for atom # 2 O, 3, is greater than permitted\n",
      "RDKit ERROR: [07:06:47] ERROR: Could not sanitize molecule ending on line 499305\n",
      "RDKit ERROR: [07:06:47] ERROR: Explicit valence for atom # 2 O, 3, is greater than permitted\n",
      "RDKit ERROR: [07:06:47] Can't kekulize mol.  Unkekulized atoms: 1 2 3 4 5 6 7 8 9\n",
      "RDKit ERROR: \n",
      "RDKit ERROR: [07:06:47] ERROR: Could not sanitize molecule ending on line 503342\n",
      "RDKit ERROR: [07:06:47] ERROR: Can't kekulize mol.  Unkekulized atoms: 1 2 3 4 5 6 7 8 9\n",
      "RDKit ERROR: \n",
      "RDKit ERROR: [07:06:47] Can't kekulize mol.  Unkekulized atoms: 0 1 2 4 5 6 7 8 9 10\n",
      "RDKit ERROR: \n",
      "RDKit ERROR: [07:06:47] ERROR: Could not sanitize molecule ending on line 508068\n",
      "RDKit ERROR: [07:06:47] ERROR: Can't kekulize mol.  Unkekulized atoms: 0 1 2 4 5 6 7 8 9 10\n",
      "RDKit ERROR: \n",
      "RDKit ERROR: [07:06:47] Can't kekulize mol.  Unkekulized atoms: 1 2 3 4 5 6 7 8 9\n",
      "RDKit ERROR: \n",
      "RDKit ERROR: [07:06:47] ERROR: Could not sanitize molecule ending on line 510069\n",
      "RDKit ERROR: [07:06:47] ERROR: Can't kekulize mol.  Unkekulized atoms: 1 2 3 4 5 6 7 8 9\n",
      "RDKit ERROR: \n",
      "RDKit ERROR: [07:06:47] Can't kekulize mol.  Unkekulized atoms: 3 4 5 6 7 8 10\n",
      "RDKit ERROR: \n",
      "RDKit ERROR: [07:06:47] ERROR: Could not sanitize molecule ending on line 511111\n",
      "RDKit ERROR: [07:06:47] ERROR: Can't kekulize mol.  Unkekulized atoms: 3 4 5 6 7 8 10\n",
      "RDKit ERROR: \n",
      "RDKit ERROR: [07:06:47] Can't kekulize mol.  Unkekulized atoms: 1 2 3 5 6 7 8 9 10\n",
      "RDKit ERROR: \n",
      "RDKit ERROR: [07:06:47] ERROR: Could not sanitize molecule ending on line 512030\n",
      "RDKit ERROR: [07:06:47] ERROR: Can't kekulize mol.  Unkekulized atoms: 1 2 3 5 6 7 8 9 10\n",
      "RDKit ERROR: \n",
      "RDKit ERROR: [07:06:47] Explicit valence for atom # 2 O, 3, is greater than permitted\n",
      "RDKit ERROR: [07:06:47] ERROR: Could not sanitize molecule ending on line 519056\n",
      "RDKit ERROR: [07:06:47] ERROR: Explicit valence for atom # 2 O, 3, is greater than permitted\n",
      "RDKit ERROR: [07:06:47] Explicit valence for atom # 6 B, 4, is greater than permitted\n",
      "RDKit ERROR: [07:06:47] ERROR: Could not sanitize molecule ending on line 541262\n",
      "RDKit ERROR: [07:06:47] ERROR: Explicit valence for atom # 6 B, 4, is greater than permitted\n",
      "RDKit ERROR: [07:06:47] Can't kekulize mol.  Unkekulized atoms: 2 3 17 19 20\n",
      "RDKit ERROR: \n",
      "RDKit ERROR: [07:06:47] ERROR: Could not sanitize molecule ending on line 557517\n",
      "RDKit ERROR: [07:06:47] ERROR: Can't kekulize mol.  Unkekulized atoms: 2 3 17 19 20\n",
      "RDKit ERROR: \n",
      "RDKit ERROR: [07:06:47] Can't kekulize mol.  Unkekulized atoms: 0 1 2 4 5 6 7 8 9 10\n",
      "RDKit ERROR: \n",
      "RDKit ERROR: [07:06:47] ERROR: Could not sanitize molecule ending on line 561344\n",
      "RDKit ERROR: [07:06:47] ERROR: Can't kekulize mol.  Unkekulized atoms: 0 1 2 4 5 6 7 8 9 10\n",
      "RDKit ERROR: \n",
      "RDKit ERROR: [07:06:47] Can't kekulize mol.  Unkekulized atoms: 10 11 12 13 19\n",
      "RDKit ERROR: \n",
      "RDKit ERROR: [07:06:47] ERROR: Could not sanitize molecule ending on line 562947\n",
      "RDKit ERROR: [07:06:47] ERROR: Can't kekulize mol.  Unkekulized atoms: 10 11 12 13 19\n",
      "RDKit ERROR: \n",
      "RDKit ERROR: [07:06:47] Explicit valence for atom # 27 N, 4, is greater than permitted\n",
      "RDKit ERROR: [07:06:47] ERROR: Could not sanitize molecule ending on line 567073\n",
      "RDKit ERROR: [07:06:47] ERROR: Explicit valence for atom # 27 N, 4, is greater than permitted\n",
      "RDKit ERROR: [07:06:47] Can't kekulize mol.  Unkekulized atoms: 9 10 11 12 13 14 15 16 17\n",
      "RDKit ERROR: \n",
      "RDKit ERROR: [07:06:47] ERROR: Could not sanitize molecule ending on line 568252\n",
      "RDKit ERROR: [07:06:47] ERROR: Can't kekulize mol.  Unkekulized atoms: 9 10 11 12 13 14 15 16 17\n",
      "RDKit ERROR: \n",
      "RDKit ERROR: [07:06:47] Can't kekulize mol.  Unkekulized atoms: 23 24 25 26 27\n",
      "RDKit ERROR: \n",
      "RDKit ERROR: [07:06:47] ERROR: Could not sanitize molecule ending on line 574645\n",
      "RDKit ERROR: [07:06:47] ERROR: Can't kekulize mol.  Unkekulized atoms: 23 24 25 26 27\n",
      "RDKit ERROR: \n",
      "RDKit ERROR: [07:06:47] Can't kekulize mol.  Unkekulized atoms: 5 6 7 8 9\n",
      "RDKit ERROR: \n",
      "RDKit ERROR: [07:06:47] ERROR: Could not sanitize molecule ending on line 592639\n",
      "RDKit ERROR: [07:06:47] ERROR: Can't kekulize mol.  Unkekulized atoms: 5 6 7 8 9\n",
      "RDKit ERROR: \n",
      "RDKit ERROR: [07:06:47] Explicit valence for atom # 12 N, 4, is greater than permitted\n",
      "RDKit ERROR: [07:06:47] ERROR: Could not sanitize molecule ending on line 595909\n",
      "RDKit ERROR: [07:06:47] ERROR: Explicit valence for atom # 12 N, 4, is greater than permitted\n",
      "RDKit ERROR: [07:06:47] Explicit valence for atom # 0 Br, 2, is greater than permitted\n",
      "RDKit ERROR: [07:06:47] ERROR: Could not sanitize molecule ending on line 599041\n",
      "RDKit ERROR: [07:06:47] ERROR: Explicit valence for atom # 0 Br, 2, is greater than permitted\n",
      "RDKit ERROR: [07:06:47] Explicit valence for atom # 1 N, 4, is greater than permitted\n",
      "RDKit ERROR: [07:06:47] ERROR: Could not sanitize molecule ending on line 601819\n",
      "RDKit ERROR: [07:06:47] ERROR: Explicit valence for atom # 1 N, 4, is greater than permitted\n",
      "RDKit ERROR: [07:06:47] Explicit valence for atom # 6 Be, 4, is greater than permitted\n",
      "RDKit ERROR: [07:06:47] ERROR: Could not sanitize molecule ending on line 604427\n",
      "RDKit ERROR: [07:06:47] ERROR: Explicit valence for atom # 6 Be, 4, is greater than permitted\n",
      "RDKit ERROR: [07:06:47] Can't kekulize mol.  Unkekulized atoms: 4 5 6 7 8 9 10 11 12\n",
      "RDKit ERROR: \n",
      "RDKit ERROR: [07:06:47] ERROR: Could not sanitize molecule ending on line 604912\n",
      "RDKit ERROR: [07:06:47] ERROR: Can't kekulize mol.  Unkekulized atoms: 4 5 6 7 8 9 10 11 12\n",
      "RDKit ERROR: \n",
      "RDKit ERROR: [07:06:47] Can't kekulize mol.  Unkekulized atoms: 5 6 7 8 9 10 11 12 13\n",
      "RDKit ERROR: \n",
      "RDKit ERROR: [07:06:47] ERROR: Could not sanitize molecule ending on line 616025\n",
      "RDKit ERROR: [07:06:47] ERROR: Can't kekulize mol.  Unkekulized atoms: 5 6 7 8 9 10 11 12 13\n",
      "RDKit ERROR: \n",
      "RDKit ERROR: [07:06:47] Can't kekulize mol.  Unkekulized atoms: 1 2 3 5 6 7 8 9 10\n",
      "RDKit ERROR: \n",
      "RDKit ERROR: [07:06:47] ERROR: Could not sanitize molecule ending on line 623202\n",
      "RDKit ERROR: [07:06:47] ERROR: Can't kekulize mol.  Unkekulized atoms: 1 2 3 5 6 7 8 9 10\n",
      "RDKit ERROR: \n",
      "RDKit ERROR: [07:06:47] Can't kekulize mol.  Unkekulized atoms: 5 6 7 8 9 10 11 12 13\n",
      "RDKit ERROR: \n",
      "RDKit ERROR: [07:06:47] ERROR: Could not sanitize molecule ending on line 628065\n",
      "RDKit ERROR: [07:06:47] ERROR: Can't kekulize mol.  Unkekulized atoms: 5 6 7 8 9 10 11 12 13\n",
      "RDKit ERROR: \n",
      "RDKit ERROR: [07:06:47] Explicit valence for atom # 19 N, 4, is greater than permitted\n",
      "RDKit ERROR: [07:06:47] ERROR: Could not sanitize molecule ending on line 636938\n",
      "RDKit ERROR: [07:06:47] ERROR: Explicit valence for atom # 19 N, 4, is greater than permitted\n",
      "RDKit ERROR: [07:06:47] Explicit valence for atom # 0 O, 3, is greater than permitted\n",
      "RDKit ERROR: [07:06:47] ERROR: Could not sanitize molecule ending on line 640674\n",
      "RDKit ERROR: [07:06:47] ERROR: Explicit valence for atom # 0 O, 3, is greater than permitted\n",
      "RDKit ERROR: [07:06:47] Explicit valence for atom # 17 Mg, 4, is greater than permitted\n",
      "RDKit ERROR: [07:06:47] ERROR: Could not sanitize molecule ending on line 642835\n",
      "RDKit ERROR: [07:06:47] ERROR: Explicit valence for atom # 17 Mg, 4, is greater than permitted\n",
      "RDKit ERROR: [07:06:47] Explicit valence for atom # 4 F, 2, is greater than permitted\n",
      "RDKit ERROR: [07:06:47] ERROR: Could not sanitize molecule ending on line 645068\n",
      "RDKit ERROR: [07:06:47] ERROR: Explicit valence for atom # 4 F, 2, is greater than permitted\n",
      "RDKit ERROR: [07:06:47] Can't kekulize mol.  Unkekulized atoms: 0 1 2 4 5 6 7 8 9 10\n",
      "RDKit ERROR: \n",
      "RDKit ERROR: [07:06:47] ERROR: Could not sanitize molecule ending on line 659994\n"
     ]
    },
    {
     "name": "stderr",
     "output_type": "stream",
     "text": [
      "RDKit ERROR: [07:06:47] ERROR: Can't kekulize mol.  Unkekulized atoms: 0 1 2 4 5 6 7 8 9 10\n",
      "RDKit ERROR: \n",
      "RDKit ERROR: [07:06:48] Explicit valence for atom # 0 Be, 3, is greater than permitted\n",
      "RDKit ERROR: [07:06:48] ERROR: Could not sanitize molecule ending on line 995692\n",
      "RDKit ERROR: [07:06:48] ERROR: Explicit valence for atom # 0 Be, 3, is greater than permitted\n",
      "RDKit ERROR: [07:06:48] Explicit valence for atom # 0 C greater than permitted\n",
      "RDKit ERROR: [07:06:48] ERROR: Could not sanitize molecule ending on line 1151592\n"
     ]
    },
    {
     "data": {
      "text/plain": [
       "7113"
      ]
     },
     "execution_count": 5,
     "metadata": {},
     "output_type": "execute_result"
    }
   ],
   "source": [
    "suppl = Chem.SDMolSupplier('drugbank.sdf')\n",
    "drugs = [m for m in suppl if m]\n",
    "len(drugs)"
   ]
  },
  {
   "cell_type": "markdown",
   "metadata": {},
   "source": [
    "Načtení drugbanku"
   ]
  },
  {
   "cell_type": "code",
   "execution_count": 6,
   "metadata": {},
   "outputs": [
    {
     "data": {
      "image/png": "[encoded data removed]",
      "text/plain": [
       "<rdkit.Chem.rdchem.Mol at 0x7f45a785b7b0>"
      ]
     },
     "execution_count": 6,
     "metadata": {},
     "output_type": "execute_result"
    }
   ],
   "source": [
    "lig_MOLECULES[9999]"
   ]
  },
  {
   "cell_type": "code",
   "execution_count": 7,
   "metadata": {},
   "outputs": [
    {
     "data": {
      "text/plain": [
       "4"
      ]
     },
     "execution_count": 7,
     "metadata": {},
     "output_type": "execute_result"
    }
   ],
   "source": [
    "Chem.GetSSSR(lig_MOLECULES[9999])"
   ]
  },
  {
   "cell_type": "code",
   "execution_count": 8,
   "metadata": {},
   "outputs": [
    {
     "data": {
      "text/plain": [
       "1"
      ]
     },
     "execution_count": 8,
     "metadata": {},
     "output_type": "execute_result"
    }
   ],
   "source": [
    "Chem.CalcNumAliphaticRings(lig_MOLECULES[9999])"
   ]
  },
  {
   "cell_type": "code",
   "execution_count": 9,
   "metadata": {},
   "outputs": [
    {
     "data": {
      "text/plain": [
       "3"
      ]
     },
     "execution_count": 9,
     "metadata": {},
     "output_type": "execute_result"
    }
   ],
   "source": [
    "Chem.CalcNumAromaticRings(lig_MOLECULES[9999])"
   ]
  },
  {
   "cell_type": "code",
   "execution_count": 10,
   "metadata": {},
   "outputs": [
    {
     "data": {
      "text/plain": [
       "4"
      ]
     },
     "execution_count": 10,
     "metadata": {},
     "output_type": "execute_result"
    }
   ],
   "source": [
    "Chem.CalcNumRotatableBonds(lig_MOLECULES[9999])"
   ]
  },
  {
   "cell_type": "code",
   "execution_count": 11,
   "metadata": {},
   "outputs": [
    {
     "data": {
      "text/plain": [
       "27"
      ]
     },
     "execution_count": 11,
     "metadata": {},
     "output_type": "execute_result"
    }
   ],
   "source": [
    "lig_MOLECULES[9999].GetNumHeavyAtoms()"
   ]
  },
  {
   "cell_type": "code",
   "execution_count": 12,
   "metadata": {},
   "outputs": [
    {
     "data": {
      "text/plain": [
       "(8, 1)"
      ]
     },
     "execution_count": 12,
     "metadata": {},
     "output_type": "execute_result"
    }
   ],
   "source": [
    "rdescriptors.CalcNumLipinskiHBA(lig_MOLECULES[9999]), rdescriptors.CalcNumLipinskiHBD(lig_MOLECULES[9999])"
   ]
  },
  {
   "cell_type": "code",
   "execution_count": 13,
   "metadata": {},
   "outputs": [
    {
     "data": {
      "text/plain": [
       "406.05025364"
      ]
     },
     "execution_count": 13,
     "metadata": {},
     "output_type": "execute_result"
    }
   ],
   "source": [
    "rdescriptors.CalcExactMolWt(lig_MOLECULES[9999])"
   ]
  },
  {
   "cell_type": "code",
   "execution_count": 14,
   "metadata": {},
   "outputs": [
    {
     "data": {
      "text/plain": [
       "93.65"
      ]
     },
     "execution_count": 14,
     "metadata": {},
     "output_type": "execute_result"
    }
   ],
   "source": [
    "rdescriptors.CalcTPSA(lig_MOLECULES[9999])"
   ]
  },
  {
   "cell_type": "code",
   "execution_count": 15,
   "metadata": {},
   "outputs": [
    {
     "data": {
      "text/plain": [
       "3.0058000000000007"
      ]
     },
     "execution_count": 15,
     "metadata": {},
     "output_type": "execute_result"
    }
   ],
   "source": [
    "Descriptors.MolLogP(lig_MOLECULES[9999])"
   ]
  },
  {
   "cell_type": "markdown",
   "metadata": {},
   "source": [
    "Všechno odpovídá, definuji tedy veličiny kám uložím různé deskriptory všech látek. Pro erbB1 i pro drugabank. Přidávám pro zajímavost počty alifatických a aromatických kruhů, třeba to něco ukáže."
   ]
  },
  {
   "cell_type": "code",
   "execution_count": 16,
   "metadata": {},
   "outputs": [],
   "source": [
    "lig_RINGS = [Chem.GetSSSR(x) for x in lig_MOLECULES]\n",
    "lig_Aliph_RINGS = [Chem.CalcNumAliphaticRings(x) for x in lig_MOLECULES]\n",
    "lig_Arom_RINGS = [Chem.CalcNumAromaticRings(x) for x in lig_MOLECULES]\n",
    "lig_RotBond = [Chem.CalcNumRotatableBonds(x) for x in lig_MOLECULES]\n",
    "lig_AtomCount = [x.GetNumHeavyAtoms() for x in lig_MOLECULES]\n",
    "lig_HBAcc = [rdescriptors.CalcNumLipinskiHBA(x) for x in lig_MOLECULES]\n",
    "lig_HBDon = [rdescriptors.CalcNumLipinskiHBD(x) for x in lig_MOLECULES]\n",
    "lig_MolWt = [rdescriptors.CalcExactMolWt(x) for x in lig_MOLECULES]\n",
    "lig_TPSA = [rdescriptors.CalcTPSA(x) for x in lig_MOLECULES]\n",
    "lig_LogP = [Descriptors.MolLogP(x) for x in lig_MOLECULES]"
   ]
  },
  {
   "cell_type": "code",
   "execution_count": 17,
   "metadata": {},
   "outputs": [
    {
     "data": {
      "text/html": [
       "<div>\n",
       "<style scoped>\n",
       "    .dataframe tbody tr th:only-of-type {\n",
       "        vertical-align: middle;\n",
       "    }\n",
       "\n",
       "    .dataframe tbody tr th {\n",
       "        vertical-align: top;\n",
       "    }\n",
       "\n",
       "    .dataframe thead th {\n",
       "        text-align: right;\n",
       "    }\n",
       "</style>\n",
       "<table border=\"1\" class=\"dataframe\">\n",
       "  <thead>\n",
       "    <tr style=\"text-align: right;\">\n",
       "      <th></th>\n",
       "      <th>set</th>\n",
       "      <th>rings</th>\n",
       "      <th>aliphatic rings</th>\n",
       "      <th>aromatic rings</th>\n",
       "      <th>rotatable bonds</th>\n",
       "      <th>heavy atoms</th>\n",
       "      <th>HBA</th>\n",
       "      <th>HBD</th>\n",
       "      <th>MW</th>\n",
       "      <th>TPSA</th>\n",
       "      <th>logP</th>\n",
       "    </tr>\n",
       "  </thead>\n",
       "  <tbody>\n",
       "    <tr>\n",
       "      <th>0</th>\n",
       "      <td>erbB1</td>\n",
       "      <td>4</td>\n",
       "      <td>0</td>\n",
       "      <td>4</td>\n",
       "      <td>4</td>\n",
       "      <td>25</td>\n",
       "      <td>7</td>\n",
       "      <td>5</td>\n",
       "      <td>351.099921</td>\n",
       "      <td>104.54</td>\n",
       "      <td>4.07570</td>\n",
       "    </tr>\n",
       "    <tr>\n",
       "      <th>1</th>\n",
       "      <td>erbB1</td>\n",
       "      <td>2</td>\n",
       "      <td>0</td>\n",
       "      <td>2</td>\n",
       "      <td>4</td>\n",
       "      <td>22</td>\n",
       "      <td>5</td>\n",
       "      <td>3</td>\n",
       "      <td>294.100442</td>\n",
       "      <td>93.35</td>\n",
       "      <td>2.32118</td>\n",
       "    </tr>\n",
       "    <tr>\n",
       "      <th>2</th>\n",
       "      <td>erbB1</td>\n",
       "      <td>4</td>\n",
       "      <td>0</td>\n",
       "      <td>4</td>\n",
       "      <td>6</td>\n",
       "      <td>32</td>\n",
       "      <td>7</td>\n",
       "      <td>2</td>\n",
       "      <td>436.134697</td>\n",
       "      <td>85.37</td>\n",
       "      <td>4.92110</td>\n",
       "    </tr>\n",
       "    <tr>\n",
       "      <th>3</th>\n",
       "      <td>erbB1</td>\n",
       "      <td>6</td>\n",
       "      <td>1</td>\n",
       "      <td>5</td>\n",
       "      <td>13</td>\n",
       "      <td>49</td>\n",
       "      <td>14</td>\n",
       "      <td>1</td>\n",
       "      <td>707.192895</td>\n",
       "      <td>159.09</td>\n",
       "      <td>4.89210</td>\n",
       "    </tr>\n",
       "    <tr>\n",
       "      <th>4</th>\n",
       "      <td>erbB1</td>\n",
       "      <td>3</td>\n",
       "      <td>0</td>\n",
       "      <td>3</td>\n",
       "      <td>11</td>\n",
       "      <td>37</td>\n",
       "      <td>9</td>\n",
       "      <td>4</td>\n",
       "      <td>523.198632</td>\n",
       "      <td>118.81</td>\n",
       "      <td>4.60350</td>\n",
       "    </tr>\n",
       "    <tr>\n",
       "      <th>...</th>\n",
       "      <td>...</td>\n",
       "      <td>...</td>\n",
       "      <td>...</td>\n",
       "      <td>...</td>\n",
       "      <td>...</td>\n",
       "      <td>...</td>\n",
       "      <td>...</td>\n",
       "      <td>...</td>\n",
       "      <td>...</td>\n",
       "      <td>...</td>\n",
       "      <td>...</td>\n",
       "    </tr>\n",
       "    <tr>\n",
       "      <th>12491</th>\n",
       "      <td>erbB1</td>\n",
       "      <td>5</td>\n",
       "      <td>1</td>\n",
       "      <td>4</td>\n",
       "      <td>11</td>\n",
       "      <td>42</td>\n",
       "      <td>10</td>\n",
       "      <td>2</td>\n",
       "      <td>588.225181</td>\n",
       "      <td>101.08</td>\n",
       "      <td>5.58160</td>\n",
       "    </tr>\n",
       "    <tr>\n",
       "      <th>12492</th>\n",
       "      <td>erbB1</td>\n",
       "      <td>3</td>\n",
       "      <td>0</td>\n",
       "      <td>3</td>\n",
       "      <td>10</td>\n",
       "      <td>30</td>\n",
       "      <td>7</td>\n",
       "      <td>1</td>\n",
       "      <td>429.145534</td>\n",
       "      <td>74.73</td>\n",
       "      <td>3.82690</td>\n",
       "    </tr>\n",
       "    <tr>\n",
       "      <th>12493</th>\n",
       "      <td>erbB1</td>\n",
       "      <td>5</td>\n",
       "      <td>0</td>\n",
       "      <td>5</td>\n",
       "      <td>11</td>\n",
       "      <td>40</td>\n",
       "      <td>8</td>\n",
       "      <td>2</td>\n",
       "      <td>580.134732</td>\n",
       "      <td>106.35</td>\n",
       "      <td>6.13910</td>\n",
       "    </tr>\n",
       "    <tr>\n",
       "      <th>12494</th>\n",
       "      <td>erbB1</td>\n",
       "      <td>3</td>\n",
       "      <td>0</td>\n",
       "      <td>3</td>\n",
       "      <td>3</td>\n",
       "      <td>20</td>\n",
       "      <td>4</td>\n",
       "      <td>0</td>\n",
       "      <td>285.093583</td>\n",
       "      <td>42.16</td>\n",
       "      <td>4.02102</td>\n",
       "    </tr>\n",
       "    <tr>\n",
       "      <th>12495</th>\n",
       "      <td>erbB1</td>\n",
       "      <td>3</td>\n",
       "      <td>0</td>\n",
       "      <td>3</td>\n",
       "      <td>3</td>\n",
       "      <td>20</td>\n",
       "      <td>4</td>\n",
       "      <td>0</td>\n",
       "      <td>267.137162</td>\n",
       "      <td>42.16</td>\n",
       "      <td>3.86152</td>\n",
       "    </tr>\n",
       "  </tbody>\n",
       "</table>\n",
       "<p>12496 rows × 11 columns</p>\n",
       "</div>"
      ],
      "text/plain": [
       "         set  rings  aliphatic rings  aromatic rings  rotatable bonds  \\\n",
       "0      erbB1      4                0               4                4   \n",
       "1      erbB1      2                0               2                4   \n",
       "2      erbB1      4                0               4                6   \n",
       "3      erbB1      6                1               5               13   \n",
       "4      erbB1      3                0               3               11   \n",
       "...      ...    ...              ...             ...              ...   \n",
       "12491  erbB1      5                1               4               11   \n",
       "12492  erbB1      3                0               3               10   \n",
       "12493  erbB1      5                0               5               11   \n",
       "12494  erbB1      3                0               3                3   \n",
       "12495  erbB1      3                0               3                3   \n",
       "\n",
       "       heavy atoms  HBA  HBD          MW    TPSA     logP  \n",
       "0               25    7    5  351.099921  104.54  4.07570  \n",
       "1               22    5    3  294.100442   93.35  2.32118  \n",
       "2               32    7    2  436.134697   85.37  4.92110  \n",
       "3               49   14    1  707.192895  159.09  4.89210  \n",
       "4               37    9    4  523.198632  118.81  4.60350  \n",
       "...            ...  ...  ...         ...     ...      ...  \n",
       "12491           42   10    2  588.225181  101.08  5.58160  \n",
       "12492           30    7    1  429.145534   74.73  3.82690  \n",
       "12493           40    8    2  580.134732  106.35  6.13910  \n",
       "12494           20    4    0  285.093583   42.16  4.02102  \n",
       "12495           20    4    0  267.137162   42.16  3.86152  \n",
       "\n",
       "[12496 rows x 11 columns]"
      ]
     },
     "execution_count": 17,
     "metadata": {},
     "output_type": "execute_result"
    }
   ],
   "source": [
    "tabulka_hodnot_erbB1 = pd.DataFrame(data={'set':'erbB1', 'rings': lig_RINGS,'aliphatic rings': lig_Aliph_RINGS,'aromatic rings': lig_Arom_RINGS,\n",
    "                        'rotatable bonds': lig_RotBond, 'heavy atoms': lig_AtomCount,\n",
    "                        'HBA': lig_HBAcc, 'HBD': lig_HBDon, 'MW': lig_MolWt,\n",
    "                        'TPSA': lig_TPSA, 'logP': lig_LogP})\n",
    "tabulka_hodnot_erbB1"
   ]
  },
  {
   "cell_type": "code",
   "execution_count": 18,
   "metadata": {},
   "outputs": [
    {
     "data": {
      "text/plain": [
       "<matplotlib.axes._subplots.AxesSubplot at 0x7f45a72dc080>"
      ]
     },
     "execution_count": 18,
     "metadata": {},
     "output_type": "execute_result"
    },
    {
     "data": {
      "image/png": "[encoded data removed]",
      "text/plain": [
       "<Figure size 432x288 with 1 Axes>"
      ]
     },
     "metadata": {
      "needs_background": "light"
     },
     "output_type": "display_data"
    }
   ],
   "source": [
    "sns.boxplot(data=tabulka_hodnot_erbB1[['rings', 'aliphatic rings', 'aromatic rings', 'rotatable bonds', 'heavy atoms', 'HBA', 'HBD', 'logP']], showfliers=False)"
   ]
  },
  {
   "cell_type": "code",
   "execution_count": 19,
   "metadata": {},
   "outputs": [
    {
     "data": {
      "text/plain": [
       "<matplotlib.axes._subplots.AxesSubplot at 0x7f45a720da58>"
      ]
     },
     "execution_count": 19,
     "metadata": {},
     "output_type": "execute_result"
    },
    {
     "data": {
      "image/png": "[encoded data removed]",
      "text/plain": [
       "<Figure size 432x288 with 1 Axes>"
      ]
     },
     "metadata": {
      "needs_background": "light"
     },
     "output_type": "display_data"
    }
   ],
   "source": [
    "sns.boxplot(data=tabulka_hodnot_erbB1[['MW', 'TPSA']], showfliers = False)"
   ]
  },
  {
   "cell_type": "code",
   "execution_count": 20,
   "metadata": {},
   "outputs": [],
   "source": [
    "drugbank_RINGS = [Chem.GetSSSR(l) for l in drugs]\n",
    "drugbank_Aliph_RINGS = [Chem.GetSSSR(l) for l in drugs]\n",
    "drugbank_Arom_RINGS = [Chem.GetSSSR(l) for l in drugs]\n",
    "drugbank_RotBond = [Chem.CalcNumRotatableBonds(l) for l in drugs]\n",
    "drugbank_AtomCount = [l.GetNumHeavyAtoms() for l in drugs]\n",
    "drugbank_HBAcc = [rdescriptors.CalcNumLipinskiHBA(l) for l in drugs]\n",
    "drugbank_HBDon = [rdescriptors.CalcNumLipinskiHBD(l) for l in drugs]\n",
    "drugbank_MolWt = [rdescriptors.CalcExactMolWt(l) for l in drugs]\n",
    "drugbank_TPSA = [rdescriptors.CalcTPSA(l) for l in drugs]\n",
    "drugbank_LogP = [Descriptors.MolLogP(l) for l in drugs]"
   ]
  },
  {
   "cell_type": "code",
   "execution_count": 21,
   "metadata": {},
   "outputs": [
    {
     "data": {
      "text/html": [
       "<div>\n",
       "<style scoped>\n",
       "    .dataframe tbody tr th:only-of-type {\n",
       "        vertical-align: middle;\n",
       "    }\n",
       "\n",
       "    .dataframe tbody tr th {\n",
       "        vertical-align: top;\n",
       "    }\n",
       "\n",
       "    .dataframe thead th {\n",
       "        text-align: right;\n",
       "    }\n",
       "</style>\n",
       "<table border=\"1\" class=\"dataframe\">\n",
       "  <thead>\n",
       "    <tr style=\"text-align: right;\">\n",
       "      <th></th>\n",
       "      <th>set</th>\n",
       "      <th>rings</th>\n",
       "      <th>aliphatic rings</th>\n",
       "      <th>aromatic rings</th>\n",
       "      <th>rotatable bonds</th>\n",
       "      <th>heavy atoms</th>\n",
       "      <th>HBA</th>\n",
       "      <th>HBD</th>\n",
       "      <th>MW</th>\n",
       "      <th>TPSA</th>\n",
       "      <th>logP</th>\n",
       "    </tr>\n",
       "  </thead>\n",
       "  <tbody>\n",
       "    <tr>\n",
       "      <th>0</th>\n",
       "      <td>drugbank</td>\n",
       "      <td>6</td>\n",
       "      <td>6</td>\n",
       "      <td>6</td>\n",
       "      <td>66</td>\n",
       "      <td>155</td>\n",
       "      <td>57</td>\n",
       "      <td>31</td>\n",
       "      <td>2178.985813</td>\n",
       "      <td>901.57</td>\n",
       "      <td>-8.11643</td>\n",
       "    </tr>\n",
       "    <tr>\n",
       "      <th>1</th>\n",
       "      <td>drugbank</td>\n",
       "      <td>6</td>\n",
       "      <td>6</td>\n",
       "      <td>6</td>\n",
       "      <td>31</td>\n",
       "      <td>91</td>\n",
       "      <td>32</td>\n",
       "      <td>20</td>\n",
       "      <td>1268.641439</td>\n",
       "      <td>495.89</td>\n",
       "      <td>-3.10570</td>\n",
       "    </tr>\n",
       "    <tr>\n",
       "      <th>2</th>\n",
       "      <td>drugbank</td>\n",
       "      <td>4</td>\n",
       "      <td>4</td>\n",
       "      <td>4</td>\n",
       "      <td>19</td>\n",
       "      <td>74</td>\n",
       "      <td>26</td>\n",
       "      <td>18</td>\n",
       "      <td>1068.426955</td>\n",
       "      <td>435.41</td>\n",
       "      <td>-4.13203</td>\n",
       "    </tr>\n",
       "    <tr>\n",
       "      <th>3</th>\n",
       "      <td>drugbank</td>\n",
       "      <td>6</td>\n",
       "      <td>6</td>\n",
       "      <td>6</td>\n",
       "      <td>38</td>\n",
       "      <td>102</td>\n",
       "      <td>31</td>\n",
       "      <td>20</td>\n",
       "      <td>1429.669818</td>\n",
       "      <td>495.67</td>\n",
       "      <td>-0.50613</td>\n",
       "    </tr>\n",
       "    <tr>\n",
       "      <th>4</th>\n",
       "      <td>drugbank</td>\n",
       "      <td>1</td>\n",
       "      <td>1</td>\n",
       "      <td>1</td>\n",
       "      <td>15</td>\n",
       "      <td>85</td>\n",
       "      <td>23</td>\n",
       "      <td>5</td>\n",
       "      <td>1201.841368</td>\n",
       "      <td>278.80</td>\n",
       "      <td>3.26900</td>\n",
       "    </tr>\n",
       "    <tr>\n",
       "      <th>...</th>\n",
       "      <td>...</td>\n",
       "      <td>...</td>\n",
       "      <td>...</td>\n",
       "      <td>...</td>\n",
       "      <td>...</td>\n",
       "      <td>...</td>\n",
       "      <td>...</td>\n",
       "      <td>...</td>\n",
       "      <td>...</td>\n",
       "      <td>...</td>\n",
       "      <td>...</td>\n",
       "    </tr>\n",
       "    <tr>\n",
       "      <th>7108</th>\n",
       "      <td>drugbank</td>\n",
       "      <td>1</td>\n",
       "      <td>1</td>\n",
       "      <td>1</td>\n",
       "      <td>0</td>\n",
       "      <td>8</td>\n",
       "      <td>1</td>\n",
       "      <td>1</td>\n",
       "      <td>128.002892</td>\n",
       "      <td>20.23</td>\n",
       "      <td>2.04560</td>\n",
       "    </tr>\n",
       "    <tr>\n",
       "      <th>7109</th>\n",
       "      <td>drugbank</td>\n",
       "      <td>3</td>\n",
       "      <td>3</td>\n",
       "      <td>3</td>\n",
       "      <td>3</td>\n",
       "      <td>24</td>\n",
       "      <td>9</td>\n",
       "      <td>5</td>\n",
       "      <td>340.079432</td>\n",
       "      <td>149.82</td>\n",
       "      <td>-1.32270</td>\n",
       "    </tr>\n",
       "    <tr>\n",
       "      <th>7110</th>\n",
       "      <td>drugbank</td>\n",
       "      <td>6</td>\n",
       "      <td>6</td>\n",
       "      <td>6</td>\n",
       "      <td>14</td>\n",
       "      <td>79</td>\n",
       "      <td>27</td>\n",
       "      <td>13</td>\n",
       "      <td>1114.554641</td>\n",
       "      <td>403.10</td>\n",
       "      <td>1.54710</td>\n",
       "    </tr>\n",
       "    <tr>\n",
       "      <th>7111</th>\n",
       "      <td>drugbank</td>\n",
       "      <td>0</td>\n",
       "      <td>0</td>\n",
       "      <td>0</td>\n",
       "      <td>13</td>\n",
       "      <td>21</td>\n",
       "      <td>5</td>\n",
       "      <td>0</td>\n",
       "      <td>330.147689</td>\n",
       "      <td>83.50</td>\n",
       "      <td>-0.00030</td>\n",
       "    </tr>\n",
       "    <tr>\n",
       "      <th>7112</th>\n",
       "      <td>drugbank</td>\n",
       "      <td>4</td>\n",
       "      <td>4</td>\n",
       "      <td>4</td>\n",
       "      <td>2</td>\n",
       "      <td>28</td>\n",
       "      <td>4</td>\n",
       "      <td>1</td>\n",
       "      <td>408.150365</td>\n",
       "      <td>71.44</td>\n",
       "      <td>3.35040</td>\n",
       "    </tr>\n",
       "  </tbody>\n",
       "</table>\n",
       "<p>7113 rows × 11 columns</p>\n",
       "</div>"
      ],
      "text/plain": [
       "           set  rings  aliphatic rings  aromatic rings  rotatable bonds  \\\n",
       "0     drugbank      6                6               6               66   \n",
       "1     drugbank      6                6               6               31   \n",
       "2     drugbank      4                4               4               19   \n",
       "3     drugbank      6                6               6               38   \n",
       "4     drugbank      1                1               1               15   \n",
       "...        ...    ...              ...             ...              ...   \n",
       "7108  drugbank      1                1               1                0   \n",
       "7109  drugbank      3                3               3                3   \n",
       "7110  drugbank      6                6               6               14   \n",
       "7111  drugbank      0                0               0               13   \n",
       "7112  drugbank      4                4               4                2   \n",
       "\n",
       "      heavy atoms  HBA  HBD           MW    TPSA     logP  \n",
       "0             155   57   31  2178.985813  901.57 -8.11643  \n",
       "1              91   32   20  1268.641439  495.89 -3.10570  \n",
       "2              74   26   18  1068.426955  435.41 -4.13203  \n",
       "3             102   31   20  1429.669818  495.67 -0.50613  \n",
       "4              85   23    5  1201.841368  278.80  3.26900  \n",
       "...           ...  ...  ...          ...     ...      ...  \n",
       "7108            8    1    1   128.002892   20.23  2.04560  \n",
       "7109           24    9    5   340.079432  149.82 -1.32270  \n",
       "7110           79   27   13  1114.554641  403.10  1.54710  \n",
       "7111           21    5    0   330.147689   83.50 -0.00030  \n",
       "7112           28    4    1   408.150365   71.44  3.35040  \n",
       "\n",
       "[7113 rows x 11 columns]"
      ]
     },
     "execution_count": 21,
     "metadata": {},
     "output_type": "execute_result"
    }
   ],
   "source": [
    "tabulka_hodnot_drugbank = pd.DataFrame(data={'set':'drugbank', 'rings': drugbank_RINGS,'aliphatic rings': drugbank_Aliph_RINGS,'aromatic rings': drugbank_Arom_RINGS,\n",
    "                        'rotatable bonds': drugbank_RotBond, 'heavy atoms': drugbank_AtomCount,\n",
    "                        'HBA': drugbank_HBAcc, 'HBD': drugbank_HBDon, 'MW': drugbank_MolWt,\n",
    "                        'TPSA': drugbank_TPSA, 'logP': drugbank_LogP})\n",
    "tabulka_hodnot_drugbank"
   ]
  },
  {
   "cell_type": "code",
   "execution_count": 22,
   "metadata": {},
   "outputs": [
    {
     "data": {
      "text/plain": [
       "<matplotlib.axes._subplots.AxesSubplot at 0x7f45a773cef0>"
      ]
     },
     "execution_count": 22,
     "metadata": {},
     "output_type": "execute_result"
    },
    {
     "data": {
      "image/png": "[encoded data removed]",
      "text/plain": [
       "<Figure size 432x288 with 1 Axes>"
      ]
     },
     "metadata": {
      "needs_background": "light"
     },
     "output_type": "display_data"
    }
   ],
   "source": [
    "sns.boxplot(data=tabulka_hodnot_drugbank[['rings', 'aliphatic rings', 'aromatic rings', 'rotatable bonds', 'heavy atoms', 'HBA', 'HBD', 'logP']], showfliers=False)"
   ]
  },
  {
   "cell_type": "code",
   "execution_count": 23,
   "metadata": {},
   "outputs": [
    {
     "data": {
      "text/plain": [
       "<matplotlib.axes._subplots.AxesSubplot at 0x7f45a6fdcda0>"
      ]
     },
     "execution_count": 23,
     "metadata": {},
     "output_type": "execute_result"
    },
    {
     "data": {
      "image/png": "[encoded data removed]",
      "text/plain": [
       "<Figure size 432x288 with 1 Axes>"
      ]
     },
     "metadata": {
      "needs_background": "light"
     },
     "output_type": "display_data"
    }
   ],
   "source": [
    "sns.boxplot(data=tabulka_hodnot_drugbank[['MW', 'TPSA']], showfliers = False)"
   ]
  },
  {
   "cell_type": "markdown",
   "metadata": {},
   "source": [
    "Pro lepší přehlednost kombinuji pro porovnání nejprve deskriptory (rings, aliphatic rings a aromatic rings)"
   ]
  },
  {
   "cell_type": "code",
   "execution_count": 24,
   "metadata": {},
   "outputs": [],
   "source": [
    "tabulka_hodnot_erbB1_KRUHY = pd.DataFrame(data={'set':'erbB1', 'rings': lig_RINGS,'aliphatic rings': lig_Aliph_RINGS,'aromatic rings': lig_Arom_RINGS})\n",
    "tabulka_hodnot_drugbank_KRUHY = pd.DataFrame(data={'set':'drugbank', 'rings': drugbank_RINGS,'aliphatic rings': drugbank_Aliph_RINGS,'aromatic rings': drugbank_Arom_RINGS})"
   ]
  },
  {
   "cell_type": "code",
   "execution_count": 25,
   "metadata": {},
   "outputs": [
    {
     "data": {
      "text/html": [
       "<div>\n",
       "<style scoped>\n",
       "    .dataframe tbody tr th:only-of-type {\n",
       "        vertical-align: middle;\n",
       "    }\n",
       "\n",
       "    .dataframe tbody tr th {\n",
       "        vertical-align: top;\n",
       "    }\n",
       "\n",
       "    .dataframe thead th {\n",
       "        text-align: right;\n",
       "    }\n",
       "</style>\n",
       "<table border=\"1\" class=\"dataframe\">\n",
       "  <thead>\n",
       "    <tr style=\"text-align: right;\">\n",
       "      <th></th>\n",
       "      <th>set</th>\n",
       "      <th>rings</th>\n",
       "      <th>aliphatic rings</th>\n",
       "      <th>aromatic rings</th>\n",
       "    </tr>\n",
       "  </thead>\n",
       "  <tbody>\n",
       "    <tr>\n",
       "      <th>0</th>\n",
       "      <td>erbB1</td>\n",
       "      <td>4</td>\n",
       "      <td>0</td>\n",
       "      <td>4</td>\n",
       "    </tr>\n",
       "    <tr>\n",
       "      <th>1</th>\n",
       "      <td>erbB1</td>\n",
       "      <td>2</td>\n",
       "      <td>0</td>\n",
       "      <td>2</td>\n",
       "    </tr>\n",
       "    <tr>\n",
       "      <th>2</th>\n",
       "      <td>erbB1</td>\n",
       "      <td>4</td>\n",
       "      <td>0</td>\n",
       "      <td>4</td>\n",
       "    </tr>\n",
       "    <tr>\n",
       "      <th>3</th>\n",
       "      <td>erbB1</td>\n",
       "      <td>6</td>\n",
       "      <td>1</td>\n",
       "      <td>5</td>\n",
       "    </tr>\n",
       "    <tr>\n",
       "      <th>4</th>\n",
       "      <td>erbB1</td>\n",
       "      <td>3</td>\n",
       "      <td>0</td>\n",
       "      <td>3</td>\n",
       "    </tr>\n",
       "    <tr>\n",
       "      <th>...</th>\n",
       "      <td>...</td>\n",
       "      <td>...</td>\n",
       "      <td>...</td>\n",
       "      <td>...</td>\n",
       "    </tr>\n",
       "    <tr>\n",
       "      <th>19604</th>\n",
       "      <td>drugbank</td>\n",
       "      <td>1</td>\n",
       "      <td>1</td>\n",
       "      <td>1</td>\n",
       "    </tr>\n",
       "    <tr>\n",
       "      <th>19605</th>\n",
       "      <td>drugbank</td>\n",
       "      <td>3</td>\n",
       "      <td>3</td>\n",
       "      <td>3</td>\n",
       "    </tr>\n",
       "    <tr>\n",
       "      <th>19606</th>\n",
       "      <td>drugbank</td>\n",
       "      <td>6</td>\n",
       "      <td>6</td>\n",
       "      <td>6</td>\n",
       "    </tr>\n",
       "    <tr>\n",
       "      <th>19607</th>\n",
       "      <td>drugbank</td>\n",
       "      <td>0</td>\n",
       "      <td>0</td>\n",
       "      <td>0</td>\n",
       "    </tr>\n",
       "    <tr>\n",
       "      <th>19608</th>\n",
       "      <td>drugbank</td>\n",
       "      <td>4</td>\n",
       "      <td>4</td>\n",
       "      <td>4</td>\n",
       "    </tr>\n",
       "  </tbody>\n",
       "</table>\n",
       "<p>19609 rows × 4 columns</p>\n",
       "</div>"
      ],
      "text/plain": [
       "            set  rings  aliphatic rings  aromatic rings\n",
       "0         erbB1      4                0               4\n",
       "1         erbB1      2                0               2\n",
       "2         erbB1      4                0               4\n",
       "3         erbB1      6                1               5\n",
       "4         erbB1      3                0               3\n",
       "...         ...    ...              ...             ...\n",
       "19604  drugbank      1                1               1\n",
       "19605  drugbank      3                3               3\n",
       "19606  drugbank      6                6               6\n",
       "19607  drugbank      0                0               0\n",
       "19608  drugbank      4                4               4\n",
       "\n",
       "[19609 rows x 4 columns]"
      ]
     },
     "execution_count": 25,
     "metadata": {},
     "output_type": "execute_result"
    }
   ],
   "source": [
    "tabulka_hodnot_vse_KRUHY = pd.concat([tabulka_hodnot_erbB1_KRUHY, tabulka_hodnot_drugbank_KRUHY], ignore_index=True)\n",
    "tabulka_hodnot_vse_KRUHY"
   ]
  },
  {
   "cell_type": "code",
   "execution_count": 26,
   "metadata": {},
   "outputs": [
    {
     "data": {
      "text/html": [
       "<div>\n",
       "<style scoped>\n",
       "    .dataframe tbody tr th:only-of-type {\n",
       "        vertical-align: middle;\n",
       "    }\n",
       "\n",
       "    .dataframe tbody tr th {\n",
       "        vertical-align: top;\n",
       "    }\n",
       "\n",
       "    .dataframe thead th {\n",
       "        text-align: right;\n",
       "    }\n",
       "</style>\n",
       "<table border=\"1\" class=\"dataframe\">\n",
       "  <thead>\n",
       "    <tr style=\"text-align: right;\">\n",
       "      <th></th>\n",
       "      <th>set</th>\n",
       "      <th>variable</th>\n",
       "      <th>value</th>\n",
       "    </tr>\n",
       "  </thead>\n",
       "  <tbody>\n",
       "    <tr>\n",
       "      <th>0</th>\n",
       "      <td>erbB1</td>\n",
       "      <td>rings</td>\n",
       "      <td>4</td>\n",
       "    </tr>\n",
       "    <tr>\n",
       "      <th>1</th>\n",
       "      <td>erbB1</td>\n",
       "      <td>rings</td>\n",
       "      <td>2</td>\n",
       "    </tr>\n",
       "    <tr>\n",
       "      <th>2</th>\n",
       "      <td>erbB1</td>\n",
       "      <td>rings</td>\n",
       "      <td>4</td>\n",
       "    </tr>\n",
       "    <tr>\n",
       "      <th>3</th>\n",
       "      <td>erbB1</td>\n",
       "      <td>rings</td>\n",
       "      <td>6</td>\n",
       "    </tr>\n",
       "    <tr>\n",
       "      <th>4</th>\n",
       "      <td>erbB1</td>\n",
       "      <td>rings</td>\n",
       "      <td>3</td>\n",
       "    </tr>\n",
       "    <tr>\n",
       "      <th>...</th>\n",
       "      <td>...</td>\n",
       "      <td>...</td>\n",
       "      <td>...</td>\n",
       "    </tr>\n",
       "    <tr>\n",
       "      <th>58822</th>\n",
       "      <td>drugbank</td>\n",
       "      <td>aromatic rings</td>\n",
       "      <td>1</td>\n",
       "    </tr>\n",
       "    <tr>\n",
       "      <th>58823</th>\n",
       "      <td>drugbank</td>\n",
       "      <td>aromatic rings</td>\n",
       "      <td>3</td>\n",
       "    </tr>\n",
       "    <tr>\n",
       "      <th>58824</th>\n",
       "      <td>drugbank</td>\n",
       "      <td>aromatic rings</td>\n",
       "      <td>6</td>\n",
       "    </tr>\n",
       "    <tr>\n",
       "      <th>58825</th>\n",
       "      <td>drugbank</td>\n",
       "      <td>aromatic rings</td>\n",
       "      <td>0</td>\n",
       "    </tr>\n",
       "    <tr>\n",
       "      <th>58826</th>\n",
       "      <td>drugbank</td>\n",
       "      <td>aromatic rings</td>\n",
       "      <td>4</td>\n",
       "    </tr>\n",
       "  </tbody>\n",
       "</table>\n",
       "<p>58827 rows × 3 columns</p>\n",
       "</div>"
      ],
      "text/plain": [
       "            set        variable  value\n",
       "0         erbB1           rings      4\n",
       "1         erbB1           rings      2\n",
       "2         erbB1           rings      4\n",
       "3         erbB1           rings      6\n",
       "4         erbB1           rings      3\n",
       "...         ...             ...    ...\n",
       "58822  drugbank  aromatic rings      1\n",
       "58823  drugbank  aromatic rings      3\n",
       "58824  drugbank  aromatic rings      6\n",
       "58825  drugbank  aromatic rings      0\n",
       "58826  drugbank  aromatic rings      4\n",
       "\n",
       "[58827 rows x 3 columns]"
      ]
     },
     "execution_count": 26,
     "metadata": {},
     "output_type": "execute_result"
    }
   ],
   "source": [
    "sjednocena_tabulka_KRUHY = pd.melt(tabulka_hodnot_vse_KRUHY, id_vars=['set'],\n",
    "value_vars=['rings', 'aliphatic rings', 'aromatic rings'])\n",
    "sjednocena_tabulka_KRUHY"
   ]
  },
  {
   "cell_type": "code",
   "execution_count": 27,
   "metadata": {},
   "outputs": [
    {
     "data": {
      "text/plain": [
       "<matplotlib.axes._subplots.AxesSubplot at 0x7f45dc5e8c18>"
      ]
     },
     "execution_count": 27,
     "metadata": {},
     "output_type": "execute_result"
    },
    {
     "data": {
      "image/png": "[encoded data removed]",
      "text/plain": [
       "<Figure size 432x288 with 1 Axes>"
      ]
     },
     "metadata": {
      "needs_background": "light"
     },
     "output_type": "display_data"
    }
   ],
   "source": [
    "sns.boxplot(y='value', x='variable', hue='set', data=sjednocena_tabulka_KRUHY, showfliers=False)"
   ]
  },
  {
   "cell_type": "markdown",
   "metadata": {},
   "source": [
    "Po vizualizaci můžeme vidět, že počet kruhů ligandů erbB1 je obecně vyšší než u různorodé sbírky ligandů v drugbanku. Taktéž je zřejmé, že u erbB1 ligandů převažují kruhy aromatické, což by teoreticky mohlo nahrávat k myšlence, že tu bude nějaká role pi-pi interakce při interakci ligandu s protreinem.\n",
    "\n",
    "Dále kombinuji pro porovnání deskriptory (heavy atoms, HBA a HBD)"
   ]
  },
  {
   "cell_type": "code",
   "execution_count": 28,
   "metadata": {},
   "outputs": [
    {
     "data": {
      "text/html": [
       "<div>\n",
       "<style scoped>\n",
       "    .dataframe tbody tr th:only-of-type {\n",
       "        vertical-align: middle;\n",
       "    }\n",
       "\n",
       "    .dataframe tbody tr th {\n",
       "        vertical-align: top;\n",
       "    }\n",
       "\n",
       "    .dataframe thead th {\n",
       "        text-align: right;\n",
       "    }\n",
       "</style>\n",
       "<table border=\"1\" class=\"dataframe\">\n",
       "  <thead>\n",
       "    <tr style=\"text-align: right;\">\n",
       "      <th></th>\n",
       "      <th>set</th>\n",
       "      <th>variable</th>\n",
       "      <th>value</th>\n",
       "    </tr>\n",
       "  </thead>\n",
       "  <tbody>\n",
       "    <tr>\n",
       "      <th>0</th>\n",
       "      <td>erbB1</td>\n",
       "      <td>heavy atoms</td>\n",
       "      <td>25</td>\n",
       "    </tr>\n",
       "    <tr>\n",
       "      <th>1</th>\n",
       "      <td>erbB1</td>\n",
       "      <td>heavy atoms</td>\n",
       "      <td>22</td>\n",
       "    </tr>\n",
       "    <tr>\n",
       "      <th>2</th>\n",
       "      <td>erbB1</td>\n",
       "      <td>heavy atoms</td>\n",
       "      <td>32</td>\n",
       "    </tr>\n",
       "    <tr>\n",
       "      <th>3</th>\n",
       "      <td>erbB1</td>\n",
       "      <td>heavy atoms</td>\n",
       "      <td>49</td>\n",
       "    </tr>\n",
       "    <tr>\n",
       "      <th>4</th>\n",
       "      <td>erbB1</td>\n",
       "      <td>heavy atoms</td>\n",
       "      <td>37</td>\n",
       "    </tr>\n",
       "    <tr>\n",
       "      <th>...</th>\n",
       "      <td>...</td>\n",
       "      <td>...</td>\n",
       "      <td>...</td>\n",
       "    </tr>\n",
       "    <tr>\n",
       "      <th>58822</th>\n",
       "      <td>drugbank</td>\n",
       "      <td>HBD</td>\n",
       "      <td>1</td>\n",
       "    </tr>\n",
       "    <tr>\n",
       "      <th>58823</th>\n",
       "      <td>drugbank</td>\n",
       "      <td>HBD</td>\n",
       "      <td>5</td>\n",
       "    </tr>\n",
       "    <tr>\n",
       "      <th>58824</th>\n",
       "      <td>drugbank</td>\n",
       "      <td>HBD</td>\n",
       "      <td>13</td>\n",
       "    </tr>\n",
       "    <tr>\n",
       "      <th>58825</th>\n",
       "      <td>drugbank</td>\n",
       "      <td>HBD</td>\n",
       "      <td>0</td>\n",
       "    </tr>\n",
       "    <tr>\n",
       "      <th>58826</th>\n",
       "      <td>drugbank</td>\n",
       "      <td>HBD</td>\n",
       "      <td>1</td>\n",
       "    </tr>\n",
       "  </tbody>\n",
       "</table>\n",
       "<p>58827 rows × 3 columns</p>\n",
       "</div>"
      ],
      "text/plain": [
       "            set     variable  value\n",
       "0         erbB1  heavy atoms     25\n",
       "1         erbB1  heavy atoms     22\n",
       "2         erbB1  heavy atoms     32\n",
       "3         erbB1  heavy atoms     49\n",
       "4         erbB1  heavy atoms     37\n",
       "...         ...          ...    ...\n",
       "58822  drugbank          HBD      1\n",
       "58823  drugbank          HBD      5\n",
       "58824  drugbank          HBD     13\n",
       "58825  drugbank          HBD      0\n",
       "58826  drugbank          HBD      1\n",
       "\n",
       "[58827 rows x 3 columns]"
      ]
     },
     "execution_count": 28,
     "metadata": {},
     "output_type": "execute_result"
    }
   ],
   "source": [
    "tabulka_hodnot_erbB1_ATOMY = pd.DataFrame(data={'set':'erbB1', 'heavy atoms': lig_AtomCount,'HBA': lig_HBAcc, 'HBD': lig_HBDon})\n",
    "tabulka_hodnot_drugbank_ATOMY = pd.DataFrame(data={'set':'drugbank', 'heavy atoms': drugbank_AtomCount,'HBA': drugbank_HBAcc, 'HBD': drugbank_HBDon})\n",
    "tabulka_hodnot_vse_ATOMY = pd.concat([tabulka_hodnot_erbB1_ATOMY, tabulka_hodnot_drugbank_ATOMY], ignore_index=True)\n",
    "sjednocena_tabulka_ATOMY = pd.melt(tabulka_hodnot_vse_ATOMY, id_vars=['set'],\n",
    "value_vars=['heavy atoms', 'HBA', 'HBD'])\n",
    "sjednocena_tabulka_ATOMY"
   ]
  },
  {
   "cell_type": "code",
   "execution_count": 29,
   "metadata": {},
   "outputs": [
    {
     "data": {
      "text/plain": [
       "<matplotlib.axes._subplots.AxesSubplot at 0x7f45a6ec0ef0>"
      ]
     },
     "execution_count": 29,
     "metadata": {},
     "output_type": "execute_result"
    },
    {
     "data": {
      "image/png": "[encoded data removed]",
      "text/plain": [
       "<Figure size 432x288 with 1 Axes>"
      ]
     },
     "metadata": {
      "needs_background": "light"
     },
     "output_type": "display_data"
    }
   ],
   "source": [
    "sns.boxplot(y='value', x='variable', hue='set', data=sjednocena_tabulka_ATOMY, showfliers=False)"
   ]
  },
  {
   "cell_type": "markdown",
   "metadata": {},
   "source": [
    "Po té to vizualizaci můžeme vidět, že erbB1 ligandy mají obecně vyšší počet atomů než ligandy drugbanku, ovšem počty akceptorů a donorů vodíkových vazeb  jsou si podobné."
   ]
  },
  {
   "cell_type": "code",
   "execution_count": 30,
   "metadata": {},
   "outputs": [
    {
     "data": {
      "text/html": [
       "<div>\n",
       "<style scoped>\n",
       "    .dataframe tbody tr th:only-of-type {\n",
       "        vertical-align: middle;\n",
       "    }\n",
       "\n",
       "    .dataframe tbody tr th {\n",
       "        vertical-align: top;\n",
       "    }\n",
       "\n",
       "    .dataframe thead th {\n",
       "        text-align: right;\n",
       "    }\n",
       "</style>\n",
       "<table border=\"1\" class=\"dataframe\">\n",
       "  <thead>\n",
       "    <tr style=\"text-align: right;\">\n",
       "      <th></th>\n",
       "      <th>set</th>\n",
       "      <th>variable</th>\n",
       "      <th>value</th>\n",
       "    </tr>\n",
       "  </thead>\n",
       "  <tbody>\n",
       "    <tr>\n",
       "      <th>0</th>\n",
       "      <td>erbB1</td>\n",
       "      <td>rotatable bonds</td>\n",
       "      <td>4.0000</td>\n",
       "    </tr>\n",
       "    <tr>\n",
       "      <th>1</th>\n",
       "      <td>erbB1</td>\n",
       "      <td>rotatable bonds</td>\n",
       "      <td>4.0000</td>\n",
       "    </tr>\n",
       "    <tr>\n",
       "      <th>2</th>\n",
       "      <td>erbB1</td>\n",
       "      <td>rotatable bonds</td>\n",
       "      <td>6.0000</td>\n",
       "    </tr>\n",
       "    <tr>\n",
       "      <th>3</th>\n",
       "      <td>erbB1</td>\n",
       "      <td>rotatable bonds</td>\n",
       "      <td>13.0000</td>\n",
       "    </tr>\n",
       "    <tr>\n",
       "      <th>4</th>\n",
       "      <td>erbB1</td>\n",
       "      <td>rotatable bonds</td>\n",
       "      <td>11.0000</td>\n",
       "    </tr>\n",
       "    <tr>\n",
       "      <th>...</th>\n",
       "      <td>...</td>\n",
       "      <td>...</td>\n",
       "      <td>...</td>\n",
       "    </tr>\n",
       "    <tr>\n",
       "      <th>39213</th>\n",
       "      <td>drugbank</td>\n",
       "      <td>logP</td>\n",
       "      <td>2.0456</td>\n",
       "    </tr>\n",
       "    <tr>\n",
       "      <th>39214</th>\n",
       "      <td>drugbank</td>\n",
       "      <td>logP</td>\n",
       "      <td>-1.3227</td>\n",
       "    </tr>\n",
       "    <tr>\n",
       "      <th>39215</th>\n",
       "      <td>drugbank</td>\n",
       "      <td>logP</td>\n",
       "      <td>1.5471</td>\n",
       "    </tr>\n",
       "    <tr>\n",
       "      <th>39216</th>\n",
       "      <td>drugbank</td>\n",
       "      <td>logP</td>\n",
       "      <td>-0.0003</td>\n",
       "    </tr>\n",
       "    <tr>\n",
       "      <th>39217</th>\n",
       "      <td>drugbank</td>\n",
       "      <td>logP</td>\n",
       "      <td>3.3504</td>\n",
       "    </tr>\n",
       "  </tbody>\n",
       "</table>\n",
       "<p>39218 rows × 3 columns</p>\n",
       "</div>"
      ],
      "text/plain": [
       "            set         variable    value\n",
       "0         erbB1  rotatable bonds   4.0000\n",
       "1         erbB1  rotatable bonds   4.0000\n",
       "2         erbB1  rotatable bonds   6.0000\n",
       "3         erbB1  rotatable bonds  13.0000\n",
       "4         erbB1  rotatable bonds  11.0000\n",
       "...         ...              ...      ...\n",
       "39213  drugbank             logP   2.0456\n",
       "39214  drugbank             logP  -1.3227\n",
       "39215  drugbank             logP   1.5471\n",
       "39216  drugbank             logP  -0.0003\n",
       "39217  drugbank             logP   3.3504\n",
       "\n",
       "[39218 rows x 3 columns]"
      ]
     },
     "execution_count": 30,
     "metadata": {},
     "output_type": "execute_result"
    }
   ],
   "source": [
    "tabulka_hodnot_erbB1_Rot_logP = pd.DataFrame(data={'set':'erbB1', 'rotatable bonds': lig_RotBond, 'logP': lig_LogP})\n",
    "tabulka_hodnot_drugbank_Rot_logP = pd.DataFrame(data={'set':'drugbank', 'rotatable bonds': drugbank_RotBond, 'logP': drugbank_LogP})\n",
    "tabulka_hodnot_vse_Rot_logP = pd.concat([tabulka_hodnot_erbB1_Rot_logP, tabulka_hodnot_drugbank_Rot_logP], ignore_index=True)\n",
    "sjednocena_tabulka_Rot_logP = pd.melt(tabulka_hodnot_vse_Rot_logP, id_vars=['set'],\n",
    "value_vars=['rotatable bonds', 'logP'])\n",
    "sjednocena_tabulka_Rot_logP"
   ]
  },
  {
   "cell_type": "code",
   "execution_count": 31,
   "metadata": {},
   "outputs": [
    {
     "data": {
      "text/html": [
       "<div>\n",
       "<style scoped>\n",
       "    .dataframe tbody tr th:only-of-type {\n",
       "        vertical-align: middle;\n",
       "    }\n",
       "\n",
       "    .dataframe tbody tr th {\n",
       "        vertical-align: top;\n",
       "    }\n",
       "\n",
       "    .dataframe thead th {\n",
       "        text-align: right;\n",
       "    }\n",
       "</style>\n",
       "<table border=\"1\" class=\"dataframe\">\n",
       "  <thead>\n",
       "    <tr style=\"text-align: right;\">\n",
       "      <th></th>\n",
       "      <th>set</th>\n",
       "      <th>variable</th>\n",
       "      <th>value</th>\n",
       "    </tr>\n",
       "  </thead>\n",
       "  <tbody>\n",
       "    <tr>\n",
       "      <th>0</th>\n",
       "      <td>erbB1</td>\n",
       "      <td>MW</td>\n",
       "      <td>351.099921</td>\n",
       "    </tr>\n",
       "    <tr>\n",
       "      <th>1</th>\n",
       "      <td>erbB1</td>\n",
       "      <td>MW</td>\n",
       "      <td>294.100442</td>\n",
       "    </tr>\n",
       "    <tr>\n",
       "      <th>2</th>\n",
       "      <td>erbB1</td>\n",
       "      <td>MW</td>\n",
       "      <td>436.134697</td>\n",
       "    </tr>\n",
       "    <tr>\n",
       "      <th>3</th>\n",
       "      <td>erbB1</td>\n",
       "      <td>MW</td>\n",
       "      <td>707.192895</td>\n",
       "    </tr>\n",
       "    <tr>\n",
       "      <th>4</th>\n",
       "      <td>erbB1</td>\n",
       "      <td>MW</td>\n",
       "      <td>523.198632</td>\n",
       "    </tr>\n",
       "    <tr>\n",
       "      <th>...</th>\n",
       "      <td>...</td>\n",
       "      <td>...</td>\n",
       "      <td>...</td>\n",
       "    </tr>\n",
       "    <tr>\n",
       "      <th>39213</th>\n",
       "      <td>drugbank</td>\n",
       "      <td>TPSA</td>\n",
       "      <td>20.230000</td>\n",
       "    </tr>\n",
       "    <tr>\n",
       "      <th>39214</th>\n",
       "      <td>drugbank</td>\n",
       "      <td>TPSA</td>\n",
       "      <td>149.820000</td>\n",
       "    </tr>\n",
       "    <tr>\n",
       "      <th>39215</th>\n",
       "      <td>drugbank</td>\n",
       "      <td>TPSA</td>\n",
       "      <td>403.100000</td>\n",
       "    </tr>\n",
       "    <tr>\n",
       "      <th>39216</th>\n",
       "      <td>drugbank</td>\n",
       "      <td>TPSA</td>\n",
       "      <td>83.500000</td>\n",
       "    </tr>\n",
       "    <tr>\n",
       "      <th>39217</th>\n",
       "      <td>drugbank</td>\n",
       "      <td>TPSA</td>\n",
       "      <td>71.440000</td>\n",
       "    </tr>\n",
       "  </tbody>\n",
       "</table>\n",
       "<p>39218 rows × 3 columns</p>\n",
       "</div>"
      ],
      "text/plain": [
       "            set variable       value\n",
       "0         erbB1       MW  351.099921\n",
       "1         erbB1       MW  294.100442\n",
       "2         erbB1       MW  436.134697\n",
       "3         erbB1       MW  707.192895\n",
       "4         erbB1       MW  523.198632\n",
       "...         ...      ...         ...\n",
       "39213  drugbank     TPSA   20.230000\n",
       "39214  drugbank     TPSA  149.820000\n",
       "39215  drugbank     TPSA  403.100000\n",
       "39216  drugbank     TPSA   83.500000\n",
       "39217  drugbank     TPSA   71.440000\n",
       "\n",
       "[39218 rows x 3 columns]"
      ]
     },
     "execution_count": 31,
     "metadata": {},
     "output_type": "execute_result"
    }
   ],
   "source": [
    "tabulka_hodnot_erbB1_MW_TPSA = pd.DataFrame(data={'set':'erbB1', 'MW': lig_MolWt,'TPSA': lig_TPSA})\n",
    "tabulka_hodnot_drugbank_MW_TPSA = pd.DataFrame(data={'set':'drugbank', 'MW': drugbank_MolWt,'TPSA': drugbank_TPSA})\n",
    "tabulka_hodnot_vse_MW_TPSA = pd.concat([tabulka_hodnot_erbB1_MW_TPSA, tabulka_hodnot_drugbank_MW_TPSA], ignore_index=True)\n",
    "sjednocena_tabulka_MW_TPSA = pd.melt(tabulka_hodnot_vse_MW_TPSA, id_vars=['set'],\n",
    "value_vars=['MW', 'TPSA'])\n",
    "sjednocena_tabulka_MW_TPSA"
   ]
  },
  {
   "cell_type": "code",
   "execution_count": 32,
   "metadata": {},
   "outputs": [
    {
     "data": {
      "text/plain": [
       "<matplotlib.axes._subplots.AxesSubplot at 0x7f45a6de7668>"
      ]
     },
     "execution_count": 32,
     "metadata": {},
     "output_type": "execute_result"
    },
    {
     "data": {
      "image/png": "[encoded data removed]",
      "text/plain": [
       "<Figure size 432x288 with 1 Axes>"
      ]
     },
     "metadata": {
      "needs_background": "light"
     },
     "output_type": "display_data"
    }
   ],
   "source": [
    "sns.boxplot(y='value', x='variable', hue='set', data=sjednocena_tabulka_Rot_logP, showfliers=False)"
   ]
  },
  {
   "cell_type": "code",
   "execution_count": 33,
   "metadata": {},
   "outputs": [
    {
     "data": {
      "text/plain": [
       "<matplotlib.axes._subplots.AxesSubplot at 0x7f45a6d24668>"
      ]
     },
     "execution_count": 33,
     "metadata": {},
     "output_type": "execute_result"
    },
    {
     "data": {
      "image/png": "[encoded data removed]",
      "text/plain": [
       "<Figure size 432x288 with 1 Axes>"
      ]
     },
     "metadata": {
      "needs_background": "light"
     },
     "output_type": "display_data"
    }
   ],
   "source": [
    "sns.boxplot(y='value', x='variable', hue='set', data=sjednocena_tabulka_MW_TPSA, showfliers=False)"
   ]
  },
  {
   "cell_type": "markdown",
   "metadata": {},
   "source": [
    "Po vizualizaci posledních deskriptorů je zřejmé, že molekulové hmotnosti ligandů erbB1 jsou vyšší než ligandů drugbanku, což koreluje s počtem atomů. \n",
    "\n",
    "Dále, že TPSA hodnoty se od sebe navzájem tak neliší na to, že počet molekul je celkem vysoký. Stejně jako hodnoty logP, které jsou obecně vyšší než u ligandů drugbanku, což by mohlo být na vysoký počet cyklů a vcelku nízky počet HBA a HBD odpovídající.\n",
    "\n"
   ]
  },
  {
   "cell_type": "code",
   "execution_count": 34,
   "metadata": {},
   "outputs": [],
   "source": [
    "erbB1_HeteroatomsRatio = [rdescriptors.CalcNumHeteroatoms(x)/x.GetNumHeavyAtoms() for x in lig_MOLECULES if x.GetNumHeavyAtoms()>0]\n",
    "drugbank_HeteroatomsRatio = [rdescriptors.CalcNumHeteroatoms(x)/x.GetNumHeavyAtoms() for x in drugs if x.GetNumHeavyAtoms()>0]\n",
    "erbB1_HeterocyclesRatio = [rdescriptors.CalcNumHeterocycles(x)/rdescriptors.CalcNumRings(x)\n",
    "                           for x in lig_MOLECULES if rdescriptors.CalcNumRings(x)>0]\n",
    "drugbank_HeterocyclesRatio = [rdescriptors.CalcNumHeterocycles(x)/rdescriptors.CalcNumRings(x)\n",
    "                               for x in drugs if rdescriptors.CalcNumRings(x)>0]\n",
    "erbB1_CarbocyclesRatio = [(rdescriptors.CalcNumAliphaticCarbocycles(x)+rdescriptors.CalcNumAromaticCarbocycles(x))/rdescriptors.CalcNumRings(x)\n",
    "                           for x in lig_MOLECULES if rdescriptors.CalcNumRings(x)>0]\n",
    "drugbank_CarbocyclesRatio = [(rdescriptors.CalcNumAliphaticCarbocycles(x)+rdescriptors.CalcNumAromaticCarbocycles(x))/rdescriptors.CalcNumRings(x)\n",
    "                               for x in drugs if rdescriptors.CalcNumRings(x)>0]"
   ]
  },
  {
   "cell_type": "code",
   "execution_count": 35,
   "metadata": {},
   "outputs": [
    {
     "data": {
      "text/html": [
       "<div>\n",
       "<style scoped>\n",
       "    .dataframe tbody tr th:only-of-type {\n",
       "        vertical-align: middle;\n",
       "    }\n",
       "\n",
       "    .dataframe tbody tr th {\n",
       "        vertical-align: top;\n",
       "    }\n",
       "\n",
       "    .dataframe thead th {\n",
       "        text-align: right;\n",
       "    }\n",
       "</style>\n",
       "<table border=\"1\" class=\"dataframe\">\n",
       "  <thead>\n",
       "    <tr style=\"text-align: right;\">\n",
       "      <th></th>\n",
       "      <th>set</th>\n",
       "      <th>variable</th>\n",
       "      <th>value</th>\n",
       "    </tr>\n",
       "  </thead>\n",
       "  <tbody>\n",
       "    <tr>\n",
       "      <th>0</th>\n",
       "      <td>erbB1</td>\n",
       "      <td>heteroatom ratio</td>\n",
       "      <td>0.320000</td>\n",
       "    </tr>\n",
       "    <tr>\n",
       "      <th>1</th>\n",
       "      <td>erbB1</td>\n",
       "      <td>heteroatom ratio</td>\n",
       "      <td>0.227273</td>\n",
       "    </tr>\n",
       "    <tr>\n",
       "      <th>2</th>\n",
       "      <td>erbB1</td>\n",
       "      <td>heteroatom ratio</td>\n",
       "      <td>0.281250</td>\n",
       "    </tr>\n",
       "    <tr>\n",
       "      <th>3</th>\n",
       "      <td>erbB1</td>\n",
       "      <td>heteroatom ratio</td>\n",
       "      <td>0.326531</td>\n",
       "    </tr>\n",
       "    <tr>\n",
       "      <th>4</th>\n",
       "      <td>erbB1</td>\n",
       "      <td>heteroatom ratio</td>\n",
       "      <td>0.270270</td>\n",
       "    </tr>\n",
       "    <tr>\n",
       "      <th>...</th>\n",
       "      <td>...</td>\n",
       "      <td>...</td>\n",
       "      <td>...</td>\n",
       "    </tr>\n",
       "    <tr>\n",
       "      <th>56654</th>\n",
       "      <td>drugbank</td>\n",
       "      <td>carbocycle ratio</td>\n",
       "      <td>1.000000</td>\n",
       "    </tr>\n",
       "    <tr>\n",
       "      <th>56655</th>\n",
       "      <td>drugbank</td>\n",
       "      <td>carbocycle ratio</td>\n",
       "      <td>1.000000</td>\n",
       "    </tr>\n",
       "    <tr>\n",
       "      <th>56656</th>\n",
       "      <td>drugbank</td>\n",
       "      <td>carbocycle ratio</td>\n",
       "      <td>0.333333</td>\n",
       "    </tr>\n",
       "    <tr>\n",
       "      <th>56657</th>\n",
       "      <td>drugbank</td>\n",
       "      <td>carbocycle ratio</td>\n",
       "      <td>0.500000</td>\n",
       "    </tr>\n",
       "    <tr>\n",
       "      <th>56658</th>\n",
       "      <td>drugbank</td>\n",
       "      <td>carbocycle ratio</td>\n",
       "      <td>1.000000</td>\n",
       "    </tr>\n",
       "  </tbody>\n",
       "</table>\n",
       "<p>56659 rows × 3 columns</p>\n",
       "</div>"
      ],
      "text/plain": [
       "            set          variable     value\n",
       "0         erbB1  heteroatom ratio  0.320000\n",
       "1         erbB1  heteroatom ratio  0.227273\n",
       "2         erbB1  heteroatom ratio  0.281250\n",
       "3         erbB1  heteroatom ratio  0.326531\n",
       "4         erbB1  heteroatom ratio  0.270270\n",
       "...         ...               ...       ...\n",
       "56654  drugbank  carbocycle ratio  1.000000\n",
       "56655  drugbank  carbocycle ratio  1.000000\n",
       "56656  drugbank  carbocycle ratio  0.333333\n",
       "56657  drugbank  carbocycle ratio  0.500000\n",
       "56658  drugbank  carbocycle ratio  1.000000\n",
       "\n",
       "[56659 rows x 3 columns]"
      ]
     },
     "execution_count": 35,
     "metadata": {},
     "output_type": "execute_result"
    }
   ],
   "source": [
    "tabulka_HetRatio = pd.DataFrame(data=[{'set': 'erbB1', 'variable': 'heteroatom ratio', 'value': x}\n",
    "                        for x in erbB1_HeteroatomsRatio])\n",
    "tabulka_HetRatio = tabulka_HetRatio.append(pd.DataFrame(data=[{'set': 'drugbank', 'variable': 'heteroatom ratio', 'value': x}\n",
    "                                  for x in drugbank_HeteroatomsRatio]), ignore_index=True)\n",
    "tabulka_HetRatio = tabulka_HetRatio.append(pd.DataFrame(data=[{'set': 'erbB1', 'variable': 'heterocycle ratio', 'value': x}\n",
    "                                  for x in erbB1_HeterocyclesRatio]), ignore_index=True)\n",
    "tabulka_HetRatio = tabulka_HetRatio.append(pd.DataFrame(data=[{'set': 'drugbank', 'variable': 'heterocycle ratio', 'value': x}\n",
    "                                  for x in drugbank_HeterocyclesRatio]), ignore_index=True)\n",
    "tabulka_HetRatio = tabulka_HetRatio.append(pd.DataFrame(data=[{'set': 'erbB1', 'variable': 'carborocycle ratio', 'value': x}\n",
    "                                  for x in erbB1_CarbocyclesRatio]), ignore_index=True)\n",
    "tabulka_HetRatio = tabulka_HetRatio.append(pd.DataFrame(data=[{'set': 'drugbank', 'variable': 'carbocycle ratio', 'value': x}\n",
    "                                  for x in drugbank_CarbocyclesRatio]), ignore_index=True)\n",
    "tabulka_HetRatio"
   ]
  },
  {
   "cell_type": "code",
   "execution_count": 36,
   "metadata": {},
   "outputs": [
    {
     "data": {
      "text/plain": [
       "<matplotlib.axes._subplots.AxesSubplot at 0x7f45a6c5b6d8>"
      ]
     },
     "execution_count": 36,
     "metadata": {},
     "output_type": "execute_result"
    },
    {
     "data": {
      "image/png": "[encoded data removed]",
      "text/plain": [
       "<Figure size 432x288 with 1 Axes>"
      ]
     },
     "metadata": {
      "needs_background": "light"
     },
     "output_type": "display_data"
    }
   ],
   "source": [
    "sns.boxplot(y='value', x='variable', hue='set', data=tabulka_HetRatio, showfliers=False)"
   ]
  },
  {
   "cell_type": "markdown",
   "metadata": {},
   "source": [
    "Na závěr jsem se pokusil vizualizovat podíl heteroatomů, heterocyklů a taktéž karbacyklů (který jsem doufám získal součtem počtu alifatických a aromatických karbacyklů).\n",
    "\n",
    "Ze získaného grafu je vidět, že podíl heteroatomů v molekulách erbB1 liagndů je celkem nízký, stejně jako podíl heterocyklů, který je dokonce o trochu nižší než podíl karbacyklů.\n",
    "\n",
    "Toto zjištění mě opět zavádí k myšlence, že by při interakcích s proteinem mohly hrát důležitou roli pi-pi interakce."
   ]
  },
  {
   "cell_type": "code",
   "execution_count": null,
   "metadata": {},
   "outputs": [],
   "source": []
  }
 ],
 "metadata": {
  "kernelspec": {
   "display_name": "Python 3",
   "language": "python",
   "name": "python3"
  },
  "language_info": {
   "codemirror_mode": {
    "name": "ipython",
    "version": 3
   },
   "file_extension": ".py",
   "mimetype": "text/x-python",
   "name": "python",
   "nbconvert_exporter": "python",
   "pygments_lexer": "ipython3",
   "version": "3.7.3"
  }
 },
 "nbformat": 4,
 "nbformat_minor": 4
}
