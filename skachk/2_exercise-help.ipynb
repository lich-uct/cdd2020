{
 "cells": [
  {
   "cell_type": "code",
   "execution_count": 1,
   "metadata": {},
   "outputs": [],
   "source": [
    "from rdkit import Chem\n",
    "from rdkit.Chem.Draw import IPythonConsole"
   ]
  },
  {
   "cell_type": "code",
   "execution_count": 4,
   "metadata": {},
   "outputs": [
    {
     "data": {
      "text/plain": [
       "OrderedDict([('Molecule ChEMBL ID', 'CHEMBL136755'),\n",
       "             ('Molecule Name', ''),\n",
       "             ('Molecule Max Phase', '0'),\n",
       "             ('Molecular Weight', '530.65'),\n",
       "             ('#RO5 Violations', '1'),\n",
       "             ('AlogP', '0.19'),\n",
       "             ('Compound Key', '19'),\n",
       "             ('Smiles',\n",
       "              'N=C(N)N1CCC(C(=O)NC[C@@H]2CCCN2C(=O)[C@H](CO)NS(=O)(=O)c2ccc3ccccc3c2)CC1'),\n",
       "             ('Standard Type', 'IC50'),\n",
       "             ('Standard Relation', \"'='\"),\n",
       "             ('Standard Value', '110.0'),\n",
       "             ('Standard Units', 'nM'),\n",
       "             ('pChEMBL Value', '6.96'),\n",
       "             ('Data Validity Comment', ''),\n",
       "             ('Comment', ''),\n",
       "             ('Uo Units', 'UO_0000065'),\n",
       "             ('Ligand Efficiency BEI', '13.11'),\n",
       "             ('Ligand Efficiency LE', '0.26'),\n",
       "             ('Ligand Efficiency LLE', '6.77'),\n",
       "             ('Ligand Efficiency SEI', '4.12'),\n",
       "             ('Potential Duplicate', 'False'),\n",
       "             ('Assay ChEMBL ID', 'CHEMBL771785'),\n",
       "             ('Assay Description',\n",
       "              'In vitro inhibition of human thrombin catalytic activity after 3 min pre incubation.'),\n",
       "             ('Assay Type', 'B'),\n",
       "             ('BAO Format ID', 'BAO_0000357'),\n",
       "             ('BAO Label', 'single protein format'),\n",
       "             ('Assay Organism', ''),\n",
       "             ('Assay Tissue ChEMBL ID', ''),\n",
       "             ('Assay Tissue Name', ''),\n",
       "             ('Assay Cell Type', ''),\n",
       "             ('Assay Subcellular Fraction', ''),\n",
       "             ('Target ChEMBL ID', 'CHEMBL204'),\n",
       "             ('Target Name', 'Thrombin'),\n",
       "             ('Target Organism', 'Homo sapiens'),\n",
       "             ('Target Type', 'SINGLE PROTEIN'),\n",
       "             ('Document ChEMBL ID', 'CHEMBL1135091'),\n",
       "             ('Source ID', '1'),\n",
       "             ('Source Description', 'Scientific Literature'),\n",
       "             ('Document Journal', 'Bioorg. Med. Chem. Lett.'),\n",
       "             ('Document Year', '2002'),\n",
       "             ('Cell ChEMBL ID', '')])"
      ]
     },
     "execution_count": 4,
     "metadata": {},
     "output_type": "execute_result"
    }
   ],
   "source": [
    "import csv\n",
    "# with open('/home/skachk/workspace/Project/data/chembl_thrombin_ic50.csv', 'r') as csvfile:\n",
    "# using relative path is better here ;)\n",
    "with open('chembl_thrombin_ic50.csv.csv', 'r') as csvfile:\n",
    "    reader = csv.DictReader(csvfile, delimiter=\";\")\n",
    "    rawdata = [x for x in reader]\n",
    "rawdata[0]"
   ]
  },
  {
   "cell_type": "code",
   "execution_count": 5,
   "metadata": {},
   "outputs": [
    {
     "name": "stdout",
     "output_type": "stream",
     "text": [
      "CHEMBL136755\n",
      "N=C(N)N1CCC(C(=O)NC[C@@H]2CCCN2C(=O)[C@H](CO)NS(=O)(=O)c2ccc3ccccc3c2)CC1\n"
     ]
    }
   ],
   "source": [
    "print(rawdata[0]['Molecule ChEMBL ID'])\n",
    "print(rawdata[0]['Smiles'])"
   ]
  },
  {
   "cell_type": "code",
   "execution_count": 6,
   "metadata": {},
   "outputs": [
    {
     "data": {
      "text/plain": [
       "(3236, 3236)"
      ]
     },
     "execution_count": 6,
     "metadata": {},
     "output_type": "execute_result"
    }
   ],
   "source": [
    "ligand_ids = [m['Molecule ChEMBL ID'] for m in rawdata]\n",
    "ligand_mols = [Chem.MolFromSmiles(m['Smiles']) for m in rawdata]\n",
    "len(ligand_ids), len(ligand_mols)"
   ]
  },
  {
   "cell_type": "markdown",
   "metadata": {},
   "source": [
    "Po opraveni cesty k datum mi Vas notebook zatim v pohode funguje... poprave nevim proc Vam to najednou nemohlo najit modul Chem. Tohle bude asi spis prostredim nez cimkoliv v kodu. Spoustel jste tento notebook vzdy z Vaseho pythonoveho prostredi ve kterem je RDKit a vse ostatni? U jupyterich notebooku kolikrat vznikaji problemy z toho ze se policka muzou spoustet v jiny casovy okamzik, klidne i v jinem poradi, promenne jsou pak v jinem stavu nez si clovek myslel, atd.\n",
    "\n",
    "Zkuste to cele resetnout a znovu spustit (Kernel > Restart & Run all), cimz se vylouci ze byla cast notebooku spustena v jinem prostredi, poradi, popr. jine notebookove haluze.\n",
    "Pokud to projde, super. Pokud se to zadrhne na importu hned na zacatku, nevidi to knihovny a je to mimo Vase RDKitove prostredi. V tom pripade zkuste aktivovat Vase RDKitove prostredi a spustit to z nej. Pak znovu Kernel > Restart, run all."
   ]
  }
 ],
 "metadata": {
  "kernelspec": {
   "display_name": "Python 3",
   "language": "python",
   "name": "python3"
  },
  "language_info": {
   "codemirror_mode": {
    "name": "ipython",
    "version": 3
   },
   "file_extension": ".py",
   "mimetype": "text/x-python",
   "name": "python",
   "nbconvert_exporter": "python",
   "pygments_lexer": "ipython3",
   "version": "3.7.3"
  }
 },
 "nbformat": 4,
 "nbformat_minor": 4
}
