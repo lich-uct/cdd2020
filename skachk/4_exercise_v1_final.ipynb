{
 "cells": [
  {
   "cell_type": "code",
   "execution_count": 1,
   "metadata": {},
   "outputs": [
    {
     "name": "stderr",
     "output_type": "stream",
     "text": [
      "RDKit ERROR: [20:39:13] Explicit valence for atom # 7 N, 4, is greater than permitted\n",
      "RDKit ERROR: [20:39:13] ERROR: Could not sanitize molecule ending on line 20009\n",
      "RDKit WARNING: [20:39:13] Warning: conflicting stereochemistry at atom 5 ignored.\n",
      "RDKit WARNING: [20:39:13] Warning: conflicting stereochemistry at atom 5 ignored.\n",
      "RDKit ERROR: [20:39:13] ERROR: Explicit valence for atom # 7 N, 4, is greater than permitted\n",
      "RDKit ERROR: [20:39:14] Can't kekulize mol.  Unkekulized atoms: 1 2 3 5 6 7 8 9 10\n",
      "RDKit ERROR: \n",
      "RDKit ERROR: [20:39:14] ERROR: Could not sanitize molecule ending on line 250947\n",
      "RDKit ERROR: [20:39:14] ERROR: Can't kekulize mol.  Unkekulized atoms: 1 2 3 5 6 7 8 9 10\n",
      "RDKit ERROR: \n",
      "RDKit ERROR: [20:39:14] Explicit valence for atom # 17 O, 3, is greater than permitted\n",
      "RDKit ERROR: [20:39:14] ERROR: Could not sanitize molecule ending on line 258130\n",
      "RDKit ERROR: [20:39:14] ERROR: Explicit valence for atom # 17 O, 3, is greater than permitted\n",
      "RDKit ERROR: [20:39:14] Can't kekulize mol.  Unkekulized atoms: 57 58 59 60 61 62 63 64 65\n",
      "RDKit ERROR: \n",
      "RDKit ERROR: [20:39:14] ERROR: Could not sanitize molecule ending on line 261581\n",
      "RDKit ERROR: [20:39:14] ERROR: Can't kekulize mol.  Unkekulized atoms: 57 58 59 60 61 62 63 64 65\n",
      "RDKit ERROR: \n",
      "RDKit ERROR: [20:39:14] Explicit valence for atom # 47 Mg, 4, is greater than permitted\n",
      "RDKit ERROR: [20:39:14] ERROR: Could not sanitize molecule ending on line 272221\n",
      "RDKit ERROR: [20:39:14] ERROR: Explicit valence for atom # 47 Mg, 4, is greater than permitted\n",
      "RDKit ERROR: [20:39:14] Can't kekulize mol.  Unkekulized atoms: 0 1 2 6 7 8 9 10 11 12 13 14 15 16 17\n",
      "RDKit ERROR: \n",
      "RDKit ERROR: [20:39:14] ERROR: Could not sanitize molecule ending on line 280661\n",
      "RDKit ERROR: [20:39:14] ERROR: Can't kekulize mol.  Unkekulized atoms: 0 1 2 6 7 8 9 10 11 12 13 14 15 16 17\n",
      "RDKit ERROR: \n",
      "RDKit ERROR: [20:39:14] Explicit valence for atom # 13 Cl, 5, is greater than permitted\n",
      "RDKit ERROR: [20:39:14] ERROR: Could not sanitize molecule ending on line 282635\n",
      "RDKit ERROR: [20:39:14] ERROR: Explicit valence for atom # 13 Cl, 5, is greater than permitted\n",
      "RDKit ERROR: [20:39:14] Can't kekulize mol.  Unkekulized atoms: 3 4 5 6 7 8 10 11 12\n",
      "RDKit ERROR: \n",
      "RDKit ERROR: [20:39:14] ERROR: Could not sanitize molecule ending on line 292762\n",
      "RDKit ERROR: [20:39:14] ERROR: Can't kekulize mol.  Unkekulized atoms: 3 4 5 6 7 8 10 11 12\n",
      "RDKit ERROR: \n",
      "RDKit ERROR: [20:39:14] Can't kekulize mol.  Unkekulized atoms: 0 1 2 4 5 6 7 8 9 10\n",
      "RDKit ERROR: \n",
      "RDKit ERROR: [20:39:14] ERROR: Could not sanitize molecule ending on line 293836\n",
      "RDKit ERROR: [20:39:14] ERROR: Can't kekulize mol.  Unkekulized atoms: 0 1 2 4 5 6 7 8 9 10\n",
      "RDKit ERROR: \n",
      "RDKit ERROR: [20:39:14] Can't kekulize mol.  Unkekulized atoms: 2 3 4 5 6 7 8 9 10\n",
      "RDKit ERROR: \n",
      "RDKit ERROR: [20:39:14] ERROR: Could not sanitize molecule ending on line 302815\n",
      "RDKit ERROR: [20:39:14] ERROR: Can't kekulize mol.  Unkekulized atoms: 2 3 4 5 6 7 8 9 10\n",
      "RDKit ERROR: \n",
      "RDKit ERROR: [20:39:14] Can't kekulize mol.  Unkekulized atoms: 13 14 15 16 22\n",
      "RDKit ERROR: \n",
      "RDKit ERROR: [20:39:14] ERROR: Could not sanitize molecule ending on line 304047\n",
      "RDKit ERROR: [20:39:14] ERROR: Can't kekulize mol.  Unkekulized atoms: 13 14 15 16 22\n",
      "RDKit ERROR: \n",
      "RDKit ERROR: [20:39:14] Explicit valence for atom # 46 Mg, 4, is greater than permitted\n",
      "RDKit ERROR: [20:39:14] ERROR: Could not sanitize molecule ending on line 312454\n",
      "RDKit ERROR: [20:39:14] ERROR: Explicit valence for atom # 46 Mg, 4, is greater than permitted\n",
      "RDKit ERROR: [20:39:14] Explicit valence for atom # 27 N, 4, is greater than permitted\n",
      "RDKit ERROR: [20:39:14] ERROR: Could not sanitize molecule ending on line 317905\n",
      "RDKit ERROR: [20:39:14] ERROR: Explicit valence for atom # 27 N, 4, is greater than permitted\n",
      "RDKit ERROR: [20:39:14] Explicit valence for atom # 16 N, 4, is greater than permitted\n",
      "RDKit ERROR: [20:39:14] ERROR: Could not sanitize molecule ending on line 318439\n",
      "RDKit ERROR: [20:39:14] ERROR: Explicit valence for atom # 16 N, 4, is greater than permitted\n",
      "RDKit ERROR: [20:39:14] Can't kekulize mol.  Unkekulized atoms: 3 4 5 6 54\n",
      "RDKit ERROR: \n",
      "RDKit ERROR: [20:39:14] ERROR: Could not sanitize molecule ending on line 324910\n",
      "RDKit ERROR: [20:39:14] ERROR: Can't kekulize mol.  Unkekulized atoms: 3 4 5 6 54\n",
      "RDKit ERROR: \n",
      "RDKit ERROR: [20:39:14] Can't kekulize mol.  Unkekulized atoms: 3 4 5 6 7\n",
      "RDKit ERROR: \n",
      "RDKit ERROR: [20:39:14] ERROR: Could not sanitize molecule ending on line 326050\n",
      "RDKit ERROR: [20:39:14] ERROR: Can't kekulize mol.  Unkekulized atoms: 3 4 5 6 7\n",
      "RDKit ERROR: \n",
      "RDKit ERROR: [20:39:14] Can't kekulize mol.  Unkekulized atoms: 2 3 4 5 11\n",
      "RDKit ERROR: \n",
      "RDKit ERROR: [20:39:14] ERROR: Could not sanitize molecule ending on line 331986\n",
      "RDKit ERROR: [20:39:14] ERROR: Can't kekulize mol.  Unkekulized atoms: 2 3 4 5 11\n",
      "RDKit ERROR: \n",
      "RDKit ERROR: [20:39:14] Can't kekulize mol.  Unkekulized atoms: 1 2 3 4 5 6 7 8 9\n",
      "RDKit ERROR: \n",
      "RDKit ERROR: [20:39:14] ERROR: Could not sanitize molecule ending on line 333287\n",
      "RDKit ERROR: [20:39:14] ERROR: Can't kekulize mol.  Unkekulized atoms: 1 2 3 4 5 6 7 8 9\n",
      "RDKit ERROR: \n",
      "RDKit ERROR: [20:39:14] Can't kekulize mol.  Unkekulized atoms: 3 4 5 6 7\n",
      "RDKit ERROR: \n",
      "RDKit ERROR: [20:39:14] ERROR: Could not sanitize molecule ending on line 347574\n",
      "RDKit ERROR: [20:39:14] ERROR: Can't kekulize mol.  Unkekulized atoms: 3 4 5 6 7\n",
      "RDKit ERROR: \n",
      "RDKit ERROR: [20:39:14] Can't kekulize mol.  Unkekulized atoms: 5 6 7 8 9 10 11 12 13\n",
      "RDKit ERROR: \n",
      "RDKit ERROR: [20:39:14] ERROR: Could not sanitize molecule ending on line 357505\n",
      "RDKit ERROR: [20:39:14] ERROR: Can't kekulize mol.  Unkekulized atoms: 5 6 7 8 9 10 11 12 13\n",
      "RDKit ERROR: \n",
      "RDKit ERROR: [20:39:14] Can't kekulize mol.  Unkekulized atoms: 3 4 5 6 7\n",
      "RDKit ERROR: \n",
      "RDKit ERROR: [20:39:14] ERROR: Could not sanitize molecule ending on line 371006\n",
      "RDKit ERROR: [20:39:14] ERROR: Can't kekulize mol.  Unkekulized atoms: 3 4 5 6 7\n",
      "RDKit ERROR: \n",
      "RDKit ERROR: [20:39:14] Can't kekulize mol.  Unkekulized atoms: 1 2 3 4 5 6 7 8 9\n",
      "RDKit ERROR: \n",
      "RDKit ERROR: [20:39:14] ERROR: Could not sanitize molecule ending on line 378618\n",
      "RDKit ERROR: [20:39:14] ERROR: Can't kekulize mol.  Unkekulized atoms: 1 2 3 4 5 6 7 8 9\n",
      "RDKit ERROR: \n",
      "RDKit ERROR: [20:39:14] Explicit valence for atom # 56 O, 3, is greater than permitted\n",
      "RDKit ERROR: [20:39:14] ERROR: Could not sanitize molecule ending on line 398455\n",
      "RDKit ERROR: [20:39:14] ERROR: Explicit valence for atom # 56 O, 3, is greater than permitted\n",
      "RDKit ERROR: [20:39:14] Can't kekulize mol.  Unkekulized atoms: 9 10 11 12 18\n",
      "RDKit ERROR: \n",
      "RDKit ERROR: [20:39:14] ERROR: Could not sanitize molecule ending on line 407765\n",
      "RDKit ERROR: [20:39:14] ERROR: Can't kekulize mol.  Unkekulized atoms: 9 10 11 12 18\n",
      "RDKit ERROR: \n",
      "RDKit ERROR: [20:39:14] Explicit valence for atom # 46 Mg, 4, is greater than permitted\n",
      "RDKit ERROR: [20:39:14] ERROR: Could not sanitize molecule ending on line 417941\n",
      "RDKit ERROR: [20:39:14] ERROR: Explicit valence for atom # 46 Mg, 4, is greater than permitted\n",
      "RDKit ERROR: [20:39:14] Can't kekulize mol.  Unkekulized atoms: 1 2 3 12 13 14 15 16 17\n",
      "RDKit ERROR: \n",
      "RDKit ERROR: [20:39:14] ERROR: Could not sanitize molecule ending on line 422810\n",
      "RDKit ERROR: [20:39:14] ERROR: Can't kekulize mol.  Unkekulized atoms: 1 2 3 12 13 14 15 16 17\n",
      "RDKit ERROR: \n",
      "RDKit ERROR: [20:39:14] Can't kekulize mol.  Unkekulized atoms: 44 45 46 47 49\n",
      "RDKit ERROR: \n",
      "RDKit ERROR: [20:39:14] ERROR: Could not sanitize molecule ending on line 425190\n",
      "RDKit ERROR: [20:39:14] ERROR: Can't kekulize mol.  Unkekulized atoms: 44 45 46 47 49\n",
      "RDKit ERROR: \n",
      "RDKit ERROR: [20:39:14] Explicit valence for atom # 8 N, 5, is greater than permitted\n",
      "RDKit ERROR: [20:39:14] ERROR: Could not sanitize molecule ending on line 426332\n",
      "RDKit ERROR: [20:39:14] ERROR: Explicit valence for atom # 8 N, 5, is greater than permitted\n",
      "RDKit ERROR: [20:39:14] Can't kekulize mol.  Unkekulized atoms: 54 55 56 57 58 59 60 61 62\n",
      "RDKit ERROR: \n",
      "RDKit ERROR: [20:39:14] ERROR: Could not sanitize molecule ending on line 427901\n",
      "RDKit ERROR: [20:39:14] ERROR: Can't kekulize mol.  Unkekulized atoms: 54 55 56 57 58 59 60 61 62\n",
      "RDKit ERROR: \n",
      "RDKit ERROR: [20:39:14] Can't kekulize mol.  Unkekulized atoms: 0 1 2 3 4 5 6 7 8\n",
      "RDKit ERROR: \n",
      "RDKit ERROR: [20:39:14] ERROR: Could not sanitize molecule ending on line 432118\n",
      "RDKit ERROR: [20:39:14] ERROR: Can't kekulize mol.  Unkekulized atoms: 0 1 2 3 4 5 6 7 8\n",
      "RDKit ERROR: \n",
      "RDKit ERROR: [20:39:14] Can't kekulize mol.  Unkekulized atoms: 3 4 5 6 8 9 10\n",
      "RDKit ERROR: \n",
      "RDKit ERROR: [20:39:14] ERROR: Could not sanitize molecule ending on line 442989\n",
      "RDKit ERROR: [20:39:14] ERROR: Can't kekulize mol.  Unkekulized atoms: 3 4 5 6 8 9 10\n",
      "RDKit ERROR: \n",
      "RDKit ERROR: [20:39:14] Can't kekulize mol.  Unkekulized atoms: 3 4 5 6 9\n",
      "RDKit ERROR: \n",
      "RDKit ERROR: [20:39:14] ERROR: Could not sanitize molecule ending on line 447465\n",
      "RDKit ERROR: [20:39:14] ERROR: Can't kekulize mol.  Unkekulized atoms: 3 4 5 6 9\n",
      "RDKit ERROR: \n",
      "RDKit ERROR: [20:39:14] Can't kekulize mol.  Unkekulized atoms: 16 17 18 19 20\n",
      "RDKit ERROR: \n",
      "RDKit ERROR: [20:39:14] ERROR: Could not sanitize molecule ending on line 466177\n",
      "RDKit ERROR: [20:39:14] ERROR: Can't kekulize mol.  Unkekulized atoms: 16 17 18 19 20\n",
      "RDKit ERROR: \n",
      "RDKit ERROR: [20:39:14] Can't kekulize mol.  Unkekulized atoms: 7 8 9 10 17\n",
      "RDKit ERROR: \n",
      "RDKit ERROR: [20:39:14] ERROR: Could not sanitize molecule ending on line 468852\n",
      "RDKit ERROR: [20:39:14] ERROR: Can't kekulize mol.  Unkekulized atoms: 7 8 9 10 17\n",
      "RDKit ERROR: \n",
      "RDKit ERROR: [20:39:14] Can't kekulize mol.  Unkekulized atoms: 3 4 5 6 7 8 9 10 11\n",
      "RDKit ERROR: \n",
      "RDKit ERROR: [20:39:14] ERROR: Could not sanitize molecule ending on line 469201\n",
      "RDKit ERROR: [20:39:14] ERROR: Can't kekulize mol.  Unkekulized atoms: 3 4 5 6 7 8 9 10 11\n",
      "RDKit ERROR: \n",
      "RDKit ERROR: [20:39:14] Explicit valence for atom # 53 N, 4, is greater than permitted\n",
      "RDKit ERROR: [20:39:14] ERROR: Could not sanitize molecule ending on line 472285\n",
      "RDKit ERROR: [20:39:14] ERROR: Explicit valence for atom # 53 N, 4, is greater than permitted\n",
      "RDKit ERROR: [20:39:14] Can't kekulize mol.  Unkekulized atoms: 2 3 4 5 12\n",
      "RDKit ERROR: \n",
      "RDKit ERROR: [20:39:14] ERROR: Could not sanitize molecule ending on line 480504\n",
      "RDKit ERROR: [20:39:14] ERROR: Can't kekulize mol.  Unkekulized atoms: 2 3 4 5 12\n",
      "RDKit ERROR: \n",
      "RDKit ERROR: [20:39:14] Explicit valence for atom # 2 O, 3, is greater than permitted\n",
      "RDKit ERROR: [20:39:14] ERROR: Could not sanitize molecule ending on line 499305\n",
      "RDKit ERROR: [20:39:14] ERROR: Explicit valence for atom # 2 O, 3, is greater than permitted\n",
      "RDKit ERROR: [20:39:14] Can't kekulize mol.  Unkekulized atoms: 1 2 3 4 5 6 7 8 9\n",
      "RDKit ERROR: \n",
      "RDKit ERROR: [20:39:14] ERROR: Could not sanitize molecule ending on line 503342\n",
      "RDKit ERROR: [20:39:14] ERROR: Can't kekulize mol.  Unkekulized atoms: 1 2 3 4 5 6 7 8 9\n",
      "RDKit ERROR: \n",
      "RDKit ERROR: [20:39:14] Can't kekulize mol.  Unkekulized atoms: 0 1 2 4 5 6 7 8 9 10\n",
      "RDKit ERROR: \n",
      "RDKit ERROR: [20:39:14] ERROR: Could not sanitize molecule ending on line 508068\n",
      "RDKit ERROR: [20:39:14] ERROR: Can't kekulize mol.  Unkekulized atoms: 0 1 2 4 5 6 7 8 9 10\n",
      "RDKit ERROR: \n",
      "RDKit ERROR: [20:39:14] Can't kekulize mol.  Unkekulized atoms: 1 2 3 4 5 6 7 8 9\n",
      "RDKit ERROR: \n",
      "RDKit ERROR: [20:39:14] ERROR: Could not sanitize molecule ending on line 510069\n",
      "RDKit ERROR: [20:39:14] ERROR: Can't kekulize mol.  Unkekulized atoms: 1 2 3 4 5 6 7 8 9\n",
      "RDKit ERROR: \n",
      "RDKit ERROR: [20:39:14] Can't kekulize mol.  Unkekulized atoms: 3 4 5 6 7 8 10\n",
      "RDKit ERROR: \n",
      "RDKit ERROR: [20:39:14] ERROR: Could not sanitize molecule ending on line 511111\n",
      "RDKit ERROR: [20:39:14] ERROR: Can't kekulize mol.  Unkekulized atoms: 3 4 5 6 7 8 10\n",
      "RDKit ERROR: \n",
      "RDKit ERROR: [20:39:14] Can't kekulize mol.  Unkekulized atoms: 1 2 3 5 6 7 8 9 10\n",
      "RDKit ERROR: \n",
      "RDKit ERROR: [20:39:14] ERROR: Could not sanitize molecule ending on line 512030\n",
      "RDKit ERROR: [20:39:14] ERROR: Can't kekulize mol.  Unkekulized atoms: 1 2 3 5 6 7 8 9 10\n",
      "RDKit ERROR: \n",
      "RDKit ERROR: [20:39:14] Explicit valence for atom # 2 O, 3, is greater than permitted\n",
      "RDKit ERROR: [20:39:14] ERROR: Could not sanitize molecule ending on line 519056\n",
      "RDKit ERROR: [20:39:14] ERROR: Explicit valence for atom # 2 O, 3, is greater than permitted\n",
      "RDKit ERROR: [20:39:14] Explicit valence for atom # 6 B, 4, is greater than permitted\n",
      "RDKit ERROR: [20:39:14] ERROR: Could not sanitize molecule ending on line 541262\n",
      "RDKit ERROR: [20:39:14] ERROR: Explicit valence for atom # 6 B, 4, is greater than permitted\n",
      "RDKit ERROR: [20:39:14] Can't kekulize mol.  Unkekulized atoms: 2 3 17 19 20\n",
      "RDKit ERROR: \n",
      "RDKit ERROR: [20:39:14] ERROR: Could not sanitize molecule ending on line 557517\n",
      "RDKit ERROR: [20:39:14] ERROR: Can't kekulize mol.  Unkekulized atoms: 2 3 17 19 20\n",
      "RDKit ERROR: \n",
      "RDKit ERROR: [20:39:14] Can't kekulize mol.  Unkekulized atoms: 0 1 2 4 5 6 7 8 9 10\n",
      "RDKit ERROR: \n",
      "RDKit ERROR: [20:39:14] ERROR: Could not sanitize molecule ending on line 561344\n",
      "RDKit ERROR: [20:39:14] ERROR: Can't kekulize mol.  Unkekulized atoms: 0 1 2 4 5 6 7 8 9 10\n",
      "RDKit ERROR: \n",
      "RDKit ERROR: [20:39:14] Can't kekulize mol.  Unkekulized atoms: 10 11 12 13 19\n",
      "RDKit ERROR: \n",
      "RDKit ERROR: [20:39:14] ERROR: Could not sanitize molecule ending on line 562947\n",
      "RDKit ERROR: [20:39:14] ERROR: Can't kekulize mol.  Unkekulized atoms: 10 11 12 13 19\n",
      "RDKit ERROR: \n",
      "RDKit ERROR: [20:39:14] Explicit valence for atom # 27 N, 4, is greater than permitted\n",
      "RDKit ERROR: [20:39:14] ERROR: Could not sanitize molecule ending on line 567073\n",
      "RDKit ERROR: [20:39:14] ERROR: Explicit valence for atom # 27 N, 4, is greater than permitted\n",
      "RDKit ERROR: [20:39:14] Can't kekulize mol.  Unkekulized atoms: 9 10 11 12 13 14 15 16 17\n",
      "RDKit ERROR: \n",
      "RDKit ERROR: [20:39:14] ERROR: Could not sanitize molecule ending on line 568252\n",
      "RDKit ERROR: [20:39:14] ERROR: Can't kekulize mol.  Unkekulized atoms: 9 10 11 12 13 14 15 16 17\n",
      "RDKit ERROR: \n",
      "RDKit ERROR: [20:39:14] Can't kekulize mol.  Unkekulized atoms: 23 24 25 26 27\n",
      "RDKit ERROR: \n",
      "RDKit ERROR: [20:39:14] ERROR: Could not sanitize molecule ending on line 574645\n",
      "RDKit ERROR: [20:39:14] ERROR: Can't kekulize mol.  Unkekulized atoms: 23 24 25 26 27\n",
      "RDKit ERROR: \n",
      "RDKit ERROR: [20:39:15] Can't kekulize mol.  Unkekulized atoms: 5 6 7 8 9\n",
      "RDKit ERROR: \n",
      "RDKit ERROR: [20:39:15] ERROR: Could not sanitize molecule ending on line 592639\n",
      "RDKit ERROR: [20:39:15] ERROR: Can't kekulize mol.  Unkekulized atoms: 5 6 7 8 9\n",
      "RDKit ERROR: \n",
      "RDKit ERROR: [20:39:15] Explicit valence for atom # 12 N, 4, is greater than permitted\n",
      "RDKit ERROR: [20:39:15] ERROR: Could not sanitize molecule ending on line 595909\n",
      "RDKit ERROR: [20:39:15] ERROR: Explicit valence for atom # 12 N, 4, is greater than permitted\n",
      "RDKit ERROR: [20:39:15] Explicit valence for atom # 0 Br, 2, is greater than permitted\n",
      "RDKit ERROR: [20:39:15] ERROR: Could not sanitize molecule ending on line 599041\n",
      "RDKit ERROR: [20:39:15] ERROR: Explicit valence for atom # 0 Br, 2, is greater than permitted\n",
      "RDKit ERROR: [20:39:15] Explicit valence for atom # 1 N, 4, is greater than permitted\n",
      "RDKit ERROR: [20:39:15] ERROR: Could not sanitize molecule ending on line 601819\n",
      "RDKit ERROR: [20:39:15] ERROR: Explicit valence for atom # 1 N, 4, is greater than permitted\n",
      "RDKit ERROR: [20:39:15] Explicit valence for atom # 6 Be, 4, is greater than permitted\n",
      "RDKit ERROR: [20:39:15] ERROR: Could not sanitize molecule ending on line 604427\n",
      "RDKit ERROR: [20:39:15] ERROR: Explicit valence for atom # 6 Be, 4, is greater than permitted\n",
      "RDKit ERROR: [20:39:15] Can't kekulize mol.  Unkekulized atoms: 4 5 6 7 8 9 10 11 12\n",
      "RDKit ERROR: \n",
      "RDKit ERROR: [20:39:15] ERROR: Could not sanitize molecule ending on line 604912\n",
      "RDKit ERROR: [20:39:15] ERROR: Can't kekulize mol.  Unkekulized atoms: 4 5 6 7 8 9 10 11 12\n",
      "RDKit ERROR: \n",
      "RDKit ERROR: [20:39:15] Can't kekulize mol.  Unkekulized atoms: 5 6 7 8 9 10 11 12 13\n",
      "RDKit ERROR: \n",
      "RDKit ERROR: [20:39:15] ERROR: Could not sanitize molecule ending on line 616025\n",
      "RDKit ERROR: [20:39:15] ERROR: Can't kekulize mol.  Unkekulized atoms: 5 6 7 8 9 10 11 12 13\n",
      "RDKit ERROR: \n",
      "RDKit ERROR: [20:39:15] Can't kekulize mol.  Unkekulized atoms: 1 2 3 5 6 7 8 9 10\n",
      "RDKit ERROR: \n",
      "RDKit ERROR: [20:39:15] ERROR: Could not sanitize molecule ending on line 623202\n",
      "RDKit ERROR: [20:39:15] ERROR: Can't kekulize mol.  Unkekulized atoms: 1 2 3 5 6 7 8 9 10\n",
      "RDKit ERROR: \n",
      "RDKit ERROR: [20:39:15] Can't kekulize mol.  Unkekulized atoms: 5 6 7 8 9 10 11 12 13\n",
      "RDKit ERROR: \n",
      "RDKit ERROR: [20:39:15] ERROR: Could not sanitize molecule ending on line 628065\n",
      "RDKit ERROR: [20:39:15] ERROR: Can't kekulize mol.  Unkekulized atoms: 5 6 7 8 9 10 11 12 13\n",
      "RDKit ERROR: \n",
      "RDKit ERROR: [20:39:15] Explicit valence for atom # 19 N, 4, is greater than permitted\n",
      "RDKit ERROR: [20:39:15] ERROR: Could not sanitize molecule ending on line 636938\n",
      "RDKit ERROR: [20:39:15] ERROR: Explicit valence for atom # 19 N, 4, is greater than permitted\n",
      "RDKit ERROR: [20:39:15] Explicit valence for atom # 0 O, 3, is greater than permitted\n",
      "RDKit ERROR: [20:39:15] ERROR: Could not sanitize molecule ending on line 640674\n",
      "RDKit ERROR: [20:39:15] ERROR: Explicit valence for atom # 0 O, 3, is greater than permitted\n",
      "RDKit ERROR: [20:39:15] Explicit valence for atom # 17 Mg, 4, is greater than permitted\n",
      "RDKit ERROR: [20:39:15] ERROR: Could not sanitize molecule ending on line 642835\n",
      "RDKit ERROR: [20:39:15] ERROR: Explicit valence for atom # 17 Mg, 4, is greater than permitted\n",
      "RDKit ERROR: [20:39:15] Explicit valence for atom # 4 F, 2, is greater than permitted\n",
      "RDKit ERROR: [20:39:15] ERROR: Could not sanitize molecule ending on line 645068\n",
      "RDKit ERROR: [20:39:15] ERROR: Explicit valence for atom # 4 F, 2, is greater than permitted\n",
      "RDKit ERROR: [20:39:15] Can't kekulize mol.  Unkekulized atoms: 0 1 2 4 5 6 7 8 9 10\n",
      "RDKit ERROR: \n",
      "RDKit ERROR: [20:39:15] ERROR: Could not sanitize molecule ending on line 659994\n",
      "RDKit ERROR: [20:39:15] ERROR: Can't kekulize mol.  Unkekulized atoms: 0 1 2 4 5 6 7 8 9 10\n",
      "RDKit ERROR: \n",
      "RDKit ERROR: [20:39:16] Explicit valence for atom # 0 Be, 3, is greater than permitted\n",
      "RDKit ERROR: [20:39:16] ERROR: Could not sanitize molecule ending on line 995692\n",
      "RDKit ERROR: [20:39:16] ERROR: Explicit valence for atom # 0 Be, 3, is greater than permitted\n",
      "RDKit ERROR: [20:39:16] Explicit valence for atom # 0 C greater than permitted\n",
      "RDKit ERROR: [20:39:16] ERROR: Could not sanitize molecule ending on line 1151592\n"
     ]
    }
   ],
   "source": [
    "from rdkit.Chem import AllChem as Chem\n",
    "from rdkit.Chem import Descriptors\n",
    "from rdkit.Chem import rdMolDescriptors as rdescriptors\n",
    "from rdkit.Chem.Draw import IPythonConsole\n",
    "import csv\n",
    "\n",
    "with open('chembl_thrombin_ic50.csv', 'r') as csvfile:\n",
    "    reader = csv.DictReader(csvfile, delimiter=\";\")\n",
    "    thrombin_ligands = [Chem.MolFromSmiles(m['Smiles']) for m in reader]\n",
    "\n",
    "suppl = Chem.SDMolSupplier('drugbank.sdf')\n",
    "drugs = [m for m in suppl if m]"
   ]
  },
  {
   "cell_type": "code",
   "execution_count": 2,
   "metadata": {},
   "outputs": [],
   "source": [
    "def too_many_hbd(mol):\n",
    "    return rdescriptors.CalcNumLipinskiHBD(mol) > 5\n",
    "\n",
    "def too_many_hba(mol):\n",
    "    return rdescriptors.CalcNumLipinskiHBA(mol) > 10\n",
    "\n",
    "def too_heavy(mol):\n",
    "    return rdescriptors.CalcExactMolWt(mol) > 500\n",
    "\n",
    "def too_greasy(mol):\n",
    "    return Descriptors.MolLogP(mol) > 5"
   ]
  },
  {
   "cell_type": "code",
   "execution_count": 3,
   "metadata": {},
   "outputs": [
    {
     "data": {
      "image/png": "[encoded data removed]",
      "text/plain": [
       "<rdkit.Chem.rdchem.Mol at 0x7f3ead98ae40>"
      ]
     },
     "execution_count": 3,
     "metadata": {},
     "output_type": "execute_result"
    }
   ],
   "source": [
    "thrombin_ligands[3141]"
   ]
  },
  {
   "cell_type": "code",
   "execution_count": 4,
   "metadata": {},
   "outputs": [
    {
     "data": {
      "text/plain": [
       "(False, False, False, False)"
      ]
     },
     "execution_count": 4,
     "metadata": {},
     "output_type": "execute_result"
    }
   ],
   "source": [
    "too_many_hbd(thrombin_ligands[3141]), too_many_hba(thrombin_ligands[3141]), \\\n",
    "too_heavy(thrombin_ligands[3141]), too_greasy(thrombin_ligands[3141])"
   ]
  },
  {
   "cell_type": "markdown",
   "metadata": {},
   "source": [
    "Tenhle uličník vypadá ok. Napočítal jsem 6 HBA, 2 HBD, Mw 487 je skoro na hraně a logP jsem si napočítal na 2,35."
   ]
  },
  {
   "cell_type": "code",
   "execution_count": 5,
   "metadata": {},
   "outputs": [
    {
     "data": {
      "text/plain": [
       "(1130, 1007, 1556, 265, 3236)"
      ]
     },
     "execution_count": 5,
     "metadata": {},
     "output_type": "execute_result"
    }
   ],
   "source": [
    "thrombin_ligands_too_many_hbd = [too_many_hbd(l) for l in thrombin_ligands]\n",
    "thrombin_ligands_too_many_hba = [too_many_hba(l) for l in thrombin_ligands]\n",
    "thrombin_ligands_too_heavy = [too_heavy(l) for l in thrombin_ligands]\n",
    "thrombin_ligands_too_greasy = [too_greasy(l) for l in thrombin_ligands]\n",
    "sum(thrombin_ligands_too_many_hbd), sum(thrombin_ligands_too_many_hba), \\\n",
    "sum(thrombin_ligands_too_heavy), sum(thrombin_ligands_too_greasy), len(thrombin_ligands)"
   ]
  },
  {
   "cell_type": "markdown",
   "metadata": {},
   "source": [
    "Tedy, nic extra. Třetina látek nesplňuje požadavky na HBD, HBA, nebo na svou velikost. Lepší výsledek se týká logP, kde se jedná o něco pod desetinu látek. Co se týče drug-likeness, tento set se mi nejeví úplně vhodný tedy. :("
   ]
  },
  {
   "cell_type": "code",
   "execution_count": 6,
   "metadata": {},
   "outputs": [
    {
     "data": {
      "text/html": [
       "<div>\n",
       "<style scoped>\n",
       "    .dataframe tbody tr th:only-of-type {\n",
       "        vertical-align: middle;\n",
       "    }\n",
       "\n",
       "    .dataframe tbody tr th {\n",
       "        vertical-align: top;\n",
       "    }\n",
       "\n",
       "    .dataframe thead th {\n",
       "        text-align: right;\n",
       "    }\n",
       "</style>\n",
       "<table border=\"1\" class=\"dataframe\">\n",
       "  <thead>\n",
       "    <tr style=\"text-align: right;\">\n",
       "      <th></th>\n",
       "      <th>set</th>\n",
       "      <th>too_many_hbd</th>\n",
       "      <th>too_many_hba</th>\n",
       "      <th>too_greasy</th>\n",
       "      <th>too_heavy</th>\n",
       "    </tr>\n",
       "  </thead>\n",
       "  <tbody>\n",
       "    <tr>\n",
       "      <th>0</th>\n",
       "      <td>thrombin</td>\n",
       "      <td>True</td>\n",
       "      <td>True</td>\n",
       "      <td>False</td>\n",
       "      <td>True</td>\n",
       "    </tr>\n",
       "    <tr>\n",
       "      <th>1</th>\n",
       "      <td>thrombin</td>\n",
       "      <td>False</td>\n",
       "      <td>False</td>\n",
       "      <td>True</td>\n",
       "      <td>True</td>\n",
       "    </tr>\n",
       "    <tr>\n",
       "      <th>2</th>\n",
       "      <td>thrombin</td>\n",
       "      <td>False</td>\n",
       "      <td>False</td>\n",
       "      <td>False</td>\n",
       "      <td>False</td>\n",
       "    </tr>\n",
       "    <tr>\n",
       "      <th>3</th>\n",
       "      <td>thrombin</td>\n",
       "      <td>False</td>\n",
       "      <td>False</td>\n",
       "      <td>False</td>\n",
       "      <td>True</td>\n",
       "    </tr>\n",
       "    <tr>\n",
       "      <th>4</th>\n",
       "      <td>thrombin</td>\n",
       "      <td>False</td>\n",
       "      <td>False</td>\n",
       "      <td>False</td>\n",
       "      <td>False</td>\n",
       "    </tr>\n",
       "    <tr>\n",
       "      <th>...</th>\n",
       "      <td>...</td>\n",
       "      <td>...</td>\n",
       "      <td>...</td>\n",
       "      <td>...</td>\n",
       "      <td>...</td>\n",
       "    </tr>\n",
       "    <tr>\n",
       "      <th>3231</th>\n",
       "      <td>thrombin</td>\n",
       "      <td>True</td>\n",
       "      <td>True</td>\n",
       "      <td>False</td>\n",
       "      <td>True</td>\n",
       "    </tr>\n",
       "    <tr>\n",
       "      <th>3232</th>\n",
       "      <td>thrombin</td>\n",
       "      <td>False</td>\n",
       "      <td>True</td>\n",
       "      <td>False</td>\n",
       "      <td>True</td>\n",
       "    </tr>\n",
       "    <tr>\n",
       "      <th>3233</th>\n",
       "      <td>thrombin</td>\n",
       "      <td>False</td>\n",
       "      <td>True</td>\n",
       "      <td>False</td>\n",
       "      <td>True</td>\n",
       "    </tr>\n",
       "    <tr>\n",
       "      <th>3234</th>\n",
       "      <td>thrombin</td>\n",
       "      <td>False</td>\n",
       "      <td>True</td>\n",
       "      <td>False</td>\n",
       "      <td>True</td>\n",
       "    </tr>\n",
       "    <tr>\n",
       "      <th>3235</th>\n",
       "      <td>thrombin</td>\n",
       "      <td>False</td>\n",
       "      <td>True</td>\n",
       "      <td>False</td>\n",
       "      <td>True</td>\n",
       "    </tr>\n",
       "  </tbody>\n",
       "</table>\n",
       "<p>3236 rows × 5 columns</p>\n",
       "</div>"
      ],
      "text/plain": [
       "           set  too_many_hbd  too_many_hba  too_greasy  too_heavy\n",
       "0     thrombin          True          True       False       True\n",
       "1     thrombin         False         False        True       True\n",
       "2     thrombin         False         False       False      False\n",
       "3     thrombin         False         False       False       True\n",
       "4     thrombin         False         False       False      False\n",
       "...        ...           ...           ...         ...        ...\n",
       "3231  thrombin          True          True       False       True\n",
       "3232  thrombin         False          True       False       True\n",
       "3233  thrombin         False          True       False       True\n",
       "3234  thrombin         False          True       False       True\n",
       "3235  thrombin         False          True       False       True\n",
       "\n",
       "[3236 rows x 5 columns]"
      ]
     },
     "execution_count": 6,
     "metadata": {},
     "output_type": "execute_result"
    }
   ],
   "source": [
    "import pandas as pd\n",
    "df = pd.DataFrame(data={'set':'thrombin',\n",
    "                        'too_many_hbd': thrombin_ligands_too_many_hbd,\n",
    "                        'too_many_hba': thrombin_ligands_too_many_hba,\n",
    "                        'too_greasy': thrombin_ligands_too_greasy,\n",
    "                        'too_heavy': thrombin_ligands_too_heavy})\n",
    "df"
   ]
  },
  {
   "cell_type": "code",
   "execution_count": 7,
   "metadata": {},
   "outputs": [],
   "source": [
    "import seaborn as sns\n",
    "sns.set(rc={'figure.figsize':(11.7, 11.7)})\n",
    "with sns.axes_style(\"whitegrid\"):\n",
    "    p = sns.barplot(data=df, ci=None)\n",
    "    p.set_title(\"RO5 collision ratios in THROMBIN ligand set\")\n",
    "    p.set_ylabel(\"Ratio of issues in set\")"
   ]
  },
  {
   "cell_type": "code",
   "execution_count": 8,
   "metadata": {},
   "outputs": [],
   "source": [
    "def ro5_violations(mol):\n",
    "    return sum([too_many_hbd(mol), too_many_hba(mol), too_heavy(mol), too_greasy(mol)])\n",
    "\n",
    "def violates_lipinski(mol):\n",
    "    return ro5_violations(mol) > 1"
   ]
  },
  {
   "cell_type": "code",
   "execution_count": 9,
   "metadata": {},
   "outputs": [
    {
     "data": {
      "text/plain": [
       "(3958, 1.223114956736712, 1275, 0.39400494437577255)"
      ]
     },
     "execution_count": 9,
     "metadata": {},
     "output_type": "execute_result"
    }
   ],
   "source": [
    "thrombin_ro5_violations = [ro5_violations(l) for l in thrombin_ligands]\n",
    "thrombin_violates_lipinski = [violates_lipinski(l) for l in thrombin_ligands]\n",
    "sum(thrombin_ro5_violations),\\\n",
    "sum(thrombin_ro5_violations)/len(thrombin_ro5_violations),\\\n",
    "sum(thrombin_violates_lipinski),\\\n",
    "sum(thrombin_violates_lipinski)/len(thrombin_violates_lipinski)"
   ]
  },
  {
   "cell_type": "markdown",
   "metadata": {},
   "source": [
    "3958 porušení RO5 v setu, tedy 1.22 na molekulu. Cca třetina pak porušuje víc, než jedno provadilo."
   ]
  },
  {
   "cell_type": "code",
   "execution_count": 10,
   "metadata": {},
   "outputs": [
    {
     "data": {
      "image/png": "[encoded data removed]",
      "text/plain": [
       "<Figure size 432x288 with 1 Axes>"
      ]
     },
     "metadata": {},
     "output_type": "display_data"
    }
   ],
   "source": [
    "df['fails_lipinski'] = thrombin_violates_lipinski\n",
    "with sns.axes_style(\"whitegrid\"):\n",
    "    p = sns.barplot(data=df, ci=None)\n",
    "    p.set_title(\"RO5 collision ratios in THROMBIN ligand set\")\n",
    "    p.set_ylabel(\"Ratio of issues in set\")"
   ]
  },
  {
   "cell_type": "markdown",
   "metadata": {},
   "source": [
    "Úspěšně jsem vygeneroval sloupce neúspěchu."
   ]
  },
  {
   "cell_type": "code",
   "execution_count": 11,
   "metadata": {},
   "outputs": [],
   "source": [
    "from rdkit.Chem import Crippen\n",
    "\n",
    "def bad_greasyness_ghose(mol):\n",
    "    logp = Descriptors.MolLogP(mol)\n",
    "    return logp > 5.6 or logp < -0.4\n",
    "\n",
    "df['odd_greasyness'] = [bad_greasyness_ghose(l) for l in thrombin_ligands]\n",
    "\n",
    "def bad_refractivity_ghose(mol):\n",
    "    ref = Crippen.MolMR(mol)\n",
    "    return ref > 130 or ref < 40\n",
    "df['odd_refractivity'] = [bad_refractivity_ghose(l) for l in thrombin_ligands]\n",
    "\n",
    "def bad_mw_ghose(mol):\n",
    "    mw = rdescriptors.CalcExactMolWt(mol)\n",
    "    return mw > 480 or mw < 180\n",
    "df['odd_mass'] = [bad_mw_ghose(l) for l in thrombin_ligands]\n",
    "\n",
    "def bad_atomcount_ghose(mol):\n",
    "    ac = mol.GetNumHeavyAtoms()\n",
    "    return ac > 70 or ac < 20\n",
    "df['odd_atomcount'] = [bad_atomcount_ghose(l) for l in thrombin_ligands]\n",
    "\n",
    "def violates_ghose(mol):\n",
    "    return bad_greasyness_ghose(mol) or bad_refractivity_ghose(mol) or bad_mw_ghose(mol) or bad_atomcount_ghose(mol)\n",
    "df['fails_ghose'] = [violates_ghose(l) for l in thrombin_ligands]\n",
    "\n",
    "def too_rotatable_veber(mol):\n",
    "    return Chem.CalcNumRotatableBonds(mol) > 10\n",
    "df['too_rotatable'] = [too_rotatable_veber(l) for l in thrombin_ligands]\n",
    "\n",
    "def too_large_psa_veber(mol):\n",
    "    return rdescriptors.CalcTPSA(mol) > 140\n",
    "df['excessive_psa'] = [too_large_psa_veber(l) for l in thrombin_ligands]\n",
    "\n",
    "def violates_veber(mol):\n",
    "    return too_rotatable_veber(mol) or too_large_psa_veber(mol)\n",
    "df['fails_veber'] = [violates_veber(l) for l in thrombin_ligands]"
   ]
  },
  {
   "cell_type": "code",
   "execution_count": 12,
   "metadata": {},
   "outputs": [
    {
     "data": {
      "image/png": "[encoded data removed]",
      "text/plain": [
       "<Figure size 432x288 with 1 Axes>"
      ]
     },
     "metadata": {},
     "output_type": "display_data"
    }
   ],
   "source": [
    "with sns.axes_style(\"whitegrid\"):\n",
    "    p = sns.barplot(data=df, ci=None)\n",
    "    p.set_title(\"Drug-likeness rule collision ratios in THROMBIN ligand set\")\n",
    "    p.set_ylabel(\"Ratio of issues in set\")\n",
    "    p.set_xticklabels(p.get_xticklabels(), rotation=30)"
   ]
  },
  {
   "cell_type": "markdown",
   "metadata": {},
   "source": [
    "To skoro vypadá, jako kdyby v Ghose_filtru téměř 3/4 látek propadly. Téměř polovina látek je příliš velká (tady mě opět napadá případ peptidů, kdy se oligopeptidy - ale třeba i oligonukleotidy atd. - používají k léčbě řady nemocí - ale chápu, že tady jsme spíš v říši malých molekul).\n",
    "\n",
    "Obecně vzato - a už jsem to psal výše - si myslím, že můj set ligandů není úplně ideální výběr potenciálních léčiv. Vlastně si říkám, že bylo docela štěstí, že jsem na začátku vybral látku, která splňovala všechno."
   ]
  },
  {
   "cell_type": "code",
   "execution_count": 13,
   "metadata": {},
   "outputs": [
    {
     "data": {
      "text/html": [
       "<div>\n",
       "<style scoped>\n",
       "    .dataframe tbody tr th:only-of-type {\n",
       "        vertical-align: middle;\n",
       "    }\n",
       "\n",
       "    .dataframe tbody tr th {\n",
       "        vertical-align: top;\n",
       "    }\n",
       "\n",
       "    .dataframe thead th {\n",
       "        text-align: right;\n",
       "    }\n",
       "</style>\n",
       "<table border=\"1\" class=\"dataframe\">\n",
       "  <thead>\n",
       "    <tr style=\"text-align: right;\">\n",
       "      <th></th>\n",
       "      <th>set</th>\n",
       "      <th>too_many_hbd</th>\n",
       "      <th>too_many_hba</th>\n",
       "      <th>too_greasy</th>\n",
       "      <th>too_heavy</th>\n",
       "      <th>fails_lipinski</th>\n",
       "      <th>odd_greasyness</th>\n",
       "      <th>odd_refractivity</th>\n",
       "      <th>odd_mass</th>\n",
       "      <th>odd_atomcount</th>\n",
       "      <th>fails_ghose</th>\n",
       "      <th>too_rotatable</th>\n",
       "      <th>excessive_psa</th>\n",
       "      <th>fails_veber</th>\n",
       "    </tr>\n",
       "  </thead>\n",
       "  <tbody>\n",
       "    <tr>\n",
       "      <th>0</th>\n",
       "      <td>DrugBank</td>\n",
       "      <td>True</td>\n",
       "      <td>True</td>\n",
       "      <td>False</td>\n",
       "      <td>True</td>\n",
       "      <td>True</td>\n",
       "      <td>True</td>\n",
       "      <td>True</td>\n",
       "      <td>True</td>\n",
       "      <td>True</td>\n",
       "      <td>True</td>\n",
       "      <td>True</td>\n",
       "      <td>True</td>\n",
       "      <td>True</td>\n",
       "    </tr>\n",
       "    <tr>\n",
       "      <th>1</th>\n",
       "      <td>DrugBank</td>\n",
       "      <td>True</td>\n",
       "      <td>True</td>\n",
       "      <td>False</td>\n",
       "      <td>True</td>\n",
       "      <td>True</td>\n",
       "      <td>True</td>\n",
       "      <td>True</td>\n",
       "      <td>True</td>\n",
       "      <td>True</td>\n",
       "      <td>True</td>\n",
       "      <td>True</td>\n",
       "      <td>True</td>\n",
       "      <td>True</td>\n",
       "    </tr>\n",
       "    <tr>\n",
       "      <th>2</th>\n",
       "      <td>DrugBank</td>\n",
       "      <td>True</td>\n",
       "      <td>True</td>\n",
       "      <td>False</td>\n",
       "      <td>True</td>\n",
       "      <td>True</td>\n",
       "      <td>True</td>\n",
       "      <td>True</td>\n",
       "      <td>True</td>\n",
       "      <td>True</td>\n",
       "      <td>True</td>\n",
       "      <td>True</td>\n",
       "      <td>True</td>\n",
       "      <td>True</td>\n",
       "    </tr>\n",
       "    <tr>\n",
       "      <th>3</th>\n",
       "      <td>DrugBank</td>\n",
       "      <td>True</td>\n",
       "      <td>True</td>\n",
       "      <td>False</td>\n",
       "      <td>True</td>\n",
       "      <td>True</td>\n",
       "      <td>True</td>\n",
       "      <td>True</td>\n",
       "      <td>True</td>\n",
       "      <td>True</td>\n",
       "      <td>True</td>\n",
       "      <td>True</td>\n",
       "      <td>True</td>\n",
       "      <td>True</td>\n",
       "    </tr>\n",
       "    <tr>\n",
       "      <th>4</th>\n",
       "      <td>DrugBank</td>\n",
       "      <td>False</td>\n",
       "      <td>True</td>\n",
       "      <td>False</td>\n",
       "      <td>True</td>\n",
       "      <td>True</td>\n",
       "      <td>False</td>\n",
       "      <td>True</td>\n",
       "      <td>True</td>\n",
       "      <td>True</td>\n",
       "      <td>True</td>\n",
       "      <td>True</td>\n",
       "      <td>True</td>\n",
       "      <td>True</td>\n",
       "    </tr>\n",
       "    <tr>\n",
       "      <th>...</th>\n",
       "      <td>...</td>\n",
       "      <td>...</td>\n",
       "      <td>...</td>\n",
       "      <td>...</td>\n",
       "      <td>...</td>\n",
       "      <td>...</td>\n",
       "      <td>...</td>\n",
       "      <td>...</td>\n",
       "      <td>...</td>\n",
       "      <td>...</td>\n",
       "      <td>...</td>\n",
       "      <td>...</td>\n",
       "      <td>...</td>\n",
       "      <td>...</td>\n",
       "    </tr>\n",
       "    <tr>\n",
       "      <th>7108</th>\n",
       "      <td>DrugBank</td>\n",
       "      <td>False</td>\n",
       "      <td>False</td>\n",
       "      <td>False</td>\n",
       "      <td>False</td>\n",
       "      <td>False</td>\n",
       "      <td>False</td>\n",
       "      <td>True</td>\n",
       "      <td>True</td>\n",
       "      <td>True</td>\n",
       "      <td>True</td>\n",
       "      <td>False</td>\n",
       "      <td>False</td>\n",
       "      <td>False</td>\n",
       "    </tr>\n",
       "    <tr>\n",
       "      <th>7109</th>\n",
       "      <td>DrugBank</td>\n",
       "      <td>False</td>\n",
       "      <td>False</td>\n",
       "      <td>False</td>\n",
       "      <td>False</td>\n",
       "      <td>False</td>\n",
       "      <td>True</td>\n",
       "      <td>False</td>\n",
       "      <td>False</td>\n",
       "      <td>False</td>\n",
       "      <td>True</td>\n",
       "      <td>False</td>\n",
       "      <td>True</td>\n",
       "      <td>True</td>\n",
       "    </tr>\n",
       "    <tr>\n",
       "      <th>7110</th>\n",
       "      <td>DrugBank</td>\n",
       "      <td>True</td>\n",
       "      <td>True</td>\n",
       "      <td>False</td>\n",
       "      <td>True</td>\n",
       "      <td>True</td>\n",
       "      <td>False</td>\n",
       "      <td>True</td>\n",
       "      <td>True</td>\n",
       "      <td>True</td>\n",
       "      <td>True</td>\n",
       "      <td>True</td>\n",
       "      <td>True</td>\n",
       "      <td>True</td>\n",
       "    </tr>\n",
       "    <tr>\n",
       "      <th>7111</th>\n",
       "      <td>DrugBank</td>\n",
       "      <td>False</td>\n",
       "      <td>False</td>\n",
       "      <td>False</td>\n",
       "      <td>False</td>\n",
       "      <td>False</td>\n",
       "      <td>False</td>\n",
       "      <td>False</td>\n",
       "      <td>False</td>\n",
       "      <td>False</td>\n",
       "      <td>False</td>\n",
       "      <td>True</td>\n",
       "      <td>False</td>\n",
       "      <td>True</td>\n",
       "    </tr>\n",
       "    <tr>\n",
       "      <th>7112</th>\n",
       "      <td>DrugBank</td>\n",
       "      <td>False</td>\n",
       "      <td>False</td>\n",
       "      <td>False</td>\n",
       "      <td>False</td>\n",
       "      <td>False</td>\n",
       "      <td>False</td>\n",
       "      <td>False</td>\n",
       "      <td>False</td>\n",
       "      <td>False</td>\n",
       "      <td>False</td>\n",
       "      <td>False</td>\n",
       "      <td>False</td>\n",
       "      <td>False</td>\n",
       "    </tr>\n",
       "  </tbody>\n",
       "</table>\n",
       "<p>7113 rows × 14 columns</p>\n",
       "</div>"
      ],
      "text/plain": [
       "           set  too_many_hbd  too_many_hba  too_greasy  too_heavy  \\\n",
       "0     DrugBank          True          True       False       True   \n",
       "1     DrugBank          True          True       False       True   \n",
       "2     DrugBank          True          True       False       True   \n",
       "3     DrugBank          True          True       False       True   \n",
       "4     DrugBank         False          True       False       True   \n",
       "...        ...           ...           ...         ...        ...   \n",
       "7108  DrugBank         False         False       False      False   \n",
       "7109  DrugBank         False         False       False      False   \n",
       "7110  DrugBank          True          True       False       True   \n",
       "7111  DrugBank         False         False       False      False   \n",
       "7112  DrugBank         False         False       False      False   \n",
       "\n",
       "      fails_lipinski  odd_greasyness  odd_refractivity  odd_mass  \\\n",
       "0               True            True              True      True   \n",
       "1               True            True              True      True   \n",
       "2               True            True              True      True   \n",
       "3               True            True              True      True   \n",
       "4               True           False              True      True   \n",
       "...              ...             ...               ...       ...   \n",
       "7108           False           False              True      True   \n",
       "7109           False            True             False     False   \n",
       "7110            True           False              True      True   \n",
       "7111           False           False             False     False   \n",
       "7112           False           False             False     False   \n",
       "\n",
       "      odd_atomcount  fails_ghose  too_rotatable  excessive_psa  fails_veber  \n",
       "0              True         True           True           True         True  \n",
       "1              True         True           True           True         True  \n",
       "2              True         True           True           True         True  \n",
       "3              True         True           True           True         True  \n",
       "4              True         True           True           True         True  \n",
       "...             ...          ...            ...            ...          ...  \n",
       "7108           True         True          False          False        False  \n",
       "7109          False         True          False           True         True  \n",
       "7110           True         True           True           True         True  \n",
       "7111          False        False           True          False         True  \n",
       "7112          False        False          False          False        False  \n",
       "\n",
       "[7113 rows x 14 columns]"
      ]
     },
     "execution_count": 13,
     "metadata": {},
     "output_type": "execute_result"
    }
   ],
   "source": [
    "df_drugbank = pd.DataFrame(\n",
    "    data={'set':'DrugBank',\n",
    "          'too_many_hbd': [too_many_hbd(l) for l in drugs],\n",
    "          'too_many_hba': [too_many_hba(l) for l in drugs],\n",
    "          'too_greasy': [too_greasy(l) for l in drugs],\n",
    "          'too_heavy': [too_heavy(l) for l in drugs],\n",
    "          'fails_lipinski': [violates_lipinski(l) for l in drugs],\n",
    "          'odd_greasyness': [bad_greasyness_ghose(l) for l in drugs],\n",
    "          'odd_refractivity': [bad_refractivity_ghose(l) for l in drugs],\n",
    "          'odd_mass': [bad_mw_ghose(l) for l in drugs],\n",
    "          'odd_atomcount': [bad_atomcount_ghose(l) for l in drugs],\n",
    "          'fails_ghose': [violates_ghose(l) for l in drugs],\n",
    "          'too_rotatable': [too_rotatable_veber(l) for l in drugs],\n",
    "          'excessive_psa': [too_large_psa_veber(l) for l in drugs],\n",
    "          'fails_veber': [violates_veber(l) for l in drugs]})\n",
    "df_drugbank"
   ]
  },
  {
   "cell_type": "code",
   "execution_count": 14,
   "metadata": {},
   "outputs": [
    {
     "data": {
      "image/png": "[encoded data removed]",
      "text/plain": [
       "<Figure size 432x288 with 1 Axes>"
      ]
     },
     "metadata": {},
     "output_type": "display_data"
    }
   ],
   "source": [
    "with sns.axes_style(\"whitegrid\"):\n",
    "    p = sns.barplot(data=df_drugbank, ci=None)\n",
    "    p.set_title(\"Drug-likeness rule collision ratios in DrugBank\")\n",
    "    p.set_ylabel(\"Ratio of issues in set\")\n",
    "    p.set_xticklabels(p.get_xticklabels(), rotation=30)"
   ]
  },
  {
   "cell_type": "markdown",
   "metadata": {},
   "source": [
    "Ghose filter nesplňuje něco přes polovinu látek (pořád lepší, než thrombinový set). Zato Lipinského nesplňuje asi desetina, což je lepší než 40 % u thrombinu. Docela mě překvapuje, že tato čísla jsou u DRUGBANKY tak vysoká. Ale jak píšete - není to Korán. :)"
   ]
  },
  {
   "cell_type": "markdown",
   "metadata": {},
   "source": [
    "Následuje pokus o mou vlastní invenci:"
   ]
  },
  {
   "cell_type": "code",
   "execution_count": 15,
   "metadata": {},
   "outputs": [],
   "source": [
    "def too_many_hbd(mol):\n",
    "    return rdescriptors.CalcNumLipinskiHBD(mol) > 3\n",
    "\n",
    "def too_many_hba(mol):\n",
    "    return rdescriptors.CalcNumLipinskiHBA(mol) > 3\n",
    "\n",
    "def too_heavy(mol):\n",
    "    return rdescriptors.CalcExactMolWt(mol) > 300\n",
    "\n",
    "def too_greasy(mol):\n",
    "    return Descriptors.MolLogP(mol) > 3"
   ]
  },
  {
   "cell_type": "code",
   "execution_count": 16,
   "metadata": {},
   "outputs": [
    {
     "data": {
      "image/png": "[encoded data removed]",
      "text/plain": [
       "<rdkit.Chem.rdchem.Mol at 0x7f3ead98ae40>"
      ]
     },
     "execution_count": 16,
     "metadata": {},
     "output_type": "execute_result"
    }
   ],
   "source": [
    "thrombin_ligands[3141]"
   ]
  },
  {
   "cell_type": "code",
   "execution_count": 17,
   "metadata": {},
   "outputs": [
    {
     "data": {
      "text/plain": [
       "(False, True, True, True)"
      ]
     },
     "execution_count": 17,
     "metadata": {},
     "output_type": "execute_result"
    }
   ],
   "source": [
    "too_many_hbd(thrombin_ligands[3141]), too_many_hba(thrombin_ligands[3141]), \\\n",
    "too_heavy(thrombin_ligands[3141]), too_greasy(thrombin_ligands[3141])"
   ]
  },
  {
   "cell_type": "markdown",
   "metadata": {},
   "source": [
    "Uličník splňuje jen HBD, které jsem napočítal 2. Zkusme jinou:"
   ]
  },
  {
   "cell_type": "code",
   "execution_count": 18,
   "metadata": {},
   "outputs": [
    {
     "data": {
      "image/png": "[encoded data removed]",
      "text/plain": [
       "<rdkit.Chem.rdchem.Mol at 0x7f3ead9fec60>"
      ]
     },
     "execution_count": 18,
     "metadata": {},
     "output_type": "execute_result"
    }
   ],
   "source": [
    "thrombin_ligands[1985]"
   ]
  },
  {
   "cell_type": "code",
   "execution_count": 19,
   "metadata": {},
   "outputs": [
    {
     "data": {
      "text/plain": [
       "(True, True, True, True)"
      ]
     },
     "execution_count": 19,
     "metadata": {},
     "output_type": "execute_result"
    }
   ],
   "source": [
    "too_many_hbd(thrombin_ligands[1985]), too_many_hba(thrombin_ligands[1985]), \\\n",
    "too_heavy(thrombin_ligands[1985]), too_greasy(thrombin_ligands[1985])"
   ]
  },
  {
   "cell_type": "markdown",
   "metadata": {},
   "source": [
    "Ani jeden..."
   ]
  },
  {
   "cell_type": "code",
   "execution_count": 20,
   "metadata": {},
   "outputs": [
    {
     "data": {
      "image/png": "[encoded data removed]",
      "text/plain": [
       "<rdkit.Chem.rdchem.Mol at 0x7f3ead9e9580>"
      ]
     },
     "execution_count": 20,
     "metadata": {},
     "output_type": "execute_result"
    }
   ],
   "source": [
    "thrombin_ligands[863]"
   ]
  },
  {
   "cell_type": "code",
   "execution_count": 21,
   "metadata": {},
   "outputs": [
    {
     "data": {
      "text/plain": [
       "(True, True, True, False)"
      ]
     },
     "execution_count": 21,
     "metadata": {},
     "output_type": "execute_result"
    }
   ],
   "source": [
    "too_many_hbd(thrombin_ligands[863]), too_many_hba(thrombin_ligands[863]), \\\n",
    "too_heavy(thrombin_ligands[863]), too_greasy(thrombin_ligands[863])"
   ]
  },
  {
   "cell_type": "markdown",
   "metadata": {},
   "source": [
    "Ani rok příchodu slovanských věrozvěstů nezabral..."
   ]
  },
  {
   "cell_type": "code",
   "execution_count": 22,
   "metadata": {},
   "outputs": [
    {
     "data": {
      "text/plain": [
       "(2023, 3160, 3018, 1401, 3236)"
      ]
     },
     "execution_count": 22,
     "metadata": {},
     "output_type": "execute_result"
    }
   ],
   "source": [
    "thrombin_ligands_too_many_hbd = [too_many_hbd(l) for l in thrombin_ligands]\n",
    "thrombin_ligands_too_many_hba = [too_many_hba(l) for l in thrombin_ligands]\n",
    "thrombin_ligands_too_heavy = [too_heavy(l) for l in thrombin_ligands]\n",
    "thrombin_ligands_too_greasy = [too_greasy(l) for l in thrombin_ligands]\n",
    "sum(thrombin_ligands_too_many_hbd), sum(thrombin_ligands_too_many_hba), \\\n",
    "sum(thrombin_ligands_too_heavy), sum(thrombin_ligands_too_greasy), len(thrombin_ligands)"
   ]
  },
  {
   "cell_type": "markdown",
   "metadata": {},
   "source": [
    "Dvě třetiny molekul mají moc HBD, téměř všechny nesplňují požadavky na HBA a Mw. Necelá polovina nesplňuje logP."
   ]
  },
  {
   "cell_type": "code",
   "execution_count": 23,
   "metadata": {},
   "outputs": [
    {
     "data": {
      "text/html": [
       "<div>\n",
       "<style scoped>\n",
       "    .dataframe tbody tr th:only-of-type {\n",
       "        vertical-align: middle;\n",
       "    }\n",
       "\n",
       "    .dataframe tbody tr th {\n",
       "        vertical-align: top;\n",
       "    }\n",
       "\n",
       "    .dataframe thead th {\n",
       "        text-align: right;\n",
       "    }\n",
       "</style>\n",
       "<table border=\"1\" class=\"dataframe\">\n",
       "  <thead>\n",
       "    <tr style=\"text-align: right;\">\n",
       "      <th></th>\n",
       "      <th>set</th>\n",
       "      <th>too_many_hbd</th>\n",
       "      <th>too_many_hba</th>\n",
       "      <th>too_greasy</th>\n",
       "      <th>too_heavy</th>\n",
       "    </tr>\n",
       "  </thead>\n",
       "  <tbody>\n",
       "    <tr>\n",
       "      <th>0</th>\n",
       "      <td>thrombin</td>\n",
       "      <td>True</td>\n",
       "      <td>True</td>\n",
       "      <td>False</td>\n",
       "      <td>True</td>\n",
       "    </tr>\n",
       "    <tr>\n",
       "      <th>1</th>\n",
       "      <td>thrombin</td>\n",
       "      <td>True</td>\n",
       "      <td>True</td>\n",
       "      <td>True</td>\n",
       "      <td>True</td>\n",
       "    </tr>\n",
       "    <tr>\n",
       "      <th>2</th>\n",
       "      <td>thrombin</td>\n",
       "      <td>True</td>\n",
       "      <td>True</td>\n",
       "      <td>False</td>\n",
       "      <td>True</td>\n",
       "    </tr>\n",
       "    <tr>\n",
       "      <th>3</th>\n",
       "      <td>thrombin</td>\n",
       "      <td>True</td>\n",
       "      <td>True</td>\n",
       "      <td>True</td>\n",
       "      <td>True</td>\n",
       "    </tr>\n",
       "    <tr>\n",
       "      <th>4</th>\n",
       "      <td>thrombin</td>\n",
       "      <td>True</td>\n",
       "      <td>True</td>\n",
       "      <td>True</td>\n",
       "      <td>True</td>\n",
       "    </tr>\n",
       "    <tr>\n",
       "      <th>...</th>\n",
       "      <td>...</td>\n",
       "      <td>...</td>\n",
       "      <td>...</td>\n",
       "      <td>...</td>\n",
       "      <td>...</td>\n",
       "    </tr>\n",
       "    <tr>\n",
       "      <th>3231</th>\n",
       "      <td>thrombin</td>\n",
       "      <td>True</td>\n",
       "      <td>True</td>\n",
       "      <td>False</td>\n",
       "      <td>True</td>\n",
       "    </tr>\n",
       "    <tr>\n",
       "      <th>3232</th>\n",
       "      <td>thrombin</td>\n",
       "      <td>False</td>\n",
       "      <td>True</td>\n",
       "      <td>False</td>\n",
       "      <td>True</td>\n",
       "    </tr>\n",
       "    <tr>\n",
       "      <th>3233</th>\n",
       "      <td>thrombin</td>\n",
       "      <td>False</td>\n",
       "      <td>True</td>\n",
       "      <td>False</td>\n",
       "      <td>True</td>\n",
       "    </tr>\n",
       "    <tr>\n",
       "      <th>3234</th>\n",
       "      <td>thrombin</td>\n",
       "      <td>False</td>\n",
       "      <td>True</td>\n",
       "      <td>False</td>\n",
       "      <td>True</td>\n",
       "    </tr>\n",
       "    <tr>\n",
       "      <th>3235</th>\n",
       "      <td>thrombin</td>\n",
       "      <td>False</td>\n",
       "      <td>True</td>\n",
       "      <td>True</td>\n",
       "      <td>True</td>\n",
       "    </tr>\n",
       "  </tbody>\n",
       "</table>\n",
       "<p>3236 rows × 5 columns</p>\n",
       "</div>"
      ],
      "text/plain": [
       "           set  too_many_hbd  too_many_hba  too_greasy  too_heavy\n",
       "0     thrombin          True          True       False       True\n",
       "1     thrombin          True          True        True       True\n",
       "2     thrombin          True          True       False       True\n",
       "3     thrombin          True          True        True       True\n",
       "4     thrombin          True          True        True       True\n",
       "...        ...           ...           ...         ...        ...\n",
       "3231  thrombin          True          True       False       True\n",
       "3232  thrombin         False          True       False       True\n",
       "3233  thrombin         False          True       False       True\n",
       "3234  thrombin         False          True       False       True\n",
       "3235  thrombin         False          True        True       True\n",
       "\n",
       "[3236 rows x 5 columns]"
      ]
     },
     "execution_count": 23,
     "metadata": {},
     "output_type": "execute_result"
    }
   ],
   "source": [
    "import pandas as pd\n",
    "df = pd.DataFrame(data={'set':'thrombin',\n",
    "                        'too_many_hbd': thrombin_ligands_too_many_hbd,\n",
    "                        'too_many_hba': thrombin_ligands_too_many_hba,\n",
    "                        'too_greasy': thrombin_ligands_too_greasy,\n",
    "                        'too_heavy': thrombin_ligands_too_heavy})\n",
    "df"
   ]
  },
  {
   "cell_type": "markdown",
   "metadata": {},
   "source": [
    "Touto tabulkou bych si rád proscrolloval, ale nevím jak. :-/"
   ]
  },
  {
   "cell_type": "code",
   "execution_count": 24,
   "metadata": {},
   "outputs": [
    {
     "data": {
      "image/png": "[encoded data removed]",
      "text/plain": [
       "<Figure size 842.4x842.4 with 1 Axes>"
      ]
     },
     "metadata": {},
     "output_type": "display_data"
    }
   ],
   "source": [
    "import seaborn as sns\n",
    "sns.set(rc={'figure.figsize':(11.7, 11.7)})\n",
    "with sns.axes_style(\"whitegrid\"):\n",
    "    p = sns.barplot(data=df, ci=None)\n",
    "    p.set_title(\"RO5 collision ratios in THROMBIN ligand set\")\n",
    "    p.set_ylabel(\"Ratio of issues in set\")"
   ]
  },
  {
   "cell_type": "markdown",
   "metadata": {},
   "source": [
    "Přes 60 % látek má moc HBD, skoro všechny moc HBA. O trochu pozitivnější je to u logP, nicméně u hmotnosti se opět dostáváme do depresivních hodnot."
   ]
  },
  {
   "cell_type": "code",
   "execution_count": 35,
   "metadata": {},
   "outputs": [],
   "source": [
    "def ro5_violations(mol):\n",
    "    return sum([too_many_hbd(mol), too_many_hba(mol), too_heavy(mol), too_greasy(mol)])\n",
    "\n",
    "def violates_lipinski(mol):\n",
    "    return ro5_violations(mol) > 2"
   ]
  },
  {
   "cell_type": "code",
   "execution_count": 36,
   "metadata": {},
   "outputs": [
    {
     "data": {
      "text/plain": [
       "(9602, 2.9672435105067985, 2606, 0.8053152039555006)"
      ]
     },
     "execution_count": 36,
     "metadata": {},
     "output_type": "execute_result"
    }
   ],
   "source": [
    "thrombin_ro5_violations = [ro5_violations(l) for l in thrombin_ligands]\n",
    "thrombin_violates_lipinski = [violates_lipinski(l) for l in thrombin_ligands]\n",
    "sum(thrombin_ro5_violations),\\\n",
    "sum(thrombin_ro5_violations)/len(thrombin_ro5_violations),\\\n",
    "sum(thrombin_violates_lipinski),\\\n",
    "sum(thrombin_violates_lipinski)/len(thrombin_violates_lipinski)"
   ]
  },
  {
   "cell_type": "markdown",
   "metadata": {},
   "source": [
    "Téměř 10 tisíc porušení RO5, tedy necelé 3 na molekulu. 2606 molekul porušuje víc jak dvě. Tedy víc jak 3/4."
   ]
  },
  {
   "cell_type": "code",
   "execution_count": 27,
   "metadata": {},
   "outputs": [
    {
     "data": {
      "image/png": "[encoded data removed]",
      "text/plain": [
       "<Figure size 842.4x842.4 with 1 Axes>"
      ]
     },
     "metadata": {},
     "output_type": "display_data"
    }
   ],
   "source": [
    "df['fails_lipinski'] = thrombin_violates_lipinski\n",
    "with sns.axes_style(\"whitegrid\"):\n",
    "    p = sns.barplot(data=df, ci=None)\n",
    "    p.set_title(\"RO5 collision ratios in THROMBIN ligand set\")\n",
    "    p.set_ylabel(\"Ratio of issues in set\")"
   ]
  },
  {
   "cell_type": "code",
   "execution_count": 28,
   "metadata": {},
   "outputs": [],
   "source": [
    "from rdkit.Chem import Crippen\n",
    "\n",
    "def bad_greasyness_ghose(mol):\n",
    "    logp = Descriptors.MolLogP(mol)\n",
    "    return logp > 5.6 or logp < -0.4\n",
    "\n",
    "df['odd_greasyness'] = [bad_greasyness_ghose(l) for l in thrombin_ligands]\n",
    "\n",
    "def bad_refractivity_ghose(mol):\n",
    "    ref = Crippen.MolMR(mol)\n",
    "    return ref > 130 or ref < 40\n",
    "df['odd_refractivity'] = [bad_refractivity_ghose(l) for l in thrombin_ligands]\n",
    "\n",
    "def bad_mw_ghose(mol):\n",
    "    mw = rdescriptors.CalcExactMolWt(mol)\n",
    "    return mw > 480 or mw < 180\n",
    "df['odd_mass'] = [bad_mw_ghose(l) for l in thrombin_ligands]\n",
    "\n",
    "def bad_atomcount_ghose(mol):\n",
    "    ac = mol.GetNumHeavyAtoms()\n",
    "    return ac > 70 or ac < 20\n",
    "df['odd_atomcount'] = [bad_atomcount_ghose(l) for l in thrombin_ligands]\n",
    "\n",
    "def violates_ghose(mol):\n",
    "    return bad_greasyness_ghose(mol) or bad_refractivity_ghose(mol) or bad_mw_ghose(mol) or bad_atomcount_ghose(mol)\n",
    "df['fails_ghose'] = [violates_ghose(l) for l in thrombin_ligands]\n",
    "\n",
    "def too_rotatable_veber(mol):\n",
    "    return Chem.CalcNumRotatableBonds(mol) > 10\n",
    "df['too_rotatable'] = [too_rotatable_veber(l) for l in thrombin_ligands]\n",
    "\n",
    "def too_large_psa_veber(mol):\n",
    "    return rdescriptors.CalcTPSA(mol) > 140\n",
    "df['excessive_psa'] = [too_large_psa_veber(l) for l in thrombin_ligands]\n",
    "\n",
    "def violates_veber(mol):\n",
    "    return too_rotatable_veber(mol) or too_large_psa_veber(mol)\n",
    "df['fails_veber'] = [violates_veber(l) for l in thrombin_ligands]"
   ]
  },
  {
   "cell_type": "code",
   "execution_count": 30,
   "metadata": {},
   "outputs": [
    {
     "data": {
      "image/png": "[encoded data removed]",
      "text/plain": [
       "<Figure size 842.4x842.4 with 1 Axes>"
      ]
     },
     "metadata": {},
     "output_type": "display_data"
    }
   ],
   "source": [
    "with sns.axes_style(\"whitegrid\"):\n",
    "    p = sns.barplot(data=df, ci=None)\n",
    "    p.set_title(\"Drug-likeness rule collision ratios in THROMBIN ligand set\")\n",
    "    p.set_ylabel(\"Ratio of issues in set\")\n",
    "    p.set_xticklabels(p.get_xticklabels(), rotation=30)"
   ]
  },
  {
   "cell_type": "markdown",
   "metadata": {},
   "source": [
    "Pravidlo na HBA a hmotu porušují skoro všechny. Zajímavější mi přijde, že Ghose nyní porušuje méně látek, než předtím. To nedovedu vysvětlit. :("
   ]
  },
  {
   "cell_type": "code",
   "execution_count": null,
   "metadata": {},
   "outputs": [],
   "source": []
  }
 ],
 "metadata": {
  "kernelspec": {
   "display_name": "Python 3",
   "language": "python",
   "name": "python3"
  },
  "language_info": {
   "codemirror_mode": {
    "name": "ipython",
    "version": 3
   },
   "file_extension": ".py",
   "mimetype": "text/x-python",
   "name": "python",
   "nbconvert_exporter": "python",
   "pygments_lexer": "ipython3",
   "version": "3.7.3"
  }
 },
 "nbformat": 4,
 "nbformat_minor": 2
}
