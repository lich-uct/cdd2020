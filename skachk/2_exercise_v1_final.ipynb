{
 "cells": [
  {
   "cell_type": "markdown",
   "metadata": {},
   "source": [
    "Vybraný target je thrombin - enzym koagulační kaskády (CHEMBL204, https://www.ebi.ac.uk/chembl/target_report_card/CHEMBL204/).\n",
    "\n",
    "Set látek (chembl_thrombin_ic50.csv) vychází z hodnoty IC50 (3236 individuí)."
   ]
  },
  {
   "cell_type": "code",
   "execution_count": 1,
   "metadata": {},
   "outputs": [],
   "source": [
    "from rdkit import Chem\n",
    "from rdkit.Chem.Draw import IPythonConsole"
   ]
  },
  {
   "cell_type": "code",
   "execution_count": 2,
   "metadata": {},
   "outputs": [
    {
     "data": {
      "text/plain": [
       "OrderedDict([('Molecule ChEMBL ID', 'CHEMBL136755'),\n",
       "             ('Molecule Name', ''),\n",
       "             ('Molecule Max Phase', '0'),\n",
       "             ('Molecular Weight', '530.65'),\n",
       "             ('#RO5 Violations', '1'),\n",
       "             ('AlogP', '0.19'),\n",
       "             ('Compound Key', '19'),\n",
       "             ('Smiles',\n",
       "              'N=C(N)N1CCC(C(=O)NC[C@@H]2CCCN2C(=O)[C@H](CO)NS(=O)(=O)c2ccc3ccccc3c2)CC1'),\n",
       "             ('Standard Type', 'IC50'),\n",
       "             ('Standard Relation', \"'='\"),\n",
       "             ('Standard Value', '110.0'),\n",
       "             ('Standard Units', 'nM'),\n",
       "             ('pChEMBL Value', '6.96'),\n",
       "             ('Data Validity Comment', ''),\n",
       "             ('Comment', ''),\n",
       "             ('Uo Units', 'UO_0000065'),\n",
       "             ('Ligand Efficiency BEI', '13.11'),\n",
       "             ('Ligand Efficiency LE', '0.26'),\n",
       "             ('Ligand Efficiency LLE', '6.77'),\n",
       "             ('Ligand Efficiency SEI', '4.12'),\n",
       "             ('Potential Duplicate', 'False'),\n",
       "             ('Assay ChEMBL ID', 'CHEMBL771785'),\n",
       "             ('Assay Description',\n",
       "              'In vitro inhibition of human thrombin catalytic activity after 3 min pre incubation.'),\n",
       "             ('Assay Type', 'B'),\n",
       "             ('BAO Format ID', 'BAO_0000357'),\n",
       "             ('BAO Label', 'single protein format'),\n",
       "             ('Assay Organism', ''),\n",
       "             ('Assay Tissue ChEMBL ID', ''),\n",
       "             ('Assay Tissue Name', ''),\n",
       "             ('Assay Cell Type', ''),\n",
       "             ('Assay Subcellular Fraction', ''),\n",
       "             ('Target ChEMBL ID', 'CHEMBL204'),\n",
       "             ('Target Name', 'Thrombin'),\n",
       "             ('Target Organism', 'Homo sapiens'),\n",
       "             ('Target Type', 'SINGLE PROTEIN'),\n",
       "             ('Document ChEMBL ID', 'CHEMBL1135091'),\n",
       "             ('Source ID', '1'),\n",
       "             ('Source Description', 'Scientific Literature'),\n",
       "             ('Document Journal', 'Bioorg. Med. Chem. Lett.'),\n",
       "             ('Document Year', '2002'),\n",
       "             ('Cell ChEMBL ID', '')])"
      ]
     },
     "execution_count": 2,
     "metadata": {},
     "output_type": "execute_result"
    }
   ],
   "source": [
    "import csv\n",
    "with open('chembl_thrombin_ic50.csv', 'r') as csvfile:\n",
    "    reader = csv.DictReader(csvfile, delimiter=\";\")\n",
    "    rawdata = [x for x in reader]\n",
    "rawdata[0]"
   ]
  },
  {
   "cell_type": "code",
   "execution_count": 3,
   "metadata": {},
   "outputs": [
    {
     "name": "stdout",
     "output_type": "stream",
     "text": [
      "CHEMBL136755\n",
      "N=C(N)N1CCC(C(=O)NC[C@@H]2CCCN2C(=O)[C@H](CO)NS(=O)(=O)c2ccc3ccccc3c2)CC1\n"
     ]
    }
   ],
   "source": [
    "print(rawdata[0]['Molecule ChEMBL ID'])\n",
    "print(rawdata[0]['Smiles'])"
   ]
  },
  {
   "cell_type": "code",
   "execution_count": 4,
   "metadata": {},
   "outputs": [
    {
     "data": {
      "text/plain": [
       "(3236, 3236)"
      ]
     },
     "execution_count": 4,
     "metadata": {},
     "output_type": "execute_result"
    }
   ],
   "source": [
    "ligand_ids = [m['Molecule ChEMBL ID'] for m in rawdata]\n",
    "ligand_mols = [Chem.MolFromSmiles(m['Smiles']) for m in rawdata]\n",
    "len(ligand_ids), len(ligand_mols)"
   ]
  },
  {
   "cell_type": "code",
   "execution_count": 5,
   "metadata": {},
   "outputs": [
    {
     "data": {
      "text/plain": [
       "[]"
      ]
     },
     "execution_count": 5,
     "metadata": {},
     "output_type": "execute_result"
    }
   ],
   "source": [
    "[x for x in ligand_mols if not x]"
   ]
  },
  {
   "cell_type": "code",
   "execution_count": 6,
   "metadata": {},
   "outputs": [
    {
     "data": {
      "text/plain": [
       "4"
      ]
     },
     "execution_count": 6,
     "metadata": {},
     "output_type": "execute_result"
    }
   ],
   "source": [
    "ligand_rings = [Chem.GetSSSR(ligand) for ligand in ligand_mols]\n",
    "ligand_rings[0]"
   ]
  },
  {
   "cell_type": "code",
   "execution_count": 7,
   "metadata": {},
   "outputs": [
    {
     "data": {
      "image/png": "[encoded data removed]",
      "text/plain": [
       "<rdkit.Chem.rdchem.Mol at 0x7f007905a4e0>"
      ]
     },
     "execution_count": 7,
     "metadata": {},
     "output_type": "execute_result"
    }
   ],
   "source": [
    "ligand_mols[0]"
   ]
  },
  {
   "cell_type": "code",
   "execution_count": 8,
   "metadata": {},
   "outputs": [
    {
     "data": {
      "text/plain": [
       "3.431705809641533"
      ]
     },
     "execution_count": 8,
     "metadata": {},
     "output_type": "execute_result"
    }
   ],
   "source": [
    "sum(ligand_rings)/len(ligand_mols)"
   ]
  },
  {
   "cell_type": "markdown",
   "metadata": {},
   "source": [
    "Počet kruhů na molekulu v thrombinovém setu vychází na číslo 3,43, což je o více jak jeden kruh méně, než v případě ukázkového mTOR (4,68) a o dva méně, než v DrugBance (2,46).\n",
    "\n",
    "Rozdíl thrombinu a mTOR může být zapříčiněn rozdílnou velikostí aktivního místa, kam se daný ligand váže. V případě DrugBank bych tipoval, že je to tím, že tento set obsahuje náhodný set léčiv, kde schází nějaké konkrétní společné zaměření a číslo 2,46 je prostě náhodná veličina, která vypadla z náhodného souboru dat."
   ]
  },
  {
   "cell_type": "code",
   "execution_count": null,
   "metadata": {},
   "outputs": [],
   "source": []
  }
 ],
 "metadata": {
  "kernelspec": {
   "display_name": "Python 3",
   "language": "python",
   "name": "python3"
  },
  "language_info": {
   "codemirror_mode": {
    "name": "ipython",
    "version": 3
   },
   "file_extension": ".py",
   "mimetype": "text/x-python",
   "name": "python",
   "nbconvert_exporter": "python",
   "pygments_lexer": "ipython3",
   "version": "3.7.3"
  }
 },
 "nbformat": 4,
 "nbformat_minor": 4
}
