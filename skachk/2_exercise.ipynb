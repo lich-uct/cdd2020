{
 "cells": [
  {
   "cell_type": "code",
   "execution_count": 2,
   "metadata": {},
   "outputs": [
    {
     "name": "stderr",
     "output_type": "stream",
     "text": [
      "RDKit WARNING: [10:27:33] Enabling RDKit 2019.09.3 jupyter extensions\n"
     ]
    }
   ],
   "source": [
    "from rdkit import Chem\n",
    "from rdkit.Chem.Draw import IPythonConsole"
   ]
  },
  {
   "cell_type": "code",
   "execution_count": 3,
   "metadata": {},
   "outputs": [
    {
     "data": {
      "text/plain": [
       "OrderedDict([('Molecule ChEMBL ID', 'CHEMBL136755'),\n",
       "             ('Molecule Name', ''),\n",
       "             ('Molecule Max Phase', '0'),\n",
       "             ('Molecular Weight', '530.65'),\n",
       "             ('#RO5 Violations', '1'),\n",
       "             ('AlogP', '0.19'),\n",
       "             ('Compound Key', '19'),\n",
       "             ('Smiles',\n",
       "              'N=C(N)N1CCC(C(=O)NC[C@@H]2CCCN2C(=O)[C@H](CO)NS(=O)(=O)c2ccc3ccccc3c2)CC1'),\n",
       "             ('Standard Type', 'IC50'),\n",
       "             ('Standard Relation', \"'='\"),\n",
       "             ('Standard Value', '110.0'),\n",
       "             ('Standard Units', 'nM'),\n",
       "             ('pChEMBL Value', '6.96'),\n",
       "             ('Data Validity Comment', ''),\n",
       "             ('Comment', ''),\n",
       "             ('Uo Units', 'UO_0000065'),\n",
       "             ('Ligand Efficiency BEI', '13.11'),\n",
       "             ('Ligand Efficiency LE', '0.26'),\n",
       "             ('Ligand Efficiency LLE', '6.77'),\n",
       "             ('Ligand Efficiency SEI', '4.12'),\n",
       "             ('Potential Duplicate', 'False'),\n",
       "             ('Assay ChEMBL ID', 'CHEMBL771785'),\n",
       "             ('Assay Description',\n",
       "              'In vitro inhibition of human thrombin catalytic activity after 3 min pre incubation.'),\n",
       "             ('Assay Type', 'B'),\n",
       "             ('BAO Format ID', 'BAO_0000357'),\n",
       "             ('BAO Label', 'single protein format'),\n",
       "             ('Assay Organism', ''),\n",
       "             ('Assay Tissue ChEMBL ID', ''),\n",
       "             ('Assay Tissue Name', ''),\n",
       "             ('Assay Cell Type', ''),\n",
       "             ('Assay Subcellular Fraction', ''),\n",
       "             ('Target ChEMBL ID', 'CHEMBL204'),\n",
       "             ('Target Name', 'Thrombin'),\n",
       "             ('Target Organism', 'Homo sapiens'),\n",
       "             ('Target Type', 'SINGLE PROTEIN'),\n",
       "             ('Document ChEMBL ID', 'CHEMBL1135091'),\n",
       "             ('Source ID', '1'),\n",
       "             ('Source Description', 'Scientific Literature'),\n",
       "             ('Document Journal', 'Bioorg. Med. Chem. Lett.'),\n",
       "             ('Document Year', '2002'),\n",
       "             ('Cell ChEMBL ID', '')])"
      ]
     },
     "execution_count": 3,
     "metadata": {},
     "output_type": "execute_result"
    }
   ],
   "source": [
    "import csv\n",
    "with open('/home/skachk/workspace/Project/data/chembl_thrombin_ic50.csv', 'r') as csvfile:\n",
    "    reader = csv.DictReader(csvfile, delimiter=\";\")\n",
    "    rawdata = [x for x in reader]\n",
    "rawdata[0]"
   ]
  },
  {
   "cell_type": "code",
   "execution_count": 4,
   "metadata": {},
   "outputs": [
    {
     "name": "stdout",
     "output_type": "stream",
     "text": [
      "CHEMBL136755\n",
      "N=C(N)N1CCC(C(=O)NC[C@@H]2CCCN2C(=O)[C@H](CO)NS(=O)(=O)c2ccc3ccccc3c2)CC1\n"
     ]
    }
   ],
   "source": [
    "print(rawdata[0]['Molecule ChEMBL ID'])\n",
    "print(rawdata[0]['Smiles'])"
   ]
  },
  {
   "cell_type": "code",
   "execution_count": 5,
   "metadata": {},
   "outputs": [
    {
     "ename": "NameError",
     "evalue": "name 'Chem' is not defined",
     "output_type": "error",
     "traceback": [
      "\u001b[0;31m---------------------------------------------------------------------------\u001b[0m",
      "\u001b[0;31mNameError\u001b[0m                                 Traceback (most recent call last)",
      "\u001b[0;32m<ipython-input-5-61e17ed7f3fe>\u001b[0m in \u001b[0;36m<module>\u001b[0;34m\u001b[0m\n\u001b[1;32m      1\u001b[0m \u001b[0mligand_ids\u001b[0m \u001b[0;34m=\u001b[0m \u001b[0;34m[\u001b[0m\u001b[0mm\u001b[0m\u001b[0;34m[\u001b[0m\u001b[0;34m'Molecule ChEMBL ID'\u001b[0m\u001b[0;34m]\u001b[0m \u001b[0;32mfor\u001b[0m \u001b[0mm\u001b[0m \u001b[0;32min\u001b[0m \u001b[0mrawdata\u001b[0m\u001b[0;34m]\u001b[0m\u001b[0;34m\u001b[0m\u001b[0;34m\u001b[0m\u001b[0m\n\u001b[0;32m----> 2\u001b[0;31m \u001b[0mligand_mols\u001b[0m \u001b[0;34m=\u001b[0m \u001b[0;34m[\u001b[0m\u001b[0mChem\u001b[0m\u001b[0;34m.\u001b[0m\u001b[0mMolFromSmiles\u001b[0m\u001b[0;34m(\u001b[0m\u001b[0mm\u001b[0m\u001b[0;34m[\u001b[0m\u001b[0;34m'Smiles'\u001b[0m\u001b[0;34m]\u001b[0m\u001b[0;34m)\u001b[0m \u001b[0;32mfor\u001b[0m \u001b[0mm\u001b[0m \u001b[0;32min\u001b[0m \u001b[0mrawdata\u001b[0m\u001b[0;34m]\u001b[0m\u001b[0;34m\u001b[0m\u001b[0;34m\u001b[0m\u001b[0m\n\u001b[0m\u001b[1;32m      3\u001b[0m \u001b[0mlen\u001b[0m\u001b[0;34m(\u001b[0m\u001b[0mligand_ids\u001b[0m\u001b[0;34m)\u001b[0m\u001b[0;34m,\u001b[0m \u001b[0mlen\u001b[0m\u001b[0;34m(\u001b[0m\u001b[0mligand_mols\u001b[0m\u001b[0;34m)\u001b[0m\u001b[0;34m\u001b[0m\u001b[0;34m\u001b[0m\u001b[0m\n",
      "\u001b[0;32m<ipython-input-5-61e17ed7f3fe>\u001b[0m in \u001b[0;36m<listcomp>\u001b[0;34m(.0)\u001b[0m\n\u001b[1;32m      1\u001b[0m \u001b[0mligand_ids\u001b[0m \u001b[0;34m=\u001b[0m \u001b[0;34m[\u001b[0m\u001b[0mm\u001b[0m\u001b[0;34m[\u001b[0m\u001b[0;34m'Molecule ChEMBL ID'\u001b[0m\u001b[0;34m]\u001b[0m \u001b[0;32mfor\u001b[0m \u001b[0mm\u001b[0m \u001b[0;32min\u001b[0m \u001b[0mrawdata\u001b[0m\u001b[0;34m]\u001b[0m\u001b[0;34m\u001b[0m\u001b[0;34m\u001b[0m\u001b[0m\n\u001b[0;32m----> 2\u001b[0;31m \u001b[0mligand_mols\u001b[0m \u001b[0;34m=\u001b[0m \u001b[0;34m[\u001b[0m\u001b[0mChem\u001b[0m\u001b[0;34m.\u001b[0m\u001b[0mMolFromSmiles\u001b[0m\u001b[0;34m(\u001b[0m\u001b[0mm\u001b[0m\u001b[0;34m[\u001b[0m\u001b[0;34m'Smiles'\u001b[0m\u001b[0;34m]\u001b[0m\u001b[0;34m)\u001b[0m \u001b[0;32mfor\u001b[0m \u001b[0mm\u001b[0m \u001b[0;32min\u001b[0m \u001b[0mrawdata\u001b[0m\u001b[0;34m]\u001b[0m\u001b[0;34m\u001b[0m\u001b[0;34m\u001b[0m\u001b[0m\n\u001b[0m\u001b[1;32m      3\u001b[0m \u001b[0mlen\u001b[0m\u001b[0;34m(\u001b[0m\u001b[0mligand_ids\u001b[0m\u001b[0;34m)\u001b[0m\u001b[0;34m,\u001b[0m \u001b[0mlen\u001b[0m\u001b[0;34m(\u001b[0m\u001b[0mligand_mols\u001b[0m\u001b[0;34m)\u001b[0m\u001b[0;34m\u001b[0m\u001b[0;34m\u001b[0m\u001b[0m\n",
      "\u001b[0;31mNameError\u001b[0m: name 'Chem' is not defined"
     ]
    }
   ],
   "source": [
    "ligand_ids = [m['Molecule ChEMBL ID'] for m in rawdata]\n",
    "ligand_mols = [Chem.MolFromSmiles(m['Smiles']) for m in rawdata]\n",
    "len(ligand_ids), len(ligand_mols)"
   ]
  },
  {
   "cell_type": "code",
   "execution_count": null,
   "metadata": {},
   "outputs": [],
   "source": []
  }
 ],
 "metadata": {
  "kernelspec": {
   "display_name": "Python 3",
   "language": "python",
   "name": "python3"
  },
  "language_info": {
   "codemirror_mode": {
    "name": "ipython",
    "version": 3
   },
   "file_extension": ".py",
   "mimetype": "text/x-python",
   "name": "python",
   "nbconvert_exporter": "python",
   "pygments_lexer": "ipython3",
   "version": "3.7.6"
  }
 },
 "nbformat": 4,
 "nbformat_minor": 4
}
