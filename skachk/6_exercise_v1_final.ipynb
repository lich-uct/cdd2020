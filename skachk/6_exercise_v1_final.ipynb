{
 "cells": [
  {
   "cell_type": "code",
   "execution_count": 1,
   "metadata": {},
   "outputs": [],
   "source": [
    "from rdkit.Chem import AllChem as Chem\n",
    "from rdkit.Chem import Draw\n",
    "from rdkit.Chem import MACCSkeys\n",
    "\n",
    "import numpy as np\n",
    "import pandas as pd\n",
    "import csv"
   ]
  },
  {
   "cell_type": "code",
   "execution_count": 2,
   "metadata": {},
   "outputs": [],
   "source": [
    "with open('chembl_thrombin_ic50.csv', 'r') as csvfile:\n",
    "    reader = csv.DictReader(csvfile, delimiter=\";\")\n",
    "    ligands = [Chem.MolFromSmiles(m['Smiles']) for m in reader]\n",
    "\n",
    "supplier = Chem.SDMolSupplier('drugbank.sdf')\n",
    "drugbank = [m for m in supplier if m]"
   ]
  },
  {
   "cell_type": "code",
   "execution_count": 3,
   "metadata": {},
   "outputs": [
    {
     "name": "stdout",
     "output_type": "stream",
     "text": [
      "3236\n",
      "7113\n"
     ]
    }
   ],
   "source": [
    "print(len(ligands))\n",
    "print(len(drugbank))"
   ]
  },
  {
   "cell_type": "code",
   "execution_count": 53,
   "metadata": {},
   "outputs": [
    {
     "data": {
      "image/png": "[encoded data removed]",
      "text/plain": [
       "<PIL.PngImagePlugin.PngImageFile image mode=RGB size=900x600 at 0x7FBECF449128>"
      ]
     },
     "execution_count": 53,
     "metadata": {},
     "output_type": "execute_result"
    }
   ],
   "source": [
    "thiophene = Chem.MolFromSmarts(\"c1cscc1\")\n",
    "tetrahydropyran = Chem.MolFromSmarts(\"C1OCCCC1\")\n",
    "urea = Chem.MolFromSmarts(\"NC(=O)N\")\n",
    "serine = Chem.MolFromSmarts(\"OCC(N)C(=O)O\")\n",
    "does_interact = [thiophene, tetrahydropyran, urea, serine]\n",
    "Draw.MolsToGridImage(does_interact, molsPerRow=3, subImgSize=(300,300))"
   ]
  },
  {
   "cell_type": "markdown",
   "metadata": {},
   "source": [
    "Měl jsem trochu problém najít správné struktury, které by vyhovovaly. Nakonec jsem zvolil dehydrothiofen, dehydropyran, močovinový motiv a aminokyselinu serin, protože thrombin je serinová proteáza a tak bych čekal, že bude v jeho ligandech tento strukturní motiv častý."
   ]
  },
  {
   "cell_type": "code",
   "execution_count": 54,
   "metadata": {},
   "outputs": [
    {
     "name": "stdout",
     "output_type": "stream",
     "text": [
      "[200, 21, 86, 2]\n"
     ]
    },
    {
     "data": {
      "text/plain": [
       "3236"
      ]
     },
     "execution_count": 54,
     "metadata": {},
     "output_type": "execute_result"
    }
   ],
   "source": [
    "ligand_keys = []\n",
    "overview = [0, 0, 0, 0]\n",
    "for l in ligands:\n",
    "    key = []\n",
    "    for i, t in enumerate(does_interact):\n",
    "        if l.HasSubstructMatch(t):\n",
    "            key.append(1)\n",
    "            x = overview[i]\n",
    "            overview[i] = x +1\n",
    "        else:\n",
    "            key.append(0)\n",
    "    ligand_keys.append(key)\n",
    "print(overview)\n",
    "len(ligand_keys)"
   ]
  },
  {
   "cell_type": "markdown",
   "metadata": {},
   "source": [
    "Malé zasoupení serinu mě trochu překvapilo, ale nevadí."
   ]
  },
  {
   "cell_type": "code",
   "execution_count": 55,
   "metadata": {},
   "outputs": [
    {
     "data": {
      "text/plain": [
       "(3236, 7113)"
      ]
     },
     "execution_count": 55,
     "metadata": {},
     "output_type": "execute_result"
    }
   ],
   "source": [
    "thrombin_keys = [MACCSkeys.GenMACCSKeys(l) for l in ligands]\n",
    "db_keys = [MACCSkeys.GenMACCSKeys(d) for d in drugbank]\n",
    "len(thrombin_keys), len(db_keys)"
   ]
  },
  {
   "cell_type": "code",
   "execution_count": 56,
   "metadata": {},
   "outputs": [
    {
     "data": {
      "text/plain": [
       "array([   0.,    0.,    0.,    0.,    0.,    0.,    0.,    0.,   27.,\n",
       "          0.,    0.,   66.,    0.,    7.,    1.,    0.,    0.,   12.,\n",
       "          9.,  101.,    1.,    7.,   32.,  143.,  117.,  959.,   14.,\n",
       "          4.,   38.,   51.,    5.,    3.,  687.,  693.,   33.,  109.,\n",
       "        671.,  133., 1367.,  147.,  147.,   33.,  462., 1857.,  118.,\n",
       "         19.,   71.,  608.,  193.,  227.,  139.,  730.,  436.,  494.,\n",
       "        865.,  856.,   92.,  591.,  856.,  594.,  856.,  856.,  814.,\n",
       "         93.,  609., 1661.,  253.,  858.,   22.,  646.,  162.,  147.,\n",
       "        567.,  871.,  465., 1997.,  151., 2370., 1909., 2132., 1273.,\n",
       "       1156., 1618., 1913., 2163., 1897.,  881.,  838., 1418.,  657.,\n",
       "       1894., 2037., 2729.,  913., 1136., 2275., 2000., 1457., 1453.,\n",
       "        262., 2442., 1354., 1021.,  731., 2045., 1378., 1824.,  982.,\n",
       "        584.,  714., 2769., 2444., 1240., 1209.,  602.,  597.,  677.,\n",
       "       2842., 2223., 1978., 1994., 2481., 2259., 1268., 1333., 2611.,\n",
       "       1064., 1769., 1760., 1993., 1021., 2552., 1839., 1717., 1138.,\n",
       "       1491., 2681., 2696., 2130., 1164., 1924.,  605., 2963., 1769.,\n",
       "       1782., 2707., 2568., 2231., 2587., 1252., 2544., 2847., 1736.,\n",
       "       2763., 3016., 2775., 3074., 2050., 3047., 3037., 2137., 3090.,\n",
       "       3141., 3182., 3198., 3219.,  402.])"
      ]
     },
     "execution_count": 56,
     "metadata": {},
     "output_type": "execute_result"
    }
   ],
   "source": [
    "np.set_printoptions(suppress=True)\n",
    "thrombin_keys_sum = np.zeros(len(thrombin_keys[0]))\n",
    "for l in thrombin_keys:\n",
    "    for i,b in enumerate(l.ToBitString()):\n",
    "        if int(b)==1:\n",
    "            thrombin_keys_sum[i]+=1\n",
    "thrombin_keys_sum"
   ]
  },
  {
   "cell_type": "code",
   "execution_count": 57,
   "metadata": {},
   "outputs": [
    {
     "data": {
      "text/plain": [
       "array([   0.,    0.,    0.,   30.,    0.,    1.,   11.,   24.,   99.,\n",
       "         46.,   22.,  117.,   30.,   60.,   33.,   11.,   52.,   77.,\n",
       "         68.,  282.,    7.,   21.,  181.,  212.,  435.,  564.,  224.,\n",
       "         96.,  149.,  726.,  126.,   21.,  431.,  481.,  153.,   44.,\n",
       "        625.,  521., 1312.,  153.,  167.,  166.,  698., 1198.,  266.,\n",
       "        246.,  194.,  455.,  869.,  713.,  646.,  601.,  553., 1895.,\n",
       "       2246.,  663.,  178., 1633.,  669.,  604.,  685.,  695., 1753.,\n",
       "        207.,  624., 2507., 1118.,  782.,  133., 1551.,  295.,  526.,\n",
       "       2196.,  755., 1184., 2092.,  797., 2245.,  703., 2263., 2296.,\n",
       "       1228., 2080., 2781., 2109., 2498., 1685., 1310., 1596., 2474.,\n",
       "       3533., 3342., 2825., 1650., 1481., 3191., 3098., 2783., 3056.,\n",
       "       1145., 2845., 2775., 1934.,  786., 3210., 2939., 2665., 1534.,\n",
       "       1732., 2372., 3113., 3377., 2725., 2292., 1097., 1828., 1896.,\n",
       "       3354., 3347.,  924., 3223., 3762., 2973., 2791., 2463., 3448.,\n",
       "       2547., 3821., 2689., 2850., 1791., 4638., 3554., 2717., 1637.,\n",
       "       2198., 3264., 4492., 2581., 4291., 3262., 1352., 4169., 3821.,\n",
       "       2802., 3698., 4375., 3396., 3793., 2507., 3939., 4407., 3963.,\n",
       "       4550., 4670., 4851., 5254., 5253., 5350., 5675., 4234., 5680.,\n",
       "       5174., 5797., 6505., 6131.,  163.])"
      ]
     },
     "execution_count": 57,
     "metadata": {},
     "output_type": "execute_result"
    }
   ],
   "source": [
    "db_keys_sum = np.zeros(len(db_keys[0]))\n",
    "for l in db_keys:\n",
    "    for i,b in enumerate(l.ToBitString()):\n",
    "        if int(b)==1:\n",
    "            db_keys_sum[i]+=1\n",
    "db_keys_sum"
   ]
  },
  {
   "cell_type": "code",
   "execution_count": 58,
   "metadata": {},
   "outputs": [
    {
     "data": {
      "text/plain": [
       "array([0.        , 0.        , 0.        , 0.00421763, 0.        ,\n",
       "       0.00014059, 0.00154646, 0.0033741 , 0.01391818, 0.00646703,\n",
       "       0.00309293, 0.01644876, 0.00421763, 0.00843526, 0.00463939,\n",
       "       0.00154646, 0.00731056, 0.01082525, 0.00955996, 0.03964572,\n",
       "       0.00098411, 0.00295234, 0.02544637, 0.02980458, 0.06115563,\n",
       "       0.07929144, 0.03149164, 0.01349642, 0.02094756, 0.10206664,\n",
       "       0.01771404, 0.00295234, 0.06059328, 0.06762266, 0.02150991,\n",
       "       0.00618586, 0.08786729, 0.07324617, 0.18445101, 0.02150991,\n",
       "       0.02347814, 0.02333755, 0.09813018, 0.16842401, 0.03739632,\n",
       "       0.03458456, 0.02727401, 0.06396738, 0.12217067, 0.100239  ,\n",
       "       0.09081963, 0.08449318, 0.07774497, 0.26641361, 0.31575988,\n",
       "       0.09320962, 0.0250246 , 0.22957964, 0.09405314, 0.08491494,\n",
       "       0.09630254, 0.09770842, 0.24645016, 0.02910164, 0.0877267 ,\n",
       "       0.35245325, 0.157177  , 0.10993955, 0.01869816, 0.21805146,\n",
       "       0.04147336, 0.07394911, 0.30873049, 0.10614368, 0.16645579,\n",
       "       0.29410938, 0.11204836, 0.31561929, 0.09883312, 0.31814987,\n",
       "       0.32278926, 0.17264164, 0.29242233, 0.39097427, 0.29649937,\n",
       "       0.35118797, 0.2368902 , 0.18416983, 0.2243779 , 0.34781386,\n",
       "       0.49669619, 0.46984395, 0.39716013, 0.23196963, 0.20821032,\n",
       "       0.44861521, 0.43554056, 0.39125545, 0.42963588, 0.16097287,\n",
       "       0.39997188, 0.39013075, 0.27189653, 0.1105019 , 0.45128638,\n",
       "       0.41318712, 0.3746661 , 0.21566146, 0.24349782, 0.33347392,\n",
       "       0.43764937, 0.47476452, 0.38310136, 0.32222691, 0.15422466,\n",
       "       0.25699424, 0.2665542 , 0.471531  , 0.47054689, 0.12990299,\n",
       "       0.45311402, 0.52889076, 0.4179671 , 0.39238015, 0.3462674 ,\n",
       "       0.48474624, 0.35807676, 0.53718544, 0.37804021, 0.40067482,\n",
       "       0.25179249, 0.65204555, 0.49964853, 0.38197666, 0.23014199,\n",
       "       0.30901167, 0.45887811, 0.63151975, 0.36285674, 0.60326163,\n",
       "       0.45859694, 0.19007451, 0.58610994, 0.53718544, 0.39392661,\n",
       "       0.51989315, 0.615071  , 0.47743568, 0.53324898, 0.35245325,\n",
       "       0.55377478, 0.6195698 , 0.55714888, 0.63967384, 0.65654436,\n",
       "       0.68199072, 0.73864755, 0.73850696, 0.75214396, 0.79783495,\n",
       "       0.59524814, 0.79853789, 0.72740053, 0.81498664, 0.9145227 ,\n",
       "       0.86194292, 0.02291579])"
      ]
     },
     "execution_count": 58,
     "metadata": {},
     "output_type": "execute_result"
    }
   ],
   "source": [
    "db_keys_proportions = np.divide(db_keys_sum,len(drugbank))\n",
    "db_keys_proportions"
   ]
  },
  {
   "cell_type": "code",
   "execution_count": 59,
   "metadata": {},
   "outputs": [],
   "source": [
    "thrombin_keys_proportions = np.divide(thrombin_keys_sum, len(ligands))"
   ]
  },
  {
   "cell_type": "code",
   "execution_count": 61,
   "metadata": {},
   "outputs": [
    {
     "data": {
      "text/plain": [
       "array([ 0.        ,  0.        ,  0.        , -0.00421763,  0.        ,\n",
       "       -0.00014059, -0.00154646, -0.0033741 , -0.00557454, -0.00646703,\n",
       "       -0.00309293,  0.00394679, -0.00421763, -0.00627209, -0.00433037,\n",
       "       -0.00154646, -0.00731056, -0.00711697, -0.00677875, -0.00843435,\n",
       "       -0.00067509, -0.00078918, -0.01555761,  0.01438578, -0.02499988,\n",
       "        0.21706208, -0.02716531, -0.01226032, -0.00920467, -0.08630644,\n",
       "       -0.01616893, -0.00202527,  0.15170585,  0.14653061, -0.01131214,\n",
       "        0.0274977 ,  0.11948747, -0.03214605,  0.2379841 ,  0.02391654,\n",
       "        0.02194831, -0.01313978,  0.04463867,  0.4054326 , -0.00093155,\n",
       "       -0.02871312, -0.00533334,  0.1239189 , -0.06252914, -0.03009067,\n",
       "       -0.04786536,  0.14109396,  0.05698927, -0.11375601, -0.04845456,\n",
       "        0.17131449,  0.00340556, -0.04694676,  0.17047096,  0.09864501,\n",
       "        0.16822156,  0.16681568,  0.00509496, -0.00036246,  0.10046861,\n",
       "        0.16083476, -0.07899406,  0.1552026 , -0.01189964, -0.01842228,\n",
       "        0.00858845, -0.02852265, -0.13351418,  0.16301578, -0.02275986,\n",
       "        0.32301052, -0.06538582,  0.41676637,  0.49109271,  0.34068821,\n",
       "        0.07059764,  0.18458951,  0.20757767,  0.20018766,  0.37191843,\n",
       "        0.23502959,  0.03535949,  0.07479185,  0.2138174 , -0.14478543,\n",
       "        0.08859429,  0.15963689,  0.44616496,  0.05016881,  0.14284036,\n",
       "        0.25441322,  0.18250641,  0.05899177,  0.01937525, -0.08000871,\n",
       "        0.35466347,  0.02828705,  0.04361645,  0.11539427,  0.18066665,\n",
       "        0.01264724,  0.18899273,  0.0877996 , -0.06302811, -0.11283115,\n",
       "        0.41803666,  0.28048888,  0.00008776,  0.05138249,  0.03180748,\n",
       "       -0.07250721, -0.0573453 ,  0.40671375,  0.21641232,  0.48134546,\n",
       "        0.16307881,  0.2377965 ,  0.28011695, -0.00053837,  0.06566091,\n",
       "        0.32211408, -0.02927577,  0.00947711,  0.16584113,  0.21520899,\n",
       "        0.06372049,  0.13658239,  0.06864566,  0.14861666,  0.12152673,\n",
       "        0.15174235,  0.36961385,  0.20160757,  0.29536328, -0.2435583 ,\n",
       "        0.13596425, -0.0031153 ,  0.32952665,  0.00947711,  0.15675324,\n",
       "        0.31663342,  0.17850131,  0.21199572,  0.26619478,  0.03444415,\n",
       "        0.23238097,  0.26022006, -0.02068411,  0.21415805,  0.27547048,\n",
       "        0.17554945,  0.21129065, -0.10500881,  0.1894506 ,  0.14066938,\n",
       "        0.06513505,  0.15634468,  0.24324223,  0.16832609,  0.0737344 ,\n",
       "        0.13280368,  0.10131165])"
      ]
     },
     "execution_count": 61,
     "metadata": {},
     "output_type": "execute_result"
    }
   ],
   "source": [
    "diff_keys = np.subtract(thrombin_keys_proportions, db_keys_proportions)\n",
    "diff_keys"
   ]
  },
  {
   "cell_type": "code",
   "execution_count": 62,
   "metadata": {},
   "outputs": [
    {
     "data": {
      "text/plain": [
       "{0: 0.0,\n",
       " 1: 0.0,\n",
       " 2: 0.0,\n",
       " 3: -0.004217629692113032,\n",
       " 4: 0.0,\n",
       " 5: -0.00014058765640376775,\n",
       " 6: -0.0015464642204414453,\n",
       " 7: -0.003374103753690426,\n",
       " 8: -0.005574543867780177,\n",
       " 9: -0.006467032194573317,\n",
       " 10: -0.0030929284408828905,\n",
       " 11: 0.003946794262563873,\n",
       " 12: -0.004217629692113032,\n",
       " 13: -0.006272094983731627,\n",
       " 14: -0.004330369175539416,\n",
       " 15: -0.0015464642204414453,\n",
       " 16: -0.007310558132995923,\n",
       " 17: -0.007116967713671081,\n",
       " 18: -0.00677874926339193,\n",
       " 19: -0.008434347041585619,\n",
       " 20: -0.0006750901090414545,\n",
       " 21: -0.0007891763839846851,\n",
       " 22: -0.015557614263964535,\n",
       " 23: 0.01438577530964475,\n",
       " 24: -0.02499988269880337,\n",
       " 25: 0.21706208465601295,\n",
       " 26: -0.027165306233455096,\n",
       " 27: -0.012260321071622025,\n",
       " 28: -0.009204668344334447,\n",
       " 29: -0.08630644077410449,\n",
       " 30: -0.016168927277950138,\n",
       " 31: -0.0020252703271243636,\n",
       " 32: 0.1517058548242159,\n",
       " 33: 0.14653061291873704,\n",
       " 34: -0.011312136398874115,\n",
       " 35: 0.027497703068790458,\n",
       " 36: 0.11948747370932625,\n",
       " 37: -0.03214604537696868,\n",
       " 38: 0.23798409986624186,\n",
       " 39: 0.023916540980606728,\n",
       " 40: 0.021948313790953976,\n",
       " 41: -0.013139775932123097,\n",
       " 42: 0.04463866626280298,\n",
       " 43: 0.40543260073088205,\n",
       " 44: -0.0009315452807817023,\n",
       " 45: -0.028713117245413394,\n",
       " 46: -0.005333337851601647,\n",
       " 47: 0.12391889569351683,\n",
       " 48: -0.06252914065838468,\n",
       " 49: -0.03009066774270963,\n",
       " 50: -0.04786536151273014,\n",
       " 51: 0.14109396312432693,\n",
       " 52: 0.056989265810941395,\n",
       " 53: -0.11375600690738957,\n",
       " 54: -0.04845456107890683,\n",
       " 55: 0.17131448763619322,\n",
       " 56: 0.0034055578523419505,\n",
       " 57: -0.046946762808465214,\n",
       " 58: 0.1704709616977706,\n",
       " 59: 0.09864500608836656,\n",
       " 60: 0.16822155919531034,\n",
       " 61: 0.16681568263127267,\n",
       " 62: 0.005094955753119745,\n",
       " 63: -0.0003624606975823966,\n",
       " 64: 0.10046860524706501,\n",
       " 65: 0.1608347552845058,\n",
       " 66: -0.07899405795582766,\n",
       " 67: 0.15520260349571466,\n",
       " 68: -0.011899641614432879,\n",
       " 69: -0.018422283265185663,\n",
       " 70: 0.008588446058045499,\n",
       " 71: -0.02852265485799864,\n",
       " 72: -0.13351417702262455,\n",
       " 73: 0.1630157755338204,\n",
       " 74: -0.022759864292073384,\n",
       " 75: 0.3230105239158025,\n",
       " 76: -0.06538581580028002,\n",
       " 77: 0.416766372683801,\n",
       " 78: 0.4910927119115629,\n",
       " 79: 0.3406882052517222,\n",
       " 80: 0.07059763830115201,\n",
       " 81: 0.18458950750354033,\n",
       " 82: 0.20757767468016308,\n",
       " 83: 0.20018765584767323,\n",
       " 84: 0.3719184323972351,\n",
       " 85: 0.23502958683738073,\n",
       " 86: 0.03535948993616553,\n",
       " 87: 0.07479185119882695,\n",
       " 88: 0.21381740322260273,\n",
       " 89: -0.1447854317822292,\n",
       " 90: 0.08859429200212637,\n",
       " 91: 0.1596368928424895,\n",
       " 92: 0.4461649633664018,\n",
       " 93: 0.05016880945541488,\n",
       " 94: 0.14284036071768869,\n",
       " 95: 0.25441321857626925,\n",
       " 96: 0.18250641203096685,\n",
       " 97: 0.05899177101694231,\n",
       " 98: 0.019375246875574015,\n",
       " 99: -0.08000871330666513,\n",
       " 100: 0.3546634698180546,\n",
       " 101: 0.02828705323232572,\n",
       " 102: 0.04361645150151611,\n",
       " 103: 0.11539427017541483,\n",
       " 104: 0.18066665137406618,\n",
       " 105: 0.01264724124094585,\n",
       " 106: 0.18899273375565245,\n",
       " 107: 0.08779959811741139,\n",
       " 108: -0.06302810519293267,\n",
       " 109: -0.11283115213930447,\n",
       " 110: 0.4180366577535135,\n",
       " 111: 0.28048888358282,\n",
       " 112: 8.77586730332891e-05,\n",
       " 113: 0.051382485836532155,\n",
       " 114: 0.03180747936758843,\n",
       " 115: -0.0725072148924904,\n",
       " 116: -0.05734529666515306,\n",
       " 117: 0.4067137470225047,\n",
       " 118: 0.21641232291646573,\n",
       " 119: 0.48134546036548964,\n",
       " 120: 0.16307881406578628,\n",
       " 121: 0.23779650484141135,\n",
       " 122: 0.28011695189973196,\n",
       " 123: -0.0005383690476376546,\n",
       " 124: 0.06566090882881798,\n",
       " 125: 0.322114082104234,\n",
       " 126: -0.02927577198524195,\n",
       " 127: 0.009477111234726276,\n",
       " 128: 0.16584112691172714,\n",
       " 129: 0.2152089864186068,\n",
       " 130: 0.06372048636725491,\n",
       " 131: 0.13658238532244016,\n",
       " 132: 0.06864565949947671,\n",
       " 133: 0.14861666264367007,\n",
       " 134: 0.12152673329027078,\n",
       " 135: 0.15174234852983365,\n",
       " 136: 0.3696138548874717,\n",
       " 137: 0.20160756511041866,\n",
       " 138: 0.29536328354375435,\n",
       " 139: -0.24355829617492097,\n",
       " 140: 0.13596425146109503,\n",
       " 141: -0.0031153025580176186,\n",
       " 142: 0.3295266488334092,\n",
       " 143: 0.009477111234726276,\n",
       " 144: 0.15675323842536953,\n",
       " 145: 0.31663342263864436,\n",
       " 146: 0.17850131472918973,\n",
       " 147: 0.21199571563896047,\n",
       " 148: 0.26619477698609606,\n",
       " 149: 0.03444414959847364,\n",
       " 150: 0.2323809692623945,\n",
       " 151: 0.2602200622582619,\n",
       " 152: -0.020684111005511152,\n",
       " 153: 0.21415805458658976,\n",
       " 154: 0.2754704777217223,\n",
       " 155: 0.1755494518384747,\n",
       " 156: 0.21129064855744728,\n",
       " 157: -0.10500881322990674,\n",
       " 158: 0.18945059942649278,\n",
       " 159: 0.14066937623741904,\n",
       " 160: 0.06513505190882063,\n",
       " 161: 0.15634468270200097,\n",
       " 162: 0.2432422346173383,\n",
       " 163: 0.1683260875949727,\n",
       " 164: 0.07373440263366382,\n",
       " 165: 0.13280367933015624,\n",
       " 166: 0.10131165329172356}"
      ]
     },
     "execution_count": 62,
     "metadata": {},
     "output_type": "execute_result"
    }
   ],
   "source": [
    "diff_keys_sorted = dict(enumerate(diff_keys))\n",
    "diff_keys_sorted"
   ]
  },
  {
   "cell_type": "code",
   "execution_count": 63,
   "metadata": {},
   "outputs": [
    {
     "data": {
      "text/plain": [
       "{139: -0.24355829617492097,\n",
       " 89: -0.1447854317822292,\n",
       " 72: -0.13351417702262455,\n",
       " 53: -0.11375600690738957,\n",
       " 109: -0.11283115213930447,\n",
       " 157: -0.10500881322990674,\n",
       " 29: -0.08630644077410449,\n",
       " 99: -0.08000871330666513,\n",
       " 66: -0.07899405795582766,\n",
       " 115: -0.0725072148924904,\n",
       " 76: -0.06538581580028002,\n",
       " 108: -0.06302810519293267,\n",
       " 48: -0.06252914065838468,\n",
       " 116: -0.05734529666515306,\n",
       " 54: -0.04845456107890683,\n",
       " 50: -0.04786536151273014,\n",
       " 57: -0.046946762808465214,\n",
       " 37: -0.03214604537696868,\n",
       " 49: -0.03009066774270963,\n",
       " 126: -0.02927577198524195,\n",
       " 45: -0.028713117245413394,\n",
       " 71: -0.02852265485799864,\n",
       " 26: -0.027165306233455096,\n",
       " 24: -0.02499988269880337,\n",
       " 74: -0.022759864292073384,\n",
       " 152: -0.020684111005511152,\n",
       " 69: -0.018422283265185663,\n",
       " 30: -0.016168927277950138,\n",
       " 22: -0.015557614263964535,\n",
       " 41: -0.013139775932123097,\n",
       " 27: -0.012260321071622025,\n",
       " 68: -0.011899641614432879,\n",
       " 34: -0.011312136398874115,\n",
       " 28: -0.009204668344334447,\n",
       " 19: -0.008434347041585619,\n",
       " 16: -0.007310558132995923,\n",
       " 17: -0.007116967713671081,\n",
       " 18: -0.00677874926339193,\n",
       " 9: -0.006467032194573317,\n",
       " 13: -0.006272094983731627,\n",
       " 8: -0.005574543867780177,\n",
       " 46: -0.005333337851601647,\n",
       " 14: -0.004330369175539416,\n",
       " 3: -0.004217629692113032,\n",
       " 12: -0.004217629692113032,\n",
       " 7: -0.003374103753690426,\n",
       " 141: -0.0031153025580176186,\n",
       " 10: -0.0030929284408828905,\n",
       " 31: -0.0020252703271243636,\n",
       " 6: -0.0015464642204414453,\n",
       " 15: -0.0015464642204414453,\n",
       " 44: -0.0009315452807817023,\n",
       " 21: -0.0007891763839846851,\n",
       " 20: -0.0006750901090414545,\n",
       " 123: -0.0005383690476376546,\n",
       " 63: -0.0003624606975823966,\n",
       " 5: -0.00014058765640376775,\n",
       " 0: 0.0,\n",
       " 1: 0.0,\n",
       " 2: 0.0,\n",
       " 4: 0.0,\n",
       " 112: 8.77586730332891e-05,\n",
       " 56: 0.0034055578523419505,\n",
       " 11: 0.003946794262563873,\n",
       " 62: 0.005094955753119745,\n",
       " 70: 0.008588446058045499,\n",
       " 127: 0.009477111234726276,\n",
       " 143: 0.009477111234726276,\n",
       " 105: 0.01264724124094585,\n",
       " 23: 0.01438577530964475,\n",
       " 98: 0.019375246875574015,\n",
       " 40: 0.021948313790953976,\n",
       " 39: 0.023916540980606728,\n",
       " 35: 0.027497703068790458,\n",
       " 101: 0.02828705323232572,\n",
       " 114: 0.03180747936758843,\n",
       " 149: 0.03444414959847364,\n",
       " 86: 0.03535948993616553,\n",
       " 102: 0.04361645150151611,\n",
       " 42: 0.04463866626280298,\n",
       " 93: 0.05016880945541488,\n",
       " 113: 0.051382485836532155,\n",
       " 52: 0.056989265810941395,\n",
       " 97: 0.05899177101694231,\n",
       " 130: 0.06372048636725491,\n",
       " 160: 0.06513505190882063,\n",
       " 124: 0.06566090882881798,\n",
       " 132: 0.06864565949947671,\n",
       " 80: 0.07059763830115201,\n",
       " 164: 0.07373440263366382,\n",
       " 87: 0.07479185119882695,\n",
       " 107: 0.08779959811741139,\n",
       " 90: 0.08859429200212637,\n",
       " 59: 0.09864500608836656,\n",
       " 64: 0.10046860524706501,\n",
       " 166: 0.10131165329172356,\n",
       " 103: 0.11539427017541483,\n",
       " 36: 0.11948747370932625,\n",
       " 134: 0.12152673329027078,\n",
       " 47: 0.12391889569351683,\n",
       " 165: 0.13280367933015624,\n",
       " 140: 0.13596425146109503,\n",
       " 131: 0.13658238532244016,\n",
       " 159: 0.14066937623741904,\n",
       " 51: 0.14109396312432693,\n",
       " 94: 0.14284036071768869,\n",
       " 33: 0.14653061291873704,\n",
       " 133: 0.14861666264367007,\n",
       " 32: 0.1517058548242159,\n",
       " 135: 0.15174234852983365,\n",
       " 67: 0.15520260349571466,\n",
       " 161: 0.15634468270200097,\n",
       " 144: 0.15675323842536953,\n",
       " 91: 0.1596368928424895,\n",
       " 65: 0.1608347552845058,\n",
       " 73: 0.1630157755338204,\n",
       " 120: 0.16307881406578628,\n",
       " 128: 0.16584112691172714,\n",
       " 61: 0.16681568263127267,\n",
       " 60: 0.16822155919531034,\n",
       " 163: 0.1683260875949727,\n",
       " 58: 0.1704709616977706,\n",
       " 55: 0.17131448763619322,\n",
       " 155: 0.1755494518384747,\n",
       " 146: 0.17850131472918973,\n",
       " 104: 0.18066665137406618,\n",
       " 96: 0.18250641203096685,\n",
       " 81: 0.18458950750354033,\n",
       " 106: 0.18899273375565245,\n",
       " 158: 0.18945059942649278,\n",
       " 83: 0.20018765584767323,\n",
       " 137: 0.20160756511041866,\n",
       " 82: 0.20757767468016308,\n",
       " 156: 0.21129064855744728,\n",
       " 147: 0.21199571563896047,\n",
       " 88: 0.21381740322260273,\n",
       " 153: 0.21415805458658976,\n",
       " 129: 0.2152089864186068,\n",
       " 118: 0.21641232291646573,\n",
       " 25: 0.21706208465601295,\n",
       " 150: 0.2323809692623945,\n",
       " 85: 0.23502958683738073,\n",
       " 121: 0.23779650484141135,\n",
       " 38: 0.23798409986624186,\n",
       " 162: 0.2432422346173383,\n",
       " 95: 0.25441321857626925,\n",
       " 151: 0.2602200622582619,\n",
       " 148: 0.26619477698609606,\n",
       " 154: 0.2754704777217223,\n",
       " 122: 0.28011695189973196,\n",
       " 111: 0.28048888358282,\n",
       " 138: 0.29536328354375435,\n",
       " 145: 0.31663342263864436,\n",
       " 125: 0.322114082104234,\n",
       " 75: 0.3230105239158025,\n",
       " 142: 0.3295266488334092,\n",
       " 79: 0.3406882052517222,\n",
       " 100: 0.3546634698180546,\n",
       " 136: 0.3696138548874717,\n",
       " 84: 0.3719184323972351,\n",
       " 43: 0.40543260073088205,\n",
       " 117: 0.4067137470225047,\n",
       " 77: 0.416766372683801,\n",
       " 110: 0.4180366577535135,\n",
       " 92: 0.4461649633664018,\n",
       " 119: 0.48134546036548964,\n",
       " 78: 0.4910927119115629}"
      ]
     },
     "execution_count": 63,
     "metadata": {},
     "output_type": "execute_result"
    }
   ],
   "source": [
    "diff_keys_sorted = {k: v for k,v in sorted(diff_keys_sorted.items(), key=lambda x:x[1])}\n",
    "diff_keys_sorted"
   ]
  },
  {
   "cell_type": "markdown",
   "metadata": {},
   "source": [
    "Fragmenty hojnější v thrombinových ligandech proti DB:\n",
    "\n",
    "78: C=N\n",
    "\n",
    "119: N=A\n",
    "\n",
    "92: OC(N)C\n",
    "\n",
    "110: NCO\n",
    "\n",
    "77: NAN\n",
    "\n",
    "Fragmenty hojnější v DB oproti thrombinovým ligandům:\n",
    "\n",
    "139: OH\n",
    "\n",
    "89: OAAAO\n",
    "\n",
    "72: OAAO\n",
    "\n",
    "53: QHAAAQH\n",
    "\n",
    "109: ACH2O\n",
    "\n",
    "Obecně to na mě působí tak, že DB obsahuje hydrofilnější molekuly. To jde proti mému tvrzení z předešlách cvičení, kdy jsem říkal, že v DB očekávám spíše malé lipofilnější molekuly, zatímco v thrombinovém setu větší (peptidovité) hydrofilnější."
   ]
  },
  {
   "cell_type": "code",
   "execution_count": null,
   "metadata": {},
   "outputs": [],
   "source": []
  }
 ],
 "metadata": {
  "kernelspec": {
   "display_name": "Python 3",
   "language": "python",
   "name": "python3"
  },
  "language_info": {
   "codemirror_mode": {
    "name": "ipython",
    "version": 3
   },
   "file_extension": ".py",
   "mimetype": "text/x-python",
   "name": "python",
   "nbconvert_exporter": "python",
   "pygments_lexer": "ipython3",
   "version": "3.7.3"
  }
 },
 "nbformat": 4,
 "nbformat_minor": 2
}
