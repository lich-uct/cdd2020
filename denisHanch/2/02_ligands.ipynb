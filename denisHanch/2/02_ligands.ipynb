{
 "cells": [
  {
   "cell_type": "markdown",
   "metadata": {},
   "source": [
    "# Set of ligands\n",
    "Pomocí ChEMBLu našel jsem receptor z nhodným počtem ligandů. Je to Cytochrome P450 3A4 (https://www.ebi.ac.uk/chembl/target_report_card/CHEMBL340/). Pro tento Cytochrome zvolil jsem ligandy z aktivitou Potency, v obsahu 13692. Stahnul jsem teto daty a uložil do souboru \"CHEMBL26-chembl_26_activity.csv\". \n",
    "\n",
    "Takže, začneme tim, že načteme tento soubor, a uložime seznam ligandů do promenne <b><i>data</i></b>"
   ]
  },
  {
   "cell_type": "code",
   "execution_count": 1,
   "metadata": {},
   "outputs": [],
   "source": [
    "from rdkit import Chem\n",
    "from rdkit.Chem.Draw import IPythonConsole\n",
    "import csv\n",
    "with open('CHEMBL26-chembl_26_activity.csv', 'r') as file:\n",
    "    inp = csv.DictReader(file, delimiter=';')\n",
    "    data = [entity for entity in inp]"
   ]
  },
  {
   "cell_type": "markdown",
   "metadata": {},
   "source": [
    "Ted' ověřimé, že tento soubor opravdu obsahuje 13692 zaznamů:"
   ]
  },
  {
   "cell_type": "code",
   "execution_count": 2,
   "metadata": {},
   "outputs": [
    {
     "data": {
      "text/plain": [
       "13692"
      ]
     },
     "execution_count": 2,
     "metadata": {},
     "output_type": "execute_result"
    }
   ],
   "source": [
    "len(data)"
   ]
  },
  {
   "cell_type": "markdown",
   "metadata": {},
   "source": [
    "Ted' potřebujeme dostat jen sloupci \"Molecule ChEMBL ID\" a \"Smiles\" a najit počet kruhu v každem ligandu. Uložime to do promenných <b><i>ligand_ids</i></b>, <b><i>ligand_mols</i></b> a <b><i>ligand_rings</i></b> resp. Udlělal jsem to pomoci obecné smyčky <b>for</b>. Není to tak elegantni jako <b>one-line for</b>, ale nechcí prochazet seznam <b>data</b> třikrat. Zároveň odfiltroval jsem zaznamy, ktere neobsahuji informaci o molekulach. Na konci vidime, že máme stejny počet zaznamů"
   ]
  },
  {
   "cell_type": "code",
   "execution_count": 6,
   "metadata": {},
   "outputs": [
    {
     "data": {
      "text/plain": [
       "13692"
      ]
     },
     "execution_count": 6,
     "metadata": {},
     "output_type": "execute_result"
    }
   ],
   "source": [
    "ligand_ids = []\n",
    "ligand_mols = []\n",
    "ligand_rings = []\n",
    "\n",
    "for entity in data:\n",
    "    if entity['Smiles'] == None:\n",
    "        continue\n",
    "    molecule = Chem.MolFromSmiles(entity['Smiles'])\n",
    "    ligand_ids.append(entity['Molecule ChEMBL ID'])\n",
    "    ligand_mols.append(molecule)\n",
    "    ligand_rings.append(Chem.GetSSSR(molecule))\n",
    "\n",
    "len(ligand_mols)"
   ]
  },
  {
   "cell_type": "markdown",
   "metadata": {},
   "source": [
    "Ted' najdeme průmerny počet kruhu."
   ]
  },
  {
   "cell_type": "code",
   "execution_count": 7,
   "metadata": {},
   "outputs": [
    {
     "data": {
      "text/plain": [
       "3.555799006719252"
      ]
     },
     "execution_count": 7,
     "metadata": {},
     "output_type": "execute_result"
    }
   ],
   "source": [
    "sum(ligand_rings)/len(ligand_mols)"
   ]
  },
  {
   "cell_type": "markdown",
   "metadata": {},
   "source": [
    "Průměrny počet kruhu je 3.55. Je to meně než to same čislo pro mTOR dataset z cvika č. 2, ale vice nežpro 2.46 pro dataset z DrugBank. Co to znamena z hlediska interakci latek, ja nevím 😎"
   ]
  }
 ],
 "metadata": {
  "kernelspec": {
   "display_name": "Python 3",
   "language": "python",
   "name": "python3"
  },
  "language_info": {
   "codemirror_mode": {
    "name": "ipython",
    "version": 3
   },
   "file_extension": ".py",
   "mimetype": "text/x-python",
   "name": "python",
   "nbconvert_exporter": "python",
   "pygments_lexer": "ipython3",
   "version": "3.7.0"
  }
 },
 "nbformat": 4,
 "nbformat_minor": 2
}
