{
 "cells": [
  {
   "cell_type": "markdown",
   "metadata": {},
   "source": [
    "# Getting a set of known ligands\n",
    "\n",
    "I picked cannabinoid receptor CNR1 and just simply run everything as in lecture. Averege ring count for my dataset is 3.5, that's not great, not terrible (quote).  Through I know rings do not classified as functional groups it's quite important for desining drugs for example removes from atoms many degrees of freedom and define structure and flexibility of molecule. Drugbanck obtains a lot of different drugs that should be succeed on different receptors, so it should have a different properties too and 2.54 is fine average number we can get. \n"
   ]
  },
  {
   "cell_type": "code",
   "execution_count": 2,
   "metadata": {},
   "outputs": [
    {
     "data": {
      "text/plain": [
       "{'Molecule ChEMBL ID': 'CHEMBL1148',\n",
       " 'Molecule Name': 'TORSEMIDE',\n",
       " 'Molecule Max Phase': '4',\n",
       " 'Molecular Weight': '348.43',\n",
       " '#RO5 Violations': '0',\n",
       " 'AlogP': '2.53',\n",
       " 'Compound Key': 'TORSEMIDE',\n",
       " 'Smiles': 'Cc1cccc(Nc2ccncc2S(=O)(=O)NC(=O)NC(C)C)c1',\n",
       " 'Standard Type': 'IC50',\n",
       " 'Standard Relation': '',\n",
       " 'Standard Value': '',\n",
       " 'Standard Units': '',\n",
       " 'pChEMBL Value': '',\n",
       " 'Data Validity Comment': '',\n",
       " 'Comment': 'Not Active (inhibition < 50% @ 10 uM and thus dose-reponse curve not measured)',\n",
       " 'Uo Units': '',\n",
       " 'Ligand Efficiency BEI': '',\n",
       " 'Ligand Efficiency LE': '',\n",
       " 'Ligand Efficiency LLE': '',\n",
       " 'Ligand Efficiency SEI': '',\n",
       " 'Potential Duplicate': 'False',\n",
       " 'Assay ChEMBL ID': 'CHEMBL1909122',\n",
       " 'Assay Description': 'DRUGMATRIX: Cannabinoid CB1 radioligand binding (ligand: [3H] SR141716A)',\n",
       " 'Assay Type': 'B',\n",
       " 'BAO Format ID': 'BAO_0000249',\n",
       " 'BAO Label': 'cell membrane format',\n",
       " 'Assay Organism': '',\n",
       " 'Assay Tissue ChEMBL ID': '',\n",
       " 'Assay Tissue Name': '',\n",
       " 'Assay Cell Type': 'Chem-1',\n",
       " 'Assay Subcellular Fraction': 'Membrane',\n",
       " 'Target ChEMBL ID': 'CHEMBL218',\n",
       " 'Target Name': 'Cannabinoid CB1 receptor',\n",
       " 'Target Organism': 'Homo sapiens',\n",
       " 'Target Type': 'SINGLE PROTEIN',\n",
       " 'Document ChEMBL ID': 'CHEMBL1909046',\n",
       " 'Source ID': '15',\n",
       " 'Source Description': 'DrugMatrix',\n",
       " 'Document Journal': '',\n",
       " 'Document Year': '',\n",
       " 'Cell ChEMBL ID': ''}"
      ]
     },
     "execution_count": 2,
     "metadata": {},
     "output_type": "execute_result"
    }
   ],
   "source": [
    "from rdkit import Chem\n",
    "from rdkit.Chem.Draw import IPythonConsole\n",
    "import csv\n",
    "with open('data/CHEMBL27-chembl_27_activity-Or8O5vK6yNZ1L5id7ev7PGK1lWhfDfRKRJbbuXPM9Os=.csv', 'r') as csvfile:\n",
    "    reader = csv.DictReader(csvfile, delimiter=\";\")\n",
    "    rawdata = [x for x in reader]\n",
    "rawdata[0]"
   ]
  },
  {
   "cell_type": "code",
   "execution_count": 3,
   "metadata": {},
   "outputs": [
    {
     "name": "stdout",
     "output_type": "stream",
     "text": [
      "CHEMBL1148\n",
      "Cc1cccc(Nc2ccncc2S(=O)(=O)NC(=O)NC(C)C)c1\n"
     ]
    }
   ],
   "source": [
    "print(rawdata[0]['Molecule ChEMBL ID']) \n",
    "print(rawdata[0]['Smiles'])"
   ]
  },
  {
   "cell_type": "code",
   "execution_count": 7,
   "metadata": {},
   "outputs": [
    {
     "data": {
      "text/plain": [
       "(2698, 2698)"
      ]
     },
     "execution_count": 7,
     "metadata": {},
     "output_type": "execute_result"
    }
   ],
   "source": [
    "ligand_ids = [m['Molecule ChEMBL ID'] for m in rawdata]\n",
    "ligand_mols = [Chem.MolFromSmiles(m['Smiles']) for m in rawdata]\n",
    "len(ligand_ids), len(ligand_mols)"
   ]
  },
  {
   "cell_type": "code",
   "execution_count": 8,
   "metadata": {},
   "outputs": [
    {
     "data": {
      "text/plain": [
       "[]"
      ]
     },
     "execution_count": 8,
     "metadata": {},
     "output_type": "execute_result"
    }
   ],
   "source": [
    "[x for x in ligand_mols if not x]"
   ]
  },
  {
   "cell_type": "code",
   "execution_count": 9,
   "metadata": {},
   "outputs": [
    {
     "data": {
      "text/plain": [
       "2"
      ]
     },
     "execution_count": 9,
     "metadata": {},
     "output_type": "execute_result"
    }
   ],
   "source": [
    "ligand_rings = [Chem.GetSSSR(ligand) for ligand in ligand_mols]\n",
    "ligand_rings[0]"
   ]
  },
  {
   "cell_type": "code",
   "execution_count": 10,
   "metadata": {},
   "outputs": [
    {
     "data": {
      "image/png": "[encoded data removed]",
      "text/plain": [
       "<rdkit.Chem.rdchem.Mol at 0x11d043990>"
      ]
     },
     "execution_count": 10,
     "metadata": {},
     "output_type": "execute_result"
    }
   ],
   "source": [
    "ligand_mols[0]"
   ]
  },
  {
   "cell_type": "code",
   "execution_count": 11,
   "metadata": {},
   "outputs": [
    {
     "data": {
      "text/plain": [
       "3.507783543365456"
      ]
     },
     "execution_count": 11,
     "metadata": {},
     "output_type": "execute_result"
    }
   ],
   "source": [
    "sum(ligand_rings)/len(ligand_mols)"
   ]
  }
 ],
 "metadata": {
  "kernelspec": {
   "display_name": "Python 3",
   "language": "python",
   "name": "python3"
  },
  "language_info": {
   "codemirror_mode": {
    "name": "ipython",
    "version": 3
   },
   "file_extension": ".py",
   "mimetype": "text/x-python",
   "name": "python",
   "nbconvert_exporter": "python",
   "pygments_lexer": "ipython3",
   "version": "3.8.1"
  }
 },
 "nbformat": 4,
 "nbformat_minor": 2
}
