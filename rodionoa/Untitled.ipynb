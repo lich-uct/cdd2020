{
 "cells": [
  {
   "cell_type": "code",
   "execution_count": 1,
   "metadata": {},
   "outputs": [
    {
     "name": "stderr",
     "output_type": "stream",
     "text": [
      "RDKit WARNING: [12:42:59] Enabling RDKit 2019.09.3 jupyter extensions\n"
     ]
    }
   ],
   "source": [
    "from rdkit import Chem"
   ]
  },
  {
   "cell_type": "code",
   "execution_count": 5,
   "metadata": {},
   "outputs": [
    {
     "data": {
      "image/png": "[encoded data removed]",
      "text/plain": [
       "<rdkit.Chem.rdchem.Mol at 0x7f9fe96fef80>"
      ]
     },
     "execution_count": 5,
     "metadata": {},
     "output_type": "execute_result"
    }
   ],
   "source": [
    "m = Chem.MolFromSmiles('C(=O)c1ccccc1')\n",
    "m"
   ]
  },
  {
   "cell_type": "markdown",
   "metadata": {},
   "source": [
    "m"
   ]
  },
  {
   "cell_type": "code",
   "execution_count": 6,
   "metadata": {},
   "outputs": [
    {
     "data": {
      "text/plain": [
       "'O=Cc1ccccc1'"
      ]
     },
     "execution_count": 6,
     "metadata": {},
     "output_type": "execute_result"
    }
   ],
   "source": [
    "Chem.MolToSmiles(m)"
   ]
  },
  {
   "cell_type": "code",
   "execution_count": 20,
   "metadata": {},
   "outputs": [
    {
     "data": {
      "image/png": "[encoded data removed]",
      "text/plain": [
       "<rdkit.Chem.rdchem.Mol at 0x7f9fe96b3530>"
      ]
     },
     "execution_count": 20,
     "metadata": {},
     "output_type": "execute_result"
    }
   ],
   "source": [
    "m1 = Chem.MolFromSmiles('c1ccccc1C(=O)CCC1CC1')\n",
    "m1"
   ]
  },
  {
   "cell_type": "code",
   "execution_count": 10,
   "metadata": {},
   "outputs": [
    {
     "data": {
      "text/plain": [
       "'C(=O)c1ccccc1'"
      ]
     },
     "execution_count": 10,
     "metadata": {},
     "output_type": "execute_result"
    }
   ],
   "source": [
    "Chem.MolToSmiles(m, canonical=False)"
   ]
  },
  {
   "cell_type": "code",
   "execution_count": 11,
   "metadata": {},
   "outputs": [
    {
     "name": "stdout",
     "output_type": "stream",
     "text": [
      "\n",
      "     RDKit          2D\n",
      "\n",
      "  8  8  0  0  0  0  0  0  0  0999 V2000\n",
      "    3.0000    0.0000    0.0000 C   0  0  0  0  0  0  0  0  0  0  0  0\n",
      "    3.7500   -1.2990    0.0000 O   0  0  0  0  0  0  0  0  0  0  0  0\n",
      "    1.5000    0.0000    0.0000 C   0  0  0  0  0  0  0  0  0  0  0  0\n",
      "    0.7500   -1.2990    0.0000 C   0  0  0  0  0  0  0  0  0  0  0  0\n",
      "   -0.7500   -1.2990    0.0000 C   0  0  0  0  0  0  0  0  0  0  0  0\n",
      "   -1.5000    0.0000    0.0000 C   0  0  0  0  0  0  0  0  0  0  0  0\n",
      "   -0.7500    1.2990    0.0000 C   0  0  0  0  0  0  0  0  0  0  0  0\n",
      "    0.7500    1.2990    0.0000 C   0  0  0  0  0  0  0  0  0  0  0  0\n",
      "  1  2  2  0\n",
      "  1  3  1  0\n",
      "  3  4  2  0\n",
      "  4  5  1  0\n",
      "  5  6  2  0\n",
      "  6  7  1  0\n",
      "  7  8  2  0\n",
      "  8  3  1  0\n",
      "M  END\n",
      "\n"
     ]
    }
   ],
   "source": [
    "print(Chem.MolToMolBlock(m))"
   ]
  },
  {
   "cell_type": "code",
   "execution_count": 12,
   "metadata": {},
   "outputs": [],
   "source": [
    "inf = m.GetRingInfo()"
   ]
  },
  {
   "cell_type": "code",
   "execution_count": 14,
   "metadata": {},
   "outputs": [
    {
     "data": {
      "text/plain": [
       "((2, 7, 6, 5, 4, 3),)"
      ]
     },
     "execution_count": 14,
     "metadata": {},
     "output_type": "execute_result"
    }
   ],
   "source": [
    "inf.AtomRings()"
   ]
  },
  {
   "cell_type": "code",
   "execution_count": 15,
   "metadata": {},
   "outputs": [
    {
     "data": {
      "text/plain": [
       "((0, 5, 4, 3, 2, 1),)"
      ]
     },
     "execution_count": 15,
     "metadata": {},
     "output_type": "execute_result"
    }
   ],
   "source": [
    "inf1 = m1.GetRingInfo()\n",
    "inf1.AtomRings()"
   ]
  },
  {
   "cell_type": "code",
   "execution_count": 21,
   "metadata": {},
   "outputs": [
    {
     "data": {
      "text/plain": [
       "(1, 2)"
      ]
     },
     "execution_count": 21,
     "metadata": {},
     "output_type": "execute_result"
    }
   ],
   "source": [
    "Chem.GetSSSR(m), Chem.GetSSSR(m1)"
   ]
  },
  {
   "cell_type": "code",
   "execution_count": 22,
   "metadata": {},
   "outputs": [],
   "source": [
    "supp1 = Chem.SDMolSupplier('/home/vorsilam/workspace/cdd2020/drugbank.sdf')"
   ]
  },
  {
   "cell_type": "code",
   "execution_count": 37,
   "metadata": {},
   "outputs": [
    {
     "name": "stderr",
     "output_type": "stream",
     "text": [
      "RDKit ERROR: [13:37:25] ERROR: Explicit valence for atom # 0 C greater than permitted\n",
      "RDKit ERROR: [13:39:39] Explicit valence for atom # 7 N, 4, is greater than permitted\n",
      "RDKit ERROR: [13:39:39] ERROR: Could not sanitize molecule ending on line 20009\n",
      "RDKit WARNING: [13:39:39] Warning: conflicting stereochemistry at atom 5 ignored.\n",
      "RDKit WARNING: [13:39:39] Warning: conflicting stereochemistry at atom 5 ignored.\n",
      "RDKit ERROR: [13:39:39] ERROR: Explicit valence for atom # 7 N, 4, is greater than permitted\n",
      "RDKit ERROR: [13:39:39] Can't kekulize mol.  Unkekulized atoms: 1 2 3 5 6 7 8 9 10\n",
      "RDKit ERROR: \n",
      "RDKit ERROR: [13:39:39] ERROR: Could not sanitize molecule ending on line 250947\n",
      "RDKit ERROR: [13:39:39] ERROR: Can't kekulize mol.  Unkekulized atoms: 1 2 3 5 6 7 8 9 10\n",
      "RDKit ERROR: \n",
      "RDKit ERROR: [13:39:39] Explicit valence for atom # 17 O, 3, is greater than permitted\n",
      "RDKit ERROR: [13:39:39] ERROR: Could not sanitize molecule ending on line 258130\n",
      "RDKit ERROR: [13:39:39] ERROR: Explicit valence for atom # 17 O, 3, is greater than permitted\n",
      "RDKit ERROR: [13:39:39] Can't kekulize mol.  Unkekulized atoms: 57 58 59 60 61 62 63 64 65\n",
      "RDKit ERROR: \n",
      "RDKit ERROR: [13:39:39] ERROR: Could not sanitize molecule ending on line 261581\n",
      "RDKit ERROR: [13:39:39] ERROR: Can't kekulize mol.  Unkekulized atoms: 57 58 59 60 61 62 63 64 65\n",
      "RDKit ERROR: \n",
      "RDKit ERROR: [13:39:39] Explicit valence for atom # 47 Mg, 4, is greater than permitted\n",
      "RDKit ERROR: [13:39:39] ERROR: Could not sanitize molecule ending on line 272221\n",
      "RDKit ERROR: [13:39:39] ERROR: Explicit valence for atom # 47 Mg, 4, is greater than permitted\n",
      "RDKit ERROR: [13:39:39] Can't kekulize mol.  Unkekulized atoms: 0 1 2 6 7 8 9 10 11 12 13 14 15 16 17\n",
      "RDKit ERROR: \n",
      "RDKit ERROR: [13:39:39] ERROR: Could not sanitize molecule ending on line 280661\n",
      "RDKit ERROR: [13:39:39] ERROR: Can't kekulize mol.  Unkekulized atoms: 0 1 2 6 7 8 9 10 11 12 13 14 15 16 17\n",
      "RDKit ERROR: \n",
      "RDKit ERROR: [13:39:39] Explicit valence for atom # 13 Cl, 5, is greater than permitted\n",
      "RDKit ERROR: [13:39:39] ERROR: Could not sanitize molecule ending on line 282635\n",
      "RDKit ERROR: [13:39:39] ERROR: Explicit valence for atom # 13 Cl, 5, is greater than permitted\n",
      "RDKit ERROR: [13:39:39] Can't kekulize mol.  Unkekulized atoms: 3 4 5 6 7 8 10 11 12\n",
      "RDKit ERROR: \n",
      "RDKit ERROR: [13:39:39] ERROR: Could not sanitize molecule ending on line 292762\n",
      "RDKit ERROR: [13:39:39] ERROR: Can't kekulize mol.  Unkekulized atoms: 3 4 5 6 7 8 10 11 12\n",
      "RDKit ERROR: \n",
      "RDKit ERROR: [13:39:39] Can't kekulize mol.  Unkekulized atoms: 0 1 2 4 5 6 7 8 9 10\n",
      "RDKit ERROR: \n",
      "RDKit ERROR: [13:39:39] ERROR: Could not sanitize molecule ending on line 293836\n",
      "RDKit ERROR: [13:39:39] ERROR: Can't kekulize mol.  Unkekulized atoms: 0 1 2 4 5 6 7 8 9 10\n",
      "RDKit ERROR: \n",
      "RDKit ERROR: [13:39:39] Can't kekulize mol.  Unkekulized atoms: 2 3 4 5 6 7 8 9 10\n",
      "RDKit ERROR: \n",
      "RDKit ERROR: [13:39:39] ERROR: Could not sanitize molecule ending on line 302815\n",
      "RDKit ERROR: [13:39:39] ERROR: Can't kekulize mol.  Unkekulized atoms: 2 3 4 5 6 7 8 9 10\n",
      "RDKit ERROR: \n",
      "RDKit ERROR: [13:39:39] Can't kekulize mol.  Unkekulized atoms: 13 14 15 16 22\n",
      "RDKit ERROR: \n",
      "RDKit ERROR: [13:39:39] ERROR: Could not sanitize molecule ending on line 304047\n",
      "RDKit ERROR: [13:39:39] ERROR: Can't kekulize mol.  Unkekulized atoms: 13 14 15 16 22\n",
      "RDKit ERROR: \n",
      "RDKit ERROR: [13:39:39] Explicit valence for atom # 46 Mg, 4, is greater than permitted\n",
      "RDKit ERROR: [13:39:39] ERROR: Could not sanitize molecule ending on line 312454\n",
      "RDKit ERROR: [13:39:39] ERROR: Explicit valence for atom # 46 Mg, 4, is greater than permitted\n",
      "RDKit ERROR: [13:39:39] Explicit valence for atom # 27 N, 4, is greater than permitted\n",
      "RDKit ERROR: [13:39:39] ERROR: Could not sanitize molecule ending on line 317905\n",
      "RDKit ERROR: [13:39:39] ERROR: Explicit valence for atom # 27 N, 4, is greater than permitted\n",
      "RDKit ERROR: [13:39:39] Explicit valence for atom # 16 N, 4, is greater than permitted\n",
      "RDKit ERROR: [13:39:39] ERROR: Could not sanitize molecule ending on line 318439\n",
      "RDKit ERROR: [13:39:39] ERROR: Explicit valence for atom # 16 N, 4, is greater than permitted\n",
      "RDKit ERROR: [13:39:39] Can't kekulize mol.  Unkekulized atoms: 3 4 5 6 54\n",
      "RDKit ERROR: \n",
      "RDKit ERROR: [13:39:39] ERROR: Could not sanitize molecule ending on line 324910\n",
      "RDKit ERROR: [13:39:39] ERROR: Can't kekulize mol.  Unkekulized atoms: 3 4 5 6 54\n",
      "RDKit ERROR: \n",
      "RDKit ERROR: [13:39:39] Can't kekulize mol.  Unkekulized atoms: 3 4 5 6 7\n",
      "RDKit ERROR: \n",
      "RDKit ERROR: [13:39:39] ERROR: Could not sanitize molecule ending on line 326050\n",
      "RDKit ERROR: [13:39:39] ERROR: Can't kekulize mol.  Unkekulized atoms: 3 4 5 6 7\n",
      "RDKit ERROR: \n",
      "RDKit ERROR: [13:39:39] Can't kekulize mol.  Unkekulized atoms: 2 3 4 5 11\n",
      "RDKit ERROR: \n",
      "RDKit ERROR: [13:39:39] ERROR: Could not sanitize molecule ending on line 331986\n",
      "RDKit ERROR: [13:39:39] ERROR: Can't kekulize mol.  Unkekulized atoms: 2 3 4 5 11\n",
      "RDKit ERROR: \n",
      "RDKit ERROR: [13:39:39] Can't kekulize mol.  Unkekulized atoms: 1 2 3 4 5 6 7 8 9\n",
      "RDKit ERROR: \n",
      "RDKit ERROR: [13:39:39] ERROR: Could not sanitize molecule ending on line 333287\n",
      "RDKit ERROR: [13:39:39] ERROR: Can't kekulize mol.  Unkekulized atoms: 1 2 3 4 5 6 7 8 9\n",
      "RDKit ERROR: \n",
      "RDKit ERROR: [13:39:39] Can't kekulize mol.  Unkekulized atoms: 3 4 5 6 7\n",
      "RDKit ERROR: \n",
      "RDKit ERROR: [13:39:39] ERROR: Could not sanitize molecule ending on line 347574\n",
      "RDKit ERROR: [13:39:39] ERROR: Can't kekulize mol.  Unkekulized atoms: 3 4 5 6 7\n",
      "RDKit ERROR: \n",
      "RDKit ERROR: [13:39:39] Can't kekulize mol.  Unkekulized atoms: 5 6 7 8 9 10 11 12 13\n",
      "RDKit ERROR: \n",
      "RDKit ERROR: [13:39:39] ERROR: Could not sanitize molecule ending on line 357505\n",
      "RDKit ERROR: [13:39:39] ERROR: Can't kekulize mol.  Unkekulized atoms: 5 6 7 8 9 10 11 12 13\n",
      "RDKit ERROR: \n",
      "RDKit ERROR: [13:39:39] Can't kekulize mol.  Unkekulized atoms: 3 4 5 6 7\n",
      "RDKit ERROR: \n",
      "RDKit ERROR: [13:39:39] ERROR: Could not sanitize molecule ending on line 371006\n",
      "RDKit ERROR: [13:39:39] ERROR: Can't kekulize mol.  Unkekulized atoms: 3 4 5 6 7\n",
      "RDKit ERROR: \n",
      "RDKit ERROR: [13:39:39] Can't kekulize mol.  Unkekulized atoms: 1 2 3 4 5 6 7 8 9\n",
      "RDKit ERROR: \n",
      "RDKit ERROR: [13:39:39] ERROR: Could not sanitize molecule ending on line 378618\n",
      "RDKit ERROR: [13:39:39] ERROR: Can't kekulize mol.  Unkekulized atoms: 1 2 3 4 5 6 7 8 9\n",
      "RDKit ERROR: \n",
      "RDKit ERROR: [13:39:39] Explicit valence for atom # 56 O, 3, is greater than permitted\n",
      "RDKit ERROR: [13:39:39] ERROR: Could not sanitize molecule ending on line 398455\n",
      "RDKit ERROR: [13:39:39] ERROR: Explicit valence for atom # 56 O, 3, is greater than permitted\n",
      "RDKit ERROR: [13:39:39] Can't kekulize mol.  Unkekulized atoms: 9 10 11 12 18\n",
      "RDKit ERROR: \n",
      "RDKit ERROR: [13:39:39] ERROR: Could not sanitize molecule ending on line 407765\n",
      "RDKit ERROR: [13:39:39] ERROR: Can't kekulize mol.  Unkekulized atoms: 9 10 11 12 18\n",
      "RDKit ERROR: \n",
      "RDKit ERROR: [13:39:39] Explicit valence for atom # 46 Mg, 4, is greater than permitted\n",
      "RDKit ERROR: [13:39:39] ERROR: Could not sanitize molecule ending on line 417941\n",
      "RDKit ERROR: [13:39:39] ERROR: Explicit valence for atom # 46 Mg, 4, is greater than permitted\n",
      "RDKit ERROR: [13:39:39] Can't kekulize mol.  Unkekulized atoms: 1 2 3 12 13 14 15 16 17\n",
      "RDKit ERROR: \n",
      "RDKit ERROR: [13:39:39] ERROR: Could not sanitize molecule ending on line 422810\n",
      "RDKit ERROR: [13:39:39] ERROR: Can't kekulize mol.  Unkekulized atoms: 1 2 3 12 13 14 15 16 17\n",
      "RDKit ERROR: \n",
      "RDKit ERROR: [13:39:39] Can't kekulize mol.  Unkekulized atoms: 44 45 46 47 49\n",
      "RDKit ERROR: \n",
      "RDKit ERROR: [13:39:39] ERROR: Could not sanitize molecule ending on line 425190\n",
      "RDKit ERROR: [13:39:39] ERROR: Can't kekulize mol.  Unkekulized atoms: 44 45 46 47 49\n",
      "RDKit ERROR: \n",
      "RDKit ERROR: [13:39:39] Explicit valence for atom # 8 N, 5, is greater than permitted\n",
      "RDKit ERROR: [13:39:39] ERROR: Could not sanitize molecule ending on line 426332\n",
      "RDKit ERROR: [13:39:39] ERROR: Explicit valence for atom # 8 N, 5, is greater than permitted\n",
      "RDKit ERROR: [13:39:39] Can't kekulize mol.  Unkekulized atoms: 54 55 56 57 58 59 60 61 62\n",
      "RDKit ERROR: \n",
      "RDKit ERROR: [13:39:39] ERROR: Could not sanitize molecule ending on line 427901\n",
      "RDKit ERROR: [13:39:39] ERROR: Can't kekulize mol.  Unkekulized atoms: 54 55 56 57 58 59 60 61 62\n",
      "RDKit ERROR: \n",
      "RDKit ERROR: [13:39:39] Can't kekulize mol.  Unkekulized atoms: 0 1 2 3 4 5 6 7 8\n",
      "RDKit ERROR: \n",
      "RDKit ERROR: [13:39:39] ERROR: Could not sanitize molecule ending on line 432118\n",
      "RDKit ERROR: [13:39:39] ERROR: Can't kekulize mol.  Unkekulized atoms: 0 1 2 3 4 5 6 7 8\n",
      "RDKit ERROR: \n",
      "RDKit ERROR: [13:39:39] Can't kekulize mol.  Unkekulized atoms: 3 4 5 6 8 9 10\n",
      "RDKit ERROR: \n",
      "RDKit ERROR: [13:39:39] ERROR: Could not sanitize molecule ending on line 442989\n",
      "RDKit ERROR: [13:39:39] ERROR: Can't kekulize mol.  Unkekulized atoms: 3 4 5 6 8 9 10\n",
      "RDKit ERROR: \n",
      "RDKit ERROR: [13:39:40] Can't kekulize mol.  Unkekulized atoms: 3 4 5 6 9\n",
      "RDKit ERROR: \n",
      "RDKit ERROR: [13:39:40] ERROR: Could not sanitize molecule ending on line 447465\n",
      "RDKit ERROR: [13:39:40] ERROR: Can't kekulize mol.  Unkekulized atoms: 3 4 5 6 9\n",
      "RDKit ERROR: \n",
      "RDKit ERROR: [13:39:40] Can't kekulize mol.  Unkekulized atoms: 16 17 18 19 20\n",
      "RDKit ERROR: \n",
      "RDKit ERROR: [13:39:40] ERROR: Could not sanitize molecule ending on line 466177\n",
      "RDKit ERROR: [13:39:40] ERROR: Can't kekulize mol.  Unkekulized atoms: 16 17 18 19 20\n",
      "RDKit ERROR: \n",
      "RDKit ERROR: [13:39:40] Can't kekulize mol.  Unkekulized atoms: 7 8 9 10 17\n",
      "RDKit ERROR: \n",
      "RDKit ERROR: [13:39:40] ERROR: Could not sanitize molecule ending on line 468852\n",
      "RDKit ERROR: [13:39:40] ERROR: Can't kekulize mol.  Unkekulized atoms: 7 8 9 10 17\n",
      "RDKit ERROR: \n",
      "RDKit ERROR: [13:39:40] Can't kekulize mol.  Unkekulized atoms: 3 4 5 6 7 8 9 10 11\n",
      "RDKit ERROR: \n",
      "RDKit ERROR: [13:39:40] ERROR: Could not sanitize molecule ending on line 469201\n",
      "RDKit ERROR: [13:39:40] ERROR: Can't kekulize mol.  Unkekulized atoms: 3 4 5 6 7 8 9 10 11\n",
      "RDKit ERROR: \n",
      "RDKit ERROR: [13:39:40] Explicit valence for atom # 53 N, 4, is greater than permitted\n",
      "RDKit ERROR: [13:39:40] ERROR: Could not sanitize molecule ending on line 472285\n",
      "RDKit ERROR: [13:39:40] ERROR: Explicit valence for atom # 53 N, 4, is greater than permitted\n",
      "RDKit ERROR: [13:39:40] Can't kekulize mol.  Unkekulized atoms: 2 3 4 5 12\n",
      "RDKit ERROR: \n",
      "RDKit ERROR: [13:39:40] ERROR: Could not sanitize molecule ending on line 480504\n",
      "RDKit ERROR: [13:39:40] ERROR: Can't kekulize mol.  Unkekulized atoms: 2 3 4 5 12\n",
      "RDKit ERROR: \n",
      "RDKit ERROR: [13:39:40] Explicit valence for atom # 2 O, 3, is greater than permitted\n",
      "RDKit ERROR: [13:39:40] ERROR: Could not sanitize molecule ending on line 499305\n",
      "RDKit ERROR: [13:39:40] ERROR: Explicit valence for atom # 2 O, 3, is greater than permitted\n",
      "RDKit ERROR: [13:39:40] Can't kekulize mol.  Unkekulized atoms: 1 2 3 4 5 6 7 8 9\n",
      "RDKit ERROR: \n",
      "RDKit ERROR: [13:39:40] ERROR: Could not sanitize molecule ending on line 503342\n",
      "RDKit ERROR: [13:39:40] ERROR: Can't kekulize mol.  Unkekulized atoms: 1 2 3 4 5 6 7 8 9\n",
      "RDKit ERROR: \n",
      "RDKit ERROR: [13:39:40] Can't kekulize mol.  Unkekulized atoms: 0 1 2 4 5 6 7 8 9 10\n",
      "RDKit ERROR: \n",
      "RDKit ERROR: [13:39:40] ERROR: Could not sanitize molecule ending on line 508068\n",
      "RDKit ERROR: [13:39:40] ERROR: Can't kekulize mol.  Unkekulized atoms: 0 1 2 4 5 6 7 8 9 10\n",
      "RDKit ERROR: \n",
      "RDKit ERROR: [13:39:40] Can't kekulize mol.  Unkekulized atoms: 1 2 3 4 5 6 7 8 9\n",
      "RDKit ERROR: \n",
      "RDKit ERROR: [13:39:40] ERROR: Could not sanitize molecule ending on line 510069\n",
      "RDKit ERROR: [13:39:40] ERROR: Can't kekulize mol.  Unkekulized atoms: 1 2 3 4 5 6 7 8 9\n",
      "RDKit ERROR: \n",
      "RDKit ERROR: [13:39:40] Can't kekulize mol.  Unkekulized atoms: 3 4 5 6 7 8 10\n",
      "RDKit ERROR: \n",
      "RDKit ERROR: [13:39:40] ERROR: Could not sanitize molecule ending on line 511111\n",
      "RDKit ERROR: [13:39:40] ERROR: Can't kekulize mol.  Unkekulized atoms: 3 4 5 6 7 8 10\n",
      "RDKit ERROR: \n",
      "RDKit ERROR: [13:39:40] Can't kekulize mol.  Unkekulized atoms: 1 2 3 5 6 7 8 9 10\n",
      "RDKit ERROR: \n",
      "RDKit ERROR: [13:39:40] ERROR: Could not sanitize molecule ending on line 512030\n",
      "RDKit ERROR: [13:39:40] ERROR: Can't kekulize mol.  Unkekulized atoms: 1 2 3 5 6 7 8 9 10\n",
      "RDKit ERROR: \n",
      "RDKit ERROR: [13:39:40] Explicit valence for atom # 2 O, 3, is greater than permitted\n",
      "RDKit ERROR: [13:39:40] ERROR: Could not sanitize molecule ending on line 519056\n",
      "RDKit ERROR: [13:39:40] ERROR: Explicit valence for atom # 2 O, 3, is greater than permitted\n",
      "RDKit ERROR: [13:39:40] Explicit valence for atom # 6 B, 4, is greater than permitted\n",
      "RDKit ERROR: [13:39:40] ERROR: Could not sanitize molecule ending on line 541262\n",
      "RDKit ERROR: [13:39:40] ERROR: Explicit valence for atom # 6 B, 4, is greater than permitted\n",
      "RDKit ERROR: [13:39:40] Can't kekulize mol.  Unkekulized atoms: 2 3 17 19 20\n",
      "RDKit ERROR: \n",
      "RDKit ERROR: [13:39:40] ERROR: Could not sanitize molecule ending on line 557517\n",
      "RDKit ERROR: [13:39:40] ERROR: Can't kekulize mol.  Unkekulized atoms: 2 3 17 19 20\n",
      "RDKit ERROR: \n",
      "RDKit ERROR: [13:39:40] Can't kekulize mol.  Unkekulized atoms: 0 1 2 4 5 6 7 8 9 10\n",
      "RDKit ERROR: \n",
      "RDKit ERROR: [13:39:40] ERROR: Could not sanitize molecule ending on line 561344\n",
      "RDKit ERROR: [13:39:40] ERROR: Can't kekulize mol.  Unkekulized atoms: 0 1 2 4 5 6 7 8 9 10\n",
      "RDKit ERROR: \n",
      "RDKit ERROR: [13:39:40] Can't kekulize mol.  Unkekulized atoms: 10 11 12 13 19\n",
      "RDKit ERROR: \n",
      "RDKit ERROR: [13:39:40] ERROR: Could not sanitize molecule ending on line 562947\n",
      "RDKit ERROR: [13:39:40] ERROR: Can't kekulize mol.  Unkekulized atoms: 10 11 12 13 19\n",
      "RDKit ERROR: \n",
      "RDKit ERROR: [13:39:40] Explicit valence for atom # 27 N, 4, is greater than permitted\n",
      "RDKit ERROR: [13:39:40] ERROR: Could not sanitize molecule ending on line 567073\n",
      "RDKit ERROR: [13:39:40] ERROR: Explicit valence for atom # 27 N, 4, is greater than permitted\n",
      "RDKit ERROR: [13:39:40] Can't kekulize mol.  Unkekulized atoms: 9 10 11 12 13 14 15 16 17\n",
      "RDKit ERROR: \n",
      "RDKit ERROR: [13:39:40] ERROR: Could not sanitize molecule ending on line 568252\n",
      "RDKit ERROR: [13:39:40] ERROR: Can't kekulize mol.  Unkekulized atoms: 9 10 11 12 13 14 15 16 17\n",
      "RDKit ERROR: \n",
      "RDKit ERROR: [13:39:40] Can't kekulize mol.  Unkekulized atoms: 23 24 25 26 27\n",
      "RDKit ERROR: \n",
      "RDKit ERROR: [13:39:40] ERROR: Could not sanitize molecule ending on line 574645\n",
      "RDKit ERROR: [13:39:40] ERROR: Can't kekulize mol.  Unkekulized atoms: 23 24 25 26 27\n",
      "RDKit ERROR: \n",
      "RDKit ERROR: [13:39:40] Can't kekulize mol.  Unkekulized atoms: 5 6 7 8 9\n",
      "RDKit ERROR: \n",
      "RDKit ERROR: [13:39:40] ERROR: Could not sanitize molecule ending on line 592639\n",
      "RDKit ERROR: [13:39:40] ERROR: Can't kekulize mol.  Unkekulized atoms: 5 6 7 8 9\n",
      "RDKit ERROR: \n",
      "RDKit ERROR: [13:39:40] Explicit valence for atom # 12 N, 4, is greater than permitted\n",
      "RDKit ERROR: [13:39:40] ERROR: Could not sanitize molecule ending on line 595909\n",
      "RDKit ERROR: [13:39:40] ERROR: Explicit valence for atom # 12 N, 4, is greater than permitted\n",
      "RDKit ERROR: [13:39:40] Explicit valence for atom # 0 Br, 2, is greater than permitted\n",
      "RDKit ERROR: [13:39:40] ERROR: Could not sanitize molecule ending on line 599041\n",
      "RDKit ERROR: [13:39:40] ERROR: Explicit valence for atom # 0 Br, 2, is greater than permitted\n",
      "RDKit ERROR: [13:39:40] Explicit valence for atom # 1 N, 4, is greater than permitted\n",
      "RDKit ERROR: [13:39:40] ERROR: Could not sanitize molecule ending on line 601819\n",
      "RDKit ERROR: [13:39:40] ERROR: Explicit valence for atom # 1 N, 4, is greater than permitted\n",
      "RDKit ERROR: [13:39:40] Explicit valence for atom # 6 Be, 4, is greater than permitted\n",
      "RDKit ERROR: [13:39:40] ERROR: Could not sanitize molecule ending on line 604427\n",
      "RDKit ERROR: [13:39:40] ERROR: Explicit valence for atom # 6 Be, 4, is greater than permitted\n",
      "RDKit ERROR: [13:39:40] Can't kekulize mol.  Unkekulized atoms: 4 5 6 7 8 9 10 11 12\n",
      "RDKit ERROR: \n",
      "RDKit ERROR: [13:39:40] ERROR: Could not sanitize molecule ending on line 604912\n",
      "RDKit ERROR: [13:39:40] ERROR: Can't kekulize mol.  Unkekulized atoms: 4 5 6 7 8 9 10 11 12\n",
      "RDKit ERROR: \n",
      "RDKit ERROR: [13:39:40] Can't kekulize mol.  Unkekulized atoms: 5 6 7 8 9 10 11 12 13\n",
      "RDKit ERROR: \n",
      "RDKit ERROR: [13:39:40] ERROR: Could not sanitize molecule ending on line 616025\n",
      "RDKit ERROR: [13:39:40] ERROR: Can't kekulize mol.  Unkekulized atoms: 5 6 7 8 9 10 11 12 13\n",
      "RDKit ERROR: \n",
      "RDKit ERROR: [13:39:40] Can't kekulize mol.  Unkekulized atoms: 1 2 3 5 6 7 8 9 10\n",
      "RDKit ERROR: \n",
      "RDKit ERROR: [13:39:40] ERROR: Could not sanitize molecule ending on line 623202\n",
      "RDKit ERROR: [13:39:40] ERROR: Can't kekulize mol.  Unkekulized atoms: 1 2 3 5 6 7 8 9 10\n",
      "RDKit ERROR: \n",
      "RDKit ERROR: [13:39:40] Can't kekulize mol.  Unkekulized atoms: 5 6 7 8 9 10 11 12 13\n",
      "RDKit ERROR: \n",
      "RDKit ERROR: [13:39:40] ERROR: Could not sanitize molecule ending on line 628065\n",
      "RDKit ERROR: [13:39:40] ERROR: Can't kekulize mol.  Unkekulized atoms: 5 6 7 8 9 10 11 12 13\n",
      "RDKit ERROR: \n",
      "RDKit ERROR: [13:39:40] Explicit valence for atom # 19 N, 4, is greater than permitted\n",
      "RDKit ERROR: [13:39:40] ERROR: Could not sanitize molecule ending on line 636938\n",
      "RDKit ERROR: [13:39:40] ERROR: Explicit valence for atom # 19 N, 4, is greater than permitted\n",
      "RDKit ERROR: [13:39:40] Explicit valence for atom # 0 O, 3, is greater than permitted\n",
      "RDKit ERROR: [13:39:40] ERROR: Could not sanitize molecule ending on line 640674\n",
      "RDKit ERROR: [13:39:40] ERROR: Explicit valence for atom # 0 O, 3, is greater than permitted\n",
      "RDKit ERROR: [13:39:40] Explicit valence for atom # 17 Mg, 4, is greater than permitted\n",
      "RDKit ERROR: [13:39:40] ERROR: Could not sanitize molecule ending on line 642835\n",
      "RDKit ERROR: [13:39:40] ERROR: Explicit valence for atom # 17 Mg, 4, is greater than permitted\n",
      "RDKit ERROR: [13:39:40] Explicit valence for atom # 4 F, 2, is greater than permitted\n",
      "RDKit ERROR: [13:39:40] ERROR: Could not sanitize molecule ending on line 645068\n",
      "RDKit ERROR: [13:39:40] ERROR: Explicit valence for atom # 4 F, 2, is greater than permitted\n",
      "RDKit ERROR: [13:39:40] Can't kekulize mol.  Unkekulized atoms: 0 1 2 4 5 6 7 8 9 10\n",
      "RDKit ERROR: \n",
      "RDKit ERROR: [13:39:40] ERROR: Could not sanitize molecule ending on line 659994\n",
      "RDKit ERROR: [13:39:40] ERROR: Can't kekulize mol.  Unkekulized atoms: 0 1 2 4 5 6 7 8 9 10\n",
      "RDKit ERROR: \n",
      "RDKit ERROR: [13:39:41] Explicit valence for atom # 0 Be, 3, is greater than permitted\n",
      "RDKit ERROR: [13:39:41] ERROR: Could not sanitize molecule ending on line 995692\n",
      "RDKit ERROR: [13:39:41] ERROR: Explicit valence for atom # 0 Be, 3, is greater than permitted\n",
      "RDKit ERROR: [13:39:41] Explicit valence for atom # 0 C greater than permitted\n",
      "RDKit ERROR: [13:39:41] ERROR: Could not sanitize molecule ending on line 1151592\n"
     ]
    }
   ],
   "source": [
    "drugs = [m for m in supp1 if not m == None]   "
   ]
  },
  {
   "cell_type": "code",
   "execution_count": 24,
   "metadata": {},
   "outputs": [
    {
     "ename": "AttributeError",
     "evalue": "'list' object has no attribute 'head'",
     "output_type": "error",
     "traceback": [
      "\u001b[0;31m---------------------------------------------------------------------------\u001b[0m",
      "\u001b[0;31mAttributeError\u001b[0m                            Traceback (most recent call last)",
      "\u001b[0;32m<ipython-input-24-f175c706c98d>\u001b[0m in \u001b[0;36m<module>\u001b[0;34m\u001b[0m\n\u001b[0;32m----> 1\u001b[0;31m \u001b[0mdrug\u001b[0m\u001b[0;34m.\u001b[0m\u001b[0mhead\u001b[0m\u001b[0;34m(\u001b[0m\u001b[0;34m)\u001b[0m\u001b[0;34m\u001b[0m\u001b[0;34m\u001b[0m\u001b[0m\n\u001b[0m",
      "\u001b[0;31mAttributeError\u001b[0m: 'list' object has no attribute 'head'"
     ]
    }
   ],
   "source": [
    "drug.head()\n"
   ]
  },
  {
   "cell_type": "code",
   "execution_count": 25,
   "metadata": {},
   "outputs": [
    {
     "data": {
      "image/png": "[encoded data removed]",
      "text/plain": [
       "<rdkit.Chem.rdchem.Mol at 0x7f9fe8be6940>"
      ]
     },
     "execution_count": 25,
     "metadata": {},
     "output_type": "execute_result"
    }
   ],
   "source": [
    "drug[0]"
   ]
  },
  {
   "cell_type": "code",
   "execution_count": 35,
   "metadata": {},
   "outputs": [
    {
     "ename": "AttributeError",
     "evalue": "'Mol' object has no attribute 'index'",
     "output_type": "error",
     "traceback": [
      "\u001b[0;31m---------------------------------------------------------------------------\u001b[0m",
      "\u001b[0;31mAttributeError\u001b[0m                            Traceback (most recent call last)",
      "\u001b[0;32m<ipython-input-35-4a76bcdc57dc>\u001b[0m in \u001b[0;36m<module>\u001b[0;34m\u001b[0m\n\u001b[1;32m      1\u001b[0m \u001b[0;32mfor\u001b[0m \u001b[0mdrug\u001b[0m \u001b[0;32min\u001b[0m \u001b[0mdrugs\u001b[0m\u001b[0;34m:\u001b[0m\u001b[0;34m\u001b[0m\u001b[0;34m\u001b[0m\u001b[0m\n\u001b[0;32m----> 2\u001b[0;31m     \u001b[0mdrug\u001b[0m\u001b[0;34m.\u001b[0m\u001b[0mindex\u001b[0m\u001b[0;34m(\u001b[0m\u001b[0;32mNone\u001b[0m\u001b[0;34m)\u001b[0m\u001b[0;34m\u001b[0m\u001b[0;34m\u001b[0m\u001b[0m\n\u001b[0m",
      "\u001b[0;31mAttributeError\u001b[0m: 'Mol' object has no attribute 'index'"
     ]
    }
   ],
   "source": [
    "for drug in drugs:\n",
    "    drug.index(None)"
   ]
  },
  {
   "cell_type": "code",
   "execution_count": 38,
   "metadata": {},
   "outputs": [],
   "source": [
    "rings = [Chem.GetSSSR(x) for x in drugs]"
   ]
  },
  {
   "cell_type": "code",
   "execution_count": 40,
   "metadata": {},
   "outputs": [
    {
     "data": {
      "text/plain": [
       "[6, 6, 4, 6, 1, 4, 5, 1, 12, 3]"
      ]
     },
     "execution_count": 40,
     "metadata": {},
     "output_type": "execute_result"
    }
   ],
   "source": [
    "rings[:10]"
   ]
  },
  {
   "cell_type": "code",
   "execution_count": 41,
   "metadata": {},
   "outputs": [
    {
     "data": {
      "text/plain": [
       "[(<rdkit.Chem.rdchem.Mol at 0x7f9fe8c06e40>, 6),\n",
       " (<rdkit.Chem.rdchem.Mol at 0x7f9fe89c6b20>, 6),\n",
       " (<rdkit.Chem.rdchem.Mol at 0x7f9fe8c06d50>, 4),\n",
       " (<rdkit.Chem.rdchem.Mol at 0x7f9fe8c06ee0>, 6),\n",
       " (<rdkit.Chem.rdchem.Mol at 0x7f9fe8c06f30>, 1),\n",
       " (<rdkit.Chem.rdchem.Mol at 0x7f9fe8c06f80>, 4),\n",
       " (<rdkit.Chem.rdchem.Mol at 0x7f9fe8bc2030>, 5),\n",
       " (<rdkit.Chem.rdchem.Mol at 0x7f9fe8bc2080>, 1),\n",
       " (<rdkit.Chem.rdchem.Mol at 0x7f9fe8bc20d0>, 12),\n",
       " (<rdkit.Chem.rdchem.Mol at 0x7f9fe8bc2120>, 3)]"
      ]
     },
     "execution_count": 41,
     "metadata": {},
     "output_type": "execute_result"
    }
   ],
   "source": [
    "[(i,m) for i,m in zip(drugs, rings[:10])]"
   ]
  },
  {
   "cell_type": "code",
   "execution_count": 42,
   "metadata": {},
   "outputs": [
    {
     "data": {
      "text/plain": [
       "17547"
      ]
     },
     "execution_count": 42,
     "metadata": {},
     "output_type": "execute_result"
    }
   ],
   "source": [
    "sum(rings)"
   ]
  },
  {
   "cell_type": "code",
   "execution_count": null,
   "metadata": {},
   "outputs": [],
   "source": []
  }
 ],
 "metadata": {
  "kernelspec": {
   "display_name": "Python [conda env:xxx]",
   "language": "python",
   "name": "conda-env-xxx-py"
  },
  "language_info": {
   "codemirror_mode": {
    "name": "ipython",
    "version": 3
   },
   "file_extension": ".py",
   "mimetype": "text/x-python",
   "name": "python",
   "nbconvert_exporter": "python",
   "pygments_lexer": "ipython3",
   "version": "3.6.10"
  }
 },
 "nbformat": 4,
 "nbformat_minor": 4
}
